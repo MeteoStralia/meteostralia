{
 "cells": [
  {
   "cell_type": "code",
   "execution_count": 179,
   "metadata": {},
   "outputs": [],
   "source": [
    "import pandas as pd\n",
    "import seaborn as sns\n",
    "import numpy as np\n",
    "\n",
    "from sklearn.preprocessing import OneHotEncoder"
   ]
  },
  {
   "cell_type": "code",
   "execution_count": 171,
   "metadata": {},
   "outputs": [
    {
     "data": {
      "text/html": [
       "<div>\n",
       "<style scoped>\n",
       "    .dataframe tbody tr th:only-of-type {\n",
       "        vertical-align: middle;\n",
       "    }\n",
       "\n",
       "    .dataframe tbody tr th {\n",
       "        vertical-align: top;\n",
       "    }\n",
       "\n",
       "    .dataframe thead th {\n",
       "        text-align: right;\n",
       "    }\n",
       "</style>\n",
       "<table border=\"1\" class=\"dataframe\">\n",
       "  <thead>\n",
       "    <tr style=\"text-align: right;\">\n",
       "      <th></th>\n",
       "      <th>id_Location</th>\n",
       "      <th>id_Date</th>\n",
       "      <th>Date</th>\n",
       "      <th>Location</th>\n",
       "      <th>MinTemp</th>\n",
       "      <th>MaxTemp</th>\n",
       "      <th>Rainfall</th>\n",
       "      <th>WindGustSpeed</th>\n",
       "      <th>WindSpeed9am</th>\n",
       "      <th>WindSpeed3pm</th>\n",
       "      <th>...</th>\n",
       "      <th>Climate</th>\n",
       "      <th>Year</th>\n",
       "      <th>Month</th>\n",
       "      <th>Season</th>\n",
       "      <th>WindGustDir_cos</th>\n",
       "      <th>WindGustDir_sin</th>\n",
       "      <th>WindDir9am_cos</th>\n",
       "      <th>WindDir9am_sin</th>\n",
       "      <th>WindDir3pm_cos</th>\n",
       "      <th>WindDir3pm_sin</th>\n",
       "    </tr>\n",
       "  </thead>\n",
       "  <tbody>\n",
       "    <tr>\n",
       "      <th>0</th>\n",
       "      <td>Adelaide</td>\n",
       "      <td>2008-07-01</td>\n",
       "      <td>2008-07-01</td>\n",
       "      <td>Adelaide</td>\n",
       "      <td>8.8</td>\n",
       "      <td>15.7</td>\n",
       "      <td>5.0</td>\n",
       "      <td>48.0</td>\n",
       "      <td>13.0</td>\n",
       "      <td>15.0</td>\n",
       "      <td>...</td>\n",
       "      <td>Temperate</td>\n",
       "      <td>2008</td>\n",
       "      <td>July</td>\n",
       "      <td>Winter</td>\n",
       "      <td>7.071068e-01</td>\n",
       "      <td>-0.707107</td>\n",
       "      <td>-0.707107</td>\n",
       "      <td>-0.707107</td>\n",
       "      <td>-1.836970e-16</td>\n",
       "      <td>-1.000000</td>\n",
       "    </tr>\n",
       "    <tr>\n",
       "      <th>1</th>\n",
       "      <td>Adelaide</td>\n",
       "      <td>2008-07-02</td>\n",
       "      <td>2008-07-02</td>\n",
       "      <td>Adelaide</td>\n",
       "      <td>12.7</td>\n",
       "      <td>15.8</td>\n",
       "      <td>0.8</td>\n",
       "      <td>35.0</td>\n",
       "      <td>13.0</td>\n",
       "      <td>15.0</td>\n",
       "      <td>...</td>\n",
       "      <td>Temperate</td>\n",
       "      <td>2008</td>\n",
       "      <td>July</td>\n",
       "      <td>Winter</td>\n",
       "      <td>-7.071068e-01</td>\n",
       "      <td>-0.707107</td>\n",
       "      <td>-0.923880</td>\n",
       "      <td>-0.382683</td>\n",
       "      <td>-7.071068e-01</td>\n",
       "      <td>-0.707107</td>\n",
       "    </tr>\n",
       "    <tr>\n",
       "      <th>2</th>\n",
       "      <td>Adelaide</td>\n",
       "      <td>2008-07-03</td>\n",
       "      <td>2008-07-03</td>\n",
       "      <td>Adelaide</td>\n",
       "      <td>6.2</td>\n",
       "      <td>15.1</td>\n",
       "      <td>0.0</td>\n",
       "      <td>20.0</td>\n",
       "      <td>2.0</td>\n",
       "      <td>11.0</td>\n",
       "      <td>...</td>\n",
       "      <td>Temperate</td>\n",
       "      <td>2008</td>\n",
       "      <td>July</td>\n",
       "      <td>Winter</td>\n",
       "      <td>-1.836970e-16</td>\n",
       "      <td>-1.000000</td>\n",
       "      <td>0.923880</td>\n",
       "      <td>0.382683</td>\n",
       "      <td>-7.071068e-01</td>\n",
       "      <td>-0.707107</td>\n",
       "    </tr>\n",
       "    <tr>\n",
       "      <th>3</th>\n",
       "      <td>Adelaide</td>\n",
       "      <td>2008-07-04</td>\n",
       "      <td>2008-07-04</td>\n",
       "      <td>Adelaide</td>\n",
       "      <td>5.3</td>\n",
       "      <td>15.9</td>\n",
       "      <td>0.0</td>\n",
       "      <td>30.0</td>\n",
       "      <td>6.0</td>\n",
       "      <td>13.0</td>\n",
       "      <td>...</td>\n",
       "      <td>Temperate</td>\n",
       "      <td>2008</td>\n",
       "      <td>July</td>\n",
       "      <td>Winter</td>\n",
       "      <td>9.238795e-01</td>\n",
       "      <td>0.382683</td>\n",
       "      <td>0.923880</td>\n",
       "      <td>0.382683</td>\n",
       "      <td>7.071068e-01</td>\n",
       "      <td>0.707107</td>\n",
       "    </tr>\n",
       "    <tr>\n",
       "      <th>4</th>\n",
       "      <td>Adelaide</td>\n",
       "      <td>2008-07-07</td>\n",
       "      <td>2008-07-07</td>\n",
       "      <td>Adelaide</td>\n",
       "      <td>7.6</td>\n",
       "      <td>11.2</td>\n",
       "      <td>16.2</td>\n",
       "      <td>46.0</td>\n",
       "      <td>17.0</td>\n",
       "      <td>13.0</td>\n",
       "      <td>...</td>\n",
       "      <td>Temperate</td>\n",
       "      <td>2008</td>\n",
       "      <td>July</td>\n",
       "      <td>Winter</td>\n",
       "      <td>-3.826834e-01</td>\n",
       "      <td>-0.923880</td>\n",
       "      <td>0.382683</td>\n",
       "      <td>-0.923880</td>\n",
       "      <td>-7.071068e-01</td>\n",
       "      <td>-0.707107</td>\n",
       "    </tr>\n",
       "  </tbody>\n",
       "</table>\n",
       "<p>5 rows × 28 columns</p>\n",
       "</div>"
      ],
      "text/plain": [
       "  id_Location     id_Date        Date  Location  MinTemp  MaxTemp  Rainfall  \\\n",
       "0    Adelaide  2008-07-01  2008-07-01  Adelaide      8.8     15.7       5.0   \n",
       "1    Adelaide  2008-07-02  2008-07-02  Adelaide     12.7     15.8       0.8   \n",
       "2    Adelaide  2008-07-03  2008-07-03  Adelaide      6.2     15.1       0.0   \n",
       "3    Adelaide  2008-07-04  2008-07-04  Adelaide      5.3     15.9       0.0   \n",
       "4    Adelaide  2008-07-07  2008-07-07  Adelaide      7.6     11.2      16.2   \n",
       "\n",
       "   WindGustSpeed  WindSpeed9am  WindSpeed3pm  ...    Climate  Year  Month  \\\n",
       "0           48.0          13.0          15.0  ...  Temperate  2008   July   \n",
       "1           35.0          13.0          15.0  ...  Temperate  2008   July   \n",
       "2           20.0           2.0          11.0  ...  Temperate  2008   July   \n",
       "3           30.0           6.0          13.0  ...  Temperate  2008   July   \n",
       "4           46.0          17.0          13.0  ...  Temperate  2008   July   \n",
       "\n",
       "   Season  WindGustDir_cos  WindGustDir_sin  WindDir9am_cos  WindDir9am_sin  \\\n",
       "0  Winter     7.071068e-01        -0.707107       -0.707107       -0.707107   \n",
       "1  Winter    -7.071068e-01        -0.707107       -0.923880       -0.382683   \n",
       "2  Winter    -1.836970e-16        -1.000000        0.923880        0.382683   \n",
       "3  Winter     9.238795e-01         0.382683        0.923880        0.382683   \n",
       "4  Winter    -3.826834e-01        -0.923880        0.382683       -0.923880   \n",
       "\n",
       "  WindDir3pm_cos  WindDir3pm_sin  \n",
       "0  -1.836970e-16       -1.000000  \n",
       "1  -7.071068e-01       -0.707107  \n",
       "2  -7.071068e-01       -0.707107  \n",
       "3   7.071068e-01        0.707107  \n",
       "4  -7.071068e-01       -0.707107  \n",
       "\n",
       "[5 rows x 28 columns]"
      ]
     },
     "execution_count": 171,
     "metadata": {},
     "output_type": "execute_result"
    }
   ],
   "source": [
    "df = pd.read_csv('../data_saved/data_mat.csv')\n",
    "df_gps = pd.read_csv('../data/cities_coordinates_gps.csv', index_col = 0).T\n",
    "\n",
    "df.head()"
   ]
  },
  {
   "cell_type": "code",
   "execution_count": 172,
   "metadata": {},
   "outputs": [
    {
     "name": "stdout",
     "output_type": "stream",
     "text": [
      "<class 'pandas.core.frame.DataFrame'>\n",
      "RangeIndex: 135600 entries, 0 to 135599\n",
      "Data columns (total 28 columns):\n",
      " #   Column           Non-Null Count   Dtype  \n",
      "---  ------           --------------   -----  \n",
      " 0   id_Location      135600 non-null  object \n",
      " 1   id_Date          135600 non-null  object \n",
      " 2   Date             135600 non-null  object \n",
      " 3   Location         135600 non-null  object \n",
      " 4   MinTemp          135600 non-null  float64\n",
      " 5   MaxTemp          135600 non-null  float64\n",
      " 6   Rainfall         135600 non-null  float64\n",
      " 7   WindGustSpeed    135600 non-null  float64\n",
      " 8   WindSpeed9am     135600 non-null  float64\n",
      " 9   WindSpeed3pm     135600 non-null  float64\n",
      " 10  Humidity9am      135600 non-null  float64\n",
      " 11  Humidity3pm      135600 non-null  float64\n",
      " 12  Pressure9am      135600 non-null  float64\n",
      " 13  Pressure3pm      135600 non-null  float64\n",
      " 14  Temp9am          135600 non-null  float64\n",
      " 15  Temp3pm          135600 non-null  float64\n",
      " 16  RainToday        135600 non-null  float64\n",
      " 17  RainTomorrow     135600 non-null  float64\n",
      " 18  Climate          135600 non-null  object \n",
      " 19  Year             135600 non-null  int64  \n",
      " 20  Month            135600 non-null  object \n",
      " 21  Season           135600 non-null  object \n",
      " 22  WindGustDir_cos  135600 non-null  float64\n",
      " 23  WindGustDir_sin  135600 non-null  float64\n",
      " 24  WindDir9am_cos   135600 non-null  float64\n",
      " 25  WindDir9am_sin   135600 non-null  float64\n",
      " 26  WindDir3pm_cos   135600 non-null  float64\n",
      " 27  WindDir3pm_sin   135600 non-null  float64\n",
      "dtypes: float64(20), int64(1), object(7)\n",
      "memory usage: 29.0+ MB\n"
     ]
    }
   ],
   "source": [
    "df.info()"
   ]
  },
  {
   "cell_type": "markdown",
   "metadata": {},
   "source": [
    "# encodage des locations"
   ]
  },
  {
   "cell_type": "code",
   "execution_count": 173,
   "metadata": {},
   "outputs": [],
   "source": [
    "df['gps_lat'] = df['Location'].map(lambda x : df_gps.loc[x, 'lat'])\n",
    "df['gps_lon'] = df['Location'].map(lambda x : df_gps.loc[x, 'long'])\n",
    "\n",
    "df['sin_lat'] = df['gps_lat'].apply(lambda x : np.sin(np.radians(x)))\n",
    "df['cos_lat'] = df['gps_lat'].apply(lambda x : np.cos(np.radians(x)))\n",
    "\n",
    "df['sin_lon'] = df['gps_lon'].apply(lambda x : np.round(np.sin(np.radians(x)), 6))\n",
    "df['cos_lon'] = df['gps_lon'].apply(lambda x : np.round(np.cos(np.radians(x)), 6))\n",
    "\n",
    "df = df.drop(columns = ['Location', 'id_Location', 'gps_lat', 'gps_lon'])"
   ]
  },
  {
   "cell_type": "markdown",
   "metadata": {},
   "source": [
    "# encodage Month"
   ]
  },
  {
   "cell_type": "code",
   "execution_count": 174,
   "metadata": {},
   "outputs": [],
   "source": [
    "dict_mois = {\n",
    "    'January': 1,\n",
    "    'February': 2,\n",
    "    'March': 3,\n",
    "    'April': 4,\n",
    "    'May': 5,\n",
    "    'June': 6,\n",
    "    'July': 7,\n",
    "    'August': 8,\n",
    "    'September': 9,\n",
    "    'October': 10,\n",
    "    'November': 11,\n",
    "    'December': 12\n",
    "}\n",
    "\n",
    "df['Month'] = df['Month'].map(dict_mois)\n",
    "\n",
    "df['sin_month'] = df['Month'].apply(lambda x : np.sin((2 * np.pi) * (( x - 1 ) / 12)))\n",
    "df['cos_month'] = df['Month'].apply(lambda x : np.cos((2 * np.pi) * (( x - 1 ) / 12)))\n",
    "\n",
    "\n",
    "df = df.drop(columns = 'Month')"
   ]
  },
  {
   "cell_type": "markdown",
   "metadata": {},
   "source": [
    "# encodage season"
   ]
  },
  {
   "cell_type": "code",
   "execution_count": 175,
   "metadata": {},
   "outputs": [
    {
     "data": {
      "text/plain": [
       "array(['Winter', 'Spring', 'Summer', 'Autumn'], dtype=object)"
      ]
     },
     "execution_count": 175,
     "metadata": {},
     "output_type": "execute_result"
    }
   ],
   "source": [
    "df['Season'].unique()"
   ]
  },
  {
   "cell_type": "code",
   "execution_count": 176,
   "metadata": {},
   "outputs": [
    {
     "name": "stderr",
     "output_type": "stream",
     "text": [
      "/tmp/ipykernel_9657/907855078.py:10: FutureWarning: the convert_dtype parameter is deprecated and will be removed in a future version.  Do ``ser.astype(object).apply()`` instead if you want ``convert_dtype=False``.\n",
      "  df['sin_season'] = df['Season'].apply(lambda x : round(np.sin((2 * np.pi) * (x / 4))), 1)\n",
      "/tmp/ipykernel_9657/907855078.py:11: FutureWarning: the convert_dtype parameter is deprecated and will be removed in a future version.  Do ``ser.astype(object).apply()`` instead if you want ``convert_dtype=False``.\n",
      "  df['cos_season'] = df['Season'].apply(lambda x : round(np.cos((2 * np.pi) * ( x / 4))), 1)\n"
     ]
    }
   ],
   "source": [
    "dict_season = {\n",
    "    'Spring' : 0,\n",
    "    'Summer' : 1,\n",
    "    'Autumn' : 2,\n",
    "    'Winter' : 3\n",
    "}\n",
    "\n",
    "df['Season'] = df['Season'].map(dict_season)\n",
    "\n",
    "df['sin_season'] = df['Season'].apply(lambda x : round(np.sin((2 * np.pi) * (x / 4))), 1)\n",
    "df['cos_season'] = df['Season'].apply(lambda x : round(np.cos((2 * np.pi) * ( x / 4))), 1)\n",
    "\n",
    "df = df.drop(columns = 'Season')"
   ]
  },
  {
   "cell_type": "markdown",
   "metadata": {},
   "source": [
    "# encodage Climate"
   ]
  },
  {
   "cell_type": "code",
   "execution_count": 197,
   "metadata": {},
   "outputs": [],
   "source": [
    "ohe = OneHotEncoder(sparse_output = False)\n",
    "\n",
    "climate_transform = ohe.fit_transform(df[['Climate']])\n",
    "df_climate_ohe = pd.DataFrame(climate_transform, columns = ohe.get_feature_names_out())\n",
    "\n",
    "df = pd.concat([df, df_climate_ohe], axis = 1)\n",
    "\n",
    "df = df.drop(columns = 'Climate')"
   ]
  },
  {
   "cell_type": "code",
   "execution_count": null,
   "metadata": {},
   "outputs": [],
   "source": []
  }
 ],
 "metadata": {
  "kernelspec": {
   "display_name": "meteo-venv",
   "language": "python",
   "name": "python3"
  },
  "language_info": {
   "codemirror_mode": {
    "name": "ipython",
    "version": 3
   },
   "file_extension": ".py",
   "mimetype": "text/x-python",
   "name": "python",
   "nbconvert_exporter": "python",
   "pygments_lexer": "ipython3",
   "version": "3.10.6"
  }
 },
 "nbformat": 4,
 "nbformat_minor": 2
}
