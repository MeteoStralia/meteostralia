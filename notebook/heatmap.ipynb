{
 "cells": [
  {
   "cell_type": "code",
   "execution_count": 5,
   "metadata": {},
   "outputs": [],
   "source": [
    "import pandas as pd\n",
    "import seaborn as sns\n",
    "import plotly.express as px\n",
    "import plotly.graph_objects as go\n",
    "\n",
    "import dash\n",
    "import plotly.graph_objects as go\n",
    "from jupyter_dash import JupyterDash\n",
    "from dash import dcc, html\n",
    "import dash_daq as daq"
   ]
  },
  {
   "cell_type": "code",
   "execution_count": 6,
   "metadata": {},
   "outputs": [
    {
     "name": "stdout",
     "output_type": "stream",
     "text": [
      "Date              object\n",
      "Location          object\n",
      "MinTemp          float64\n",
      "MaxTemp          float64\n",
      "Rainfall         float64\n",
      "Evaporation      float64\n",
      "Sunshine         float64\n",
      "WindGustDir       object\n",
      "WindGustSpeed    float64\n",
      "WindDir9am        object\n",
      "WindDir3pm        object\n",
      "WindSpeed9am     float64\n",
      "WindSpeed3pm     float64\n",
      "Humidity9am      float64\n",
      "Humidity3pm      float64\n",
      "Pressure9am      float64\n",
      "Pressure3pm      float64\n",
      "Cloud9am         float64\n",
      "Cloud3pm         float64\n",
      "Temp9am          float64\n",
      "Temp3pm          float64\n",
      "RainToday         object\n",
      "RainTomorrow      object\n",
      "dtype: object\n"
     ]
    }
   ],
   "source": [
    "df = pd.read_csv('../data/weatherAUS.csv')\n",
    "climate = pd.read_csv('../data/Location_Climate_unique.csv').set_index('Location')['Climate'].to_dict()\n",
    "\n",
    "# print(df.isna().sum() / len(df))\n",
    "# print(df.dtypes)\n",
    "# climate\n",
    "\n",
    "print(df.dtypes)"
   ]
  },
  {
   "cell_type": "code",
   "execution_count": 9,
   "metadata": {},
   "outputs": [
    {
     "data": {
      "text/plain": [
       "0"
      ]
     },
     "execution_count": 9,
     "metadata": {},
     "output_type": "execute_result"
    }
   ],
   "source": [
    "df.duplicated().sum()"
   ]
  },
  {
   "cell_type": "code",
   "execution_count": 21,
   "metadata": {},
   "outputs": [],
   "source": [
    "df_all = df.copy()"
   ]
  },
  {
   "cell_type": "code",
   "execution_count": 4,
   "metadata": {},
   "outputs": [
    {
     "ename": "NameError",
     "evalue": "name 'px' is not defined",
     "output_type": "error",
     "traceback": [
      "\u001b[0;31m---------------------------------------------------------------------------\u001b[0m",
      "\u001b[0;31mNameError\u001b[0m                                 Traceback (most recent call last)",
      "Cell \u001b[0;32mIn [4], line 1\u001b[0m\n\u001b[0;32m----> 1\u001b[0m fig_all \u001b[38;5;241m=\u001b[39m \u001b[43mpx\u001b[49m\u001b[38;5;241m.\u001b[39mimshow(df_all\u001b[38;5;241m.\u001b[39mcorr(), text_auto \u001b[38;5;241m=\u001b[39m \u001b[38;5;28;01mTrue\u001b[39;00m, aspect \u001b[38;5;241m=\u001b[39m \u001b[38;5;124m'\u001b[39m\u001b[38;5;124mauto\u001b[39m\u001b[38;5;124m'\u001b[39m, title \u001b[38;5;241m=\u001b[39m \u001b[38;5;124m'\u001b[39m\u001b[38;5;124mHeatmap Basique\u001b[39m\u001b[38;5;124m'\u001b[39m, color_continuous_scale\u001b[38;5;241m=\u001b[39m\u001b[38;5;124m'\u001b[39m\u001b[38;5;124mRdBu\u001b[39m\u001b[38;5;124m'\u001b[39m, height \u001b[38;5;241m=\u001b[39m \u001b[38;5;241m1000\u001b[39m)\n\u001b[1;32m      2\u001b[0m fig_all\u001b[38;5;241m.\u001b[39mshow()\n",
      "\u001b[0;31mNameError\u001b[0m: name 'px' is not defined"
     ]
    }
   ],
   "source": [
    "fig_all = px.imshow(df_all.corr(), text_auto = True, aspect = 'auto', title = 'Heatmap Basique', color_continuous_scale='RdBu', height = 1000)\n",
    "fig_all.show()"
   ]
  },
  {
   "cell_type": "code",
   "execution_count": 22,
   "metadata": {},
   "outputs": [
    {
     "data": {
      "application/vnd.plotly.v1+json": {
       "config": {
        "plotlyServerURL": "https://plot.ly"
       },
       "data": [
        {
         "coloraxis": "coloraxis",
         "hovertemplate": "x: %{x}<br>y: %{y}<br>color: %{z}<extra></extra>",
         "name": "0",
         "texttemplate": "%{z}",
         "type": "heatmap",
         "x": [
          "RainTomorrow"
         ],
         "xaxis": "x",
         "y": [
          "RainTomorrow",
          "MinTemp",
          "MaxTemp",
          "Rainfall",
          "Evaporation",
          "Sunshine",
          "WindGustSpeed",
          "WindSpeed9am",
          "WindSpeed3pm",
          "Humidity9am",
          "Humidity3pm",
          "Pressure9am",
          "Pressure3pm",
          "Cloud9am",
          "Cloud3pm",
          "Temp9am",
          "Temp3pm"
         ],
         "yaxis": "y",
         "z": [
          [
           1
          ],
          [
           0.08
          ],
          [
           -0.16
          ],
          [
           0.24
          ],
          [
           -0.12
          ],
          [
           -0.45
          ],
          [
           0.23
          ],
          [
           0.09
          ],
          [
           0.09
          ],
          [
           0.26
          ],
          [
           0.45
          ],
          [
           -0.25
          ],
          [
           -0.23
          ],
          [
           0.32
          ],
          [
           0.38
          ],
          [
           -0.03
          ],
          [
           -0.19
          ]
         ]
        }
       ],
       "layout": {
        "coloraxis": {
         "colorscale": [
          [
           0,
           "rgb(103,0,31)"
          ],
          [
           0.1,
           "rgb(178,24,43)"
          ],
          [
           0.2,
           "rgb(214,96,77)"
          ],
          [
           0.3,
           "rgb(244,165,130)"
          ],
          [
           0.4,
           "rgb(253,219,199)"
          ],
          [
           0.5,
           "rgb(247,247,247)"
          ],
          [
           0.6,
           "rgb(209,229,240)"
          ],
          [
           0.7,
           "rgb(146,197,222)"
          ],
          [
           0.8,
           "rgb(67,147,195)"
          ],
          [
           0.9,
           "rgb(33,102,172)"
          ],
          [
           1,
           "rgb(5,48,97)"
          ]
         ]
        },
        "template": {
         "data": {
          "bar": [
           {
            "error_x": {
             "color": "#2a3f5f"
            },
            "error_y": {
             "color": "#2a3f5f"
            },
            "marker": {
             "line": {
              "color": "#E5ECF6",
              "width": 0.5
             },
             "pattern": {
              "fillmode": "overlay",
              "size": 10,
              "solidity": 0.2
             }
            },
            "type": "bar"
           }
          ],
          "barpolar": [
           {
            "marker": {
             "line": {
              "color": "#E5ECF6",
              "width": 0.5
             },
             "pattern": {
              "fillmode": "overlay",
              "size": 10,
              "solidity": 0.2
             }
            },
            "type": "barpolar"
           }
          ],
          "carpet": [
           {
            "aaxis": {
             "endlinecolor": "#2a3f5f",
             "gridcolor": "white",
             "linecolor": "white",
             "minorgridcolor": "white",
             "startlinecolor": "#2a3f5f"
            },
            "baxis": {
             "endlinecolor": "#2a3f5f",
             "gridcolor": "white",
             "linecolor": "white",
             "minorgridcolor": "white",
             "startlinecolor": "#2a3f5f"
            },
            "type": "carpet"
           }
          ],
          "choropleth": [
           {
            "colorbar": {
             "outlinewidth": 0,
             "ticks": ""
            },
            "type": "choropleth"
           }
          ],
          "contour": [
           {
            "colorbar": {
             "outlinewidth": 0,
             "ticks": ""
            },
            "colorscale": [
             [
              0,
              "#0d0887"
             ],
             [
              0.1111111111111111,
              "#46039f"
             ],
             [
              0.2222222222222222,
              "#7201a8"
             ],
             [
              0.3333333333333333,
              "#9c179e"
             ],
             [
              0.4444444444444444,
              "#bd3786"
             ],
             [
              0.5555555555555556,
              "#d8576b"
             ],
             [
              0.6666666666666666,
              "#ed7953"
             ],
             [
              0.7777777777777778,
              "#fb9f3a"
             ],
             [
              0.8888888888888888,
              "#fdca26"
             ],
             [
              1,
              "#f0f921"
             ]
            ],
            "type": "contour"
           }
          ],
          "contourcarpet": [
           {
            "colorbar": {
             "outlinewidth": 0,
             "ticks": ""
            },
            "type": "contourcarpet"
           }
          ],
          "heatmap": [
           {
            "colorbar": {
             "outlinewidth": 0,
             "ticks": ""
            },
            "colorscale": [
             [
              0,
              "#0d0887"
             ],
             [
              0.1111111111111111,
              "#46039f"
             ],
             [
              0.2222222222222222,
              "#7201a8"
             ],
             [
              0.3333333333333333,
              "#9c179e"
             ],
             [
              0.4444444444444444,
              "#bd3786"
             ],
             [
              0.5555555555555556,
              "#d8576b"
             ],
             [
              0.6666666666666666,
              "#ed7953"
             ],
             [
              0.7777777777777778,
              "#fb9f3a"
             ],
             [
              0.8888888888888888,
              "#fdca26"
             ],
             [
              1,
              "#f0f921"
             ]
            ],
            "type": "heatmap"
           }
          ],
          "heatmapgl": [
           {
            "colorbar": {
             "outlinewidth": 0,
             "ticks": ""
            },
            "colorscale": [
             [
              0,
              "#0d0887"
             ],
             [
              0.1111111111111111,
              "#46039f"
             ],
             [
              0.2222222222222222,
              "#7201a8"
             ],
             [
              0.3333333333333333,
              "#9c179e"
             ],
             [
              0.4444444444444444,
              "#bd3786"
             ],
             [
              0.5555555555555556,
              "#d8576b"
             ],
             [
              0.6666666666666666,
              "#ed7953"
             ],
             [
              0.7777777777777778,
              "#fb9f3a"
             ],
             [
              0.8888888888888888,
              "#fdca26"
             ],
             [
              1,
              "#f0f921"
             ]
            ],
            "type": "heatmapgl"
           }
          ],
          "histogram": [
           {
            "marker": {
             "pattern": {
              "fillmode": "overlay",
              "size": 10,
              "solidity": 0.2
             }
            },
            "type": "histogram"
           }
          ],
          "histogram2d": [
           {
            "colorbar": {
             "outlinewidth": 0,
             "ticks": ""
            },
            "colorscale": [
             [
              0,
              "#0d0887"
             ],
             [
              0.1111111111111111,
              "#46039f"
             ],
             [
              0.2222222222222222,
              "#7201a8"
             ],
             [
              0.3333333333333333,
              "#9c179e"
             ],
             [
              0.4444444444444444,
              "#bd3786"
             ],
             [
              0.5555555555555556,
              "#d8576b"
             ],
             [
              0.6666666666666666,
              "#ed7953"
             ],
             [
              0.7777777777777778,
              "#fb9f3a"
             ],
             [
              0.8888888888888888,
              "#fdca26"
             ],
             [
              1,
              "#f0f921"
             ]
            ],
            "type": "histogram2d"
           }
          ],
          "histogram2dcontour": [
           {
            "colorbar": {
             "outlinewidth": 0,
             "ticks": ""
            },
            "colorscale": [
             [
              0,
              "#0d0887"
             ],
             [
              0.1111111111111111,
              "#46039f"
             ],
             [
              0.2222222222222222,
              "#7201a8"
             ],
             [
              0.3333333333333333,
              "#9c179e"
             ],
             [
              0.4444444444444444,
              "#bd3786"
             ],
             [
              0.5555555555555556,
              "#d8576b"
             ],
             [
              0.6666666666666666,
              "#ed7953"
             ],
             [
              0.7777777777777778,
              "#fb9f3a"
             ],
             [
              0.8888888888888888,
              "#fdca26"
             ],
             [
              1,
              "#f0f921"
             ]
            ],
            "type": "histogram2dcontour"
           }
          ],
          "mesh3d": [
           {
            "colorbar": {
             "outlinewidth": 0,
             "ticks": ""
            },
            "type": "mesh3d"
           }
          ],
          "parcoords": [
           {
            "line": {
             "colorbar": {
              "outlinewidth": 0,
              "ticks": ""
             }
            },
            "type": "parcoords"
           }
          ],
          "pie": [
           {
            "automargin": true,
            "type": "pie"
           }
          ],
          "scatter": [
           {
            "fillpattern": {
             "fillmode": "overlay",
             "size": 10,
             "solidity": 0.2
            },
            "type": "scatter"
           }
          ],
          "scatter3d": [
           {
            "line": {
             "colorbar": {
              "outlinewidth": 0,
              "ticks": ""
             }
            },
            "marker": {
             "colorbar": {
              "outlinewidth": 0,
              "ticks": ""
             }
            },
            "type": "scatter3d"
           }
          ],
          "scattercarpet": [
           {
            "marker": {
             "colorbar": {
              "outlinewidth": 0,
              "ticks": ""
             }
            },
            "type": "scattercarpet"
           }
          ],
          "scattergeo": [
           {
            "marker": {
             "colorbar": {
              "outlinewidth": 0,
              "ticks": ""
             }
            },
            "type": "scattergeo"
           }
          ],
          "scattergl": [
           {
            "marker": {
             "colorbar": {
              "outlinewidth": 0,
              "ticks": ""
             }
            },
            "type": "scattergl"
           }
          ],
          "scattermapbox": [
           {
            "marker": {
             "colorbar": {
              "outlinewidth": 0,
              "ticks": ""
             }
            },
            "type": "scattermapbox"
           }
          ],
          "scatterpolar": [
           {
            "marker": {
             "colorbar": {
              "outlinewidth": 0,
              "ticks": ""
             }
            },
            "type": "scatterpolar"
           }
          ],
          "scatterpolargl": [
           {
            "marker": {
             "colorbar": {
              "outlinewidth": 0,
              "ticks": ""
             }
            },
            "type": "scatterpolargl"
           }
          ],
          "scatterternary": [
           {
            "marker": {
             "colorbar": {
              "outlinewidth": 0,
              "ticks": ""
             }
            },
            "type": "scatterternary"
           }
          ],
          "surface": [
           {
            "colorbar": {
             "outlinewidth": 0,
             "ticks": ""
            },
            "colorscale": [
             [
              0,
              "#0d0887"
             ],
             [
              0.1111111111111111,
              "#46039f"
             ],
             [
              0.2222222222222222,
              "#7201a8"
             ],
             [
              0.3333333333333333,
              "#9c179e"
             ],
             [
              0.4444444444444444,
              "#bd3786"
             ],
             [
              0.5555555555555556,
              "#d8576b"
             ],
             [
              0.6666666666666666,
              "#ed7953"
             ],
             [
              0.7777777777777778,
              "#fb9f3a"
             ],
             [
              0.8888888888888888,
              "#fdca26"
             ],
             [
              1,
              "#f0f921"
             ]
            ],
            "type": "surface"
           }
          ],
          "table": [
           {
            "cells": {
             "fill": {
              "color": "#EBF0F8"
             },
             "line": {
              "color": "white"
             }
            },
            "header": {
             "fill": {
              "color": "#C8D4E3"
             },
             "line": {
              "color": "white"
             }
            },
            "type": "table"
           }
          ]
         },
         "layout": {
          "annotationdefaults": {
           "arrowcolor": "#2a3f5f",
           "arrowhead": 0,
           "arrowwidth": 1
          },
          "autotypenumbers": "strict",
          "coloraxis": {
           "colorbar": {
            "outlinewidth": 0,
            "ticks": ""
           }
          },
          "colorscale": {
           "diverging": [
            [
             0,
             "#8e0152"
            ],
            [
             0.1,
             "#c51b7d"
            ],
            [
             0.2,
             "#de77ae"
            ],
            [
             0.3,
             "#f1b6da"
            ],
            [
             0.4,
             "#fde0ef"
            ],
            [
             0.5,
             "#f7f7f7"
            ],
            [
             0.6,
             "#e6f5d0"
            ],
            [
             0.7,
             "#b8e186"
            ],
            [
             0.8,
             "#7fbc41"
            ],
            [
             0.9,
             "#4d9221"
            ],
            [
             1,
             "#276419"
            ]
           ],
           "sequential": [
            [
             0,
             "#0d0887"
            ],
            [
             0.1111111111111111,
             "#46039f"
            ],
            [
             0.2222222222222222,
             "#7201a8"
            ],
            [
             0.3333333333333333,
             "#9c179e"
            ],
            [
             0.4444444444444444,
             "#bd3786"
            ],
            [
             0.5555555555555556,
             "#d8576b"
            ],
            [
             0.6666666666666666,
             "#ed7953"
            ],
            [
             0.7777777777777778,
             "#fb9f3a"
            ],
            [
             0.8888888888888888,
             "#fdca26"
            ],
            [
             1,
             "#f0f921"
            ]
           ],
           "sequentialminus": [
            [
             0,
             "#0d0887"
            ],
            [
             0.1111111111111111,
             "#46039f"
            ],
            [
             0.2222222222222222,
             "#7201a8"
            ],
            [
             0.3333333333333333,
             "#9c179e"
            ],
            [
             0.4444444444444444,
             "#bd3786"
            ],
            [
             0.5555555555555556,
             "#d8576b"
            ],
            [
             0.6666666666666666,
             "#ed7953"
            ],
            [
             0.7777777777777778,
             "#fb9f3a"
            ],
            [
             0.8888888888888888,
             "#fdca26"
            ],
            [
             1,
             "#f0f921"
            ]
           ]
          },
          "colorway": [
           "#636efa",
           "#EF553B",
           "#00cc96",
           "#ab63fa",
           "#FFA15A",
           "#19d3f3",
           "#FF6692",
           "#B6E880",
           "#FF97FF",
           "#FECB52"
          ],
          "font": {
           "color": "#2a3f5f"
          },
          "geo": {
           "bgcolor": "white",
           "lakecolor": "white",
           "landcolor": "#E5ECF6",
           "showlakes": true,
           "showland": true,
           "subunitcolor": "white"
          },
          "hoverlabel": {
           "align": "left"
          },
          "hovermode": "closest",
          "mapbox": {
           "style": "light"
          },
          "paper_bgcolor": "white",
          "plot_bgcolor": "#E5ECF6",
          "polar": {
           "angularaxis": {
            "gridcolor": "white",
            "linecolor": "white",
            "ticks": ""
           },
           "bgcolor": "#E5ECF6",
           "radialaxis": {
            "gridcolor": "white",
            "linecolor": "white",
            "ticks": ""
           }
          },
          "scene": {
           "xaxis": {
            "backgroundcolor": "#E5ECF6",
            "gridcolor": "white",
            "gridwidth": 2,
            "linecolor": "white",
            "showbackground": true,
            "ticks": "",
            "zerolinecolor": "white"
           },
           "yaxis": {
            "backgroundcolor": "#E5ECF6",
            "gridcolor": "white",
            "gridwidth": 2,
            "linecolor": "white",
            "showbackground": true,
            "ticks": "",
            "zerolinecolor": "white"
           },
           "zaxis": {
            "backgroundcolor": "#E5ECF6",
            "gridcolor": "white",
            "gridwidth": 2,
            "linecolor": "white",
            "showbackground": true,
            "ticks": "",
            "zerolinecolor": "white"
           }
          },
          "shapedefaults": {
           "line": {
            "color": "#2a3f5f"
           }
          },
          "ternary": {
           "aaxis": {
            "gridcolor": "white",
            "linecolor": "white",
            "ticks": ""
           },
           "baxis": {
            "gridcolor": "white",
            "linecolor": "white",
            "ticks": ""
           },
           "bgcolor": "#E5ECF6",
           "caxis": {
            "gridcolor": "white",
            "linecolor": "white",
            "ticks": ""
           }
          },
          "title": {
           "x": 0.05
          },
          "xaxis": {
           "automargin": true,
           "gridcolor": "white",
           "linecolor": "white",
           "ticks": "",
           "title": {
            "standoff": 15
           },
           "zerolinecolor": "white",
           "zerolinewidth": 2
          },
          "yaxis": {
           "automargin": true,
           "gridcolor": "white",
           "linecolor": "white",
           "ticks": "",
           "title": {
            "standoff": 15
           },
           "zerolinecolor": "white",
           "zerolinewidth": 2
          }
         }
        },
        "title": {
         "text": "Heatmap Basique avec RainTomorrow (0/1)"
        },
        "width": 500,
        "xaxis": {
         "anchor": "y",
         "domain": [
          0,
          1
         ]
        },
        "yaxis": {
         "anchor": "x",
         "autorange": "reversed",
         "domain": [
          0,
          1
         ]
        }
       }
      },
      "text/html": [
       "<div>                            <div id=\"f2b98e60-10ad-41a9-b71d-90f54f538d5a\" class=\"plotly-graph-div\" style=\"height:525px; width:500px;\"></div>            <script type=\"text/javascript\">                require([\"plotly\"], function(Plotly) {                    window.PLOTLYENV=window.PLOTLYENV || {};                                    if (document.getElementById(\"f2b98e60-10ad-41a9-b71d-90f54f538d5a\")) {                    Plotly.newPlot(                        \"f2b98e60-10ad-41a9-b71d-90f54f538d5a\",                        [{\"coloraxis\":\"coloraxis\",\"name\":\"0\",\"texttemplate\":\"%{z}\",\"x\":[\"RainTomorrow\"],\"y\":[\"RainTomorrow\",\"MinTemp\",\"MaxTemp\",\"Rainfall\",\"Evaporation\",\"Sunshine\",\"WindGustSpeed\",\"WindSpeed9am\",\"WindSpeed3pm\",\"Humidity9am\",\"Humidity3pm\",\"Pressure9am\",\"Pressure3pm\",\"Cloud9am\",\"Cloud3pm\",\"Temp9am\",\"Temp3pm\"],\"z\":[[1.0],[0.08],[-0.16],[0.24],[-0.12],[-0.45],[0.23],[0.09],[0.09],[0.26],[0.45],[-0.25],[-0.23],[0.32],[0.38],[-0.03],[-0.19]],\"type\":\"heatmap\",\"xaxis\":\"x\",\"yaxis\":\"y\",\"hovertemplate\":\"x: %{x}\\u003cbr\\u003ey: %{y}\\u003cbr\\u003ecolor: %{z}\\u003cextra\\u003e\\u003c\\u002fextra\\u003e\"}],                        {\"template\":{\"data\":{\"histogram2dcontour\":[{\"type\":\"histogram2dcontour\",\"colorbar\":{\"outlinewidth\":0,\"ticks\":\"\"},\"colorscale\":[[0.0,\"#0d0887\"],[0.1111111111111111,\"#46039f\"],[0.2222222222222222,\"#7201a8\"],[0.3333333333333333,\"#9c179e\"],[0.4444444444444444,\"#bd3786\"],[0.5555555555555556,\"#d8576b\"],[0.6666666666666666,\"#ed7953\"],[0.7777777777777778,\"#fb9f3a\"],[0.8888888888888888,\"#fdca26\"],[1.0,\"#f0f921\"]]}],\"choropleth\":[{\"type\":\"choropleth\",\"colorbar\":{\"outlinewidth\":0,\"ticks\":\"\"}}],\"histogram2d\":[{\"type\":\"histogram2d\",\"colorbar\":{\"outlinewidth\":0,\"ticks\":\"\"},\"colorscale\":[[0.0,\"#0d0887\"],[0.1111111111111111,\"#46039f\"],[0.2222222222222222,\"#7201a8\"],[0.3333333333333333,\"#9c179e\"],[0.4444444444444444,\"#bd3786\"],[0.5555555555555556,\"#d8576b\"],[0.6666666666666666,\"#ed7953\"],[0.7777777777777778,\"#fb9f3a\"],[0.8888888888888888,\"#fdca26\"],[1.0,\"#f0f921\"]]}],\"heatmap\":[{\"type\":\"heatmap\",\"colorbar\":{\"outlinewidth\":0,\"ticks\":\"\"},\"colorscale\":[[0.0,\"#0d0887\"],[0.1111111111111111,\"#46039f\"],[0.2222222222222222,\"#7201a8\"],[0.3333333333333333,\"#9c179e\"],[0.4444444444444444,\"#bd3786\"],[0.5555555555555556,\"#d8576b\"],[0.6666666666666666,\"#ed7953\"],[0.7777777777777778,\"#fb9f3a\"],[0.8888888888888888,\"#fdca26\"],[1.0,\"#f0f921\"]]}],\"heatmapgl\":[{\"type\":\"heatmapgl\",\"colorbar\":{\"outlinewidth\":0,\"ticks\":\"\"},\"colorscale\":[[0.0,\"#0d0887\"],[0.1111111111111111,\"#46039f\"],[0.2222222222222222,\"#7201a8\"],[0.3333333333333333,\"#9c179e\"],[0.4444444444444444,\"#bd3786\"],[0.5555555555555556,\"#d8576b\"],[0.6666666666666666,\"#ed7953\"],[0.7777777777777778,\"#fb9f3a\"],[0.8888888888888888,\"#fdca26\"],[1.0,\"#f0f921\"]]}],\"contourcarpet\":[{\"type\":\"contourcarpet\",\"colorbar\":{\"outlinewidth\":0,\"ticks\":\"\"}}],\"contour\":[{\"type\":\"contour\",\"colorbar\":{\"outlinewidth\":0,\"ticks\":\"\"},\"colorscale\":[[0.0,\"#0d0887\"],[0.1111111111111111,\"#46039f\"],[0.2222222222222222,\"#7201a8\"],[0.3333333333333333,\"#9c179e\"],[0.4444444444444444,\"#bd3786\"],[0.5555555555555556,\"#d8576b\"],[0.6666666666666666,\"#ed7953\"],[0.7777777777777778,\"#fb9f3a\"],[0.8888888888888888,\"#fdca26\"],[1.0,\"#f0f921\"]]}],\"surface\":[{\"type\":\"surface\",\"colorbar\":{\"outlinewidth\":0,\"ticks\":\"\"},\"colorscale\":[[0.0,\"#0d0887\"],[0.1111111111111111,\"#46039f\"],[0.2222222222222222,\"#7201a8\"],[0.3333333333333333,\"#9c179e\"],[0.4444444444444444,\"#bd3786\"],[0.5555555555555556,\"#d8576b\"],[0.6666666666666666,\"#ed7953\"],[0.7777777777777778,\"#fb9f3a\"],[0.8888888888888888,\"#fdca26\"],[1.0,\"#f0f921\"]]}],\"mesh3d\":[{\"type\":\"mesh3d\",\"colorbar\":{\"outlinewidth\":0,\"ticks\":\"\"}}],\"scatter\":[{\"fillpattern\":{\"fillmode\":\"overlay\",\"size\":10,\"solidity\":0.2},\"type\":\"scatter\"}],\"parcoords\":[{\"type\":\"parcoords\",\"line\":{\"colorbar\":{\"outlinewidth\":0,\"ticks\":\"\"}}}],\"scatterpolargl\":[{\"type\":\"scatterpolargl\",\"marker\":{\"colorbar\":{\"outlinewidth\":0,\"ticks\":\"\"}}}],\"bar\":[{\"error_x\":{\"color\":\"#2a3f5f\"},\"error_y\":{\"color\":\"#2a3f5f\"},\"marker\":{\"line\":{\"color\":\"#E5ECF6\",\"width\":0.5},\"pattern\":{\"fillmode\":\"overlay\",\"size\":10,\"solidity\":0.2}},\"type\":\"bar\"}],\"scattergeo\":[{\"type\":\"scattergeo\",\"marker\":{\"colorbar\":{\"outlinewidth\":0,\"ticks\":\"\"}}}],\"scatterpolar\":[{\"type\":\"scatterpolar\",\"marker\":{\"colorbar\":{\"outlinewidth\":0,\"ticks\":\"\"}}}],\"histogram\":[{\"marker\":{\"pattern\":{\"fillmode\":\"overlay\",\"size\":10,\"solidity\":0.2}},\"type\":\"histogram\"}],\"scattergl\":[{\"type\":\"scattergl\",\"marker\":{\"colorbar\":{\"outlinewidth\":0,\"ticks\":\"\"}}}],\"scatter3d\":[{\"type\":\"scatter3d\",\"line\":{\"colorbar\":{\"outlinewidth\":0,\"ticks\":\"\"}},\"marker\":{\"colorbar\":{\"outlinewidth\":0,\"ticks\":\"\"}}}],\"scattermapbox\":[{\"type\":\"scattermapbox\",\"marker\":{\"colorbar\":{\"outlinewidth\":0,\"ticks\":\"\"}}}],\"scatterternary\":[{\"type\":\"scatterternary\",\"marker\":{\"colorbar\":{\"outlinewidth\":0,\"ticks\":\"\"}}}],\"scattercarpet\":[{\"type\":\"scattercarpet\",\"marker\":{\"colorbar\":{\"outlinewidth\":0,\"ticks\":\"\"}}}],\"carpet\":[{\"aaxis\":{\"endlinecolor\":\"#2a3f5f\",\"gridcolor\":\"white\",\"linecolor\":\"white\",\"minorgridcolor\":\"white\",\"startlinecolor\":\"#2a3f5f\"},\"baxis\":{\"endlinecolor\":\"#2a3f5f\",\"gridcolor\":\"white\",\"linecolor\":\"white\",\"minorgridcolor\":\"white\",\"startlinecolor\":\"#2a3f5f\"},\"type\":\"carpet\"}],\"table\":[{\"cells\":{\"fill\":{\"color\":\"#EBF0F8\"},\"line\":{\"color\":\"white\"}},\"header\":{\"fill\":{\"color\":\"#C8D4E3\"},\"line\":{\"color\":\"white\"}},\"type\":\"table\"}],\"barpolar\":[{\"marker\":{\"line\":{\"color\":\"#E5ECF6\",\"width\":0.5},\"pattern\":{\"fillmode\":\"overlay\",\"size\":10,\"solidity\":0.2}},\"type\":\"barpolar\"}],\"pie\":[{\"automargin\":true,\"type\":\"pie\"}]},\"layout\":{\"autotypenumbers\":\"strict\",\"colorway\":[\"#636efa\",\"#EF553B\",\"#00cc96\",\"#ab63fa\",\"#FFA15A\",\"#19d3f3\",\"#FF6692\",\"#B6E880\",\"#FF97FF\",\"#FECB52\"],\"font\":{\"color\":\"#2a3f5f\"},\"hovermode\":\"closest\",\"hoverlabel\":{\"align\":\"left\"},\"paper_bgcolor\":\"white\",\"plot_bgcolor\":\"#E5ECF6\",\"polar\":{\"bgcolor\":\"#E5ECF6\",\"angularaxis\":{\"gridcolor\":\"white\",\"linecolor\":\"white\",\"ticks\":\"\"},\"radialaxis\":{\"gridcolor\":\"white\",\"linecolor\":\"white\",\"ticks\":\"\"}},\"ternary\":{\"bgcolor\":\"#E5ECF6\",\"aaxis\":{\"gridcolor\":\"white\",\"linecolor\":\"white\",\"ticks\":\"\"},\"baxis\":{\"gridcolor\":\"white\",\"linecolor\":\"white\",\"ticks\":\"\"},\"caxis\":{\"gridcolor\":\"white\",\"linecolor\":\"white\",\"ticks\":\"\"}},\"coloraxis\":{\"colorbar\":{\"outlinewidth\":0,\"ticks\":\"\"}},\"colorscale\":{\"sequential\":[[0.0,\"#0d0887\"],[0.1111111111111111,\"#46039f\"],[0.2222222222222222,\"#7201a8\"],[0.3333333333333333,\"#9c179e\"],[0.4444444444444444,\"#bd3786\"],[0.5555555555555556,\"#d8576b\"],[0.6666666666666666,\"#ed7953\"],[0.7777777777777778,\"#fb9f3a\"],[0.8888888888888888,\"#fdca26\"],[1.0,\"#f0f921\"]],\"sequentialminus\":[[0.0,\"#0d0887\"],[0.1111111111111111,\"#46039f\"],[0.2222222222222222,\"#7201a8\"],[0.3333333333333333,\"#9c179e\"],[0.4444444444444444,\"#bd3786\"],[0.5555555555555556,\"#d8576b\"],[0.6666666666666666,\"#ed7953\"],[0.7777777777777778,\"#fb9f3a\"],[0.8888888888888888,\"#fdca26\"],[1.0,\"#f0f921\"]],\"diverging\":[[0,\"#8e0152\"],[0.1,\"#c51b7d\"],[0.2,\"#de77ae\"],[0.3,\"#f1b6da\"],[0.4,\"#fde0ef\"],[0.5,\"#f7f7f7\"],[0.6,\"#e6f5d0\"],[0.7,\"#b8e186\"],[0.8,\"#7fbc41\"],[0.9,\"#4d9221\"],[1,\"#276419\"]]},\"xaxis\":{\"gridcolor\":\"white\",\"linecolor\":\"white\",\"ticks\":\"\",\"title\":{\"standoff\":15},\"zerolinecolor\":\"white\",\"automargin\":true,\"zerolinewidth\":2},\"yaxis\":{\"gridcolor\":\"white\",\"linecolor\":\"white\",\"ticks\":\"\",\"title\":{\"standoff\":15},\"zerolinecolor\":\"white\",\"automargin\":true,\"zerolinewidth\":2},\"scene\":{\"xaxis\":{\"backgroundcolor\":\"#E5ECF6\",\"gridcolor\":\"white\",\"linecolor\":\"white\",\"showbackground\":true,\"ticks\":\"\",\"zerolinecolor\":\"white\",\"gridwidth\":2},\"yaxis\":{\"backgroundcolor\":\"#E5ECF6\",\"gridcolor\":\"white\",\"linecolor\":\"white\",\"showbackground\":true,\"ticks\":\"\",\"zerolinecolor\":\"white\",\"gridwidth\":2},\"zaxis\":{\"backgroundcolor\":\"#E5ECF6\",\"gridcolor\":\"white\",\"linecolor\":\"white\",\"showbackground\":true,\"ticks\":\"\",\"zerolinecolor\":\"white\",\"gridwidth\":2}},\"shapedefaults\":{\"line\":{\"color\":\"#2a3f5f\"}},\"annotationdefaults\":{\"arrowcolor\":\"#2a3f5f\",\"arrowhead\":0,\"arrowwidth\":1},\"geo\":{\"bgcolor\":\"white\",\"landcolor\":\"#E5ECF6\",\"subunitcolor\":\"white\",\"showland\":true,\"showlakes\":true,\"lakecolor\":\"white\"},\"title\":{\"x\":0.05},\"mapbox\":{\"style\":\"light\"}}},\"xaxis\":{\"anchor\":\"y\",\"domain\":[0.0,1.0]},\"yaxis\":{\"anchor\":\"x\",\"domain\":[0.0,1.0],\"autorange\":\"reversed\"},\"coloraxis\":{\"colorscale\":[[0.0,\"rgb(103,0,31)\"],[0.1,\"rgb(178,24,43)\"],[0.2,\"rgb(214,96,77)\"],[0.3,\"rgb(244,165,130)\"],[0.4,\"rgb(253,219,199)\"],[0.5,\"rgb(247,247,247)\"],[0.6,\"rgb(209,229,240)\"],[0.7,\"rgb(146,197,222)\"],[0.8,\"rgb(67,147,195)\"],[0.9,\"rgb(33,102,172)\"],[1.0,\"rgb(5,48,97)\"]]},\"title\":{\"text\":\"Heatmap Basique avec RainTomorrow (0\\u002f1)\"},\"width\":500},                        {\"responsive\": true}                    ).then(function(){\n",
       "                            \n",
       "var gd = document.getElementById('f2b98e60-10ad-41a9-b71d-90f54f538d5a');\n",
       "var x = new MutationObserver(function (mutations, observer) {{\n",
       "        var display = window.getComputedStyle(gd).display;\n",
       "        if (!display || display === 'none') {{\n",
       "            console.log([gd, 'removed!']);\n",
       "            Plotly.purge(gd);\n",
       "            observer.disconnect();\n",
       "        }}\n",
       "}});\n",
       "\n",
       "// Listen for the removal of the full notebook cells\n",
       "var notebookContainer = gd.closest('#notebook-container');\n",
       "if (notebookContainer) {{\n",
       "    x.observe(notebookContainer, {childList: true});\n",
       "}}\n",
       "\n",
       "// Listen for the clearing of the current output cell\n",
       "var outputEl = gd.closest('.output');\n",
       "if (outputEl) {{\n",
       "    x.observe(outputEl, {childList: true});\n",
       "}}\n",
       "\n",
       "                        })                };                });            </script>        </div>"
      ]
     },
     "metadata": {},
     "output_type": "display_data"
    }
   ],
   "source": [
    "df_all_raintomorrow = df_all.copy()\n",
    "\n",
    "df_all_raintomorrow['RainTomorrow'].replace(to_replace = ['No', 'Yes'], value = [0, 1], inplace = True)\n",
    "\n",
    "col = df_all_raintomorrow.pop('RainTomorrow')\n",
    "df_all_raintomorrow.insert(0, 'RainTomorrow', col)\n",
    "\n",
    "fig_all_raintomorrow = px.imshow(df_all_raintomorrow.corr().round(2)['RainTomorrow'].to_frame(), text_auto = True, aspect = 'square',\n",
    "                                 color_continuous_scale='RdBu', title = 'Heatmap Basique avec RainTomorrow (0/1)',\n",
    "                                 width = 500)\n",
    "fig_all_raintomorrow.show()\n",
    "\n",
    "# df_lau.corr().round(2)['RainTomorrow'].to_frame()"
   ]
  },
  {
   "cell_type": "code",
   "execution_count": 192,
   "metadata": {},
   "outputs": [
    {
     "data": {
      "text/html": [
       "<div>\n",
       "<style scoped>\n",
       "    .dataframe tbody tr th:only-of-type {\n",
       "        vertical-align: middle;\n",
       "    }\n",
       "\n",
       "    .dataframe tbody tr th {\n",
       "        vertical-align: top;\n",
       "    }\n",
       "\n",
       "    .dataframe thead th {\n",
       "        text-align: right;\n",
       "    }\n",
       "</style>\n",
       "<table border=\"1\" class=\"dataframe\">\n",
       "  <thead>\n",
       "    <tr style=\"text-align: right;\">\n",
       "      <th></th>\n",
       "      <th>RainTomorrow</th>\n",
       "      <th>Date</th>\n",
       "      <th>Location</th>\n",
       "      <th>MinTemp</th>\n",
       "      <th>MaxTemp</th>\n",
       "      <th>Rainfall</th>\n",
       "      <th>Evaporation</th>\n",
       "      <th>Sunshine</th>\n",
       "      <th>WindGustDir</th>\n",
       "      <th>WindGustSpeed</th>\n",
       "      <th>...</th>\n",
       "      <th>WindSpeed3pm</th>\n",
       "      <th>Humidity9am</th>\n",
       "      <th>Humidity3pm</th>\n",
       "      <th>Pressure9am</th>\n",
       "      <th>Pressure3pm</th>\n",
       "      <th>Cloud9am</th>\n",
       "      <th>Cloud3pm</th>\n",
       "      <th>Temp9am</th>\n",
       "      <th>Temp3pm</th>\n",
       "      <th>RainToday</th>\n",
       "    </tr>\n",
       "  </thead>\n",
       "  <tbody>\n",
       "    <tr>\n",
       "      <th>0</th>\n",
       "      <td>0.0</td>\n",
       "      <td>2008-12-01</td>\n",
       "      <td>Albury</td>\n",
       "      <td>13.4</td>\n",
       "      <td>22.9</td>\n",
       "      <td>0.6</td>\n",
       "      <td>NaN</td>\n",
       "      <td>NaN</td>\n",
       "      <td>13</td>\n",
       "      <td>44.0</td>\n",
       "      <td>...</td>\n",
       "      <td>24.0</td>\n",
       "      <td>71.0</td>\n",
       "      <td>22.0</td>\n",
       "      <td>1007.7</td>\n",
       "      <td>1007.1</td>\n",
       "      <td>8.0</td>\n",
       "      <td>NaN</td>\n",
       "      <td>16.9</td>\n",
       "      <td>21.8</td>\n",
       "      <td>0.0</td>\n",
       "    </tr>\n",
       "    <tr>\n",
       "      <th>1</th>\n",
       "      <td>0.0</td>\n",
       "      <td>2008-12-02</td>\n",
       "      <td>Albury</td>\n",
       "      <td>7.4</td>\n",
       "      <td>25.1</td>\n",
       "      <td>0.0</td>\n",
       "      <td>NaN</td>\n",
       "      <td>NaN</td>\n",
       "      <td>14</td>\n",
       "      <td>44.0</td>\n",
       "      <td>...</td>\n",
       "      <td>22.0</td>\n",
       "      <td>44.0</td>\n",
       "      <td>25.0</td>\n",
       "      <td>1010.6</td>\n",
       "      <td>1007.8</td>\n",
       "      <td>NaN</td>\n",
       "      <td>NaN</td>\n",
       "      <td>17.2</td>\n",
       "      <td>24.3</td>\n",
       "      <td>0.0</td>\n",
       "    </tr>\n",
       "    <tr>\n",
       "      <th>2</th>\n",
       "      <td>0.0</td>\n",
       "      <td>2008-12-03</td>\n",
       "      <td>Albury</td>\n",
       "      <td>12.9</td>\n",
       "      <td>25.7</td>\n",
       "      <td>0.0</td>\n",
       "      <td>NaN</td>\n",
       "      <td>NaN</td>\n",
       "      <td>15</td>\n",
       "      <td>46.0</td>\n",
       "      <td>...</td>\n",
       "      <td>26.0</td>\n",
       "      <td>38.0</td>\n",
       "      <td>30.0</td>\n",
       "      <td>1007.6</td>\n",
       "      <td>1008.7</td>\n",
       "      <td>NaN</td>\n",
       "      <td>2.0</td>\n",
       "      <td>21.0</td>\n",
       "      <td>23.2</td>\n",
       "      <td>0.0</td>\n",
       "    </tr>\n",
       "    <tr>\n",
       "      <th>3</th>\n",
       "      <td>0.0</td>\n",
       "      <td>2008-12-04</td>\n",
       "      <td>Albury</td>\n",
       "      <td>9.2</td>\n",
       "      <td>28.0</td>\n",
       "      <td>0.0</td>\n",
       "      <td>NaN</td>\n",
       "      <td>NaN</td>\n",
       "      <td>4</td>\n",
       "      <td>24.0</td>\n",
       "      <td>...</td>\n",
       "      <td>9.0</td>\n",
       "      <td>45.0</td>\n",
       "      <td>16.0</td>\n",
       "      <td>1017.6</td>\n",
       "      <td>1012.8</td>\n",
       "      <td>NaN</td>\n",
       "      <td>NaN</td>\n",
       "      <td>18.1</td>\n",
       "      <td>26.5</td>\n",
       "      <td>0.0</td>\n",
       "    </tr>\n",
       "    <tr>\n",
       "      <th>4</th>\n",
       "      <td>0.0</td>\n",
       "      <td>2008-12-05</td>\n",
       "      <td>Albury</td>\n",
       "      <td>17.5</td>\n",
       "      <td>32.3</td>\n",
       "      <td>1.0</td>\n",
       "      <td>NaN</td>\n",
       "      <td>NaN</td>\n",
       "      <td>13</td>\n",
       "      <td>41.0</td>\n",
       "      <td>...</td>\n",
       "      <td>20.0</td>\n",
       "      <td>82.0</td>\n",
       "      <td>33.0</td>\n",
       "      <td>1010.8</td>\n",
       "      <td>1006.0</td>\n",
       "      <td>7.0</td>\n",
       "      <td>8.0</td>\n",
       "      <td>17.8</td>\n",
       "      <td>29.7</td>\n",
       "      <td>0.0</td>\n",
       "    </tr>\n",
       "  </tbody>\n",
       "</table>\n",
       "<p>5 rows × 23 columns</p>\n",
       "</div>"
      ],
      "text/plain": [
       "   RainTomorrow        Date Location  MinTemp  MaxTemp  Rainfall  Evaporation  \\\n",
       "0           0.0  2008-12-01   Albury     13.4     22.9       0.6          NaN   \n",
       "1           0.0  2008-12-02   Albury      7.4     25.1       0.0          NaN   \n",
       "2           0.0  2008-12-03   Albury     12.9     25.7       0.0          NaN   \n",
       "3           0.0  2008-12-04   Albury      9.2     28.0       0.0          NaN   \n",
       "4           0.0  2008-12-05   Albury     17.5     32.3       1.0          NaN   \n",
       "\n",
       "   Sunshine  WindGustDir  WindGustSpeed  ...  WindSpeed3pm  Humidity9am  \\\n",
       "0       NaN           13           44.0  ...          24.0         71.0   \n",
       "1       NaN           14           44.0  ...          22.0         44.0   \n",
       "2       NaN           15           46.0  ...          26.0         38.0   \n",
       "3       NaN            4           24.0  ...           9.0         45.0   \n",
       "4       NaN           13           41.0  ...          20.0         82.0   \n",
       "\n",
       "   Humidity3pm  Pressure9am  Pressure3pm  Cloud9am  Cloud3pm  Temp9am  \\\n",
       "0         22.0       1007.7       1007.1       8.0       NaN     16.9   \n",
       "1         25.0       1010.6       1007.8       NaN       NaN     17.2   \n",
       "2         30.0       1007.6       1008.7       NaN       2.0     21.0   \n",
       "3         16.0       1017.6       1012.8       NaN       NaN     18.1   \n",
       "4         33.0       1010.8       1006.0       7.0       8.0     17.8   \n",
       "\n",
       "   Temp3pm  RainToday  \n",
       "0     21.8        0.0  \n",
       "1     24.3        0.0  \n",
       "2     23.2        0.0  \n",
       "3     26.5        0.0  \n",
       "4     29.7        0.0  \n",
       "\n",
       "[5 rows x 23 columns]"
      ]
     },
     "execution_count": 192,
     "metadata": {},
     "output_type": "execute_result"
    }
   ],
   "source": [
    "df_all_include = df_all.copy()\n",
    "\n",
    "# on garde la valeur du mois pour insérer la notion de date dans le heatmap\n",
    "# df_all_include['Date'] = pd.to_datetime(df_all_include['Date'])\n",
    "# df_all_include['Months'] = df_all_include['Date'].dt.month\n",
    "\n",
    "# #classification des ville par climate pour supprimer la colonne ville et remplacer climat par label\n",
    "# df_all_include['climate'] = df_all_include['Location'].map(climate)\n",
    "\n",
    "# le = LabelEncoder()\n",
    "# df_all_include['climate'] = le.fit_transform(df_all_include['climate'])\n",
    "\n",
    "\n",
    "#label encoding des vents (toutes les coloones vent ont les memes caractéristique en nombre de valeur)\n",
    "le2 = LabelEncoder()\n",
    "df_all_include['WindGustDir'] = le2.fit_transform(df_all_include['WindGustDir'])\n",
    "df_all_include['WindDir9am'] = le2.transform(df_all_include['WindDir9am'])\n",
    "df_all_include['WindDir3pm'] = le2.transform(df_all_include['WindDir3pm'])\n",
    "\n",
    "#remplacement des valeurs de RainToday et RainTomorrow par 0 et 1\n",
    "df_all_include['RainTomorrow'].replace(to_replace = ['No', 'Yes'], value = [0, 1], inplace = True)\n",
    "df_all_include['RainToday'].replace(to_replace = ['No', 'Yes'], value = [0, 1], inplace = True)\n",
    "\n",
    "col = df_all_include.pop('RainTomorrow')\n",
    "df_all_include.insert(0, 'RainTomorrow', col)\n",
    "\n",
    "# df_all_include.drop(columns = ['Date', 'Location'], inplace = True)\n",
    "\n",
    "df_all_include.head()\n"
   ]
  },
  {
   "cell_type": "code",
   "execution_count": 195,
   "metadata": {},
   "outputs": [
    {
     "data": {
      "text/plain": [
       "RainTomorrow     1.00\n",
       "MinTemp          0.08\n",
       "MaxTemp         -0.16\n",
       "Rainfall         0.24\n",
       "Evaporation     -0.12\n",
       "Sunshine        -0.45\n",
       "WindGustDir      0.05\n",
       "WindGustSpeed    0.23\n",
       "WindDir9am       0.02\n",
       "WindDir3pm       0.03\n",
       "WindSpeed9am     0.09\n",
       "WindSpeed3pm     0.09\n",
       "Humidity9am      0.26\n",
       "Humidity3pm      0.45\n",
       "Pressure9am     -0.25\n",
       "Pressure3pm     -0.23\n",
       "Cloud9am         0.32\n",
       "Cloud3pm         0.38\n",
       "Temp9am         -0.03\n",
       "Temp3pm         -0.19\n",
       "RainToday        0.31\n",
       "Name: RainTomorrow, dtype: float64"
      ]
     },
     "execution_count": 195,
     "metadata": {},
     "output_type": "execute_result"
    }
   ],
   "source": [
    "df_all_include.corr().round(2)['RainTomorrow']"
   ]
  },
  {
   "cell_type": "code",
   "execution_count": 193,
   "metadata": {},
   "outputs": [
    {
     "data": {
      "application/vnd.plotly.v1+json": {
       "config": {
        "plotlyServerURL": "https://plot.ly"
       },
       "data": [
        {
         "coloraxis": "coloraxis",
         "hovertemplate": "x: %{x}<br>y: %{y}<br>color: %{z}<extra></extra>",
         "name": "0",
         "texttemplate": "%{z}",
         "type": "heatmap",
         "x": [
          "RainTomorrow",
          "MinTemp",
          "MaxTemp",
          "Rainfall",
          "Evaporation",
          "Sunshine",
          "WindGustDir",
          "WindGustSpeed",
          "WindDir9am",
          "WindDir3pm",
          "WindSpeed9am",
          "WindSpeed3pm",
          "Humidity9am",
          "Humidity3pm",
          "Pressure9am",
          "Pressure3pm",
          "Cloud9am",
          "Cloud3pm",
          "Temp9am",
          "Temp3pm",
          "RainToday"
         ],
         "xaxis": "x",
         "y": [
          "RainTomorrow",
          "MinTemp",
          "MaxTemp",
          "Rainfall",
          "Evaporation",
          "Sunshine",
          "WindGustDir",
          "WindGustSpeed",
          "WindDir9am",
          "WindDir3pm",
          "WindSpeed9am",
          "WindSpeed3pm",
          "Humidity9am",
          "Humidity3pm",
          "Pressure9am",
          "Pressure3pm",
          "Cloud9am",
          "Cloud3pm",
          "Temp9am",
          "Temp3pm",
          "RainToday"
         ],
         "yaxis": "y",
         "z": [
          [
           1,
           0.08,
           -0.16,
           0.24,
           -0.12,
           -0.45,
           0.05,
           0.23,
           0.02,
           0.03,
           0.09,
           0.09,
           0.26,
           0.45,
           -0.25,
           -0.23,
           0.32,
           0.38,
           -0.03,
           -0.19,
           0.31
          ],
          [
           0.08,
           1,
           0.74,
           0.1,
           0.47,
           0.07,
           -0.13,
           0.18,
           -0.13,
           -0.16,
           0.18,
           0.18,
           -0.23,
           0.01,
           -0.45,
           -0.46,
           0.08,
           0.02,
           0.9,
           0.71,
           0.06
          ],
          [
           -0.16,
           0.74,
           1,
           -0.07,
           0.59,
           0.47,
           -0.21,
           0.07,
           -0.25,
           -0.19,
           0.01,
           0.05,
           -0.5,
           -0.51,
           -0.33,
           -0.43,
           -0.29,
           -0.28,
           0.89,
           0.98,
           -0.23
          ],
          [
           0.24,
           0.1,
           -0.07,
           1,
           -0.06,
           -0.23,
           0.04,
           0.13,
           0.07,
           0.05,
           0.09,
           0.06,
           0.22,
           0.26,
           -0.17,
           -0.13,
           0.2,
           0.17,
           0.01,
           -0.08,
           0.5
          ],
          [
           -0.12,
           0.47,
           0.59,
           -0.06,
           1,
           0.37,
           -0.09,
           0.2,
           -0.12,
           -0.06,
           0.19,
           0.13,
           -0.5,
           -0.39,
           -0.27,
           -0.29,
           -0.18,
           -0.18,
           0.55,
           0.57,
           -0.19
          ],
          [
           -0.45,
           0.07,
           0.47,
           -0.23,
           0.37,
           1,
           -0.09,
           -0.03,
           -0.11,
           -0.05,
           0.01,
           0.05,
           -0.49,
           -0.63,
           0.04,
           -0.02,
           -0.68,
           -0.7,
           0.29,
           0.49,
           -0.33
          ],
          [
           0.05,
           -0.13,
           -0.21,
           0.04,
           -0.09,
           -0.09,
           1,
           0.14,
           0.36,
           0.56,
           0,
           0.07,
           0.07,
           0.07,
           -0.12,
           -0.03,
           0.08,
           0.07,
           -0.17,
           -0.22,
           0.13
          ],
          [
           0.23,
           0.18,
           0.07,
           0.13,
           0.2,
           -0.03,
           0.14,
           1,
           -0.05,
           0.13,
           0.61,
           0.69,
           -0.22,
           -0.03,
           -0.46,
           -0.41,
           0.07,
           0.11,
           0.15,
           0.03,
           0.16
          ],
          [
           0.02,
           -0.13,
           -0.25,
           0.07,
           -0.12,
           -0.11,
           0.36,
           -0.05,
           1,
           0.3,
           -0.15,
           -0.02,
           0.2,
           0.16,
           0.03,
           0.11,
           0.11,
           0.07,
           -0.2,
           -0.25,
           0.14
          ],
          [
           0.03,
           -0.16,
           -0.19,
           0.05,
           -0.06,
           -0.05,
           0.56,
           0.13,
           0.3,
           1,
           0.03,
           0.06,
           0.04,
           0,
           -0.13,
           -0.03,
           0.06,
           0.07,
           -0.18,
           -0.2,
           0.12
          ],
          [
           0.09,
           0.18,
           0.01,
           0.09,
           0.19,
           0.01,
           0,
           0.61,
           -0.15,
           0.03,
           1,
           0.52,
           -0.27,
           -0.03,
           -0.23,
           -0.18,
           0.03,
           0.05,
           0.13,
           0,
           0.1
          ],
          [
           0.09,
           0.18,
           0.05,
           0.06,
           0.13,
           0.05,
           0.07,
           0.69,
           -0.02,
           0.06,
           0.52,
           1,
           -0.15,
           0.02,
           -0.3,
           -0.26,
           0.05,
           0.03,
           0.16,
           0.03,
           0.08
          ],
          [
           0.26,
           -0.23,
           -0.5,
           0.22,
           -0.5,
           -0.49,
           0.07,
           -0.22,
           0.2,
           0.04,
           -0.27,
           -0.15,
           1,
           0.67,
           0.14,
           0.19,
           0.45,
           0.36,
           -0.47,
           -0.5,
           0.35
          ],
          [
           0.45,
           0.01,
           -0.51,
           0.26,
           -0.39,
           -0.63,
           0.07,
           -0.03,
           0.16,
           0,
           -0.03,
           0.02,
           0.67,
           1,
           -0.03,
           0.05,
           0.52,
           0.52,
           -0.22,
           -0.56,
           0.38
          ],
          [
           -0.25,
           -0.45,
           -0.33,
           -0.17,
           -0.27,
           0.04,
           -0.12,
           -0.46,
           0.03,
           -0.13,
           -0.23,
           -0.3,
           0.14,
           -0.03,
           1,
           0.96,
           -0.13,
           -0.15,
           -0.42,
           -0.29,
           -0.19
          ],
          [
           -0.23,
           -0.46,
           -0.43,
           -0.13,
           -0.29,
           -0.02,
           -0.03,
           -0.41,
           0.11,
           -0.03,
           -0.18,
           -0.26,
           0.19,
           0.05,
           0.96,
           1,
           -0.06,
           -0.08,
           -0.47,
           -0.39,
           -0.11
          ],
          [
           0.32,
           0.08,
           -0.29,
           0.2,
           -0.18,
           -0.68,
           0.08,
           0.07,
           0.11,
           0.06,
           0.03,
           0.05,
           0.45,
           0.52,
           -0.13,
           -0.06,
           1,
           0.6,
           -0.14,
           -0.3,
           0.31
          ],
          [
           0.38,
           0.02,
           -0.28,
           0.17,
           -0.18,
           -0.7,
           0.07,
           0.11,
           0.07,
           0.07,
           0.05,
           0.03,
           0.36,
           0.52,
           -0.15,
           -0.08,
           0.6,
           1,
           -0.13,
           -0.32,
           0.27
          ],
          [
           -0.03,
           0.9,
           0.89,
           0.01,
           0.55,
           0.29,
           -0.17,
           0.15,
           -0.2,
           -0.18,
           0.13,
           0.16,
           -0.47,
           -0.22,
           -0.42,
           -0.47,
           -0.14,
           -0.13,
           1,
           0.86,
           -0.1
          ],
          [
           -0.19,
           0.71,
           0.98,
           -0.08,
           0.57,
           0.49,
           -0.22,
           0.03,
           -0.25,
           -0.2,
           0,
           0.03,
           -0.5,
           -0.56,
           -0.29,
           -0.39,
           -0.3,
           -0.32,
           0.86,
           1,
           -0.24
          ],
          [
           0.31,
           0.06,
           -0.23,
           0.5,
           -0.19,
           -0.33,
           0.13,
           0.16,
           0.14,
           0.12,
           0.1,
           0.08,
           0.35,
           0.38,
           -0.19,
           -0.11,
           0.31,
           0.27,
           -0.1,
           -0.24,
           1
          ]
         ]
        }
       ],
       "layout": {
        "coloraxis": {
         "colorscale": [
          [
           0,
           "rgb(103,0,31)"
          ],
          [
           0.1,
           "rgb(178,24,43)"
          ],
          [
           0.2,
           "rgb(214,96,77)"
          ],
          [
           0.3,
           "rgb(244,165,130)"
          ],
          [
           0.4,
           "rgb(253,219,199)"
          ],
          [
           0.5,
           "rgb(247,247,247)"
          ],
          [
           0.6,
           "rgb(209,229,240)"
          ],
          [
           0.7,
           "rgb(146,197,222)"
          ],
          [
           0.8,
           "rgb(67,147,195)"
          ],
          [
           0.9,
           "rgb(33,102,172)"
          ],
          [
           1,
           "rgb(5,48,97)"
          ]
         ]
        },
        "height": 600,
        "template": {
         "data": {
          "bar": [
           {
            "error_x": {
             "color": "#2a3f5f"
            },
            "error_y": {
             "color": "#2a3f5f"
            },
            "marker": {
             "line": {
              "color": "#E5ECF6",
              "width": 0.5
             },
             "pattern": {
              "fillmode": "overlay",
              "size": 10,
              "solidity": 0.2
             }
            },
            "type": "bar"
           }
          ],
          "barpolar": [
           {
            "marker": {
             "line": {
              "color": "#E5ECF6",
              "width": 0.5
             },
             "pattern": {
              "fillmode": "overlay",
              "size": 10,
              "solidity": 0.2
             }
            },
            "type": "barpolar"
           }
          ],
          "carpet": [
           {
            "aaxis": {
             "endlinecolor": "#2a3f5f",
             "gridcolor": "white",
             "linecolor": "white",
             "minorgridcolor": "white",
             "startlinecolor": "#2a3f5f"
            },
            "baxis": {
             "endlinecolor": "#2a3f5f",
             "gridcolor": "white",
             "linecolor": "white",
             "minorgridcolor": "white",
             "startlinecolor": "#2a3f5f"
            },
            "type": "carpet"
           }
          ],
          "choropleth": [
           {
            "colorbar": {
             "outlinewidth": 0,
             "ticks": ""
            },
            "type": "choropleth"
           }
          ],
          "contour": [
           {
            "colorbar": {
             "outlinewidth": 0,
             "ticks": ""
            },
            "colorscale": [
             [
              0,
              "#0d0887"
             ],
             [
              0.1111111111111111,
              "#46039f"
             ],
             [
              0.2222222222222222,
              "#7201a8"
             ],
             [
              0.3333333333333333,
              "#9c179e"
             ],
             [
              0.4444444444444444,
              "#bd3786"
             ],
             [
              0.5555555555555556,
              "#d8576b"
             ],
             [
              0.6666666666666666,
              "#ed7953"
             ],
             [
              0.7777777777777778,
              "#fb9f3a"
             ],
             [
              0.8888888888888888,
              "#fdca26"
             ],
             [
              1,
              "#f0f921"
             ]
            ],
            "type": "contour"
           }
          ],
          "contourcarpet": [
           {
            "colorbar": {
             "outlinewidth": 0,
             "ticks": ""
            },
            "type": "contourcarpet"
           }
          ],
          "heatmap": [
           {
            "colorbar": {
             "outlinewidth": 0,
             "ticks": ""
            },
            "colorscale": [
             [
              0,
              "#0d0887"
             ],
             [
              0.1111111111111111,
              "#46039f"
             ],
             [
              0.2222222222222222,
              "#7201a8"
             ],
             [
              0.3333333333333333,
              "#9c179e"
             ],
             [
              0.4444444444444444,
              "#bd3786"
             ],
             [
              0.5555555555555556,
              "#d8576b"
             ],
             [
              0.6666666666666666,
              "#ed7953"
             ],
             [
              0.7777777777777778,
              "#fb9f3a"
             ],
             [
              0.8888888888888888,
              "#fdca26"
             ],
             [
              1,
              "#f0f921"
             ]
            ],
            "type": "heatmap"
           }
          ],
          "heatmapgl": [
           {
            "colorbar": {
             "outlinewidth": 0,
             "ticks": ""
            },
            "colorscale": [
             [
              0,
              "#0d0887"
             ],
             [
              0.1111111111111111,
              "#46039f"
             ],
             [
              0.2222222222222222,
              "#7201a8"
             ],
             [
              0.3333333333333333,
              "#9c179e"
             ],
             [
              0.4444444444444444,
              "#bd3786"
             ],
             [
              0.5555555555555556,
              "#d8576b"
             ],
             [
              0.6666666666666666,
              "#ed7953"
             ],
             [
              0.7777777777777778,
              "#fb9f3a"
             ],
             [
              0.8888888888888888,
              "#fdca26"
             ],
             [
              1,
              "#f0f921"
             ]
            ],
            "type": "heatmapgl"
           }
          ],
          "histogram": [
           {
            "marker": {
             "pattern": {
              "fillmode": "overlay",
              "size": 10,
              "solidity": 0.2
             }
            },
            "type": "histogram"
           }
          ],
          "histogram2d": [
           {
            "colorbar": {
             "outlinewidth": 0,
             "ticks": ""
            },
            "colorscale": [
             [
              0,
              "#0d0887"
             ],
             [
              0.1111111111111111,
              "#46039f"
             ],
             [
              0.2222222222222222,
              "#7201a8"
             ],
             [
              0.3333333333333333,
              "#9c179e"
             ],
             [
              0.4444444444444444,
              "#bd3786"
             ],
             [
              0.5555555555555556,
              "#d8576b"
             ],
             [
              0.6666666666666666,
              "#ed7953"
             ],
             [
              0.7777777777777778,
              "#fb9f3a"
             ],
             [
              0.8888888888888888,
              "#fdca26"
             ],
             [
              1,
              "#f0f921"
             ]
            ],
            "type": "histogram2d"
           }
          ],
          "histogram2dcontour": [
           {
            "colorbar": {
             "outlinewidth": 0,
             "ticks": ""
            },
            "colorscale": [
             [
              0,
              "#0d0887"
             ],
             [
              0.1111111111111111,
              "#46039f"
             ],
             [
              0.2222222222222222,
              "#7201a8"
             ],
             [
              0.3333333333333333,
              "#9c179e"
             ],
             [
              0.4444444444444444,
              "#bd3786"
             ],
             [
              0.5555555555555556,
              "#d8576b"
             ],
             [
              0.6666666666666666,
              "#ed7953"
             ],
             [
              0.7777777777777778,
              "#fb9f3a"
             ],
             [
              0.8888888888888888,
              "#fdca26"
             ],
             [
              1,
              "#f0f921"
             ]
            ],
            "type": "histogram2dcontour"
           }
          ],
          "mesh3d": [
           {
            "colorbar": {
             "outlinewidth": 0,
             "ticks": ""
            },
            "type": "mesh3d"
           }
          ],
          "parcoords": [
           {
            "line": {
             "colorbar": {
              "outlinewidth": 0,
              "ticks": ""
             }
            },
            "type": "parcoords"
           }
          ],
          "pie": [
           {
            "automargin": true,
            "type": "pie"
           }
          ],
          "scatter": [
           {
            "fillpattern": {
             "fillmode": "overlay",
             "size": 10,
             "solidity": 0.2
            },
            "type": "scatter"
           }
          ],
          "scatter3d": [
           {
            "line": {
             "colorbar": {
              "outlinewidth": 0,
              "ticks": ""
             }
            },
            "marker": {
             "colorbar": {
              "outlinewidth": 0,
              "ticks": ""
             }
            },
            "type": "scatter3d"
           }
          ],
          "scattercarpet": [
           {
            "marker": {
             "colorbar": {
              "outlinewidth": 0,
              "ticks": ""
             }
            },
            "type": "scattercarpet"
           }
          ],
          "scattergeo": [
           {
            "marker": {
             "colorbar": {
              "outlinewidth": 0,
              "ticks": ""
             }
            },
            "type": "scattergeo"
           }
          ],
          "scattergl": [
           {
            "marker": {
             "colorbar": {
              "outlinewidth": 0,
              "ticks": ""
             }
            },
            "type": "scattergl"
           }
          ],
          "scattermapbox": [
           {
            "marker": {
             "colorbar": {
              "outlinewidth": 0,
              "ticks": ""
             }
            },
            "type": "scattermapbox"
           }
          ],
          "scatterpolar": [
           {
            "marker": {
             "colorbar": {
              "outlinewidth": 0,
              "ticks": ""
             }
            },
            "type": "scatterpolar"
           }
          ],
          "scatterpolargl": [
           {
            "marker": {
             "colorbar": {
              "outlinewidth": 0,
              "ticks": ""
             }
            },
            "type": "scatterpolargl"
           }
          ],
          "scatterternary": [
           {
            "marker": {
             "colorbar": {
              "outlinewidth": 0,
              "ticks": ""
             }
            },
            "type": "scatterternary"
           }
          ],
          "surface": [
           {
            "colorbar": {
             "outlinewidth": 0,
             "ticks": ""
            },
            "colorscale": [
             [
              0,
              "#0d0887"
             ],
             [
              0.1111111111111111,
              "#46039f"
             ],
             [
              0.2222222222222222,
              "#7201a8"
             ],
             [
              0.3333333333333333,
              "#9c179e"
             ],
             [
              0.4444444444444444,
              "#bd3786"
             ],
             [
              0.5555555555555556,
              "#d8576b"
             ],
             [
              0.6666666666666666,
              "#ed7953"
             ],
             [
              0.7777777777777778,
              "#fb9f3a"
             ],
             [
              0.8888888888888888,
              "#fdca26"
             ],
             [
              1,
              "#f0f921"
             ]
            ],
            "type": "surface"
           }
          ],
          "table": [
           {
            "cells": {
             "fill": {
              "color": "#EBF0F8"
             },
             "line": {
              "color": "white"
             }
            },
            "header": {
             "fill": {
              "color": "#C8D4E3"
             },
             "line": {
              "color": "white"
             }
            },
            "type": "table"
           }
          ]
         },
         "layout": {
          "annotationdefaults": {
           "arrowcolor": "#2a3f5f",
           "arrowhead": 0,
           "arrowwidth": 1
          },
          "autotypenumbers": "strict",
          "coloraxis": {
           "colorbar": {
            "outlinewidth": 0,
            "ticks": ""
           }
          },
          "colorscale": {
           "diverging": [
            [
             0,
             "#8e0152"
            ],
            [
             0.1,
             "#c51b7d"
            ],
            [
             0.2,
             "#de77ae"
            ],
            [
             0.3,
             "#f1b6da"
            ],
            [
             0.4,
             "#fde0ef"
            ],
            [
             0.5,
             "#f7f7f7"
            ],
            [
             0.6,
             "#e6f5d0"
            ],
            [
             0.7,
             "#b8e186"
            ],
            [
             0.8,
             "#7fbc41"
            ],
            [
             0.9,
             "#4d9221"
            ],
            [
             1,
             "#276419"
            ]
           ],
           "sequential": [
            [
             0,
             "#0d0887"
            ],
            [
             0.1111111111111111,
             "#46039f"
            ],
            [
             0.2222222222222222,
             "#7201a8"
            ],
            [
             0.3333333333333333,
             "#9c179e"
            ],
            [
             0.4444444444444444,
             "#bd3786"
            ],
            [
             0.5555555555555556,
             "#d8576b"
            ],
            [
             0.6666666666666666,
             "#ed7953"
            ],
            [
             0.7777777777777778,
             "#fb9f3a"
            ],
            [
             0.8888888888888888,
             "#fdca26"
            ],
            [
             1,
             "#f0f921"
            ]
           ],
           "sequentialminus": [
            [
             0,
             "#0d0887"
            ],
            [
             0.1111111111111111,
             "#46039f"
            ],
            [
             0.2222222222222222,
             "#7201a8"
            ],
            [
             0.3333333333333333,
             "#9c179e"
            ],
            [
             0.4444444444444444,
             "#bd3786"
            ],
            [
             0.5555555555555556,
             "#d8576b"
            ],
            [
             0.6666666666666666,
             "#ed7953"
            ],
            [
             0.7777777777777778,
             "#fb9f3a"
            ],
            [
             0.8888888888888888,
             "#fdca26"
            ],
            [
             1,
             "#f0f921"
            ]
           ]
          },
          "colorway": [
           "#636efa",
           "#EF553B",
           "#00cc96",
           "#ab63fa",
           "#FFA15A",
           "#19d3f3",
           "#FF6692",
           "#B6E880",
           "#FF97FF",
           "#FECB52"
          ],
          "font": {
           "color": "#2a3f5f"
          },
          "geo": {
           "bgcolor": "white",
           "lakecolor": "white",
           "landcolor": "#E5ECF6",
           "showlakes": true,
           "showland": true,
           "subunitcolor": "white"
          },
          "hoverlabel": {
           "align": "left"
          },
          "hovermode": "closest",
          "mapbox": {
           "style": "light"
          },
          "paper_bgcolor": "white",
          "plot_bgcolor": "#E5ECF6",
          "polar": {
           "angularaxis": {
            "gridcolor": "white",
            "linecolor": "white",
            "ticks": ""
           },
           "bgcolor": "#E5ECF6",
           "radialaxis": {
            "gridcolor": "white",
            "linecolor": "white",
            "ticks": ""
           }
          },
          "scene": {
           "xaxis": {
            "backgroundcolor": "#E5ECF6",
            "gridcolor": "white",
            "gridwidth": 2,
            "linecolor": "white",
            "showbackground": true,
            "ticks": "",
            "zerolinecolor": "white"
           },
           "yaxis": {
            "backgroundcolor": "#E5ECF6",
            "gridcolor": "white",
            "gridwidth": 2,
            "linecolor": "white",
            "showbackground": true,
            "ticks": "",
            "zerolinecolor": "white"
           },
           "zaxis": {
            "backgroundcolor": "#E5ECF6",
            "gridcolor": "white",
            "gridwidth": 2,
            "linecolor": "white",
            "showbackground": true,
            "ticks": "",
            "zerolinecolor": "white"
           }
          },
          "shapedefaults": {
           "line": {
            "color": "#2a3f5f"
           }
          },
          "ternary": {
           "aaxis": {
            "gridcolor": "white",
            "linecolor": "white",
            "ticks": ""
           },
           "baxis": {
            "gridcolor": "white",
            "linecolor": "white",
            "ticks": ""
           },
           "bgcolor": "#E5ECF6",
           "caxis": {
            "gridcolor": "white",
            "linecolor": "white",
            "ticks": ""
           }
          },
          "title": {
           "x": 0.05
          },
          "xaxis": {
           "automargin": true,
           "gridcolor": "white",
           "linecolor": "white",
           "ticks": "",
           "title": {
            "standoff": 15
           },
           "zerolinecolor": "white",
           "zerolinewidth": 2
          },
          "yaxis": {
           "automargin": true,
           "gridcolor": "white",
           "linecolor": "white",
           "ticks": "",
           "title": {
            "standoff": 15
           },
           "zerolinecolor": "white",
           "zerolinewidth": 2
          }
         }
        },
        "title": {
         "text": "Heatmap avec toutes valeurs qualitatives encodées (Date --- > months, Location --> climate) et mesure de vent"
        },
        "width": 1000,
        "xaxis": {
         "anchor": "y",
         "domain": [
          0,
          1
         ]
        },
        "yaxis": {
         "anchor": "x",
         "autorange": "reversed",
         "domain": [
          0,
          1
         ]
        }
       }
      },
      "text/html": [
       "<div>                            <div id=\"f48ead54-2d9a-48f9-8fa7-17369e3bcfba\" class=\"plotly-graph-div\" style=\"height:600px; width:1000px;\"></div>            <script type=\"text/javascript\">                require([\"plotly\"], function(Plotly) {                    window.PLOTLYENV=window.PLOTLYENV || {};                                    if (document.getElementById(\"f48ead54-2d9a-48f9-8fa7-17369e3bcfba\")) {                    Plotly.newPlot(                        \"f48ead54-2d9a-48f9-8fa7-17369e3bcfba\",                        [{\"coloraxis\":\"coloraxis\",\"name\":\"0\",\"texttemplate\":\"%{z}\",\"x\":[\"RainTomorrow\",\"MinTemp\",\"MaxTemp\",\"Rainfall\",\"Evaporation\",\"Sunshine\",\"WindGustDir\",\"WindGustSpeed\",\"WindDir9am\",\"WindDir3pm\",\"WindSpeed9am\",\"WindSpeed3pm\",\"Humidity9am\",\"Humidity3pm\",\"Pressure9am\",\"Pressure3pm\",\"Cloud9am\",\"Cloud3pm\",\"Temp9am\",\"Temp3pm\",\"RainToday\"],\"y\":[\"RainTomorrow\",\"MinTemp\",\"MaxTemp\",\"Rainfall\",\"Evaporation\",\"Sunshine\",\"WindGustDir\",\"WindGustSpeed\",\"WindDir9am\",\"WindDir3pm\",\"WindSpeed9am\",\"WindSpeed3pm\",\"Humidity9am\",\"Humidity3pm\",\"Pressure9am\",\"Pressure3pm\",\"Cloud9am\",\"Cloud3pm\",\"Temp9am\",\"Temp3pm\",\"RainToday\"],\"z\":[[1.0,0.08,-0.16,0.24,-0.12,-0.45,0.05,0.23,0.02,0.03,0.09,0.09,0.26,0.45,-0.25,-0.23,0.32,0.38,-0.03,-0.19,0.31],[0.08,1.0,0.74,0.1,0.47,0.07,-0.13,0.18,-0.13,-0.16,0.18,0.18,-0.23,0.01,-0.45,-0.46,0.08,0.02,0.9,0.71,0.06],[-0.16,0.74,1.0,-0.07,0.59,0.47,-0.21,0.07,-0.25,-0.19,0.01,0.05,-0.5,-0.51,-0.33,-0.43,-0.29,-0.28,0.89,0.98,-0.23],[0.24,0.1,-0.07,1.0,-0.06,-0.23,0.04,0.13,0.07,0.05,0.09,0.06,0.22,0.26,-0.17,-0.13,0.2,0.17,0.01,-0.08,0.5],[-0.12,0.47,0.59,-0.06,1.0,0.37,-0.09,0.2,-0.12,-0.06,0.19,0.13,-0.5,-0.39,-0.27,-0.29,-0.18,-0.18,0.55,0.57,-0.19],[-0.45,0.07,0.47,-0.23,0.37,1.0,-0.09,-0.03,-0.11,-0.05,0.01,0.05,-0.49,-0.63,0.04,-0.02,-0.68,-0.7,0.29,0.49,-0.33],[0.05,-0.13,-0.21,0.04,-0.09,-0.09,1.0,0.14,0.36,0.56,-0.0,0.07,0.07,0.07,-0.12,-0.03,0.08,0.07,-0.17,-0.22,0.13],[0.23,0.18,0.07,0.13,0.2,-0.03,0.14,1.0,-0.05,0.13,0.61,0.69,-0.22,-0.03,-0.46,-0.41,0.07,0.11,0.15,0.03,0.16],[0.02,-0.13,-0.25,0.07,-0.12,-0.11,0.36,-0.05,1.0,0.3,-0.15,-0.02,0.2,0.16,0.03,0.11,0.11,0.07,-0.2,-0.25,0.14],[0.03,-0.16,-0.19,0.05,-0.06,-0.05,0.56,0.13,0.3,1.0,0.03,0.06,0.04,0.0,-0.13,-0.03,0.06,0.07,-0.18,-0.2,0.12],[0.09,0.18,0.01,0.09,0.19,0.01,-0.0,0.61,-0.15,0.03,1.0,0.52,-0.27,-0.03,-0.23,-0.18,0.03,0.05,0.13,0.0,0.1],[0.09,0.18,0.05,0.06,0.13,0.05,0.07,0.69,-0.02,0.06,0.52,1.0,-0.15,0.02,-0.3,-0.26,0.05,0.03,0.16,0.03,0.08],[0.26,-0.23,-0.5,0.22,-0.5,-0.49,0.07,-0.22,0.2,0.04,-0.27,-0.15,1.0,0.67,0.14,0.19,0.45,0.36,-0.47,-0.5,0.35],[0.45,0.01,-0.51,0.26,-0.39,-0.63,0.07,-0.03,0.16,0.0,-0.03,0.02,0.67,1.0,-0.03,0.05,0.52,0.52,-0.22,-0.56,0.38],[-0.25,-0.45,-0.33,-0.17,-0.27,0.04,-0.12,-0.46,0.03,-0.13,-0.23,-0.3,0.14,-0.03,1.0,0.96,-0.13,-0.15,-0.42,-0.29,-0.19],[-0.23,-0.46,-0.43,-0.13,-0.29,-0.02,-0.03,-0.41,0.11,-0.03,-0.18,-0.26,0.19,0.05,0.96,1.0,-0.06,-0.08,-0.47,-0.39,-0.11],[0.32,0.08,-0.29,0.2,-0.18,-0.68,0.08,0.07,0.11,0.06,0.03,0.05,0.45,0.52,-0.13,-0.06,1.0,0.6,-0.14,-0.3,0.31],[0.38,0.02,-0.28,0.17,-0.18,-0.7,0.07,0.11,0.07,0.07,0.05,0.03,0.36,0.52,-0.15,-0.08,0.6,1.0,-0.13,-0.32,0.27],[-0.03,0.9,0.89,0.01,0.55,0.29,-0.17,0.15,-0.2,-0.18,0.13,0.16,-0.47,-0.22,-0.42,-0.47,-0.14,-0.13,1.0,0.86,-0.1],[-0.19,0.71,0.98,-0.08,0.57,0.49,-0.22,0.03,-0.25,-0.2,0.0,0.03,-0.5,-0.56,-0.29,-0.39,-0.3,-0.32,0.86,1.0,-0.24],[0.31,0.06,-0.23,0.5,-0.19,-0.33,0.13,0.16,0.14,0.12,0.1,0.08,0.35,0.38,-0.19,-0.11,0.31,0.27,-0.1,-0.24,1.0]],\"type\":\"heatmap\",\"xaxis\":\"x\",\"yaxis\":\"y\",\"hovertemplate\":\"x: %{x}\\u003cbr\\u003ey: %{y}\\u003cbr\\u003ecolor: %{z}\\u003cextra\\u003e\\u003c\\u002fextra\\u003e\"}],                        {\"template\":{\"data\":{\"histogram2dcontour\":[{\"type\":\"histogram2dcontour\",\"colorbar\":{\"outlinewidth\":0,\"ticks\":\"\"},\"colorscale\":[[0.0,\"#0d0887\"],[0.1111111111111111,\"#46039f\"],[0.2222222222222222,\"#7201a8\"],[0.3333333333333333,\"#9c179e\"],[0.4444444444444444,\"#bd3786\"],[0.5555555555555556,\"#d8576b\"],[0.6666666666666666,\"#ed7953\"],[0.7777777777777778,\"#fb9f3a\"],[0.8888888888888888,\"#fdca26\"],[1.0,\"#f0f921\"]]}],\"choropleth\":[{\"type\":\"choropleth\",\"colorbar\":{\"outlinewidth\":0,\"ticks\":\"\"}}],\"histogram2d\":[{\"type\":\"histogram2d\",\"colorbar\":{\"outlinewidth\":0,\"ticks\":\"\"},\"colorscale\":[[0.0,\"#0d0887\"],[0.1111111111111111,\"#46039f\"],[0.2222222222222222,\"#7201a8\"],[0.3333333333333333,\"#9c179e\"],[0.4444444444444444,\"#bd3786\"],[0.5555555555555556,\"#d8576b\"],[0.6666666666666666,\"#ed7953\"],[0.7777777777777778,\"#fb9f3a\"],[0.8888888888888888,\"#fdca26\"],[1.0,\"#f0f921\"]]}],\"heatmap\":[{\"type\":\"heatmap\",\"colorbar\":{\"outlinewidth\":0,\"ticks\":\"\"},\"colorscale\":[[0.0,\"#0d0887\"],[0.1111111111111111,\"#46039f\"],[0.2222222222222222,\"#7201a8\"],[0.3333333333333333,\"#9c179e\"],[0.4444444444444444,\"#bd3786\"],[0.5555555555555556,\"#d8576b\"],[0.6666666666666666,\"#ed7953\"],[0.7777777777777778,\"#fb9f3a\"],[0.8888888888888888,\"#fdca26\"],[1.0,\"#f0f921\"]]}],\"heatmapgl\":[{\"type\":\"heatmapgl\",\"colorbar\":{\"outlinewidth\":0,\"ticks\":\"\"},\"colorscale\":[[0.0,\"#0d0887\"],[0.1111111111111111,\"#46039f\"],[0.2222222222222222,\"#7201a8\"],[0.3333333333333333,\"#9c179e\"],[0.4444444444444444,\"#bd3786\"],[0.5555555555555556,\"#d8576b\"],[0.6666666666666666,\"#ed7953\"],[0.7777777777777778,\"#fb9f3a\"],[0.8888888888888888,\"#fdca26\"],[1.0,\"#f0f921\"]]}],\"contourcarpet\":[{\"type\":\"contourcarpet\",\"colorbar\":{\"outlinewidth\":0,\"ticks\":\"\"}}],\"contour\":[{\"type\":\"contour\",\"colorbar\":{\"outlinewidth\":0,\"ticks\":\"\"},\"colorscale\":[[0.0,\"#0d0887\"],[0.1111111111111111,\"#46039f\"],[0.2222222222222222,\"#7201a8\"],[0.3333333333333333,\"#9c179e\"],[0.4444444444444444,\"#bd3786\"],[0.5555555555555556,\"#d8576b\"],[0.6666666666666666,\"#ed7953\"],[0.7777777777777778,\"#fb9f3a\"],[0.8888888888888888,\"#fdca26\"],[1.0,\"#f0f921\"]]}],\"surface\":[{\"type\":\"surface\",\"colorbar\":{\"outlinewidth\":0,\"ticks\":\"\"},\"colorscale\":[[0.0,\"#0d0887\"],[0.1111111111111111,\"#46039f\"],[0.2222222222222222,\"#7201a8\"],[0.3333333333333333,\"#9c179e\"],[0.4444444444444444,\"#bd3786\"],[0.5555555555555556,\"#d8576b\"],[0.6666666666666666,\"#ed7953\"],[0.7777777777777778,\"#fb9f3a\"],[0.8888888888888888,\"#fdca26\"],[1.0,\"#f0f921\"]]}],\"mesh3d\":[{\"type\":\"mesh3d\",\"colorbar\":{\"outlinewidth\":0,\"ticks\":\"\"}}],\"scatter\":[{\"fillpattern\":{\"fillmode\":\"overlay\",\"size\":10,\"solidity\":0.2},\"type\":\"scatter\"}],\"parcoords\":[{\"type\":\"parcoords\",\"line\":{\"colorbar\":{\"outlinewidth\":0,\"ticks\":\"\"}}}],\"scatterpolargl\":[{\"type\":\"scatterpolargl\",\"marker\":{\"colorbar\":{\"outlinewidth\":0,\"ticks\":\"\"}}}],\"bar\":[{\"error_x\":{\"color\":\"#2a3f5f\"},\"error_y\":{\"color\":\"#2a3f5f\"},\"marker\":{\"line\":{\"color\":\"#E5ECF6\",\"width\":0.5},\"pattern\":{\"fillmode\":\"overlay\",\"size\":10,\"solidity\":0.2}},\"type\":\"bar\"}],\"scattergeo\":[{\"type\":\"scattergeo\",\"marker\":{\"colorbar\":{\"outlinewidth\":0,\"ticks\":\"\"}}}],\"scatterpolar\":[{\"type\":\"scatterpolar\",\"marker\":{\"colorbar\":{\"outlinewidth\":0,\"ticks\":\"\"}}}],\"histogram\":[{\"marker\":{\"pattern\":{\"fillmode\":\"overlay\",\"size\":10,\"solidity\":0.2}},\"type\":\"histogram\"}],\"scattergl\":[{\"type\":\"scattergl\",\"marker\":{\"colorbar\":{\"outlinewidth\":0,\"ticks\":\"\"}}}],\"scatter3d\":[{\"type\":\"scatter3d\",\"line\":{\"colorbar\":{\"outlinewidth\":0,\"ticks\":\"\"}},\"marker\":{\"colorbar\":{\"outlinewidth\":0,\"ticks\":\"\"}}}],\"scattermapbox\":[{\"type\":\"scattermapbox\",\"marker\":{\"colorbar\":{\"outlinewidth\":0,\"ticks\":\"\"}}}],\"scatterternary\":[{\"type\":\"scatterternary\",\"marker\":{\"colorbar\":{\"outlinewidth\":0,\"ticks\":\"\"}}}],\"scattercarpet\":[{\"type\":\"scattercarpet\",\"marker\":{\"colorbar\":{\"outlinewidth\":0,\"ticks\":\"\"}}}],\"carpet\":[{\"aaxis\":{\"endlinecolor\":\"#2a3f5f\",\"gridcolor\":\"white\",\"linecolor\":\"white\",\"minorgridcolor\":\"white\",\"startlinecolor\":\"#2a3f5f\"},\"baxis\":{\"endlinecolor\":\"#2a3f5f\",\"gridcolor\":\"white\",\"linecolor\":\"white\",\"minorgridcolor\":\"white\",\"startlinecolor\":\"#2a3f5f\"},\"type\":\"carpet\"}],\"table\":[{\"cells\":{\"fill\":{\"color\":\"#EBF0F8\"},\"line\":{\"color\":\"white\"}},\"header\":{\"fill\":{\"color\":\"#C8D4E3\"},\"line\":{\"color\":\"white\"}},\"type\":\"table\"}],\"barpolar\":[{\"marker\":{\"line\":{\"color\":\"#E5ECF6\",\"width\":0.5},\"pattern\":{\"fillmode\":\"overlay\",\"size\":10,\"solidity\":0.2}},\"type\":\"barpolar\"}],\"pie\":[{\"automargin\":true,\"type\":\"pie\"}]},\"layout\":{\"autotypenumbers\":\"strict\",\"colorway\":[\"#636efa\",\"#EF553B\",\"#00cc96\",\"#ab63fa\",\"#FFA15A\",\"#19d3f3\",\"#FF6692\",\"#B6E880\",\"#FF97FF\",\"#FECB52\"],\"font\":{\"color\":\"#2a3f5f\"},\"hovermode\":\"closest\",\"hoverlabel\":{\"align\":\"left\"},\"paper_bgcolor\":\"white\",\"plot_bgcolor\":\"#E5ECF6\",\"polar\":{\"bgcolor\":\"#E5ECF6\",\"angularaxis\":{\"gridcolor\":\"white\",\"linecolor\":\"white\",\"ticks\":\"\"},\"radialaxis\":{\"gridcolor\":\"white\",\"linecolor\":\"white\",\"ticks\":\"\"}},\"ternary\":{\"bgcolor\":\"#E5ECF6\",\"aaxis\":{\"gridcolor\":\"white\",\"linecolor\":\"white\",\"ticks\":\"\"},\"baxis\":{\"gridcolor\":\"white\",\"linecolor\":\"white\",\"ticks\":\"\"},\"caxis\":{\"gridcolor\":\"white\",\"linecolor\":\"white\",\"ticks\":\"\"}},\"coloraxis\":{\"colorbar\":{\"outlinewidth\":0,\"ticks\":\"\"}},\"colorscale\":{\"sequential\":[[0.0,\"#0d0887\"],[0.1111111111111111,\"#46039f\"],[0.2222222222222222,\"#7201a8\"],[0.3333333333333333,\"#9c179e\"],[0.4444444444444444,\"#bd3786\"],[0.5555555555555556,\"#d8576b\"],[0.6666666666666666,\"#ed7953\"],[0.7777777777777778,\"#fb9f3a\"],[0.8888888888888888,\"#fdca26\"],[1.0,\"#f0f921\"]],\"sequentialminus\":[[0.0,\"#0d0887\"],[0.1111111111111111,\"#46039f\"],[0.2222222222222222,\"#7201a8\"],[0.3333333333333333,\"#9c179e\"],[0.4444444444444444,\"#bd3786\"],[0.5555555555555556,\"#d8576b\"],[0.6666666666666666,\"#ed7953\"],[0.7777777777777778,\"#fb9f3a\"],[0.8888888888888888,\"#fdca26\"],[1.0,\"#f0f921\"]],\"diverging\":[[0,\"#8e0152\"],[0.1,\"#c51b7d\"],[0.2,\"#de77ae\"],[0.3,\"#f1b6da\"],[0.4,\"#fde0ef\"],[0.5,\"#f7f7f7\"],[0.6,\"#e6f5d0\"],[0.7,\"#b8e186\"],[0.8,\"#7fbc41\"],[0.9,\"#4d9221\"],[1,\"#276419\"]]},\"xaxis\":{\"gridcolor\":\"white\",\"linecolor\":\"white\",\"ticks\":\"\",\"title\":{\"standoff\":15},\"zerolinecolor\":\"white\",\"automargin\":true,\"zerolinewidth\":2},\"yaxis\":{\"gridcolor\":\"white\",\"linecolor\":\"white\",\"ticks\":\"\",\"title\":{\"standoff\":15},\"zerolinecolor\":\"white\",\"automargin\":true,\"zerolinewidth\":2},\"scene\":{\"xaxis\":{\"backgroundcolor\":\"#E5ECF6\",\"gridcolor\":\"white\",\"linecolor\":\"white\",\"showbackground\":true,\"ticks\":\"\",\"zerolinecolor\":\"white\",\"gridwidth\":2},\"yaxis\":{\"backgroundcolor\":\"#E5ECF6\",\"gridcolor\":\"white\",\"linecolor\":\"white\",\"showbackground\":true,\"ticks\":\"\",\"zerolinecolor\":\"white\",\"gridwidth\":2},\"zaxis\":{\"backgroundcolor\":\"#E5ECF6\",\"gridcolor\":\"white\",\"linecolor\":\"white\",\"showbackground\":true,\"ticks\":\"\",\"zerolinecolor\":\"white\",\"gridwidth\":2}},\"shapedefaults\":{\"line\":{\"color\":\"#2a3f5f\"}},\"annotationdefaults\":{\"arrowcolor\":\"#2a3f5f\",\"arrowhead\":0,\"arrowwidth\":1},\"geo\":{\"bgcolor\":\"white\",\"landcolor\":\"#E5ECF6\",\"subunitcolor\":\"white\",\"showland\":true,\"showlakes\":true,\"lakecolor\":\"white\"},\"title\":{\"x\":0.05},\"mapbox\":{\"style\":\"light\"}}},\"xaxis\":{\"anchor\":\"y\",\"domain\":[0.0,1.0]},\"yaxis\":{\"anchor\":\"x\",\"domain\":[0.0,1.0],\"autorange\":\"reversed\"},\"coloraxis\":{\"colorscale\":[[0.0,\"rgb(103,0,31)\"],[0.1,\"rgb(178,24,43)\"],[0.2,\"rgb(214,96,77)\"],[0.3,\"rgb(244,165,130)\"],[0.4,\"rgb(253,219,199)\"],[0.5,\"rgb(247,247,247)\"],[0.6,\"rgb(209,229,240)\"],[0.7,\"rgb(146,197,222)\"],[0.8,\"rgb(67,147,195)\"],[0.9,\"rgb(33,102,172)\"],[1.0,\"rgb(5,48,97)\"]]},\"title\":{\"text\":\"Heatmap avec toutes valeurs qualitatives encodées (Date --- \\u003e months, Location --\\u003e climate) et mesure de vent\"},\"height\":600,\"width\":1000},                        {\"responsive\": true}                    ).then(function(){\n",
       "                            \n",
       "var gd = document.getElementById('f48ead54-2d9a-48f9-8fa7-17369e3bcfba');\n",
       "var x = new MutationObserver(function (mutations, observer) {{\n",
       "        var display = window.getComputedStyle(gd).display;\n",
       "        if (!display || display === 'none') {{\n",
       "            console.log([gd, 'removed!']);\n",
       "            Plotly.purge(gd);\n",
       "            observer.disconnect();\n",
       "        }}\n",
       "}});\n",
       "\n",
       "// Listen for the removal of the full notebook cells\n",
       "var notebookContainer = gd.closest('#notebook-container');\n",
       "if (notebookContainer) {{\n",
       "    x.observe(notebookContainer, {childList: true});\n",
       "}}\n",
       "\n",
       "// Listen for the clearing of the current output cell\n",
       "var outputEl = gd.closest('.output');\n",
       "if (outputEl) {{\n",
       "    x.observe(outputEl, {childList: true});\n",
       "}}\n",
       "\n",
       "                        })                };                });            </script>        </div>"
      ]
     },
     "metadata": {},
     "output_type": "display_data"
    }
   ],
   "source": [
    "fig_all_include = px.imshow(df_all_include.corr().round(2), text_auto = True, aspect = 'auto', color_continuous_scale='RdBu',\n",
    "                    title = 'Heatmap avec toutes valeurs qualitatives encodées (Date --- > months, Location --> climate) et mesure de vent',\n",
    "                    width = 1000,\n",
    "                    height = 600)\n",
    "fig_all_include.show()"
   ]
  },
  {
   "cell_type": "code",
   "execution_count": 110,
   "metadata": {},
   "outputs": [],
   "source": [
    "#on drop les colonnes qui on plus de 30% de valeurs manquantes\n",
    "\n",
    "df_drop_col = df_all_include.drop(columns = ['Sunshine', 'Evaporation', 'Cloud9am', 'Cloud3pm'])\n"
   ]
  },
  {
   "cell_type": "code",
   "execution_count": 168,
   "metadata": {},
   "outputs": [
    {
     "data": {
      "application/vnd.plotly.v1+json": {
       "config": {
        "plotlyServerURL": "https://plot.ly"
       },
       "data": [
        {
         "coloraxis": "coloraxis",
         "hovertemplate": "x: %{x}<br>y: %{y}<br>color: %{z}<extra></extra>",
         "name": "0",
         "texttemplate": "%{z}",
         "type": "heatmap",
         "x": [
          "RainTomorrow"
         ],
         "xaxis": "x",
         "y": [
          "RainTomorrow",
          "MinTemp",
          "MaxTemp",
          "Rainfall",
          "WindGustDir",
          "WindGustSpeed",
          "WindDir9am",
          "WindDir3pm",
          "WindSpeed9am",
          "WindSpeed3pm",
          "Humidity9am",
          "Humidity3pm",
          "Pressure9am",
          "Pressure3pm",
          "Temp9am",
          "Temp3pm",
          "RainToday",
          "Months",
          "climate"
         ],
         "yaxis": "y",
         "z": [
          [
           1
          ],
          [
           0.08
          ],
          [
           -0.16
          ],
          [
           0.24
          ],
          [
           0.05
          ],
          [
           0.23
          ],
          [
           0.02
          ],
          [
           0.03
          ],
          [
           0.09
          ],
          [
           0.09
          ],
          [
           0.26
          ],
          [
           0.45
          ],
          [
           -0.25
          ],
          [
           -0.23
          ],
          [
           -0.03
          ],
          [
           -0.19
          ],
          [
           0.31
          ],
          [
           0.01
          ],
          [
           0.09
          ]
         ]
        }
       ],
       "layout": {
        "coloraxis": {
         "colorscale": [
          [
           0,
           "rgb(103,0,31)"
          ],
          [
           0.1,
           "rgb(178,24,43)"
          ],
          [
           0.2,
           "rgb(214,96,77)"
          ],
          [
           0.3,
           "rgb(244,165,130)"
          ],
          [
           0.4,
           "rgb(253,219,199)"
          ],
          [
           0.5,
           "rgb(247,247,247)"
          ],
          [
           0.6,
           "rgb(209,229,240)"
          ],
          [
           0.7,
           "rgb(146,197,222)"
          ],
          [
           0.8,
           "rgb(67,147,195)"
          ],
          [
           0.9,
           "rgb(33,102,172)"
          ],
          [
           1,
           "rgb(5,48,97)"
          ]
         ]
        },
        "height": 600,
        "template": {
         "data": {
          "bar": [
           {
            "error_x": {
             "color": "#2a3f5f"
            },
            "error_y": {
             "color": "#2a3f5f"
            },
            "marker": {
             "line": {
              "color": "#E5ECF6",
              "width": 0.5
             },
             "pattern": {
              "fillmode": "overlay",
              "size": 10,
              "solidity": 0.2
             }
            },
            "type": "bar"
           }
          ],
          "barpolar": [
           {
            "marker": {
             "line": {
              "color": "#E5ECF6",
              "width": 0.5
             },
             "pattern": {
              "fillmode": "overlay",
              "size": 10,
              "solidity": 0.2
             }
            },
            "type": "barpolar"
           }
          ],
          "carpet": [
           {
            "aaxis": {
             "endlinecolor": "#2a3f5f",
             "gridcolor": "white",
             "linecolor": "white",
             "minorgridcolor": "white",
             "startlinecolor": "#2a3f5f"
            },
            "baxis": {
             "endlinecolor": "#2a3f5f",
             "gridcolor": "white",
             "linecolor": "white",
             "minorgridcolor": "white",
             "startlinecolor": "#2a3f5f"
            },
            "type": "carpet"
           }
          ],
          "choropleth": [
           {
            "colorbar": {
             "outlinewidth": 0,
             "ticks": ""
            },
            "type": "choropleth"
           }
          ],
          "contour": [
           {
            "colorbar": {
             "outlinewidth": 0,
             "ticks": ""
            },
            "colorscale": [
             [
              0,
              "#0d0887"
             ],
             [
              0.1111111111111111,
              "#46039f"
             ],
             [
              0.2222222222222222,
              "#7201a8"
             ],
             [
              0.3333333333333333,
              "#9c179e"
             ],
             [
              0.4444444444444444,
              "#bd3786"
             ],
             [
              0.5555555555555556,
              "#d8576b"
             ],
             [
              0.6666666666666666,
              "#ed7953"
             ],
             [
              0.7777777777777778,
              "#fb9f3a"
             ],
             [
              0.8888888888888888,
              "#fdca26"
             ],
             [
              1,
              "#f0f921"
             ]
            ],
            "type": "contour"
           }
          ],
          "contourcarpet": [
           {
            "colorbar": {
             "outlinewidth": 0,
             "ticks": ""
            },
            "type": "contourcarpet"
           }
          ],
          "heatmap": [
           {
            "colorbar": {
             "outlinewidth": 0,
             "ticks": ""
            },
            "colorscale": [
             [
              0,
              "#0d0887"
             ],
             [
              0.1111111111111111,
              "#46039f"
             ],
             [
              0.2222222222222222,
              "#7201a8"
             ],
             [
              0.3333333333333333,
              "#9c179e"
             ],
             [
              0.4444444444444444,
              "#bd3786"
             ],
             [
              0.5555555555555556,
              "#d8576b"
             ],
             [
              0.6666666666666666,
              "#ed7953"
             ],
             [
              0.7777777777777778,
              "#fb9f3a"
             ],
             [
              0.8888888888888888,
              "#fdca26"
             ],
             [
              1,
              "#f0f921"
             ]
            ],
            "type": "heatmap"
           }
          ],
          "heatmapgl": [
           {
            "colorbar": {
             "outlinewidth": 0,
             "ticks": ""
            },
            "colorscale": [
             [
              0,
              "#0d0887"
             ],
             [
              0.1111111111111111,
              "#46039f"
             ],
             [
              0.2222222222222222,
              "#7201a8"
             ],
             [
              0.3333333333333333,
              "#9c179e"
             ],
             [
              0.4444444444444444,
              "#bd3786"
             ],
             [
              0.5555555555555556,
              "#d8576b"
             ],
             [
              0.6666666666666666,
              "#ed7953"
             ],
             [
              0.7777777777777778,
              "#fb9f3a"
             ],
             [
              0.8888888888888888,
              "#fdca26"
             ],
             [
              1,
              "#f0f921"
             ]
            ],
            "type": "heatmapgl"
           }
          ],
          "histogram": [
           {
            "marker": {
             "pattern": {
              "fillmode": "overlay",
              "size": 10,
              "solidity": 0.2
             }
            },
            "type": "histogram"
           }
          ],
          "histogram2d": [
           {
            "colorbar": {
             "outlinewidth": 0,
             "ticks": ""
            },
            "colorscale": [
             [
              0,
              "#0d0887"
             ],
             [
              0.1111111111111111,
              "#46039f"
             ],
             [
              0.2222222222222222,
              "#7201a8"
             ],
             [
              0.3333333333333333,
              "#9c179e"
             ],
             [
              0.4444444444444444,
              "#bd3786"
             ],
             [
              0.5555555555555556,
              "#d8576b"
             ],
             [
              0.6666666666666666,
              "#ed7953"
             ],
             [
              0.7777777777777778,
              "#fb9f3a"
             ],
             [
              0.8888888888888888,
              "#fdca26"
             ],
             [
              1,
              "#f0f921"
             ]
            ],
            "type": "histogram2d"
           }
          ],
          "histogram2dcontour": [
           {
            "colorbar": {
             "outlinewidth": 0,
             "ticks": ""
            },
            "colorscale": [
             [
              0,
              "#0d0887"
             ],
             [
              0.1111111111111111,
              "#46039f"
             ],
             [
              0.2222222222222222,
              "#7201a8"
             ],
             [
              0.3333333333333333,
              "#9c179e"
             ],
             [
              0.4444444444444444,
              "#bd3786"
             ],
             [
              0.5555555555555556,
              "#d8576b"
             ],
             [
              0.6666666666666666,
              "#ed7953"
             ],
             [
              0.7777777777777778,
              "#fb9f3a"
             ],
             [
              0.8888888888888888,
              "#fdca26"
             ],
             [
              1,
              "#f0f921"
             ]
            ],
            "type": "histogram2dcontour"
           }
          ],
          "mesh3d": [
           {
            "colorbar": {
             "outlinewidth": 0,
             "ticks": ""
            },
            "type": "mesh3d"
           }
          ],
          "parcoords": [
           {
            "line": {
             "colorbar": {
              "outlinewidth": 0,
              "ticks": ""
             }
            },
            "type": "parcoords"
           }
          ],
          "pie": [
           {
            "automargin": true,
            "type": "pie"
           }
          ],
          "scatter": [
           {
            "fillpattern": {
             "fillmode": "overlay",
             "size": 10,
             "solidity": 0.2
            },
            "type": "scatter"
           }
          ],
          "scatter3d": [
           {
            "line": {
             "colorbar": {
              "outlinewidth": 0,
              "ticks": ""
             }
            },
            "marker": {
             "colorbar": {
              "outlinewidth": 0,
              "ticks": ""
             }
            },
            "type": "scatter3d"
           }
          ],
          "scattercarpet": [
           {
            "marker": {
             "colorbar": {
              "outlinewidth": 0,
              "ticks": ""
             }
            },
            "type": "scattercarpet"
           }
          ],
          "scattergeo": [
           {
            "marker": {
             "colorbar": {
              "outlinewidth": 0,
              "ticks": ""
             }
            },
            "type": "scattergeo"
           }
          ],
          "scattergl": [
           {
            "marker": {
             "colorbar": {
              "outlinewidth": 0,
              "ticks": ""
             }
            },
            "type": "scattergl"
           }
          ],
          "scattermapbox": [
           {
            "marker": {
             "colorbar": {
              "outlinewidth": 0,
              "ticks": ""
             }
            },
            "type": "scattermapbox"
           }
          ],
          "scatterpolar": [
           {
            "marker": {
             "colorbar": {
              "outlinewidth": 0,
              "ticks": ""
             }
            },
            "type": "scatterpolar"
           }
          ],
          "scatterpolargl": [
           {
            "marker": {
             "colorbar": {
              "outlinewidth": 0,
              "ticks": ""
             }
            },
            "type": "scatterpolargl"
           }
          ],
          "scatterternary": [
           {
            "marker": {
             "colorbar": {
              "outlinewidth": 0,
              "ticks": ""
             }
            },
            "type": "scatterternary"
           }
          ],
          "surface": [
           {
            "colorbar": {
             "outlinewidth": 0,
             "ticks": ""
            },
            "colorscale": [
             [
              0,
              "#0d0887"
             ],
             [
              0.1111111111111111,
              "#46039f"
             ],
             [
              0.2222222222222222,
              "#7201a8"
             ],
             [
              0.3333333333333333,
              "#9c179e"
             ],
             [
              0.4444444444444444,
              "#bd3786"
             ],
             [
              0.5555555555555556,
              "#d8576b"
             ],
             [
              0.6666666666666666,
              "#ed7953"
             ],
             [
              0.7777777777777778,
              "#fb9f3a"
             ],
             [
              0.8888888888888888,
              "#fdca26"
             ],
             [
              1,
              "#f0f921"
             ]
            ],
            "type": "surface"
           }
          ],
          "table": [
           {
            "cells": {
             "fill": {
              "color": "#EBF0F8"
             },
             "line": {
              "color": "white"
             }
            },
            "header": {
             "fill": {
              "color": "#C8D4E3"
             },
             "line": {
              "color": "white"
             }
            },
            "type": "table"
           }
          ]
         },
         "layout": {
          "annotationdefaults": {
           "arrowcolor": "#2a3f5f",
           "arrowhead": 0,
           "arrowwidth": 1
          },
          "autotypenumbers": "strict",
          "coloraxis": {
           "colorbar": {
            "outlinewidth": 0,
            "ticks": ""
           }
          },
          "colorscale": {
           "diverging": [
            [
             0,
             "#8e0152"
            ],
            [
             0.1,
             "#c51b7d"
            ],
            [
             0.2,
             "#de77ae"
            ],
            [
             0.3,
             "#f1b6da"
            ],
            [
             0.4,
             "#fde0ef"
            ],
            [
             0.5,
             "#f7f7f7"
            ],
            [
             0.6,
             "#e6f5d0"
            ],
            [
             0.7,
             "#b8e186"
            ],
            [
             0.8,
             "#7fbc41"
            ],
            [
             0.9,
             "#4d9221"
            ],
            [
             1,
             "#276419"
            ]
           ],
           "sequential": [
            [
             0,
             "#0d0887"
            ],
            [
             0.1111111111111111,
             "#46039f"
            ],
            [
             0.2222222222222222,
             "#7201a8"
            ],
            [
             0.3333333333333333,
             "#9c179e"
            ],
            [
             0.4444444444444444,
             "#bd3786"
            ],
            [
             0.5555555555555556,
             "#d8576b"
            ],
            [
             0.6666666666666666,
             "#ed7953"
            ],
            [
             0.7777777777777778,
             "#fb9f3a"
            ],
            [
             0.8888888888888888,
             "#fdca26"
            ],
            [
             1,
             "#f0f921"
            ]
           ],
           "sequentialminus": [
            [
             0,
             "#0d0887"
            ],
            [
             0.1111111111111111,
             "#46039f"
            ],
            [
             0.2222222222222222,
             "#7201a8"
            ],
            [
             0.3333333333333333,
             "#9c179e"
            ],
            [
             0.4444444444444444,
             "#bd3786"
            ],
            [
             0.5555555555555556,
             "#d8576b"
            ],
            [
             0.6666666666666666,
             "#ed7953"
            ],
            [
             0.7777777777777778,
             "#fb9f3a"
            ],
            [
             0.8888888888888888,
             "#fdca26"
            ],
            [
             1,
             "#f0f921"
            ]
           ]
          },
          "colorway": [
           "#636efa",
           "#EF553B",
           "#00cc96",
           "#ab63fa",
           "#FFA15A",
           "#19d3f3",
           "#FF6692",
           "#B6E880",
           "#FF97FF",
           "#FECB52"
          ],
          "font": {
           "color": "#2a3f5f"
          },
          "geo": {
           "bgcolor": "white",
           "lakecolor": "white",
           "landcolor": "#E5ECF6",
           "showlakes": true,
           "showland": true,
           "subunitcolor": "white"
          },
          "hoverlabel": {
           "align": "left"
          },
          "hovermode": "closest",
          "mapbox": {
           "style": "light"
          },
          "paper_bgcolor": "white",
          "plot_bgcolor": "#E5ECF6",
          "polar": {
           "angularaxis": {
            "gridcolor": "white",
            "linecolor": "white",
            "ticks": ""
           },
           "bgcolor": "#E5ECF6",
           "radialaxis": {
            "gridcolor": "white",
            "linecolor": "white",
            "ticks": ""
           }
          },
          "scene": {
           "xaxis": {
            "backgroundcolor": "#E5ECF6",
            "gridcolor": "white",
            "gridwidth": 2,
            "linecolor": "white",
            "showbackground": true,
            "ticks": "",
            "zerolinecolor": "white"
           },
           "yaxis": {
            "backgroundcolor": "#E5ECF6",
            "gridcolor": "white",
            "gridwidth": 2,
            "linecolor": "white",
            "showbackground": true,
            "ticks": "",
            "zerolinecolor": "white"
           },
           "zaxis": {
            "backgroundcolor": "#E5ECF6",
            "gridcolor": "white",
            "gridwidth": 2,
            "linecolor": "white",
            "showbackground": true,
            "ticks": "",
            "zerolinecolor": "white"
           }
          },
          "shapedefaults": {
           "line": {
            "color": "#2a3f5f"
           }
          },
          "ternary": {
           "aaxis": {
            "gridcolor": "white",
            "linecolor": "white",
            "ticks": ""
           },
           "baxis": {
            "gridcolor": "white",
            "linecolor": "white",
            "ticks": ""
           },
           "bgcolor": "#E5ECF6",
           "caxis": {
            "gridcolor": "white",
            "linecolor": "white",
            "ticks": ""
           }
          },
          "title": {
           "x": 0.05
          },
          "xaxis": {
           "automargin": true,
           "gridcolor": "white",
           "linecolor": "white",
           "ticks": "",
           "title": {
            "standoff": 15
           },
           "zerolinecolor": "white",
           "zerolinewidth": 2
          },
          "yaxis": {
           "automargin": true,
           "gridcolor": "white",
           "linecolor": "white",
           "ticks": "",
           "title": {
            "standoff": 15
           },
           "zerolinecolor": "white",
           "zerolinewidth": 2
          }
         }
        },
        "title": {
         "text": "Heatmap tout encoder avec drop des colonnes : Sunshine, Evaporation, Cloud9am, Cloud3pm"
        },
        "width": 500,
        "xaxis": {
         "anchor": "y",
         "domain": [
          0,
          1
         ]
        },
        "yaxis": {
         "anchor": "x",
         "autorange": "reversed",
         "domain": [
          0,
          1
         ]
        }
       }
      },
      "text/html": [
       "<div>                            <div id=\"308add81-6e85-4e90-8556-bb454ddf7ecf\" class=\"plotly-graph-div\" style=\"height:600px; width:500px;\"></div>            <script type=\"text/javascript\">                require([\"plotly\"], function(Plotly) {                    window.PLOTLYENV=window.PLOTLYENV || {};                                    if (document.getElementById(\"308add81-6e85-4e90-8556-bb454ddf7ecf\")) {                    Plotly.newPlot(                        \"308add81-6e85-4e90-8556-bb454ddf7ecf\",                        [{\"coloraxis\":\"coloraxis\",\"name\":\"0\",\"texttemplate\":\"%{z}\",\"x\":[\"RainTomorrow\"],\"y\":[\"RainTomorrow\",\"MinTemp\",\"MaxTemp\",\"Rainfall\",\"WindGustDir\",\"WindGustSpeed\",\"WindDir9am\",\"WindDir3pm\",\"WindSpeed9am\",\"WindSpeed3pm\",\"Humidity9am\",\"Humidity3pm\",\"Pressure9am\",\"Pressure3pm\",\"Temp9am\",\"Temp3pm\",\"RainToday\",\"Months\",\"climate\"],\"z\":[[1.0],[0.08],[-0.16],[0.24],[0.05],[0.23],[0.02],[0.03],[0.09],[0.09],[0.26],[0.45],[-0.25],[-0.23],[-0.03],[-0.19],[0.31],[0.01],[0.09]],\"type\":\"heatmap\",\"xaxis\":\"x\",\"yaxis\":\"y\",\"hovertemplate\":\"x: %{x}\\u003cbr\\u003ey: %{y}\\u003cbr\\u003ecolor: %{z}\\u003cextra\\u003e\\u003c\\u002fextra\\u003e\"}],                        {\"template\":{\"data\":{\"histogram2dcontour\":[{\"type\":\"histogram2dcontour\",\"colorbar\":{\"outlinewidth\":0,\"ticks\":\"\"},\"colorscale\":[[0.0,\"#0d0887\"],[0.1111111111111111,\"#46039f\"],[0.2222222222222222,\"#7201a8\"],[0.3333333333333333,\"#9c179e\"],[0.4444444444444444,\"#bd3786\"],[0.5555555555555556,\"#d8576b\"],[0.6666666666666666,\"#ed7953\"],[0.7777777777777778,\"#fb9f3a\"],[0.8888888888888888,\"#fdca26\"],[1.0,\"#f0f921\"]]}],\"choropleth\":[{\"type\":\"choropleth\",\"colorbar\":{\"outlinewidth\":0,\"ticks\":\"\"}}],\"histogram2d\":[{\"type\":\"histogram2d\",\"colorbar\":{\"outlinewidth\":0,\"ticks\":\"\"},\"colorscale\":[[0.0,\"#0d0887\"],[0.1111111111111111,\"#46039f\"],[0.2222222222222222,\"#7201a8\"],[0.3333333333333333,\"#9c179e\"],[0.4444444444444444,\"#bd3786\"],[0.5555555555555556,\"#d8576b\"],[0.6666666666666666,\"#ed7953\"],[0.7777777777777778,\"#fb9f3a\"],[0.8888888888888888,\"#fdca26\"],[1.0,\"#f0f921\"]]}],\"heatmap\":[{\"type\":\"heatmap\",\"colorbar\":{\"outlinewidth\":0,\"ticks\":\"\"},\"colorscale\":[[0.0,\"#0d0887\"],[0.1111111111111111,\"#46039f\"],[0.2222222222222222,\"#7201a8\"],[0.3333333333333333,\"#9c179e\"],[0.4444444444444444,\"#bd3786\"],[0.5555555555555556,\"#d8576b\"],[0.6666666666666666,\"#ed7953\"],[0.7777777777777778,\"#fb9f3a\"],[0.8888888888888888,\"#fdca26\"],[1.0,\"#f0f921\"]]}],\"heatmapgl\":[{\"type\":\"heatmapgl\",\"colorbar\":{\"outlinewidth\":0,\"ticks\":\"\"},\"colorscale\":[[0.0,\"#0d0887\"],[0.1111111111111111,\"#46039f\"],[0.2222222222222222,\"#7201a8\"],[0.3333333333333333,\"#9c179e\"],[0.4444444444444444,\"#bd3786\"],[0.5555555555555556,\"#d8576b\"],[0.6666666666666666,\"#ed7953\"],[0.7777777777777778,\"#fb9f3a\"],[0.8888888888888888,\"#fdca26\"],[1.0,\"#f0f921\"]]}],\"contourcarpet\":[{\"type\":\"contourcarpet\",\"colorbar\":{\"outlinewidth\":0,\"ticks\":\"\"}}],\"contour\":[{\"type\":\"contour\",\"colorbar\":{\"outlinewidth\":0,\"ticks\":\"\"},\"colorscale\":[[0.0,\"#0d0887\"],[0.1111111111111111,\"#46039f\"],[0.2222222222222222,\"#7201a8\"],[0.3333333333333333,\"#9c179e\"],[0.4444444444444444,\"#bd3786\"],[0.5555555555555556,\"#d8576b\"],[0.6666666666666666,\"#ed7953\"],[0.7777777777777778,\"#fb9f3a\"],[0.8888888888888888,\"#fdca26\"],[1.0,\"#f0f921\"]]}],\"surface\":[{\"type\":\"surface\",\"colorbar\":{\"outlinewidth\":0,\"ticks\":\"\"},\"colorscale\":[[0.0,\"#0d0887\"],[0.1111111111111111,\"#46039f\"],[0.2222222222222222,\"#7201a8\"],[0.3333333333333333,\"#9c179e\"],[0.4444444444444444,\"#bd3786\"],[0.5555555555555556,\"#d8576b\"],[0.6666666666666666,\"#ed7953\"],[0.7777777777777778,\"#fb9f3a\"],[0.8888888888888888,\"#fdca26\"],[1.0,\"#f0f921\"]]}],\"mesh3d\":[{\"type\":\"mesh3d\",\"colorbar\":{\"outlinewidth\":0,\"ticks\":\"\"}}],\"scatter\":[{\"fillpattern\":{\"fillmode\":\"overlay\",\"size\":10,\"solidity\":0.2},\"type\":\"scatter\"}],\"parcoords\":[{\"type\":\"parcoords\",\"line\":{\"colorbar\":{\"outlinewidth\":0,\"ticks\":\"\"}}}],\"scatterpolargl\":[{\"type\":\"scatterpolargl\",\"marker\":{\"colorbar\":{\"outlinewidth\":0,\"ticks\":\"\"}}}],\"bar\":[{\"error_x\":{\"color\":\"#2a3f5f\"},\"error_y\":{\"color\":\"#2a3f5f\"},\"marker\":{\"line\":{\"color\":\"#E5ECF6\",\"width\":0.5},\"pattern\":{\"fillmode\":\"overlay\",\"size\":10,\"solidity\":0.2}},\"type\":\"bar\"}],\"scattergeo\":[{\"type\":\"scattergeo\",\"marker\":{\"colorbar\":{\"outlinewidth\":0,\"ticks\":\"\"}}}],\"scatterpolar\":[{\"type\":\"scatterpolar\",\"marker\":{\"colorbar\":{\"outlinewidth\":0,\"ticks\":\"\"}}}],\"histogram\":[{\"marker\":{\"pattern\":{\"fillmode\":\"overlay\",\"size\":10,\"solidity\":0.2}},\"type\":\"histogram\"}],\"scattergl\":[{\"type\":\"scattergl\",\"marker\":{\"colorbar\":{\"outlinewidth\":0,\"ticks\":\"\"}}}],\"scatter3d\":[{\"type\":\"scatter3d\",\"line\":{\"colorbar\":{\"outlinewidth\":0,\"ticks\":\"\"}},\"marker\":{\"colorbar\":{\"outlinewidth\":0,\"ticks\":\"\"}}}],\"scattermapbox\":[{\"type\":\"scattermapbox\",\"marker\":{\"colorbar\":{\"outlinewidth\":0,\"ticks\":\"\"}}}],\"scatterternary\":[{\"type\":\"scatterternary\",\"marker\":{\"colorbar\":{\"outlinewidth\":0,\"ticks\":\"\"}}}],\"scattercarpet\":[{\"type\":\"scattercarpet\",\"marker\":{\"colorbar\":{\"outlinewidth\":0,\"ticks\":\"\"}}}],\"carpet\":[{\"aaxis\":{\"endlinecolor\":\"#2a3f5f\",\"gridcolor\":\"white\",\"linecolor\":\"white\",\"minorgridcolor\":\"white\",\"startlinecolor\":\"#2a3f5f\"},\"baxis\":{\"endlinecolor\":\"#2a3f5f\",\"gridcolor\":\"white\",\"linecolor\":\"white\",\"minorgridcolor\":\"white\",\"startlinecolor\":\"#2a3f5f\"},\"type\":\"carpet\"}],\"table\":[{\"cells\":{\"fill\":{\"color\":\"#EBF0F8\"},\"line\":{\"color\":\"white\"}},\"header\":{\"fill\":{\"color\":\"#C8D4E3\"},\"line\":{\"color\":\"white\"}},\"type\":\"table\"}],\"barpolar\":[{\"marker\":{\"line\":{\"color\":\"#E5ECF6\",\"width\":0.5},\"pattern\":{\"fillmode\":\"overlay\",\"size\":10,\"solidity\":0.2}},\"type\":\"barpolar\"}],\"pie\":[{\"automargin\":true,\"type\":\"pie\"}]},\"layout\":{\"autotypenumbers\":\"strict\",\"colorway\":[\"#636efa\",\"#EF553B\",\"#00cc96\",\"#ab63fa\",\"#FFA15A\",\"#19d3f3\",\"#FF6692\",\"#B6E880\",\"#FF97FF\",\"#FECB52\"],\"font\":{\"color\":\"#2a3f5f\"},\"hovermode\":\"closest\",\"hoverlabel\":{\"align\":\"left\"},\"paper_bgcolor\":\"white\",\"plot_bgcolor\":\"#E5ECF6\",\"polar\":{\"bgcolor\":\"#E5ECF6\",\"angularaxis\":{\"gridcolor\":\"white\",\"linecolor\":\"white\",\"ticks\":\"\"},\"radialaxis\":{\"gridcolor\":\"white\",\"linecolor\":\"white\",\"ticks\":\"\"}},\"ternary\":{\"bgcolor\":\"#E5ECF6\",\"aaxis\":{\"gridcolor\":\"white\",\"linecolor\":\"white\",\"ticks\":\"\"},\"baxis\":{\"gridcolor\":\"white\",\"linecolor\":\"white\",\"ticks\":\"\"},\"caxis\":{\"gridcolor\":\"white\",\"linecolor\":\"white\",\"ticks\":\"\"}},\"coloraxis\":{\"colorbar\":{\"outlinewidth\":0,\"ticks\":\"\"}},\"colorscale\":{\"sequential\":[[0.0,\"#0d0887\"],[0.1111111111111111,\"#46039f\"],[0.2222222222222222,\"#7201a8\"],[0.3333333333333333,\"#9c179e\"],[0.4444444444444444,\"#bd3786\"],[0.5555555555555556,\"#d8576b\"],[0.6666666666666666,\"#ed7953\"],[0.7777777777777778,\"#fb9f3a\"],[0.8888888888888888,\"#fdca26\"],[1.0,\"#f0f921\"]],\"sequentialminus\":[[0.0,\"#0d0887\"],[0.1111111111111111,\"#46039f\"],[0.2222222222222222,\"#7201a8\"],[0.3333333333333333,\"#9c179e\"],[0.4444444444444444,\"#bd3786\"],[0.5555555555555556,\"#d8576b\"],[0.6666666666666666,\"#ed7953\"],[0.7777777777777778,\"#fb9f3a\"],[0.8888888888888888,\"#fdca26\"],[1.0,\"#f0f921\"]],\"diverging\":[[0,\"#8e0152\"],[0.1,\"#c51b7d\"],[0.2,\"#de77ae\"],[0.3,\"#f1b6da\"],[0.4,\"#fde0ef\"],[0.5,\"#f7f7f7\"],[0.6,\"#e6f5d0\"],[0.7,\"#b8e186\"],[0.8,\"#7fbc41\"],[0.9,\"#4d9221\"],[1,\"#276419\"]]},\"xaxis\":{\"gridcolor\":\"white\",\"linecolor\":\"white\",\"ticks\":\"\",\"title\":{\"standoff\":15},\"zerolinecolor\":\"white\",\"automargin\":true,\"zerolinewidth\":2},\"yaxis\":{\"gridcolor\":\"white\",\"linecolor\":\"white\",\"ticks\":\"\",\"title\":{\"standoff\":15},\"zerolinecolor\":\"white\",\"automargin\":true,\"zerolinewidth\":2},\"scene\":{\"xaxis\":{\"backgroundcolor\":\"#E5ECF6\",\"gridcolor\":\"white\",\"linecolor\":\"white\",\"showbackground\":true,\"ticks\":\"\",\"zerolinecolor\":\"white\",\"gridwidth\":2},\"yaxis\":{\"backgroundcolor\":\"#E5ECF6\",\"gridcolor\":\"white\",\"linecolor\":\"white\",\"showbackground\":true,\"ticks\":\"\",\"zerolinecolor\":\"white\",\"gridwidth\":2},\"zaxis\":{\"backgroundcolor\":\"#E5ECF6\",\"gridcolor\":\"white\",\"linecolor\":\"white\",\"showbackground\":true,\"ticks\":\"\",\"zerolinecolor\":\"white\",\"gridwidth\":2}},\"shapedefaults\":{\"line\":{\"color\":\"#2a3f5f\"}},\"annotationdefaults\":{\"arrowcolor\":\"#2a3f5f\",\"arrowhead\":0,\"arrowwidth\":1},\"geo\":{\"bgcolor\":\"white\",\"landcolor\":\"#E5ECF6\",\"subunitcolor\":\"white\",\"showland\":true,\"showlakes\":true,\"lakecolor\":\"white\"},\"title\":{\"x\":0.05},\"mapbox\":{\"style\":\"light\"}}},\"xaxis\":{\"anchor\":\"y\",\"domain\":[0.0,1.0]},\"yaxis\":{\"anchor\":\"x\",\"domain\":[0.0,1.0],\"autorange\":\"reversed\"},\"coloraxis\":{\"colorscale\":[[0.0,\"rgb(103,0,31)\"],[0.1,\"rgb(178,24,43)\"],[0.2,\"rgb(214,96,77)\"],[0.3,\"rgb(244,165,130)\"],[0.4,\"rgb(253,219,199)\"],[0.5,\"rgb(247,247,247)\"],[0.6,\"rgb(209,229,240)\"],[0.7,\"rgb(146,197,222)\"],[0.8,\"rgb(67,147,195)\"],[0.9,\"rgb(33,102,172)\"],[1.0,\"rgb(5,48,97)\"]]},\"title\":{\"text\":\"Heatmap tout encoder avec drop des colonnes : Sunshine, Evaporation, Cloud9am, Cloud3pm\"},\"height\":600,\"width\":500},                        {\"responsive\": true}                    ).then(function(){\n",
       "                            \n",
       "var gd = document.getElementById('308add81-6e85-4e90-8556-bb454ddf7ecf');\n",
       "var x = new MutationObserver(function (mutations, observer) {{\n",
       "        var display = window.getComputedStyle(gd).display;\n",
       "        if (!display || display === 'none') {{\n",
       "            console.log([gd, 'removed!']);\n",
       "            Plotly.purge(gd);\n",
       "            observer.disconnect();\n",
       "        }}\n",
       "}});\n",
       "\n",
       "// Listen for the removal of the full notebook cells\n",
       "var notebookContainer = gd.closest('#notebook-container');\n",
       "if (notebookContainer) {{\n",
       "    x.observe(notebookContainer, {childList: true});\n",
       "}}\n",
       "\n",
       "// Listen for the clearing of the current output cell\n",
       "var outputEl = gd.closest('.output');\n",
       "if (outputEl) {{\n",
       "    x.observe(outputEl, {childList: true});\n",
       "}}\n",
       "\n",
       "                        })                };                });            </script>        </div>"
      ]
     },
     "metadata": {},
     "output_type": "display_data"
    }
   ],
   "source": [
    "fig_drop_col = px.imshow(df_drop_col.corr().round(2)['RainTomorrow'].to_frame(), text_auto = True, aspect = 'auto', color_continuous_scale='RdBu',\n",
    "                         title = 'Heatmap tout encoder avec drop des colonnes : Sunshine, Evaporation, Cloud9am, Cloud3pm',\n",
    "                         width = 500,\n",
    "                         height = 600)\n",
    "fig_drop_col.show()"
   ]
  },
  {
   "cell_type": "code",
   "execution_count": 112,
   "metadata": {},
   "outputs": [
    {
     "data": {
      "application/vnd.plotly.v1+json": {
       "config": {
        "plotlyServerURL": "https://plot.ly"
       },
       "data": [
        {
         "coloraxis": "coloraxis",
         "hovertemplate": "x: %{x}<br>y: %{y}<br>color: %{z}<extra></extra>",
         "name": "0",
         "texttemplate": "%{z}",
         "type": "heatmap",
         "x": [
          "RainTomorrow",
          "MinTemp",
          "MaxTemp",
          "Rainfall",
          "WindGustDir",
          "WindGustSpeed",
          "WindDir9am",
          "WindDir3pm",
          "WindSpeed9am",
          "WindSpeed3pm",
          "Humidity9am",
          "Humidity3pm",
          "Pressure9am",
          "Pressure3pm",
          "Temp9am",
          "Temp3pm",
          "RainToday",
          "Months",
          "climate"
         ],
         "xaxis": "x",
         "y": [
          "RainTomorrow",
          "MinTemp",
          "MaxTemp",
          "Rainfall",
          "WindGustDir",
          "WindGustSpeed",
          "WindDir9am",
          "WindDir3pm",
          "WindSpeed9am",
          "WindSpeed3pm",
          "Humidity9am",
          "Humidity3pm",
          "Pressure9am",
          "Pressure3pm",
          "Temp9am",
          "Temp3pm",
          "RainToday",
          "Months",
          "climate"
         ],
         "yaxis": "y",
         "z": [
          [
           1,
           0.08801933624469639,
           -0.16025739946813042,
           0.23783278181599282,
           0.05002631563193868,
           0.23600115541124533,
           0.01446095054870929,
           0.025450691036122627,
           0.09509978662045494,
           0.09383153460770645,
           0.2613785065549964,
           0.4526451373755603,
           -0.24645663245600347,
           -0.2281558920642846,
           -0.023737639081821492,
           -0.19505959735677372,
           0.31371778725462546,
           0.007922163043203142,
           0.0960504098702356
          ],
          [
           0.08801933624469639,
           1,
           0.7308467896252607,
           0.11105556832439559,
           -0.15375090320665774,
           0.1962705493818516,
           -0.12822928909140854,
           -0.16275595460623,
           0.20215055116281894,
           0.17492403184188535,
           -0.24619848493176472,
           0.022010383906732565,
           -0.45225929920856106,
           -0.4629183991747936,
           0.9030631470185919,
           0.7056636828616176,
           0.05970490531183075,
           -0.20449957481975606,
           0.0395159645944352
          ],
          [
           -0.16025739946813042,
           0.7308467896252607,
           1,
           -0.069919344101804,
           -0.2139388886780173,
           0.0889598833423957,
           -0.25677030272914864,
           -0.1764796684064474,
           0.031689005610535836,
           0.043565516620182626,
           -0.5240889892801298,
           -0.4987253484387088,
           -0.3294949704875041,
           -0.42323522459325547,
           0.8828465583899251,
           0.9846638513224081,
           -0.23052606476859408,
           -0.17183378326061113,
           -0.10940116571947434
          ],
          [
           0.23783278181599282,
           0.11105556832439559,
           -0.069919344101804,
           1,
           0.04392425278797009,
           0.13218074700712398,
           0.06473161937619988,
           0.044620288296641906,
           0.08875466036774875,
           0.06222157545092669,
           0.22536897729216285,
           0.25647474554098526,
           -0.17004812183591597,
           -0.1298402054391171,
           0.016858801273078317,
           -0.07397647405708874,
           0.49826040194869003,
           -0.033074527666260053,
           0.06813870927487448
          ],
          [
           0.05002631563193868,
           -0.15375090320665774,
           -0.2139388886780173,
           0.04392425278797009,
           1,
           0.1333997497456505,
           0.3550999589964281,
           0.5937066443131276,
           0.02542821962456856,
           0.10003720498829302,
           0.06414787827843763,
           0.046487248480187676,
           -0.1391649511635483,
           -0.044068756587938115,
           -0.1893297480909672,
           -0.22977571725475604,
           0.13481420969157099,
           0.04345687776854818,
           -0.0077383693357693396
          ],
          [
           0.23600115541124533,
           0.1962705493818516,
           0.0889598833423957,
           0.13218074700712398,
           0.1333997497456505,
           1,
           -0.05700792586941119,
           0.11966686310333095,
           0.6016071088524799,
           0.6891962612760189,
           -0.21981239829720237,
           -0.03546503386808475,
           -0.458367954366771,
           -0.4142853889231315,
           0.16659038244160915,
           0.04953709419958988,
           0.15605941922644267,
           0.05634164602841943,
           0.005581325867748552
          ],
          [
           0.01446095054870929,
           -0.12822928909140854,
           -0.25677030272914864,
           0.06473161937619988,
           0.3550999589964281,
           -0.05700792586941119,
           1,
           0.27047560284638145,
           -0.14573388047719882,
           -0.0006001032234457715,
           0.20819677246772467,
           0.16750855440236687,
           0.0275743448710979,
           0.10821200408383985,
           -0.20627051024608348,
           -0.2567949714169888,
           0.14022530864768815,
           -0.004145505749677174,
           0.10903545079967336
          ],
          [
           0.025450691036122627,
           -0.16275595460623,
           -0.1764796684064474,
           0.044620288296641906,
           0.5937066443131276,
           0.11966686310333095,
           0.27047560284638145,
           1,
           0.03572580424481582,
           0.07283028133577811,
           0.0323525760263631,
           -0.012667028306350123,
           -0.13460485426411425,
           -0.03587718088483836,
           -0.17750176851125735,
           -0.18986779682874416,
           0.12244622570798483,
           0.031150039499570306,
           -0.0463636279746584
          ],
          [
           0.09509978662045494,
           0.20215055116281894,
           0.031689005610535836,
           0.08875466036774875,
           0.02542821962456856,
           0.6016071088524799,
           -0.14573388047719882,
           0.03572580424481582,
           1,
           0.5140952681205336,
           -0.26931334772806786,
           -0.029132738178589346,
           -0.23034888512811574,
           -0.1795863636231255,
           0.14665536008715976,
           0.015774549924911105,
           0.10450754398833803,
           0.0533051076979512,
           -0.08769258303497203
          ],
          [
           0.09383153460770645,
           0.17492403184188535,
           0.043565516620182626,
           0.06222157545092669,
           0.10003720498829302,
           0.6891962612760189,
           -0.0006001032234457715,
           0.07283028133577811,
           0.5140952681205336,
           1,
           -0.13253895446077485,
           0.032595470462860064,
           -0.3001032215849781,
           -0.26117111489738387,
           0.1607868892899204,
           0.017174610683278888,
           0.08855762029199085,
           0.061806349642940586,
           0.07511349664979183
          ],
          [
           0.2613785065549964,
           -0.24619848493176472,
           -0.5240889892801298,
           0.22536897729216285,
           0.06414787827843763,
           -0.21981239829720237,
           0.20819677246772467,
           0.0323525760263631,
           -0.26931334772806786,
           -0.13253895446077485,
           1,
           0.675197057312311,
           0.14199213196145086,
           0.1895122994867948,
           -0.48369925543354375,
           -0.5158586242762205,
           0.35777385315156596,
           -0.08633112039687878,
           0.3042695612108662
          ],
          [
           0.4526451373755603,
           0.022010383906732565,
           -0.4987253484387088,
           0.25647474554098526,
           0.046487248480187676,
           -0.03546503386808475,
           0.16750855440236687,
           -0.012667028306350123,
           -0.029132738178589346,
           0.032595470462860064,
           0.675197057312311,
           1,
           -0.0275301030180844,
           0.051399017546702334,
           -0.20384313489598255,
           -0.5477311092768299,
           0.38230093352841726,
           -0.013663778351431215,
           0.3227070138261744
          ],
          [
           -0.24645663245600347,
           -0.45225929920856106,
           -0.3294949704875041,
           -0.17004812183591597,
           -0.1391649511635483,
           -0.458367954366771,
           0.0275743448710979,
           -0.13460485426411425,
           -0.23034888512811574,
           -0.3001032215849781,
           0.14199213196145086,
           -0.0275301030180844,
           1,
           0.9616365245209764,
           -0.42093423941082825,
           -0.28746577835593157,
           -0.1927962878163178,
           0.03904094340395291,
           -0.07704227027544266
          ],
          [
           -0.2281558920642846,
           -0.4629183991747936,
           -0.42323522459325547,
           -0.1298402054391171,
           -0.044068756587938115,
           -0.4142853889231315,
           0.10821200408383985,
           -0.03587718088483836,
           -0.1795863636231255,
           -0.26117111489738387,
           0.1895122994867948,
           0.051399017546702334,
           0.9616365245209764,
           1,
           -0.46811965142925566,
           -0.390238896965266,
           -0.11097269057594018,
           0.02946084409483971,
           -0.05869058230232018
          ],
          [
           -0.023737639081821492,
           0.9030631470185919,
           0.8828465583899251,
           0.016858801273078317,
           -0.1893297480909672,
           0.16659038244160915,
           -0.20627051024608348,
           -0.17750176851125735,
           0.14665536008715976,
           0.1607868892899204,
           -0.48369925543354375,
           -0.20384313489598255,
           -0.42093423941082825,
           -0.46811965142925566,
           1,
           0.8575426713258049,
           -0.09536775713136575,
           -0.13692874803678368,
           -0.023725436031428394
          ],
          [
           -0.19505959735677372,
           0.7056636828616176,
           0.9846638513224081,
           -0.07397647405708874,
           -0.22977571725475604,
           0.04953709419958988,
           -0.2567949714169888,
           -0.18986779682874416,
           0.015774549924911105,
           0.017174610683278888,
           -0.5158586242762205,
           -0.5477311092768299,
           -0.28746577835593157,
           -0.390238896965266,
           0.8575426713258049,
           1,
           -0.23702932478671243,
           -0.18025063235919003,
           -0.1174813185407928
          ],
          [
           0.31371778725462546,
           0.05970490531183075,
           -0.23052606476859408,
           0.49826040194869003,
           0.13481420969157099,
           0.15605941922644267,
           0.14022530864768815,
           0.12244622570798483,
           0.10450754398833803,
           0.08855762029199085,
           0.35777385315156596,
           0.38230093352841726,
           -0.1927962878163178,
           -0.11097269057594018,
           -0.09536775713136575,
           -0.23702932478671243,
           1,
           0.00954243918939256,
           0.09648681431568934
          ],
          [
           0.007922163043203142,
           -0.20449957481975606,
           -0.17183378326061113,
           -0.033074527666260053,
           0.04345687776854818,
           0.05634164602841943,
           -0.004145505749677174,
           0.031150039499570306,
           0.0533051076979512,
           0.061806349642940586,
           -0.08633112039687878,
           -0.013663778351431215,
           0.03904094340395291,
           0.02946084409483971,
           -0.13692874803678368,
           -0.18025063235919003,
           0.00954243918939256,
           1,
           0.0037578158759923163
          ],
          [
           0.0960504098702356,
           0.0395159645944352,
           -0.10940116571947434,
           0.06813870927487448,
           -0.0077383693357693396,
           0.005581325867748552,
           0.10903545079967336,
           -0.0463636279746584,
           -0.08769258303497203,
           0.07511349664979183,
           0.3042695612108662,
           0.3227070138261744,
           -0.07704227027544266,
           -0.05869058230232018,
           -0.023725436031428394,
           -0.1174813185407928,
           0.09648681431568934,
           0.0037578158759923163,
           1
          ]
         ]
        }
       ],
       "layout": {
        "coloraxis": {
         "colorscale": [
          [
           0,
           "rgb(103,0,31)"
          ],
          [
           0.1,
           "rgb(178,24,43)"
          ],
          [
           0.2,
           "rgb(214,96,77)"
          ],
          [
           0.3,
           "rgb(244,165,130)"
          ],
          [
           0.4,
           "rgb(253,219,199)"
          ],
          [
           0.5,
           "rgb(247,247,247)"
          ],
          [
           0.6,
           "rgb(209,229,240)"
          ],
          [
           0.7,
           "rgb(146,197,222)"
          ],
          [
           0.8,
           "rgb(67,147,195)"
          ],
          [
           0.9,
           "rgb(33,102,172)"
          ],
          [
           1,
           "rgb(5,48,97)"
          ]
         ]
        },
        "template": {
         "data": {
          "bar": [
           {
            "error_x": {
             "color": "#2a3f5f"
            },
            "error_y": {
             "color": "#2a3f5f"
            },
            "marker": {
             "line": {
              "color": "#E5ECF6",
              "width": 0.5
             },
             "pattern": {
              "fillmode": "overlay",
              "size": 10,
              "solidity": 0.2
             }
            },
            "type": "bar"
           }
          ],
          "barpolar": [
           {
            "marker": {
             "line": {
              "color": "#E5ECF6",
              "width": 0.5
             },
             "pattern": {
              "fillmode": "overlay",
              "size": 10,
              "solidity": 0.2
             }
            },
            "type": "barpolar"
           }
          ],
          "carpet": [
           {
            "aaxis": {
             "endlinecolor": "#2a3f5f",
             "gridcolor": "white",
             "linecolor": "white",
             "minorgridcolor": "white",
             "startlinecolor": "#2a3f5f"
            },
            "baxis": {
             "endlinecolor": "#2a3f5f",
             "gridcolor": "white",
             "linecolor": "white",
             "minorgridcolor": "white",
             "startlinecolor": "#2a3f5f"
            },
            "type": "carpet"
           }
          ],
          "choropleth": [
           {
            "colorbar": {
             "outlinewidth": 0,
             "ticks": ""
            },
            "type": "choropleth"
           }
          ],
          "contour": [
           {
            "colorbar": {
             "outlinewidth": 0,
             "ticks": ""
            },
            "colorscale": [
             [
              0,
              "#0d0887"
             ],
             [
              0.1111111111111111,
              "#46039f"
             ],
             [
              0.2222222222222222,
              "#7201a8"
             ],
             [
              0.3333333333333333,
              "#9c179e"
             ],
             [
              0.4444444444444444,
              "#bd3786"
             ],
             [
              0.5555555555555556,
              "#d8576b"
             ],
             [
              0.6666666666666666,
              "#ed7953"
             ],
             [
              0.7777777777777778,
              "#fb9f3a"
             ],
             [
              0.8888888888888888,
              "#fdca26"
             ],
             [
              1,
              "#f0f921"
             ]
            ],
            "type": "contour"
           }
          ],
          "contourcarpet": [
           {
            "colorbar": {
             "outlinewidth": 0,
             "ticks": ""
            },
            "type": "contourcarpet"
           }
          ],
          "heatmap": [
           {
            "colorbar": {
             "outlinewidth": 0,
             "ticks": ""
            },
            "colorscale": [
             [
              0,
              "#0d0887"
             ],
             [
              0.1111111111111111,
              "#46039f"
             ],
             [
              0.2222222222222222,
              "#7201a8"
             ],
             [
              0.3333333333333333,
              "#9c179e"
             ],
             [
              0.4444444444444444,
              "#bd3786"
             ],
             [
              0.5555555555555556,
              "#d8576b"
             ],
             [
              0.6666666666666666,
              "#ed7953"
             ],
             [
              0.7777777777777778,
              "#fb9f3a"
             ],
             [
              0.8888888888888888,
              "#fdca26"
             ],
             [
              1,
              "#f0f921"
             ]
            ],
            "type": "heatmap"
           }
          ],
          "heatmapgl": [
           {
            "colorbar": {
             "outlinewidth": 0,
             "ticks": ""
            },
            "colorscale": [
             [
              0,
              "#0d0887"
             ],
             [
              0.1111111111111111,
              "#46039f"
             ],
             [
              0.2222222222222222,
              "#7201a8"
             ],
             [
              0.3333333333333333,
              "#9c179e"
             ],
             [
              0.4444444444444444,
              "#bd3786"
             ],
             [
              0.5555555555555556,
              "#d8576b"
             ],
             [
              0.6666666666666666,
              "#ed7953"
             ],
             [
              0.7777777777777778,
              "#fb9f3a"
             ],
             [
              0.8888888888888888,
              "#fdca26"
             ],
             [
              1,
              "#f0f921"
             ]
            ],
            "type": "heatmapgl"
           }
          ],
          "histogram": [
           {
            "marker": {
             "pattern": {
              "fillmode": "overlay",
              "size": 10,
              "solidity": 0.2
             }
            },
            "type": "histogram"
           }
          ],
          "histogram2d": [
           {
            "colorbar": {
             "outlinewidth": 0,
             "ticks": ""
            },
            "colorscale": [
             [
              0,
              "#0d0887"
             ],
             [
              0.1111111111111111,
              "#46039f"
             ],
             [
              0.2222222222222222,
              "#7201a8"
             ],
             [
              0.3333333333333333,
              "#9c179e"
             ],
             [
              0.4444444444444444,
              "#bd3786"
             ],
             [
              0.5555555555555556,
              "#d8576b"
             ],
             [
              0.6666666666666666,
              "#ed7953"
             ],
             [
              0.7777777777777778,
              "#fb9f3a"
             ],
             [
              0.8888888888888888,
              "#fdca26"
             ],
             [
              1,
              "#f0f921"
             ]
            ],
            "type": "histogram2d"
           }
          ],
          "histogram2dcontour": [
           {
            "colorbar": {
             "outlinewidth": 0,
             "ticks": ""
            },
            "colorscale": [
             [
              0,
              "#0d0887"
             ],
             [
              0.1111111111111111,
              "#46039f"
             ],
             [
              0.2222222222222222,
              "#7201a8"
             ],
             [
              0.3333333333333333,
              "#9c179e"
             ],
             [
              0.4444444444444444,
              "#bd3786"
             ],
             [
              0.5555555555555556,
              "#d8576b"
             ],
             [
              0.6666666666666666,
              "#ed7953"
             ],
             [
              0.7777777777777778,
              "#fb9f3a"
             ],
             [
              0.8888888888888888,
              "#fdca26"
             ],
             [
              1,
              "#f0f921"
             ]
            ],
            "type": "histogram2dcontour"
           }
          ],
          "mesh3d": [
           {
            "colorbar": {
             "outlinewidth": 0,
             "ticks": ""
            },
            "type": "mesh3d"
           }
          ],
          "parcoords": [
           {
            "line": {
             "colorbar": {
              "outlinewidth": 0,
              "ticks": ""
             }
            },
            "type": "parcoords"
           }
          ],
          "pie": [
           {
            "automargin": true,
            "type": "pie"
           }
          ],
          "scatter": [
           {
            "fillpattern": {
             "fillmode": "overlay",
             "size": 10,
             "solidity": 0.2
            },
            "type": "scatter"
           }
          ],
          "scatter3d": [
           {
            "line": {
             "colorbar": {
              "outlinewidth": 0,
              "ticks": ""
             }
            },
            "marker": {
             "colorbar": {
              "outlinewidth": 0,
              "ticks": ""
             }
            },
            "type": "scatter3d"
           }
          ],
          "scattercarpet": [
           {
            "marker": {
             "colorbar": {
              "outlinewidth": 0,
              "ticks": ""
             }
            },
            "type": "scattercarpet"
           }
          ],
          "scattergeo": [
           {
            "marker": {
             "colorbar": {
              "outlinewidth": 0,
              "ticks": ""
             }
            },
            "type": "scattergeo"
           }
          ],
          "scattergl": [
           {
            "marker": {
             "colorbar": {
              "outlinewidth": 0,
              "ticks": ""
             }
            },
            "type": "scattergl"
           }
          ],
          "scattermapbox": [
           {
            "marker": {
             "colorbar": {
              "outlinewidth": 0,
              "ticks": ""
             }
            },
            "type": "scattermapbox"
           }
          ],
          "scatterpolar": [
           {
            "marker": {
             "colorbar": {
              "outlinewidth": 0,
              "ticks": ""
             }
            },
            "type": "scatterpolar"
           }
          ],
          "scatterpolargl": [
           {
            "marker": {
             "colorbar": {
              "outlinewidth": 0,
              "ticks": ""
             }
            },
            "type": "scatterpolargl"
           }
          ],
          "scatterternary": [
           {
            "marker": {
             "colorbar": {
              "outlinewidth": 0,
              "ticks": ""
             }
            },
            "type": "scatterternary"
           }
          ],
          "surface": [
           {
            "colorbar": {
             "outlinewidth": 0,
             "ticks": ""
            },
            "colorscale": [
             [
              0,
              "#0d0887"
             ],
             [
              0.1111111111111111,
              "#46039f"
             ],
             [
              0.2222222222222222,
              "#7201a8"
             ],
             [
              0.3333333333333333,
              "#9c179e"
             ],
             [
              0.4444444444444444,
              "#bd3786"
             ],
             [
              0.5555555555555556,
              "#d8576b"
             ],
             [
              0.6666666666666666,
              "#ed7953"
             ],
             [
              0.7777777777777778,
              "#fb9f3a"
             ],
             [
              0.8888888888888888,
              "#fdca26"
             ],
             [
              1,
              "#f0f921"
             ]
            ],
            "type": "surface"
           }
          ],
          "table": [
           {
            "cells": {
             "fill": {
              "color": "#EBF0F8"
             },
             "line": {
              "color": "white"
             }
            },
            "header": {
             "fill": {
              "color": "#C8D4E3"
             },
             "line": {
              "color": "white"
             }
            },
            "type": "table"
           }
          ]
         },
         "layout": {
          "annotationdefaults": {
           "arrowcolor": "#2a3f5f",
           "arrowhead": 0,
           "arrowwidth": 1
          },
          "autotypenumbers": "strict",
          "coloraxis": {
           "colorbar": {
            "outlinewidth": 0,
            "ticks": ""
           }
          },
          "colorscale": {
           "diverging": [
            [
             0,
             "#8e0152"
            ],
            [
             0.1,
             "#c51b7d"
            ],
            [
             0.2,
             "#de77ae"
            ],
            [
             0.3,
             "#f1b6da"
            ],
            [
             0.4,
             "#fde0ef"
            ],
            [
             0.5,
             "#f7f7f7"
            ],
            [
             0.6,
             "#e6f5d0"
            ],
            [
             0.7,
             "#b8e186"
            ],
            [
             0.8,
             "#7fbc41"
            ],
            [
             0.9,
             "#4d9221"
            ],
            [
             1,
             "#276419"
            ]
           ],
           "sequential": [
            [
             0,
             "#0d0887"
            ],
            [
             0.1111111111111111,
             "#46039f"
            ],
            [
             0.2222222222222222,
             "#7201a8"
            ],
            [
             0.3333333333333333,
             "#9c179e"
            ],
            [
             0.4444444444444444,
             "#bd3786"
            ],
            [
             0.5555555555555556,
             "#d8576b"
            ],
            [
             0.6666666666666666,
             "#ed7953"
            ],
            [
             0.7777777777777778,
             "#fb9f3a"
            ],
            [
             0.8888888888888888,
             "#fdca26"
            ],
            [
             1,
             "#f0f921"
            ]
           ],
           "sequentialminus": [
            [
             0,
             "#0d0887"
            ],
            [
             0.1111111111111111,
             "#46039f"
            ],
            [
             0.2222222222222222,
             "#7201a8"
            ],
            [
             0.3333333333333333,
             "#9c179e"
            ],
            [
             0.4444444444444444,
             "#bd3786"
            ],
            [
             0.5555555555555556,
             "#d8576b"
            ],
            [
             0.6666666666666666,
             "#ed7953"
            ],
            [
             0.7777777777777778,
             "#fb9f3a"
            ],
            [
             0.8888888888888888,
             "#fdca26"
            ],
            [
             1,
             "#f0f921"
            ]
           ]
          },
          "colorway": [
           "#636efa",
           "#EF553B",
           "#00cc96",
           "#ab63fa",
           "#FFA15A",
           "#19d3f3",
           "#FF6692",
           "#B6E880",
           "#FF97FF",
           "#FECB52"
          ],
          "font": {
           "color": "#2a3f5f"
          },
          "geo": {
           "bgcolor": "white",
           "lakecolor": "white",
           "landcolor": "#E5ECF6",
           "showlakes": true,
           "showland": true,
           "subunitcolor": "white"
          },
          "hoverlabel": {
           "align": "left"
          },
          "hovermode": "closest",
          "mapbox": {
           "style": "light"
          },
          "paper_bgcolor": "white",
          "plot_bgcolor": "#E5ECF6",
          "polar": {
           "angularaxis": {
            "gridcolor": "white",
            "linecolor": "white",
            "ticks": ""
           },
           "bgcolor": "#E5ECF6",
           "radialaxis": {
            "gridcolor": "white",
            "linecolor": "white",
            "ticks": ""
           }
          },
          "scene": {
           "xaxis": {
            "backgroundcolor": "#E5ECF6",
            "gridcolor": "white",
            "gridwidth": 2,
            "linecolor": "white",
            "showbackground": true,
            "ticks": "",
            "zerolinecolor": "white"
           },
           "yaxis": {
            "backgroundcolor": "#E5ECF6",
            "gridcolor": "white",
            "gridwidth": 2,
            "linecolor": "white",
            "showbackground": true,
            "ticks": "",
            "zerolinecolor": "white"
           },
           "zaxis": {
            "backgroundcolor": "#E5ECF6",
            "gridcolor": "white",
            "gridwidth": 2,
            "linecolor": "white",
            "showbackground": true,
            "ticks": "",
            "zerolinecolor": "white"
           }
          },
          "shapedefaults": {
           "line": {
            "color": "#2a3f5f"
           }
          },
          "ternary": {
           "aaxis": {
            "gridcolor": "white",
            "linecolor": "white",
            "ticks": ""
           },
           "baxis": {
            "gridcolor": "white",
            "linecolor": "white",
            "ticks": ""
           },
           "bgcolor": "#E5ECF6",
           "caxis": {
            "gridcolor": "white",
            "linecolor": "white",
            "ticks": ""
           }
          },
          "title": {
           "x": 0.05
          },
          "xaxis": {
           "automargin": true,
           "gridcolor": "white",
           "linecolor": "white",
           "ticks": "",
           "title": {
            "standoff": 15
           },
           "zerolinecolor": "white",
           "zerolinewidth": 2
          },
          "yaxis": {
           "automargin": true,
           "gridcolor": "white",
           "linecolor": "white",
           "ticks": "",
           "title": {
            "standoff": 15
           },
           "zerolinecolor": "white",
           "zerolinewidth": 2
          }
         }
        },
        "title": {
         "text": "Heatmap, tout encoder, drop col, et dropna sauvage"
        },
        "xaxis": {
         "anchor": "y",
         "domain": [
          0,
          1
         ]
        },
        "yaxis": {
         "anchor": "x",
         "autorange": "reversed",
         "domain": [
          0,
          1
         ]
        }
       }
      },
      "text/html": [
       "<div>                            <div id=\"ca0104d0-2e6d-43f4-b52a-932df508d7f3\" class=\"plotly-graph-div\" style=\"height:525px; width:100%;\"></div>            <script type=\"text/javascript\">                require([\"plotly\"], function(Plotly) {                    window.PLOTLYENV=window.PLOTLYENV || {};                                    if (document.getElementById(\"ca0104d0-2e6d-43f4-b52a-932df508d7f3\")) {                    Plotly.newPlot(                        \"ca0104d0-2e6d-43f4-b52a-932df508d7f3\",                        [{\"coloraxis\":\"coloraxis\",\"name\":\"0\",\"texttemplate\":\"%{z}\",\"x\":[\"RainTomorrow\",\"MinTemp\",\"MaxTemp\",\"Rainfall\",\"WindGustDir\",\"WindGustSpeed\",\"WindDir9am\",\"WindDir3pm\",\"WindSpeed9am\",\"WindSpeed3pm\",\"Humidity9am\",\"Humidity3pm\",\"Pressure9am\",\"Pressure3pm\",\"Temp9am\",\"Temp3pm\",\"RainToday\",\"Months\",\"climate\"],\"y\":[\"RainTomorrow\",\"MinTemp\",\"MaxTemp\",\"Rainfall\",\"WindGustDir\",\"WindGustSpeed\",\"WindDir9am\",\"WindDir3pm\",\"WindSpeed9am\",\"WindSpeed3pm\",\"Humidity9am\",\"Humidity3pm\",\"Pressure9am\",\"Pressure3pm\",\"Temp9am\",\"Temp3pm\",\"RainToday\",\"Months\",\"climate\"],\"z\":[[1.0,0.08801933624469639,-0.16025739946813042,0.23783278181599282,0.05002631563193868,0.23600115541124533,0.01446095054870929,0.025450691036122627,0.09509978662045494,0.09383153460770645,0.2613785065549964,0.4526451373755603,-0.24645663245600347,-0.2281558920642846,-0.023737639081821492,-0.19505959735677372,0.31371778725462546,0.007922163043203142,0.0960504098702356],[0.08801933624469639,1.0,0.7308467896252607,0.11105556832439559,-0.15375090320665774,0.1962705493818516,-0.12822928909140854,-0.16275595460623,0.20215055116281894,0.17492403184188535,-0.24619848493176472,0.022010383906732565,-0.45225929920856106,-0.4629183991747936,0.9030631470185919,0.7056636828616176,0.05970490531183075,-0.20449957481975606,0.0395159645944352],[-0.16025739946813042,0.7308467896252607,1.0,-0.069919344101804,-0.2139388886780173,0.0889598833423957,-0.25677030272914864,-0.1764796684064474,0.031689005610535836,0.043565516620182626,-0.5240889892801298,-0.4987253484387088,-0.3294949704875041,-0.42323522459325547,0.8828465583899251,0.9846638513224081,-0.23052606476859408,-0.17183378326061113,-0.10940116571947434],[0.23783278181599282,0.11105556832439559,-0.069919344101804,1.0,0.04392425278797009,0.13218074700712398,0.06473161937619988,0.044620288296641906,0.08875466036774875,0.06222157545092669,0.22536897729216285,0.25647474554098526,-0.17004812183591597,-0.1298402054391171,0.016858801273078317,-0.07397647405708874,0.49826040194869003,-0.033074527666260053,0.06813870927487448],[0.05002631563193868,-0.15375090320665774,-0.2139388886780173,0.04392425278797009,1.0,0.1333997497456505,0.3550999589964281,0.5937066443131276,0.02542821962456856,0.10003720498829302,0.06414787827843763,0.046487248480187676,-0.1391649511635483,-0.044068756587938115,-0.1893297480909672,-0.22977571725475604,0.13481420969157099,0.04345687776854818,-0.0077383693357693396],[0.23600115541124533,0.1962705493818516,0.0889598833423957,0.13218074700712398,0.1333997497456505,1.0,-0.05700792586941119,0.11966686310333095,0.6016071088524799,0.6891962612760189,-0.21981239829720237,-0.03546503386808475,-0.458367954366771,-0.4142853889231315,0.16659038244160915,0.04953709419958988,0.15605941922644267,0.05634164602841943,0.005581325867748552],[0.01446095054870929,-0.12822928909140854,-0.25677030272914864,0.06473161937619988,0.3550999589964281,-0.05700792586941119,1.0,0.27047560284638145,-0.14573388047719882,-0.0006001032234457715,0.20819677246772467,0.16750855440236687,0.0275743448710979,0.10821200408383985,-0.20627051024608348,-0.2567949714169888,0.14022530864768815,-0.004145505749677174,0.10903545079967336],[0.025450691036122627,-0.16275595460623,-0.1764796684064474,0.044620288296641906,0.5937066443131276,0.11966686310333095,0.27047560284638145,1.0,0.03572580424481582,0.07283028133577811,0.0323525760263631,-0.012667028306350123,-0.13460485426411425,-0.03587718088483836,-0.17750176851125735,-0.18986779682874416,0.12244622570798483,0.031150039499570306,-0.0463636279746584],[0.09509978662045494,0.20215055116281894,0.031689005610535836,0.08875466036774875,0.02542821962456856,0.6016071088524799,-0.14573388047719882,0.03572580424481582,1.0,0.5140952681205336,-0.26931334772806786,-0.029132738178589346,-0.23034888512811574,-0.1795863636231255,0.14665536008715976,0.015774549924911105,0.10450754398833803,0.0533051076979512,-0.08769258303497203],[0.09383153460770645,0.17492403184188535,0.043565516620182626,0.06222157545092669,0.10003720498829302,0.6891962612760189,-0.0006001032234457715,0.07283028133577811,0.5140952681205336,1.0,-0.13253895446077485,0.032595470462860064,-0.3001032215849781,-0.26117111489738387,0.1607868892899204,0.017174610683278888,0.08855762029199085,0.061806349642940586,0.07511349664979183],[0.2613785065549964,-0.24619848493176472,-0.5240889892801298,0.22536897729216285,0.06414787827843763,-0.21981239829720237,0.20819677246772467,0.0323525760263631,-0.26931334772806786,-0.13253895446077485,1.0,0.675197057312311,0.14199213196145086,0.1895122994867948,-0.48369925543354375,-0.5158586242762205,0.35777385315156596,-0.08633112039687878,0.3042695612108662],[0.4526451373755603,0.022010383906732565,-0.4987253484387088,0.25647474554098526,0.046487248480187676,-0.03546503386808475,0.16750855440236687,-0.012667028306350123,-0.029132738178589346,0.032595470462860064,0.675197057312311,1.0,-0.0275301030180844,0.051399017546702334,-0.20384313489598255,-0.5477311092768299,0.38230093352841726,-0.013663778351431215,0.3227070138261744],[-0.24645663245600347,-0.45225929920856106,-0.3294949704875041,-0.17004812183591597,-0.1391649511635483,-0.458367954366771,0.0275743448710979,-0.13460485426411425,-0.23034888512811574,-0.3001032215849781,0.14199213196145086,-0.0275301030180844,1.0,0.9616365245209764,-0.42093423941082825,-0.28746577835593157,-0.1927962878163178,0.03904094340395291,-0.07704227027544266],[-0.2281558920642846,-0.4629183991747936,-0.42323522459325547,-0.1298402054391171,-0.044068756587938115,-0.4142853889231315,0.10821200408383985,-0.03587718088483836,-0.1795863636231255,-0.26117111489738387,0.1895122994867948,0.051399017546702334,0.9616365245209764,1.0,-0.46811965142925566,-0.390238896965266,-0.11097269057594018,0.02946084409483971,-0.05869058230232018],[-0.023737639081821492,0.9030631470185919,0.8828465583899251,0.016858801273078317,-0.1893297480909672,0.16659038244160915,-0.20627051024608348,-0.17750176851125735,0.14665536008715976,0.1607868892899204,-0.48369925543354375,-0.20384313489598255,-0.42093423941082825,-0.46811965142925566,1.0,0.8575426713258049,-0.09536775713136575,-0.13692874803678368,-0.023725436031428394],[-0.19505959735677372,0.7056636828616176,0.9846638513224081,-0.07397647405708874,-0.22977571725475604,0.04953709419958988,-0.2567949714169888,-0.18986779682874416,0.015774549924911105,0.017174610683278888,-0.5158586242762205,-0.5477311092768299,-0.28746577835593157,-0.390238896965266,0.8575426713258049,1.0,-0.23702932478671243,-0.18025063235919003,-0.1174813185407928],[0.31371778725462546,0.05970490531183075,-0.23052606476859408,0.49826040194869003,0.13481420969157099,0.15605941922644267,0.14022530864768815,0.12244622570798483,0.10450754398833803,0.08855762029199085,0.35777385315156596,0.38230093352841726,-0.1927962878163178,-0.11097269057594018,-0.09536775713136575,-0.23702932478671243,1.0,0.00954243918939256,0.09648681431568934],[0.007922163043203142,-0.20449957481975606,-0.17183378326061113,-0.033074527666260053,0.04345687776854818,0.05634164602841943,-0.004145505749677174,0.031150039499570306,0.0533051076979512,0.061806349642940586,-0.08633112039687878,-0.013663778351431215,0.03904094340395291,0.02946084409483971,-0.13692874803678368,-0.18025063235919003,0.00954243918939256,1.0,0.0037578158759923163],[0.0960504098702356,0.0395159645944352,-0.10940116571947434,0.06813870927487448,-0.0077383693357693396,0.005581325867748552,0.10903545079967336,-0.0463636279746584,-0.08769258303497203,0.07511349664979183,0.3042695612108662,0.3227070138261744,-0.07704227027544266,-0.05869058230232018,-0.023725436031428394,-0.1174813185407928,0.09648681431568934,0.0037578158759923163,1.0]],\"type\":\"heatmap\",\"xaxis\":\"x\",\"yaxis\":\"y\",\"hovertemplate\":\"x: %{x}\\u003cbr\\u003ey: %{y}\\u003cbr\\u003ecolor: %{z}\\u003cextra\\u003e\\u003c\\u002fextra\\u003e\"}],                        {\"template\":{\"data\":{\"histogram2dcontour\":[{\"type\":\"histogram2dcontour\",\"colorbar\":{\"outlinewidth\":0,\"ticks\":\"\"},\"colorscale\":[[0.0,\"#0d0887\"],[0.1111111111111111,\"#46039f\"],[0.2222222222222222,\"#7201a8\"],[0.3333333333333333,\"#9c179e\"],[0.4444444444444444,\"#bd3786\"],[0.5555555555555556,\"#d8576b\"],[0.6666666666666666,\"#ed7953\"],[0.7777777777777778,\"#fb9f3a\"],[0.8888888888888888,\"#fdca26\"],[1.0,\"#f0f921\"]]}],\"choropleth\":[{\"type\":\"choropleth\",\"colorbar\":{\"outlinewidth\":0,\"ticks\":\"\"}}],\"histogram2d\":[{\"type\":\"histogram2d\",\"colorbar\":{\"outlinewidth\":0,\"ticks\":\"\"},\"colorscale\":[[0.0,\"#0d0887\"],[0.1111111111111111,\"#46039f\"],[0.2222222222222222,\"#7201a8\"],[0.3333333333333333,\"#9c179e\"],[0.4444444444444444,\"#bd3786\"],[0.5555555555555556,\"#d8576b\"],[0.6666666666666666,\"#ed7953\"],[0.7777777777777778,\"#fb9f3a\"],[0.8888888888888888,\"#fdca26\"],[1.0,\"#f0f921\"]]}],\"heatmap\":[{\"type\":\"heatmap\",\"colorbar\":{\"outlinewidth\":0,\"ticks\":\"\"},\"colorscale\":[[0.0,\"#0d0887\"],[0.1111111111111111,\"#46039f\"],[0.2222222222222222,\"#7201a8\"],[0.3333333333333333,\"#9c179e\"],[0.4444444444444444,\"#bd3786\"],[0.5555555555555556,\"#d8576b\"],[0.6666666666666666,\"#ed7953\"],[0.7777777777777778,\"#fb9f3a\"],[0.8888888888888888,\"#fdca26\"],[1.0,\"#f0f921\"]]}],\"heatmapgl\":[{\"type\":\"heatmapgl\",\"colorbar\":{\"outlinewidth\":0,\"ticks\":\"\"},\"colorscale\":[[0.0,\"#0d0887\"],[0.1111111111111111,\"#46039f\"],[0.2222222222222222,\"#7201a8\"],[0.3333333333333333,\"#9c179e\"],[0.4444444444444444,\"#bd3786\"],[0.5555555555555556,\"#d8576b\"],[0.6666666666666666,\"#ed7953\"],[0.7777777777777778,\"#fb9f3a\"],[0.8888888888888888,\"#fdca26\"],[1.0,\"#f0f921\"]]}],\"contourcarpet\":[{\"type\":\"contourcarpet\",\"colorbar\":{\"outlinewidth\":0,\"ticks\":\"\"}}],\"contour\":[{\"type\":\"contour\",\"colorbar\":{\"outlinewidth\":0,\"ticks\":\"\"},\"colorscale\":[[0.0,\"#0d0887\"],[0.1111111111111111,\"#46039f\"],[0.2222222222222222,\"#7201a8\"],[0.3333333333333333,\"#9c179e\"],[0.4444444444444444,\"#bd3786\"],[0.5555555555555556,\"#d8576b\"],[0.6666666666666666,\"#ed7953\"],[0.7777777777777778,\"#fb9f3a\"],[0.8888888888888888,\"#fdca26\"],[1.0,\"#f0f921\"]]}],\"surface\":[{\"type\":\"surface\",\"colorbar\":{\"outlinewidth\":0,\"ticks\":\"\"},\"colorscale\":[[0.0,\"#0d0887\"],[0.1111111111111111,\"#46039f\"],[0.2222222222222222,\"#7201a8\"],[0.3333333333333333,\"#9c179e\"],[0.4444444444444444,\"#bd3786\"],[0.5555555555555556,\"#d8576b\"],[0.6666666666666666,\"#ed7953\"],[0.7777777777777778,\"#fb9f3a\"],[0.8888888888888888,\"#fdca26\"],[1.0,\"#f0f921\"]]}],\"mesh3d\":[{\"type\":\"mesh3d\",\"colorbar\":{\"outlinewidth\":0,\"ticks\":\"\"}}],\"scatter\":[{\"fillpattern\":{\"fillmode\":\"overlay\",\"size\":10,\"solidity\":0.2},\"type\":\"scatter\"}],\"parcoords\":[{\"type\":\"parcoords\",\"line\":{\"colorbar\":{\"outlinewidth\":0,\"ticks\":\"\"}}}],\"scatterpolargl\":[{\"type\":\"scatterpolargl\",\"marker\":{\"colorbar\":{\"outlinewidth\":0,\"ticks\":\"\"}}}],\"bar\":[{\"error_x\":{\"color\":\"#2a3f5f\"},\"error_y\":{\"color\":\"#2a3f5f\"},\"marker\":{\"line\":{\"color\":\"#E5ECF6\",\"width\":0.5},\"pattern\":{\"fillmode\":\"overlay\",\"size\":10,\"solidity\":0.2}},\"type\":\"bar\"}],\"scattergeo\":[{\"type\":\"scattergeo\",\"marker\":{\"colorbar\":{\"outlinewidth\":0,\"ticks\":\"\"}}}],\"scatterpolar\":[{\"type\":\"scatterpolar\",\"marker\":{\"colorbar\":{\"outlinewidth\":0,\"ticks\":\"\"}}}],\"histogram\":[{\"marker\":{\"pattern\":{\"fillmode\":\"overlay\",\"size\":10,\"solidity\":0.2}},\"type\":\"histogram\"}],\"scattergl\":[{\"type\":\"scattergl\",\"marker\":{\"colorbar\":{\"outlinewidth\":0,\"ticks\":\"\"}}}],\"scatter3d\":[{\"type\":\"scatter3d\",\"line\":{\"colorbar\":{\"outlinewidth\":0,\"ticks\":\"\"}},\"marker\":{\"colorbar\":{\"outlinewidth\":0,\"ticks\":\"\"}}}],\"scattermapbox\":[{\"type\":\"scattermapbox\",\"marker\":{\"colorbar\":{\"outlinewidth\":0,\"ticks\":\"\"}}}],\"scatterternary\":[{\"type\":\"scatterternary\",\"marker\":{\"colorbar\":{\"outlinewidth\":0,\"ticks\":\"\"}}}],\"scattercarpet\":[{\"type\":\"scattercarpet\",\"marker\":{\"colorbar\":{\"outlinewidth\":0,\"ticks\":\"\"}}}],\"carpet\":[{\"aaxis\":{\"endlinecolor\":\"#2a3f5f\",\"gridcolor\":\"white\",\"linecolor\":\"white\",\"minorgridcolor\":\"white\",\"startlinecolor\":\"#2a3f5f\"},\"baxis\":{\"endlinecolor\":\"#2a3f5f\",\"gridcolor\":\"white\",\"linecolor\":\"white\",\"minorgridcolor\":\"white\",\"startlinecolor\":\"#2a3f5f\"},\"type\":\"carpet\"}],\"table\":[{\"cells\":{\"fill\":{\"color\":\"#EBF0F8\"},\"line\":{\"color\":\"white\"}},\"header\":{\"fill\":{\"color\":\"#C8D4E3\"},\"line\":{\"color\":\"white\"}},\"type\":\"table\"}],\"barpolar\":[{\"marker\":{\"line\":{\"color\":\"#E5ECF6\",\"width\":0.5},\"pattern\":{\"fillmode\":\"overlay\",\"size\":10,\"solidity\":0.2}},\"type\":\"barpolar\"}],\"pie\":[{\"automargin\":true,\"type\":\"pie\"}]},\"layout\":{\"autotypenumbers\":\"strict\",\"colorway\":[\"#636efa\",\"#EF553B\",\"#00cc96\",\"#ab63fa\",\"#FFA15A\",\"#19d3f3\",\"#FF6692\",\"#B6E880\",\"#FF97FF\",\"#FECB52\"],\"font\":{\"color\":\"#2a3f5f\"},\"hovermode\":\"closest\",\"hoverlabel\":{\"align\":\"left\"},\"paper_bgcolor\":\"white\",\"plot_bgcolor\":\"#E5ECF6\",\"polar\":{\"bgcolor\":\"#E5ECF6\",\"angularaxis\":{\"gridcolor\":\"white\",\"linecolor\":\"white\",\"ticks\":\"\"},\"radialaxis\":{\"gridcolor\":\"white\",\"linecolor\":\"white\",\"ticks\":\"\"}},\"ternary\":{\"bgcolor\":\"#E5ECF6\",\"aaxis\":{\"gridcolor\":\"white\",\"linecolor\":\"white\",\"ticks\":\"\"},\"baxis\":{\"gridcolor\":\"white\",\"linecolor\":\"white\",\"ticks\":\"\"},\"caxis\":{\"gridcolor\":\"white\",\"linecolor\":\"white\",\"ticks\":\"\"}},\"coloraxis\":{\"colorbar\":{\"outlinewidth\":0,\"ticks\":\"\"}},\"colorscale\":{\"sequential\":[[0.0,\"#0d0887\"],[0.1111111111111111,\"#46039f\"],[0.2222222222222222,\"#7201a8\"],[0.3333333333333333,\"#9c179e\"],[0.4444444444444444,\"#bd3786\"],[0.5555555555555556,\"#d8576b\"],[0.6666666666666666,\"#ed7953\"],[0.7777777777777778,\"#fb9f3a\"],[0.8888888888888888,\"#fdca26\"],[1.0,\"#f0f921\"]],\"sequentialminus\":[[0.0,\"#0d0887\"],[0.1111111111111111,\"#46039f\"],[0.2222222222222222,\"#7201a8\"],[0.3333333333333333,\"#9c179e\"],[0.4444444444444444,\"#bd3786\"],[0.5555555555555556,\"#d8576b\"],[0.6666666666666666,\"#ed7953\"],[0.7777777777777778,\"#fb9f3a\"],[0.8888888888888888,\"#fdca26\"],[1.0,\"#f0f921\"]],\"diverging\":[[0,\"#8e0152\"],[0.1,\"#c51b7d\"],[0.2,\"#de77ae\"],[0.3,\"#f1b6da\"],[0.4,\"#fde0ef\"],[0.5,\"#f7f7f7\"],[0.6,\"#e6f5d0\"],[0.7,\"#b8e186\"],[0.8,\"#7fbc41\"],[0.9,\"#4d9221\"],[1,\"#276419\"]]},\"xaxis\":{\"gridcolor\":\"white\",\"linecolor\":\"white\",\"ticks\":\"\",\"title\":{\"standoff\":15},\"zerolinecolor\":\"white\",\"automargin\":true,\"zerolinewidth\":2},\"yaxis\":{\"gridcolor\":\"white\",\"linecolor\":\"white\",\"ticks\":\"\",\"title\":{\"standoff\":15},\"zerolinecolor\":\"white\",\"automargin\":true,\"zerolinewidth\":2},\"scene\":{\"xaxis\":{\"backgroundcolor\":\"#E5ECF6\",\"gridcolor\":\"white\",\"linecolor\":\"white\",\"showbackground\":true,\"ticks\":\"\",\"zerolinecolor\":\"white\",\"gridwidth\":2},\"yaxis\":{\"backgroundcolor\":\"#E5ECF6\",\"gridcolor\":\"white\",\"linecolor\":\"white\",\"showbackground\":true,\"ticks\":\"\",\"zerolinecolor\":\"white\",\"gridwidth\":2},\"zaxis\":{\"backgroundcolor\":\"#E5ECF6\",\"gridcolor\":\"white\",\"linecolor\":\"white\",\"showbackground\":true,\"ticks\":\"\",\"zerolinecolor\":\"white\",\"gridwidth\":2}},\"shapedefaults\":{\"line\":{\"color\":\"#2a3f5f\"}},\"annotationdefaults\":{\"arrowcolor\":\"#2a3f5f\",\"arrowhead\":0,\"arrowwidth\":1},\"geo\":{\"bgcolor\":\"white\",\"landcolor\":\"#E5ECF6\",\"subunitcolor\":\"white\",\"showland\":true,\"showlakes\":true,\"lakecolor\":\"white\"},\"title\":{\"x\":0.05},\"mapbox\":{\"style\":\"light\"}}},\"xaxis\":{\"anchor\":\"y\",\"domain\":[0.0,1.0]},\"yaxis\":{\"anchor\":\"x\",\"domain\":[0.0,1.0],\"autorange\":\"reversed\"},\"coloraxis\":{\"colorscale\":[[0.0,\"rgb(103,0,31)\"],[0.1,\"rgb(178,24,43)\"],[0.2,\"rgb(214,96,77)\"],[0.3,\"rgb(244,165,130)\"],[0.4,\"rgb(253,219,199)\"],[0.5,\"rgb(247,247,247)\"],[0.6,\"rgb(209,229,240)\"],[0.7,\"rgb(146,197,222)\"],[0.8,\"rgb(67,147,195)\"],[0.9,\"rgb(33,102,172)\"],[1.0,\"rgb(5,48,97)\"]]},\"title\":{\"text\":\"Heatmap, tout encoder, drop col, et dropna sauvage\"}},                        {\"responsive\": true}                    ).then(function(){\n",
       "                            \n",
       "var gd = document.getElementById('ca0104d0-2e6d-43f4-b52a-932df508d7f3');\n",
       "var x = new MutationObserver(function (mutations, observer) {{\n",
       "        var display = window.getComputedStyle(gd).display;\n",
       "        if (!display || display === 'none') {{\n",
       "            console.log([gd, 'removed!']);\n",
       "            Plotly.purge(gd);\n",
       "            observer.disconnect();\n",
       "        }}\n",
       "}});\n",
       "\n",
       "// Listen for the removal of the full notebook cells\n",
       "var notebookContainer = gd.closest('#notebook-container');\n",
       "if (notebookContainer) {{\n",
       "    x.observe(notebookContainer, {childList: true});\n",
       "}}\n",
       "\n",
       "// Listen for the clearing of the current output cell\n",
       "var outputEl = gd.closest('.output');\n",
       "if (outputEl) {{\n",
       "    x.observe(outputEl, {childList: true});\n",
       "}}\n",
       "\n",
       "                        })                };                });            </script>        </div>"
      ]
     },
     "metadata": {},
     "output_type": "display_data"
    }
   ],
   "source": [
    "#je drop tout les na sans disctinctions\n",
    "\n",
    "fig_drop_col_na = px.imshow(df_drop_col.dropna().corr(), text_auto = True, aspect = 'auto', color_continuous_scale='RdBu',\n",
    "                            title = 'Heatmap, tout encoder, drop col, et dropna sauvage')\n",
    "fig_drop_col_na.show()"
   ]
  },
  {
   "cell_type": "code",
   "execution_count": 109,
   "metadata": {},
   "outputs": [
    {
     "data": {
      "text/html": [
       "<div>\n",
       "<style scoped>\n",
       "    .dataframe tbody tr th:only-of-type {\n",
       "        vertical-align: middle;\n",
       "    }\n",
       "\n",
       "    .dataframe tbody tr th {\n",
       "        vertical-align: top;\n",
       "    }\n",
       "\n",
       "    .dataframe thead th {\n",
       "        text-align: right;\n",
       "    }\n",
       "</style>\n",
       "<table border=\"1\" class=\"dataframe\">\n",
       "  <thead>\n",
       "    <tr style=\"text-align: right;\">\n",
       "      <th></th>\n",
       "      <th>MinTemp</th>\n",
       "      <th>MaxTemp</th>\n",
       "      <th>Rainfall</th>\n",
       "      <th>Evaporation</th>\n",
       "      <th>Sunshine</th>\n",
       "      <th>WindGustSpeed</th>\n",
       "      <th>WindSpeed9am</th>\n",
       "      <th>WindSpeed3pm</th>\n",
       "      <th>Humidity9am</th>\n",
       "      <th>Humidity3pm</th>\n",
       "      <th>...</th>\n",
       "      <th>WindDir3pm_NNW</th>\n",
       "      <th>WindDir3pm_NW</th>\n",
       "      <th>WindDir3pm_S</th>\n",
       "      <th>WindDir3pm_SE</th>\n",
       "      <th>WindDir3pm_SSE</th>\n",
       "      <th>WindDir3pm_SSW</th>\n",
       "      <th>WindDir3pm_SW</th>\n",
       "      <th>WindDir3pm_W</th>\n",
       "      <th>WindDir3pm_WNW</th>\n",
       "      <th>WindDir3pm_WSW</th>\n",
       "    </tr>\n",
       "  </thead>\n",
       "  <tbody>\n",
       "    <tr>\n",
       "      <th>0</th>\n",
       "      <td>13.4</td>\n",
       "      <td>22.9</td>\n",
       "      <td>0.6</td>\n",
       "      <td>NaN</td>\n",
       "      <td>NaN</td>\n",
       "      <td>44.0</td>\n",
       "      <td>20.0</td>\n",
       "      <td>24.0</td>\n",
       "      <td>71.0</td>\n",
       "      <td>22.0</td>\n",
       "      <td>...</td>\n",
       "      <td>0</td>\n",
       "      <td>0</td>\n",
       "      <td>0</td>\n",
       "      <td>0</td>\n",
       "      <td>0</td>\n",
       "      <td>0</td>\n",
       "      <td>0</td>\n",
       "      <td>0</td>\n",
       "      <td>1</td>\n",
       "      <td>0</td>\n",
       "    </tr>\n",
       "    <tr>\n",
       "      <th>1</th>\n",
       "      <td>7.4</td>\n",
       "      <td>25.1</td>\n",
       "      <td>0.0</td>\n",
       "      <td>NaN</td>\n",
       "      <td>NaN</td>\n",
       "      <td>44.0</td>\n",
       "      <td>4.0</td>\n",
       "      <td>22.0</td>\n",
       "      <td>44.0</td>\n",
       "      <td>25.0</td>\n",
       "      <td>...</td>\n",
       "      <td>0</td>\n",
       "      <td>0</td>\n",
       "      <td>0</td>\n",
       "      <td>0</td>\n",
       "      <td>0</td>\n",
       "      <td>0</td>\n",
       "      <td>0</td>\n",
       "      <td>0</td>\n",
       "      <td>0</td>\n",
       "      <td>1</td>\n",
       "    </tr>\n",
       "    <tr>\n",
       "      <th>2</th>\n",
       "      <td>12.9</td>\n",
       "      <td>25.7</td>\n",
       "      <td>0.0</td>\n",
       "      <td>NaN</td>\n",
       "      <td>NaN</td>\n",
       "      <td>46.0</td>\n",
       "      <td>19.0</td>\n",
       "      <td>26.0</td>\n",
       "      <td>38.0</td>\n",
       "      <td>30.0</td>\n",
       "      <td>...</td>\n",
       "      <td>0</td>\n",
       "      <td>0</td>\n",
       "      <td>0</td>\n",
       "      <td>0</td>\n",
       "      <td>0</td>\n",
       "      <td>0</td>\n",
       "      <td>0</td>\n",
       "      <td>0</td>\n",
       "      <td>0</td>\n",
       "      <td>1</td>\n",
       "    </tr>\n",
       "    <tr>\n",
       "      <th>3</th>\n",
       "      <td>9.2</td>\n",
       "      <td>28.0</td>\n",
       "      <td>0.0</td>\n",
       "      <td>NaN</td>\n",
       "      <td>NaN</td>\n",
       "      <td>24.0</td>\n",
       "      <td>11.0</td>\n",
       "      <td>9.0</td>\n",
       "      <td>45.0</td>\n",
       "      <td>16.0</td>\n",
       "      <td>...</td>\n",
       "      <td>0</td>\n",
       "      <td>0</td>\n",
       "      <td>0</td>\n",
       "      <td>0</td>\n",
       "      <td>0</td>\n",
       "      <td>0</td>\n",
       "      <td>0</td>\n",
       "      <td>0</td>\n",
       "      <td>0</td>\n",
       "      <td>0</td>\n",
       "    </tr>\n",
       "    <tr>\n",
       "      <th>4</th>\n",
       "      <td>17.5</td>\n",
       "      <td>32.3</td>\n",
       "      <td>1.0</td>\n",
       "      <td>NaN</td>\n",
       "      <td>NaN</td>\n",
       "      <td>41.0</td>\n",
       "      <td>7.0</td>\n",
       "      <td>20.0</td>\n",
       "      <td>82.0</td>\n",
       "      <td>33.0</td>\n",
       "      <td>...</td>\n",
       "      <td>0</td>\n",
       "      <td>1</td>\n",
       "      <td>0</td>\n",
       "      <td>0</td>\n",
       "      <td>0</td>\n",
       "      <td>0</td>\n",
       "      <td>0</td>\n",
       "      <td>0</td>\n",
       "      <td>0</td>\n",
       "      <td>0</td>\n",
       "    </tr>\n",
       "  </tbody>\n",
       "</table>\n",
       "<p>5 rows × 72 columns</p>\n",
       "</div>"
      ],
      "text/plain": [
       "   MinTemp  MaxTemp  Rainfall  Evaporation  Sunshine  WindGustSpeed  \\\n",
       "0     13.4     22.9       0.6          NaN       NaN           44.0   \n",
       "1      7.4     25.1       0.0          NaN       NaN           44.0   \n",
       "2     12.9     25.7       0.0          NaN       NaN           46.0   \n",
       "3      9.2     28.0       0.0          NaN       NaN           24.0   \n",
       "4     17.5     32.3       1.0          NaN       NaN           41.0   \n",
       "\n",
       "   WindSpeed9am  WindSpeed3pm  Humidity9am  Humidity3pm  ...  WindDir3pm_NNW  \\\n",
       "0          20.0          24.0         71.0         22.0  ...               0   \n",
       "1           4.0          22.0         44.0         25.0  ...               0   \n",
       "2          19.0          26.0         38.0         30.0  ...               0   \n",
       "3          11.0           9.0         45.0         16.0  ...               0   \n",
       "4           7.0          20.0         82.0         33.0  ...               0   \n",
       "\n",
       "   WindDir3pm_NW  WindDir3pm_S  WindDir3pm_SE  WindDir3pm_SSE  WindDir3pm_SSW  \\\n",
       "0              0             0              0               0               0   \n",
       "1              0             0              0               0               0   \n",
       "2              0             0              0               0               0   \n",
       "3              0             0              0               0               0   \n",
       "4              1             0              0               0               0   \n",
       "\n",
       "   WindDir3pm_SW  WindDir3pm_W  WindDir3pm_WNW  WindDir3pm_WSW  \n",
       "0              0             0               1               0  \n",
       "1              0             0               0               1  \n",
       "2              0             0               0               1  \n",
       "3              0             0               0               0  \n",
       "4              0             0               0               0  \n",
       "\n",
       "[5 rows x 72 columns]"
      ]
     },
     "execution_count": 109,
     "metadata": {},
     "output_type": "execute_result"
    }
   ],
   "source": [
    "#je recommence en utilisant le onehotencoder\n",
    "\n",
    "\n",
    "df_all_include_dum = df_all.copy()\n",
    "\n",
    "# on garde la valeur du mois pour insérer la notion de date dans le heatmap\n",
    "df_all_include_dum['Date'] = pd.to_datetime(df_all_include_dum['Date'])\n",
    "df_all_include_dum['Months'] = df_all_include_dum['Date'].dt.month\n",
    "\n",
    "#classification des ville par climate pour supprimer la colonne ville et remplacer climat par label\n",
    "df_all_include_dum['climate'] = df_all_include_dum['Location'].map(climate)\n",
    "\n",
    "\n",
    "df_all_include_dum = pd.get_dummies(df_all_include_dum, columns=['climate'])\n",
    "df_all_include_dum = pd.get_dummies(df_all_include_dum, columns=['WindGustDir'])\n",
    "df_all_include_dum = pd.get_dummies(df_all_include_dum, columns=['WindDir9am'])\n",
    "df_all_include_dum = pd.get_dummies(df_all_include_dum, columns=['WindDir3pm'])\n",
    "\n",
    "#remplacement des valeurs de RainToday et RainTomorrow par 0 et 1\n",
    "df_all_include_dum['RainTomorrow'].replace(to_replace = ['No', 'Yes'], value = [0, 1], inplace = True)\n",
    "df_all_include_dum['RainToday'].replace(to_replace = ['No', 'Yes'], value = [0, 1], inplace = True)\n",
    "\n",
    "\n",
    "\n",
    "df_all_include_dum.drop(columns = ['Date', 'Location'], inplace = True)\n",
    "\n",
    "df_all_include_dum.head()"
   ]
  },
  {
   "cell_type": "code",
   "execution_count": 184,
   "metadata": {},
   "outputs": [
    {
     "name": "stderr",
     "output_type": "stream",
     "text": [
      "/tmp/ipykernel_183439/1624606516.py:3: SettingWithCopyWarning:\n",
      "\n",
      "\n",
      "A value is trying to be set on a copy of a slice from a DataFrame\n",
      "\n",
      "See the caveats in the documentation: https://pandas.pydata.org/pandas-docs/stable/user_guide/indexing.html#returning-a-view-versus-a-copy\n",
      "\n",
      "/tmp/ipykernel_183439/1624606516.py:4: SettingWithCopyWarning:\n",
      "\n",
      "\n",
      "A value is trying to be set on a copy of a slice from a DataFrame\n",
      "\n",
      "See the caveats in the documentation: https://pandas.pydata.org/pandas-docs/stable/user_guide/indexing.html#returning-a-view-versus-a-copy\n",
      "\n",
      "/tmp/ipykernel_183439/1624606516.py:10: SettingWithCopyWarning:\n",
      "\n",
      "\n",
      "A value is trying to be set on a copy of a slice from a DataFrame.\n",
      "Try using .loc[row_indexer,col_indexer] = value instead\n",
      "\n",
      "See the caveats in the documentation: https://pandas.pydata.org/pandas-docs/stable/user_guide/indexing.html#returning-a-view-versus-a-copy\n",
      "\n",
      "/tmp/ipykernel_183439/1624606516.py:11: SettingWithCopyWarning:\n",
      "\n",
      "\n",
      "A value is trying to be set on a copy of a slice from a DataFrame.\n",
      "Try using .loc[row_indexer,col_indexer] = value instead\n",
      "\n",
      "See the caveats in the documentation: https://pandas.pydata.org/pandas-docs/stable/user_guide/indexing.html#returning-a-view-versus-a-copy\n",
      "\n",
      "/tmp/ipykernel_183439/1624606516.py:21: SettingWithCopyWarning:\n",
      "\n",
      "\n",
      "A value is trying to be set on a copy of a slice from a DataFrame\n",
      "\n",
      "See the caveats in the documentation: https://pandas.pydata.org/pandas-docs/stable/user_guide/indexing.html#returning-a-view-versus-a-copy\n",
      "\n",
      "/tmp/ipykernel_183439/1624606516.py:22: SettingWithCopyWarning:\n",
      "\n",
      "\n",
      "A value is trying to be set on a copy of a slice from a DataFrame\n",
      "\n",
      "See the caveats in the documentation: https://pandas.pydata.org/pandas-docs/stable/user_guide/indexing.html#returning-a-view-versus-a-copy\n",
      "\n",
      "/tmp/ipykernel_183439/1624606516.py:28: SettingWithCopyWarning:\n",
      "\n",
      "\n",
      "A value is trying to be set on a copy of a slice from a DataFrame.\n",
      "Try using .loc[row_indexer,col_indexer] = value instead\n",
      "\n",
      "See the caveats in the documentation: https://pandas.pydata.org/pandas-docs/stable/user_guide/indexing.html#returning-a-view-versus-a-copy\n",
      "\n",
      "/tmp/ipykernel_183439/1624606516.py:29: SettingWithCopyWarning:\n",
      "\n",
      "\n",
      "A value is trying to be set on a copy of a slice from a DataFrame.\n",
      "Try using .loc[row_indexer,col_indexer] = value instead\n",
      "\n",
      "See the caveats in the documentation: https://pandas.pydata.org/pandas-docs/stable/user_guide/indexing.html#returning-a-view-versus-a-copy\n",
      "\n"
     ]
    }
   ],
   "source": [
    "df_syd = df[df['Location'] == 'Sydney']\n",
    "\n",
    "df_syd['RainTomorrow'].replace(to_replace = ['No', 'Yes'], value = [0, 1], inplace = True)\n",
    "df_syd['RainToday'].replace(to_replace = ['No', 'Yes'], value = [0, 1], inplace = True)\n",
    "\n",
    "# print(df_syd.isna().sum()/len(df_syd))\n",
    "\n",
    "\n",
    "# on garde la valeur du mois pour insérer la notion de date dans le heatmap\n",
    "df_syd['Date'] = pd.to_datetime(df_syd['Date'])\n",
    "df_syd['Months'] = df_syd['Date'].dt.month\n",
    "\n",
    "\n",
    "col = df_syd.pop('RainTomorrow')\n",
    "df_syd.insert(0, 'RainTomorrow', col)\n",
    "\n",
    "\n",
    "\n",
    "df_wol = df[df['Location'] == 'Wollongong']\n",
    "\n",
    "df_wol['RainTomorrow'].replace(to_replace = ['No', 'Yes'], value = [0, 1], inplace = True)\n",
    "df_wol['RainToday'].replace(to_replace = ['No', 'Yes'], value = [0, 1], inplace = True)\n",
    "\n",
    "# print(df_wol.isna().sum()/len(df_wol))\n",
    "\n",
    "\n",
    "# on garde la valeur du mois pour insérer la notion de date dans le heatmap\n",
    "df_wol['Date'] = pd.to_datetime(df_wol['Date'])\n",
    "df_wol['Months'] = df_wol['Date'].dt.month\n",
    "\n",
    "\n",
    "col = df_wol.pop('RainTomorrow')\n",
    "df_wol.insert(0, 'RainTomorrow', col)"
   ]
  },
  {
   "cell_type": "code",
   "execution_count": 171,
   "metadata": {},
   "outputs": [
    {
     "data": {
      "application/vnd.plotly.v1+json": {
       "config": {
        "plotlyServerURL": "https://plot.ly"
       },
       "data": [
        {
         "coloraxis": "coloraxis",
         "hovertemplate": "x: %{x}<br>y: %{y}<br>color: %{z}<extra></extra>",
         "name": "0",
         "texttemplate": "%{z}",
         "type": "heatmap",
         "x": [
          "RainTomorrow"
         ],
         "xaxis": "x",
         "y": [
          "RainTomorrow",
          "MinTemp",
          "MaxTemp",
          "Rainfall",
          "Evaporation",
          "Sunshine",
          "WindGustSpeed",
          "WindSpeed9am",
          "WindSpeed3pm",
          "Humidity9am",
          "Humidity3pm",
          "Pressure9am",
          "Pressure3pm",
          "Cloud9am",
          "Cloud3pm",
          "Temp9am",
          "Temp3pm",
          "RainToday",
          "Months"
         ],
         "yaxis": "y",
         "z": [
          [
           1
          ],
          [
           0.08
          ],
          [
           -0.15
          ],
          [
           0.29
          ],
          [
           -0.07
          ],
          [
           -0.52
          ],
          [
           0.17
          ],
          [
           0.07
          ],
          [
           -0.01
          ],
          [
           0.33
          ],
          [
           0.47
          ],
          [
           -0.03
          ],
          [
           0.01
          ],
          [
           0.36
          ],
          [
           0.46
          ],
          [
           0
          ],
          [
           -0.19
          ],
          [
           0.34
          ],
          [
           -0.05
          ]
         ]
        }
       ],
       "layout": {
        "coloraxis": {
         "colorscale": [
          [
           0,
           "rgb(103,0,31)"
          ],
          [
           0.1,
           "rgb(178,24,43)"
          ],
          [
           0.2,
           "rgb(214,96,77)"
          ],
          [
           0.3,
           "rgb(244,165,130)"
          ],
          [
           0.4,
           "rgb(253,219,199)"
          ],
          [
           0.5,
           "rgb(247,247,247)"
          ],
          [
           0.6,
           "rgb(209,229,240)"
          ],
          [
           0.7,
           "rgb(146,197,222)"
          ],
          [
           0.8,
           "rgb(67,147,195)"
          ],
          [
           0.9,
           "rgb(33,102,172)"
          ],
          [
           1,
           "rgb(5,48,97)"
          ]
         ]
        },
        "template": {
         "data": {
          "bar": [
           {
            "error_x": {
             "color": "#2a3f5f"
            },
            "error_y": {
             "color": "#2a3f5f"
            },
            "marker": {
             "line": {
              "color": "#E5ECF6",
              "width": 0.5
             },
             "pattern": {
              "fillmode": "overlay",
              "size": 10,
              "solidity": 0.2
             }
            },
            "type": "bar"
           }
          ],
          "barpolar": [
           {
            "marker": {
             "line": {
              "color": "#E5ECF6",
              "width": 0.5
             },
             "pattern": {
              "fillmode": "overlay",
              "size": 10,
              "solidity": 0.2
             }
            },
            "type": "barpolar"
           }
          ],
          "carpet": [
           {
            "aaxis": {
             "endlinecolor": "#2a3f5f",
             "gridcolor": "white",
             "linecolor": "white",
             "minorgridcolor": "white",
             "startlinecolor": "#2a3f5f"
            },
            "baxis": {
             "endlinecolor": "#2a3f5f",
             "gridcolor": "white",
             "linecolor": "white",
             "minorgridcolor": "white",
             "startlinecolor": "#2a3f5f"
            },
            "type": "carpet"
           }
          ],
          "choropleth": [
           {
            "colorbar": {
             "outlinewidth": 0,
             "ticks": ""
            },
            "type": "choropleth"
           }
          ],
          "contour": [
           {
            "colorbar": {
             "outlinewidth": 0,
             "ticks": ""
            },
            "colorscale": [
             [
              0,
              "#0d0887"
             ],
             [
              0.1111111111111111,
              "#46039f"
             ],
             [
              0.2222222222222222,
              "#7201a8"
             ],
             [
              0.3333333333333333,
              "#9c179e"
             ],
             [
              0.4444444444444444,
              "#bd3786"
             ],
             [
              0.5555555555555556,
              "#d8576b"
             ],
             [
              0.6666666666666666,
              "#ed7953"
             ],
             [
              0.7777777777777778,
              "#fb9f3a"
             ],
             [
              0.8888888888888888,
              "#fdca26"
             ],
             [
              1,
              "#f0f921"
             ]
            ],
            "type": "contour"
           }
          ],
          "contourcarpet": [
           {
            "colorbar": {
             "outlinewidth": 0,
             "ticks": ""
            },
            "type": "contourcarpet"
           }
          ],
          "heatmap": [
           {
            "colorbar": {
             "outlinewidth": 0,
             "ticks": ""
            },
            "colorscale": [
             [
              0,
              "#0d0887"
             ],
             [
              0.1111111111111111,
              "#46039f"
             ],
             [
              0.2222222222222222,
              "#7201a8"
             ],
             [
              0.3333333333333333,
              "#9c179e"
             ],
             [
              0.4444444444444444,
              "#bd3786"
             ],
             [
              0.5555555555555556,
              "#d8576b"
             ],
             [
              0.6666666666666666,
              "#ed7953"
             ],
             [
              0.7777777777777778,
              "#fb9f3a"
             ],
             [
              0.8888888888888888,
              "#fdca26"
             ],
             [
              1,
              "#f0f921"
             ]
            ],
            "type": "heatmap"
           }
          ],
          "heatmapgl": [
           {
            "colorbar": {
             "outlinewidth": 0,
             "ticks": ""
            },
            "colorscale": [
             [
              0,
              "#0d0887"
             ],
             [
              0.1111111111111111,
              "#46039f"
             ],
             [
              0.2222222222222222,
              "#7201a8"
             ],
             [
              0.3333333333333333,
              "#9c179e"
             ],
             [
              0.4444444444444444,
              "#bd3786"
             ],
             [
              0.5555555555555556,
              "#d8576b"
             ],
             [
              0.6666666666666666,
              "#ed7953"
             ],
             [
              0.7777777777777778,
              "#fb9f3a"
             ],
             [
              0.8888888888888888,
              "#fdca26"
             ],
             [
              1,
              "#f0f921"
             ]
            ],
            "type": "heatmapgl"
           }
          ],
          "histogram": [
           {
            "marker": {
             "pattern": {
              "fillmode": "overlay",
              "size": 10,
              "solidity": 0.2
             }
            },
            "type": "histogram"
           }
          ],
          "histogram2d": [
           {
            "colorbar": {
             "outlinewidth": 0,
             "ticks": ""
            },
            "colorscale": [
             [
              0,
              "#0d0887"
             ],
             [
              0.1111111111111111,
              "#46039f"
             ],
             [
              0.2222222222222222,
              "#7201a8"
             ],
             [
              0.3333333333333333,
              "#9c179e"
             ],
             [
              0.4444444444444444,
              "#bd3786"
             ],
             [
              0.5555555555555556,
              "#d8576b"
             ],
             [
              0.6666666666666666,
              "#ed7953"
             ],
             [
              0.7777777777777778,
              "#fb9f3a"
             ],
             [
              0.8888888888888888,
              "#fdca26"
             ],
             [
              1,
              "#f0f921"
             ]
            ],
            "type": "histogram2d"
           }
          ],
          "histogram2dcontour": [
           {
            "colorbar": {
             "outlinewidth": 0,
             "ticks": ""
            },
            "colorscale": [
             [
              0,
              "#0d0887"
             ],
             [
              0.1111111111111111,
              "#46039f"
             ],
             [
              0.2222222222222222,
              "#7201a8"
             ],
             [
              0.3333333333333333,
              "#9c179e"
             ],
             [
              0.4444444444444444,
              "#bd3786"
             ],
             [
              0.5555555555555556,
              "#d8576b"
             ],
             [
              0.6666666666666666,
              "#ed7953"
             ],
             [
              0.7777777777777778,
              "#fb9f3a"
             ],
             [
              0.8888888888888888,
              "#fdca26"
             ],
             [
              1,
              "#f0f921"
             ]
            ],
            "type": "histogram2dcontour"
           }
          ],
          "mesh3d": [
           {
            "colorbar": {
             "outlinewidth": 0,
             "ticks": ""
            },
            "type": "mesh3d"
           }
          ],
          "parcoords": [
           {
            "line": {
             "colorbar": {
              "outlinewidth": 0,
              "ticks": ""
             }
            },
            "type": "parcoords"
           }
          ],
          "pie": [
           {
            "automargin": true,
            "type": "pie"
           }
          ],
          "scatter": [
           {
            "fillpattern": {
             "fillmode": "overlay",
             "size": 10,
             "solidity": 0.2
            },
            "type": "scatter"
           }
          ],
          "scatter3d": [
           {
            "line": {
             "colorbar": {
              "outlinewidth": 0,
              "ticks": ""
             }
            },
            "marker": {
             "colorbar": {
              "outlinewidth": 0,
              "ticks": ""
             }
            },
            "type": "scatter3d"
           }
          ],
          "scattercarpet": [
           {
            "marker": {
             "colorbar": {
              "outlinewidth": 0,
              "ticks": ""
             }
            },
            "type": "scattercarpet"
           }
          ],
          "scattergeo": [
           {
            "marker": {
             "colorbar": {
              "outlinewidth": 0,
              "ticks": ""
             }
            },
            "type": "scattergeo"
           }
          ],
          "scattergl": [
           {
            "marker": {
             "colorbar": {
              "outlinewidth": 0,
              "ticks": ""
             }
            },
            "type": "scattergl"
           }
          ],
          "scattermapbox": [
           {
            "marker": {
             "colorbar": {
              "outlinewidth": 0,
              "ticks": ""
             }
            },
            "type": "scattermapbox"
           }
          ],
          "scatterpolar": [
           {
            "marker": {
             "colorbar": {
              "outlinewidth": 0,
              "ticks": ""
             }
            },
            "type": "scatterpolar"
           }
          ],
          "scatterpolargl": [
           {
            "marker": {
             "colorbar": {
              "outlinewidth": 0,
              "ticks": ""
             }
            },
            "type": "scatterpolargl"
           }
          ],
          "scatterternary": [
           {
            "marker": {
             "colorbar": {
              "outlinewidth": 0,
              "ticks": ""
             }
            },
            "type": "scatterternary"
           }
          ],
          "surface": [
           {
            "colorbar": {
             "outlinewidth": 0,
             "ticks": ""
            },
            "colorscale": [
             [
              0,
              "#0d0887"
             ],
             [
              0.1111111111111111,
              "#46039f"
             ],
             [
              0.2222222222222222,
              "#7201a8"
             ],
             [
              0.3333333333333333,
              "#9c179e"
             ],
             [
              0.4444444444444444,
              "#bd3786"
             ],
             [
              0.5555555555555556,
              "#d8576b"
             ],
             [
              0.6666666666666666,
              "#ed7953"
             ],
             [
              0.7777777777777778,
              "#fb9f3a"
             ],
             [
              0.8888888888888888,
              "#fdca26"
             ],
             [
              1,
              "#f0f921"
             ]
            ],
            "type": "surface"
           }
          ],
          "table": [
           {
            "cells": {
             "fill": {
              "color": "#EBF0F8"
             },
             "line": {
              "color": "white"
             }
            },
            "header": {
             "fill": {
              "color": "#C8D4E3"
             },
             "line": {
              "color": "white"
             }
            },
            "type": "table"
           }
          ]
         },
         "layout": {
          "annotationdefaults": {
           "arrowcolor": "#2a3f5f",
           "arrowhead": 0,
           "arrowwidth": 1
          },
          "autotypenumbers": "strict",
          "coloraxis": {
           "colorbar": {
            "outlinewidth": 0,
            "ticks": ""
           }
          },
          "colorscale": {
           "diverging": [
            [
             0,
             "#8e0152"
            ],
            [
             0.1,
             "#c51b7d"
            ],
            [
             0.2,
             "#de77ae"
            ],
            [
             0.3,
             "#f1b6da"
            ],
            [
             0.4,
             "#fde0ef"
            ],
            [
             0.5,
             "#f7f7f7"
            ],
            [
             0.6,
             "#e6f5d0"
            ],
            [
             0.7,
             "#b8e186"
            ],
            [
             0.8,
             "#7fbc41"
            ],
            [
             0.9,
             "#4d9221"
            ],
            [
             1,
             "#276419"
            ]
           ],
           "sequential": [
            [
             0,
             "#0d0887"
            ],
            [
             0.1111111111111111,
             "#46039f"
            ],
            [
             0.2222222222222222,
             "#7201a8"
            ],
            [
             0.3333333333333333,
             "#9c179e"
            ],
            [
             0.4444444444444444,
             "#bd3786"
            ],
            [
             0.5555555555555556,
             "#d8576b"
            ],
            [
             0.6666666666666666,
             "#ed7953"
            ],
            [
             0.7777777777777778,
             "#fb9f3a"
            ],
            [
             0.8888888888888888,
             "#fdca26"
            ],
            [
             1,
             "#f0f921"
            ]
           ],
           "sequentialminus": [
            [
             0,
             "#0d0887"
            ],
            [
             0.1111111111111111,
             "#46039f"
            ],
            [
             0.2222222222222222,
             "#7201a8"
            ],
            [
             0.3333333333333333,
             "#9c179e"
            ],
            [
             0.4444444444444444,
             "#bd3786"
            ],
            [
             0.5555555555555556,
             "#d8576b"
            ],
            [
             0.6666666666666666,
             "#ed7953"
            ],
            [
             0.7777777777777778,
             "#fb9f3a"
            ],
            [
             0.8888888888888888,
             "#fdca26"
            ],
            [
             1,
             "#f0f921"
            ]
           ]
          },
          "colorway": [
           "#636efa",
           "#EF553B",
           "#00cc96",
           "#ab63fa",
           "#FFA15A",
           "#19d3f3",
           "#FF6692",
           "#B6E880",
           "#FF97FF",
           "#FECB52"
          ],
          "font": {
           "color": "#2a3f5f"
          },
          "geo": {
           "bgcolor": "white",
           "lakecolor": "white",
           "landcolor": "#E5ECF6",
           "showlakes": true,
           "showland": true,
           "subunitcolor": "white"
          },
          "hoverlabel": {
           "align": "left"
          },
          "hovermode": "closest",
          "mapbox": {
           "style": "light"
          },
          "paper_bgcolor": "white",
          "plot_bgcolor": "#E5ECF6",
          "polar": {
           "angularaxis": {
            "gridcolor": "white",
            "linecolor": "white",
            "ticks": ""
           },
           "bgcolor": "#E5ECF6",
           "radialaxis": {
            "gridcolor": "white",
            "linecolor": "white",
            "ticks": ""
           }
          },
          "scene": {
           "xaxis": {
            "backgroundcolor": "#E5ECF6",
            "gridcolor": "white",
            "gridwidth": 2,
            "linecolor": "white",
            "showbackground": true,
            "ticks": "",
            "zerolinecolor": "white"
           },
           "yaxis": {
            "backgroundcolor": "#E5ECF6",
            "gridcolor": "white",
            "gridwidth": 2,
            "linecolor": "white",
            "showbackground": true,
            "ticks": "",
            "zerolinecolor": "white"
           },
           "zaxis": {
            "backgroundcolor": "#E5ECF6",
            "gridcolor": "white",
            "gridwidth": 2,
            "linecolor": "white",
            "showbackground": true,
            "ticks": "",
            "zerolinecolor": "white"
           }
          },
          "shapedefaults": {
           "line": {
            "color": "#2a3f5f"
           }
          },
          "ternary": {
           "aaxis": {
            "gridcolor": "white",
            "linecolor": "white",
            "ticks": ""
           },
           "baxis": {
            "gridcolor": "white",
            "linecolor": "white",
            "ticks": ""
           },
           "bgcolor": "#E5ECF6",
           "caxis": {
            "gridcolor": "white",
            "linecolor": "white",
            "ticks": ""
           }
          },
          "title": {
           "x": 0.05
          },
          "xaxis": {
           "automargin": true,
           "gridcolor": "white",
           "linecolor": "white",
           "ticks": "",
           "title": {
            "standoff": 15
           },
           "zerolinecolor": "white",
           "zerolinewidth": 2
          },
          "yaxis": {
           "automargin": true,
           "gridcolor": "white",
           "linecolor": "white",
           "ticks": "",
           "title": {
            "standoff": 15
           },
           "zerolinecolor": "white",
           "zerolinewidth": 2
          }
         }
        },
        "title": {
         "text": "Sydney"
        },
        "width": 500,
        "xaxis": {
         "anchor": "y",
         "domain": [
          0,
          1
         ]
        },
        "yaxis": {
         "anchor": "x",
         "autorange": "reversed",
         "domain": [
          0,
          1
         ]
        }
       }
      },
      "text/html": [
       "<div>                            <div id=\"46df31d8-3ef0-488c-b0a3-e2d590b8201a\" class=\"plotly-graph-div\" style=\"height:525px; width:500px;\"></div>            <script type=\"text/javascript\">                require([\"plotly\"], function(Plotly) {                    window.PLOTLYENV=window.PLOTLYENV || {};                                    if (document.getElementById(\"46df31d8-3ef0-488c-b0a3-e2d590b8201a\")) {                    Plotly.newPlot(                        \"46df31d8-3ef0-488c-b0a3-e2d590b8201a\",                        [{\"coloraxis\":\"coloraxis\",\"name\":\"0\",\"texttemplate\":\"%{z}\",\"x\":[\"RainTomorrow\"],\"y\":[\"RainTomorrow\",\"MinTemp\",\"MaxTemp\",\"Rainfall\",\"Evaporation\",\"Sunshine\",\"WindGustSpeed\",\"WindSpeed9am\",\"WindSpeed3pm\",\"Humidity9am\",\"Humidity3pm\",\"Pressure9am\",\"Pressure3pm\",\"Cloud9am\",\"Cloud3pm\",\"Temp9am\",\"Temp3pm\",\"RainToday\",\"Months\"],\"z\":[[1.0],[0.08],[-0.15],[0.29],[-0.07],[-0.52],[0.17],[0.07],[-0.01],[0.33],[0.47],[-0.03],[0.01],[0.36],[0.46],[-0.0],[-0.19],[0.34],[-0.05]],\"type\":\"heatmap\",\"xaxis\":\"x\",\"yaxis\":\"y\",\"hovertemplate\":\"x: %{x}\\u003cbr\\u003ey: %{y}\\u003cbr\\u003ecolor: %{z}\\u003cextra\\u003e\\u003c\\u002fextra\\u003e\"}],                        {\"template\":{\"data\":{\"histogram2dcontour\":[{\"type\":\"histogram2dcontour\",\"colorbar\":{\"outlinewidth\":0,\"ticks\":\"\"},\"colorscale\":[[0.0,\"#0d0887\"],[0.1111111111111111,\"#46039f\"],[0.2222222222222222,\"#7201a8\"],[0.3333333333333333,\"#9c179e\"],[0.4444444444444444,\"#bd3786\"],[0.5555555555555556,\"#d8576b\"],[0.6666666666666666,\"#ed7953\"],[0.7777777777777778,\"#fb9f3a\"],[0.8888888888888888,\"#fdca26\"],[1.0,\"#f0f921\"]]}],\"choropleth\":[{\"type\":\"choropleth\",\"colorbar\":{\"outlinewidth\":0,\"ticks\":\"\"}}],\"histogram2d\":[{\"type\":\"histogram2d\",\"colorbar\":{\"outlinewidth\":0,\"ticks\":\"\"},\"colorscale\":[[0.0,\"#0d0887\"],[0.1111111111111111,\"#46039f\"],[0.2222222222222222,\"#7201a8\"],[0.3333333333333333,\"#9c179e\"],[0.4444444444444444,\"#bd3786\"],[0.5555555555555556,\"#d8576b\"],[0.6666666666666666,\"#ed7953\"],[0.7777777777777778,\"#fb9f3a\"],[0.8888888888888888,\"#fdca26\"],[1.0,\"#f0f921\"]]}],\"heatmap\":[{\"type\":\"heatmap\",\"colorbar\":{\"outlinewidth\":0,\"ticks\":\"\"},\"colorscale\":[[0.0,\"#0d0887\"],[0.1111111111111111,\"#46039f\"],[0.2222222222222222,\"#7201a8\"],[0.3333333333333333,\"#9c179e\"],[0.4444444444444444,\"#bd3786\"],[0.5555555555555556,\"#d8576b\"],[0.6666666666666666,\"#ed7953\"],[0.7777777777777778,\"#fb9f3a\"],[0.8888888888888888,\"#fdca26\"],[1.0,\"#f0f921\"]]}],\"heatmapgl\":[{\"type\":\"heatmapgl\",\"colorbar\":{\"outlinewidth\":0,\"ticks\":\"\"},\"colorscale\":[[0.0,\"#0d0887\"],[0.1111111111111111,\"#46039f\"],[0.2222222222222222,\"#7201a8\"],[0.3333333333333333,\"#9c179e\"],[0.4444444444444444,\"#bd3786\"],[0.5555555555555556,\"#d8576b\"],[0.6666666666666666,\"#ed7953\"],[0.7777777777777778,\"#fb9f3a\"],[0.8888888888888888,\"#fdca26\"],[1.0,\"#f0f921\"]]}],\"contourcarpet\":[{\"type\":\"contourcarpet\",\"colorbar\":{\"outlinewidth\":0,\"ticks\":\"\"}}],\"contour\":[{\"type\":\"contour\",\"colorbar\":{\"outlinewidth\":0,\"ticks\":\"\"},\"colorscale\":[[0.0,\"#0d0887\"],[0.1111111111111111,\"#46039f\"],[0.2222222222222222,\"#7201a8\"],[0.3333333333333333,\"#9c179e\"],[0.4444444444444444,\"#bd3786\"],[0.5555555555555556,\"#d8576b\"],[0.6666666666666666,\"#ed7953\"],[0.7777777777777778,\"#fb9f3a\"],[0.8888888888888888,\"#fdca26\"],[1.0,\"#f0f921\"]]}],\"surface\":[{\"type\":\"surface\",\"colorbar\":{\"outlinewidth\":0,\"ticks\":\"\"},\"colorscale\":[[0.0,\"#0d0887\"],[0.1111111111111111,\"#46039f\"],[0.2222222222222222,\"#7201a8\"],[0.3333333333333333,\"#9c179e\"],[0.4444444444444444,\"#bd3786\"],[0.5555555555555556,\"#d8576b\"],[0.6666666666666666,\"#ed7953\"],[0.7777777777777778,\"#fb9f3a\"],[0.8888888888888888,\"#fdca26\"],[1.0,\"#f0f921\"]]}],\"mesh3d\":[{\"type\":\"mesh3d\",\"colorbar\":{\"outlinewidth\":0,\"ticks\":\"\"}}],\"scatter\":[{\"fillpattern\":{\"fillmode\":\"overlay\",\"size\":10,\"solidity\":0.2},\"type\":\"scatter\"}],\"parcoords\":[{\"type\":\"parcoords\",\"line\":{\"colorbar\":{\"outlinewidth\":0,\"ticks\":\"\"}}}],\"scatterpolargl\":[{\"type\":\"scatterpolargl\",\"marker\":{\"colorbar\":{\"outlinewidth\":0,\"ticks\":\"\"}}}],\"bar\":[{\"error_x\":{\"color\":\"#2a3f5f\"},\"error_y\":{\"color\":\"#2a3f5f\"},\"marker\":{\"line\":{\"color\":\"#E5ECF6\",\"width\":0.5},\"pattern\":{\"fillmode\":\"overlay\",\"size\":10,\"solidity\":0.2}},\"type\":\"bar\"}],\"scattergeo\":[{\"type\":\"scattergeo\",\"marker\":{\"colorbar\":{\"outlinewidth\":0,\"ticks\":\"\"}}}],\"scatterpolar\":[{\"type\":\"scatterpolar\",\"marker\":{\"colorbar\":{\"outlinewidth\":0,\"ticks\":\"\"}}}],\"histogram\":[{\"marker\":{\"pattern\":{\"fillmode\":\"overlay\",\"size\":10,\"solidity\":0.2}},\"type\":\"histogram\"}],\"scattergl\":[{\"type\":\"scattergl\",\"marker\":{\"colorbar\":{\"outlinewidth\":0,\"ticks\":\"\"}}}],\"scatter3d\":[{\"type\":\"scatter3d\",\"line\":{\"colorbar\":{\"outlinewidth\":0,\"ticks\":\"\"}},\"marker\":{\"colorbar\":{\"outlinewidth\":0,\"ticks\":\"\"}}}],\"scattermapbox\":[{\"type\":\"scattermapbox\",\"marker\":{\"colorbar\":{\"outlinewidth\":0,\"ticks\":\"\"}}}],\"scatterternary\":[{\"type\":\"scatterternary\",\"marker\":{\"colorbar\":{\"outlinewidth\":0,\"ticks\":\"\"}}}],\"scattercarpet\":[{\"type\":\"scattercarpet\",\"marker\":{\"colorbar\":{\"outlinewidth\":0,\"ticks\":\"\"}}}],\"carpet\":[{\"aaxis\":{\"endlinecolor\":\"#2a3f5f\",\"gridcolor\":\"white\",\"linecolor\":\"white\",\"minorgridcolor\":\"white\",\"startlinecolor\":\"#2a3f5f\"},\"baxis\":{\"endlinecolor\":\"#2a3f5f\",\"gridcolor\":\"white\",\"linecolor\":\"white\",\"minorgridcolor\":\"white\",\"startlinecolor\":\"#2a3f5f\"},\"type\":\"carpet\"}],\"table\":[{\"cells\":{\"fill\":{\"color\":\"#EBF0F8\"},\"line\":{\"color\":\"white\"}},\"header\":{\"fill\":{\"color\":\"#C8D4E3\"},\"line\":{\"color\":\"white\"}},\"type\":\"table\"}],\"barpolar\":[{\"marker\":{\"line\":{\"color\":\"#E5ECF6\",\"width\":0.5},\"pattern\":{\"fillmode\":\"overlay\",\"size\":10,\"solidity\":0.2}},\"type\":\"barpolar\"}],\"pie\":[{\"automargin\":true,\"type\":\"pie\"}]},\"layout\":{\"autotypenumbers\":\"strict\",\"colorway\":[\"#636efa\",\"#EF553B\",\"#00cc96\",\"#ab63fa\",\"#FFA15A\",\"#19d3f3\",\"#FF6692\",\"#B6E880\",\"#FF97FF\",\"#FECB52\"],\"font\":{\"color\":\"#2a3f5f\"},\"hovermode\":\"closest\",\"hoverlabel\":{\"align\":\"left\"},\"paper_bgcolor\":\"white\",\"plot_bgcolor\":\"#E5ECF6\",\"polar\":{\"bgcolor\":\"#E5ECF6\",\"angularaxis\":{\"gridcolor\":\"white\",\"linecolor\":\"white\",\"ticks\":\"\"},\"radialaxis\":{\"gridcolor\":\"white\",\"linecolor\":\"white\",\"ticks\":\"\"}},\"ternary\":{\"bgcolor\":\"#E5ECF6\",\"aaxis\":{\"gridcolor\":\"white\",\"linecolor\":\"white\",\"ticks\":\"\"},\"baxis\":{\"gridcolor\":\"white\",\"linecolor\":\"white\",\"ticks\":\"\"},\"caxis\":{\"gridcolor\":\"white\",\"linecolor\":\"white\",\"ticks\":\"\"}},\"coloraxis\":{\"colorbar\":{\"outlinewidth\":0,\"ticks\":\"\"}},\"colorscale\":{\"sequential\":[[0.0,\"#0d0887\"],[0.1111111111111111,\"#46039f\"],[0.2222222222222222,\"#7201a8\"],[0.3333333333333333,\"#9c179e\"],[0.4444444444444444,\"#bd3786\"],[0.5555555555555556,\"#d8576b\"],[0.6666666666666666,\"#ed7953\"],[0.7777777777777778,\"#fb9f3a\"],[0.8888888888888888,\"#fdca26\"],[1.0,\"#f0f921\"]],\"sequentialminus\":[[0.0,\"#0d0887\"],[0.1111111111111111,\"#46039f\"],[0.2222222222222222,\"#7201a8\"],[0.3333333333333333,\"#9c179e\"],[0.4444444444444444,\"#bd3786\"],[0.5555555555555556,\"#d8576b\"],[0.6666666666666666,\"#ed7953\"],[0.7777777777777778,\"#fb9f3a\"],[0.8888888888888888,\"#fdca26\"],[1.0,\"#f0f921\"]],\"diverging\":[[0,\"#8e0152\"],[0.1,\"#c51b7d\"],[0.2,\"#de77ae\"],[0.3,\"#f1b6da\"],[0.4,\"#fde0ef\"],[0.5,\"#f7f7f7\"],[0.6,\"#e6f5d0\"],[0.7,\"#b8e186\"],[0.8,\"#7fbc41\"],[0.9,\"#4d9221\"],[1,\"#276419\"]]},\"xaxis\":{\"gridcolor\":\"white\",\"linecolor\":\"white\",\"ticks\":\"\",\"title\":{\"standoff\":15},\"zerolinecolor\":\"white\",\"automargin\":true,\"zerolinewidth\":2},\"yaxis\":{\"gridcolor\":\"white\",\"linecolor\":\"white\",\"ticks\":\"\",\"title\":{\"standoff\":15},\"zerolinecolor\":\"white\",\"automargin\":true,\"zerolinewidth\":2},\"scene\":{\"xaxis\":{\"backgroundcolor\":\"#E5ECF6\",\"gridcolor\":\"white\",\"linecolor\":\"white\",\"showbackground\":true,\"ticks\":\"\",\"zerolinecolor\":\"white\",\"gridwidth\":2},\"yaxis\":{\"backgroundcolor\":\"#E5ECF6\",\"gridcolor\":\"white\",\"linecolor\":\"white\",\"showbackground\":true,\"ticks\":\"\",\"zerolinecolor\":\"white\",\"gridwidth\":2},\"zaxis\":{\"backgroundcolor\":\"#E5ECF6\",\"gridcolor\":\"white\",\"linecolor\":\"white\",\"showbackground\":true,\"ticks\":\"\",\"zerolinecolor\":\"white\",\"gridwidth\":2}},\"shapedefaults\":{\"line\":{\"color\":\"#2a3f5f\"}},\"annotationdefaults\":{\"arrowcolor\":\"#2a3f5f\",\"arrowhead\":0,\"arrowwidth\":1},\"geo\":{\"bgcolor\":\"white\",\"landcolor\":\"#E5ECF6\",\"subunitcolor\":\"white\",\"showland\":true,\"showlakes\":true,\"lakecolor\":\"white\"},\"title\":{\"x\":0.05},\"mapbox\":{\"style\":\"light\"}}},\"xaxis\":{\"anchor\":\"y\",\"domain\":[0.0,1.0]},\"yaxis\":{\"anchor\":\"x\",\"domain\":[0.0,1.0],\"autorange\":\"reversed\"},\"coloraxis\":{\"colorscale\":[[0.0,\"rgb(103,0,31)\"],[0.1,\"rgb(178,24,43)\"],[0.2,\"rgb(214,96,77)\"],[0.3,\"rgb(244,165,130)\"],[0.4,\"rgb(253,219,199)\"],[0.5,\"rgb(247,247,247)\"],[0.6,\"rgb(209,229,240)\"],[0.7,\"rgb(146,197,222)\"],[0.8,\"rgb(67,147,195)\"],[0.9,\"rgb(33,102,172)\"],[1.0,\"rgb(5,48,97)\"]]},\"title\":{\"text\":\"Sydney\"},\"width\":500},                        {\"responsive\": true}                    ).then(function(){\n",
       "                            \n",
       "var gd = document.getElementById('46df31d8-3ef0-488c-b0a3-e2d590b8201a');\n",
       "var x = new MutationObserver(function (mutations, observer) {{\n",
       "        var display = window.getComputedStyle(gd).display;\n",
       "        if (!display || display === 'none') {{\n",
       "            console.log([gd, 'removed!']);\n",
       "            Plotly.purge(gd);\n",
       "            observer.disconnect();\n",
       "        }}\n",
       "}});\n",
       "\n",
       "// Listen for the removal of the full notebook cells\n",
       "var notebookContainer = gd.closest('#notebook-container');\n",
       "if (notebookContainer) {{\n",
       "    x.observe(notebookContainer, {childList: true});\n",
       "}}\n",
       "\n",
       "// Listen for the clearing of the current output cell\n",
       "var outputEl = gd.closest('.output');\n",
       "if (outputEl) {{\n",
       "    x.observe(outputEl, {childList: true});\n",
       "}}\n",
       "\n",
       "                        })                };                });            </script>        </div>"
      ]
     },
     "metadata": {},
     "output_type": "display_data"
    }
   ],
   "source": [
    "fig_syd = px.imshow(df_syd.corr().round(2)['RainTomorrow'].to_frame(), text_auto = True, aspect = 'auto',\n",
    "                    color_continuous_scale='RdBu', width = 500, title = 'Sydney')\n",
    "fig_syd.show()"
   ]
  },
  {
   "cell_type": "code",
   "execution_count": 189,
   "metadata": {},
   "outputs": [
    {
     "data": {
      "application/vnd.plotly.v1+json": {
       "config": {
        "plotlyServerURL": "https://plot.ly"
       },
       "data": [
        {
         "coloraxis": "coloraxis",
         "hovertemplate": "x: %{x}<br>y: %{y}<br>color: %{z}<extra></extra>",
         "name": "0",
         "texttemplate": "%{z}",
         "type": "heatmap",
         "x": [
          "RainTomorrow"
         ],
         "xaxis": "x",
         "y": [
          "RainTomorrow",
          "MinTemp",
          "MaxTemp",
          "Rainfall",
          "WindGustSpeed",
          "WindSpeed9am",
          "WindSpeed3pm",
          "Humidity9am",
          "Humidity3pm",
          "Pressure9am",
          "Pressure3pm",
          "Cloud9am",
          "Cloud3pm",
          "Temp9am",
          "Temp3pm",
          "RainToday",
          "Months"
         ],
         "yaxis": "y",
         "z": [
          [
           1
          ],
          [
           0.12
          ],
          [
           -0.09
          ],
          [
           0.28
          ],
          [
           0.17
          ],
          [
           0.14
          ],
          [
           0.1
          ],
          [
           0.34
          ],
          [
           0.38
          ],
          [
           -0.06
          ],
          [
           -0.02
          ],
          [
           0.17
          ],
          [
           0.27
          ],
          [
           0
          ],
          [
           -0.13
          ],
          [
           0.3
          ],
          [
           -0.04
          ]
         ]
        }
       ],
       "layout": {
        "coloraxis": {
         "colorscale": [
          [
           0,
           "rgb(103,0,31)"
          ],
          [
           0.1,
           "rgb(178,24,43)"
          ],
          [
           0.2,
           "rgb(214,96,77)"
          ],
          [
           0.3,
           "rgb(244,165,130)"
          ],
          [
           0.4,
           "rgb(253,219,199)"
          ],
          [
           0.5,
           "rgb(247,247,247)"
          ],
          [
           0.6,
           "rgb(209,229,240)"
          ],
          [
           0.7,
           "rgb(146,197,222)"
          ],
          [
           0.8,
           "rgb(67,147,195)"
          ],
          [
           0.9,
           "rgb(33,102,172)"
          ],
          [
           1,
           "rgb(5,48,97)"
          ]
         ]
        },
        "template": {
         "data": {
          "bar": [
           {
            "error_x": {
             "color": "#2a3f5f"
            },
            "error_y": {
             "color": "#2a3f5f"
            },
            "marker": {
             "line": {
              "color": "#E5ECF6",
              "width": 0.5
             },
             "pattern": {
              "fillmode": "overlay",
              "size": 10,
              "solidity": 0.2
             }
            },
            "type": "bar"
           }
          ],
          "barpolar": [
           {
            "marker": {
             "line": {
              "color": "#E5ECF6",
              "width": 0.5
             },
             "pattern": {
              "fillmode": "overlay",
              "size": 10,
              "solidity": 0.2
             }
            },
            "type": "barpolar"
           }
          ],
          "carpet": [
           {
            "aaxis": {
             "endlinecolor": "#2a3f5f",
             "gridcolor": "white",
             "linecolor": "white",
             "minorgridcolor": "white",
             "startlinecolor": "#2a3f5f"
            },
            "baxis": {
             "endlinecolor": "#2a3f5f",
             "gridcolor": "white",
             "linecolor": "white",
             "minorgridcolor": "white",
             "startlinecolor": "#2a3f5f"
            },
            "type": "carpet"
           }
          ],
          "choropleth": [
           {
            "colorbar": {
             "outlinewidth": 0,
             "ticks": ""
            },
            "type": "choropleth"
           }
          ],
          "contour": [
           {
            "colorbar": {
             "outlinewidth": 0,
             "ticks": ""
            },
            "colorscale": [
             [
              0,
              "#0d0887"
             ],
             [
              0.1111111111111111,
              "#46039f"
             ],
             [
              0.2222222222222222,
              "#7201a8"
             ],
             [
              0.3333333333333333,
              "#9c179e"
             ],
             [
              0.4444444444444444,
              "#bd3786"
             ],
             [
              0.5555555555555556,
              "#d8576b"
             ],
             [
              0.6666666666666666,
              "#ed7953"
             ],
             [
              0.7777777777777778,
              "#fb9f3a"
             ],
             [
              0.8888888888888888,
              "#fdca26"
             ],
             [
              1,
              "#f0f921"
             ]
            ],
            "type": "contour"
           }
          ],
          "contourcarpet": [
           {
            "colorbar": {
             "outlinewidth": 0,
             "ticks": ""
            },
            "type": "contourcarpet"
           }
          ],
          "heatmap": [
           {
            "colorbar": {
             "outlinewidth": 0,
             "ticks": ""
            },
            "colorscale": [
             [
              0,
              "#0d0887"
             ],
             [
              0.1111111111111111,
              "#46039f"
             ],
             [
              0.2222222222222222,
              "#7201a8"
             ],
             [
              0.3333333333333333,
              "#9c179e"
             ],
             [
              0.4444444444444444,
              "#bd3786"
             ],
             [
              0.5555555555555556,
              "#d8576b"
             ],
             [
              0.6666666666666666,
              "#ed7953"
             ],
             [
              0.7777777777777778,
              "#fb9f3a"
             ],
             [
              0.8888888888888888,
              "#fdca26"
             ],
             [
              1,
              "#f0f921"
             ]
            ],
            "type": "heatmap"
           }
          ],
          "heatmapgl": [
           {
            "colorbar": {
             "outlinewidth": 0,
             "ticks": ""
            },
            "colorscale": [
             [
              0,
              "#0d0887"
             ],
             [
              0.1111111111111111,
              "#46039f"
             ],
             [
              0.2222222222222222,
              "#7201a8"
             ],
             [
              0.3333333333333333,
              "#9c179e"
             ],
             [
              0.4444444444444444,
              "#bd3786"
             ],
             [
              0.5555555555555556,
              "#d8576b"
             ],
             [
              0.6666666666666666,
              "#ed7953"
             ],
             [
              0.7777777777777778,
              "#fb9f3a"
             ],
             [
              0.8888888888888888,
              "#fdca26"
             ],
             [
              1,
              "#f0f921"
             ]
            ],
            "type": "heatmapgl"
           }
          ],
          "histogram": [
           {
            "marker": {
             "pattern": {
              "fillmode": "overlay",
              "size": 10,
              "solidity": 0.2
             }
            },
            "type": "histogram"
           }
          ],
          "histogram2d": [
           {
            "colorbar": {
             "outlinewidth": 0,
             "ticks": ""
            },
            "colorscale": [
             [
              0,
              "#0d0887"
             ],
             [
              0.1111111111111111,
              "#46039f"
             ],
             [
              0.2222222222222222,
              "#7201a8"
             ],
             [
              0.3333333333333333,
              "#9c179e"
             ],
             [
              0.4444444444444444,
              "#bd3786"
             ],
             [
              0.5555555555555556,
              "#d8576b"
             ],
             [
              0.6666666666666666,
              "#ed7953"
             ],
             [
              0.7777777777777778,
              "#fb9f3a"
             ],
             [
              0.8888888888888888,
              "#fdca26"
             ],
             [
              1,
              "#f0f921"
             ]
            ],
            "type": "histogram2d"
           }
          ],
          "histogram2dcontour": [
           {
            "colorbar": {
             "outlinewidth": 0,
             "ticks": ""
            },
            "colorscale": [
             [
              0,
              "#0d0887"
             ],
             [
              0.1111111111111111,
              "#46039f"
             ],
             [
              0.2222222222222222,
              "#7201a8"
             ],
             [
              0.3333333333333333,
              "#9c179e"
             ],
             [
              0.4444444444444444,
              "#bd3786"
             ],
             [
              0.5555555555555556,
              "#d8576b"
             ],
             [
              0.6666666666666666,
              "#ed7953"
             ],
             [
              0.7777777777777778,
              "#fb9f3a"
             ],
             [
              0.8888888888888888,
              "#fdca26"
             ],
             [
              1,
              "#f0f921"
             ]
            ],
            "type": "histogram2dcontour"
           }
          ],
          "mesh3d": [
           {
            "colorbar": {
             "outlinewidth": 0,
             "ticks": ""
            },
            "type": "mesh3d"
           }
          ],
          "parcoords": [
           {
            "line": {
             "colorbar": {
              "outlinewidth": 0,
              "ticks": ""
             }
            },
            "type": "parcoords"
           }
          ],
          "pie": [
           {
            "automargin": true,
            "type": "pie"
           }
          ],
          "scatter": [
           {
            "fillpattern": {
             "fillmode": "overlay",
             "size": 10,
             "solidity": 0.2
            },
            "type": "scatter"
           }
          ],
          "scatter3d": [
           {
            "line": {
             "colorbar": {
              "outlinewidth": 0,
              "ticks": ""
             }
            },
            "marker": {
             "colorbar": {
              "outlinewidth": 0,
              "ticks": ""
             }
            },
            "type": "scatter3d"
           }
          ],
          "scattercarpet": [
           {
            "marker": {
             "colorbar": {
              "outlinewidth": 0,
              "ticks": ""
             }
            },
            "type": "scattercarpet"
           }
          ],
          "scattergeo": [
           {
            "marker": {
             "colorbar": {
              "outlinewidth": 0,
              "ticks": ""
             }
            },
            "type": "scattergeo"
           }
          ],
          "scattergl": [
           {
            "marker": {
             "colorbar": {
              "outlinewidth": 0,
              "ticks": ""
             }
            },
            "type": "scattergl"
           }
          ],
          "scattermapbox": [
           {
            "marker": {
             "colorbar": {
              "outlinewidth": 0,
              "ticks": ""
             }
            },
            "type": "scattermapbox"
           }
          ],
          "scatterpolar": [
           {
            "marker": {
             "colorbar": {
              "outlinewidth": 0,
              "ticks": ""
             }
            },
            "type": "scatterpolar"
           }
          ],
          "scatterpolargl": [
           {
            "marker": {
             "colorbar": {
              "outlinewidth": 0,
              "ticks": ""
             }
            },
            "type": "scatterpolargl"
           }
          ],
          "scatterternary": [
           {
            "marker": {
             "colorbar": {
              "outlinewidth": 0,
              "ticks": ""
             }
            },
            "type": "scatterternary"
           }
          ],
          "surface": [
           {
            "colorbar": {
             "outlinewidth": 0,
             "ticks": ""
            },
            "colorscale": [
             [
              0,
              "#0d0887"
             ],
             [
              0.1111111111111111,
              "#46039f"
             ],
             [
              0.2222222222222222,
              "#7201a8"
             ],
             [
              0.3333333333333333,
              "#9c179e"
             ],
             [
              0.4444444444444444,
              "#bd3786"
             ],
             [
              0.5555555555555556,
              "#d8576b"
             ],
             [
              0.6666666666666666,
              "#ed7953"
             ],
             [
              0.7777777777777778,
              "#fb9f3a"
             ],
             [
              0.8888888888888888,
              "#fdca26"
             ],
             [
              1,
              "#f0f921"
             ]
            ],
            "type": "surface"
           }
          ],
          "table": [
           {
            "cells": {
             "fill": {
              "color": "#EBF0F8"
             },
             "line": {
              "color": "white"
             }
            },
            "header": {
             "fill": {
              "color": "#C8D4E3"
             },
             "line": {
              "color": "white"
             }
            },
            "type": "table"
           }
          ]
         },
         "layout": {
          "annotationdefaults": {
           "arrowcolor": "#2a3f5f",
           "arrowhead": 0,
           "arrowwidth": 1
          },
          "autotypenumbers": "strict",
          "coloraxis": {
           "colorbar": {
            "outlinewidth": 0,
            "ticks": ""
           }
          },
          "colorscale": {
           "diverging": [
            [
             0,
             "#8e0152"
            ],
            [
             0.1,
             "#c51b7d"
            ],
            [
             0.2,
             "#de77ae"
            ],
            [
             0.3,
             "#f1b6da"
            ],
            [
             0.4,
             "#fde0ef"
            ],
            [
             0.5,
             "#f7f7f7"
            ],
            [
             0.6,
             "#e6f5d0"
            ],
            [
             0.7,
             "#b8e186"
            ],
            [
             0.8,
             "#7fbc41"
            ],
            [
             0.9,
             "#4d9221"
            ],
            [
             1,
             "#276419"
            ]
           ],
           "sequential": [
            [
             0,
             "#0d0887"
            ],
            [
             0.1111111111111111,
             "#46039f"
            ],
            [
             0.2222222222222222,
             "#7201a8"
            ],
            [
             0.3333333333333333,
             "#9c179e"
            ],
            [
             0.4444444444444444,
             "#bd3786"
            ],
            [
             0.5555555555555556,
             "#d8576b"
            ],
            [
             0.6666666666666666,
             "#ed7953"
            ],
            [
             0.7777777777777778,
             "#fb9f3a"
            ],
            [
             0.8888888888888888,
             "#fdca26"
            ],
            [
             1,
             "#f0f921"
            ]
           ],
           "sequentialminus": [
            [
             0,
             "#0d0887"
            ],
            [
             0.1111111111111111,
             "#46039f"
            ],
            [
             0.2222222222222222,
             "#7201a8"
            ],
            [
             0.3333333333333333,
             "#9c179e"
            ],
            [
             0.4444444444444444,
             "#bd3786"
            ],
            [
             0.5555555555555556,
             "#d8576b"
            ],
            [
             0.6666666666666666,
             "#ed7953"
            ],
            [
             0.7777777777777778,
             "#fb9f3a"
            ],
            [
             0.8888888888888888,
             "#fdca26"
            ],
            [
             1,
             "#f0f921"
            ]
           ]
          },
          "colorway": [
           "#636efa",
           "#EF553B",
           "#00cc96",
           "#ab63fa",
           "#FFA15A",
           "#19d3f3",
           "#FF6692",
           "#B6E880",
           "#FF97FF",
           "#FECB52"
          ],
          "font": {
           "color": "#2a3f5f"
          },
          "geo": {
           "bgcolor": "white",
           "lakecolor": "white",
           "landcolor": "#E5ECF6",
           "showlakes": true,
           "showland": true,
           "subunitcolor": "white"
          },
          "hoverlabel": {
           "align": "left"
          },
          "hovermode": "closest",
          "mapbox": {
           "style": "light"
          },
          "paper_bgcolor": "white",
          "plot_bgcolor": "#E5ECF6",
          "polar": {
           "angularaxis": {
            "gridcolor": "white",
            "linecolor": "white",
            "ticks": ""
           },
           "bgcolor": "#E5ECF6",
           "radialaxis": {
            "gridcolor": "white",
            "linecolor": "white",
            "ticks": ""
           }
          },
          "scene": {
           "xaxis": {
            "backgroundcolor": "#E5ECF6",
            "gridcolor": "white",
            "gridwidth": 2,
            "linecolor": "white",
            "showbackground": true,
            "ticks": "",
            "zerolinecolor": "white"
           },
           "yaxis": {
            "backgroundcolor": "#E5ECF6",
            "gridcolor": "white",
            "gridwidth": 2,
            "linecolor": "white",
            "showbackground": true,
            "ticks": "",
            "zerolinecolor": "white"
           },
           "zaxis": {
            "backgroundcolor": "#E5ECF6",
            "gridcolor": "white",
            "gridwidth": 2,
            "linecolor": "white",
            "showbackground": true,
            "ticks": "",
            "zerolinecolor": "white"
           }
          },
          "shapedefaults": {
           "line": {
            "color": "#2a3f5f"
           }
          },
          "ternary": {
           "aaxis": {
            "gridcolor": "white",
            "linecolor": "white",
            "ticks": ""
           },
           "baxis": {
            "gridcolor": "white",
            "linecolor": "white",
            "ticks": ""
           },
           "bgcolor": "#E5ECF6",
           "caxis": {
            "gridcolor": "white",
            "linecolor": "white",
            "ticks": ""
           }
          },
          "title": {
           "x": 0.05
          },
          "xaxis": {
           "automargin": true,
           "gridcolor": "white",
           "linecolor": "white",
           "ticks": "",
           "title": {
            "standoff": 15
           },
           "zerolinecolor": "white",
           "zerolinewidth": 2
          },
          "yaxis": {
           "automargin": true,
           "gridcolor": "white",
           "linecolor": "white",
           "ticks": "",
           "title": {
            "standoff": 15
           },
           "zerolinecolor": "white",
           "zerolinewidth": 2
          }
         }
        },
        "title": {
         "text": "Wollongong"
        },
        "width": 500,
        "xaxis": {
         "anchor": "y",
         "domain": [
          0,
          1
         ]
        },
        "yaxis": {
         "anchor": "x",
         "autorange": "reversed",
         "domain": [
          0,
          1
         ]
        }
       }
      },
      "text/html": [
       "<div>                            <div id=\"a81ac6eb-9aa3-4780-b7ae-ec3a4678ff3e\" class=\"plotly-graph-div\" style=\"height:525px; width:500px;\"></div>            <script type=\"text/javascript\">                require([\"plotly\"], function(Plotly) {                    window.PLOTLYENV=window.PLOTLYENV || {};                                    if (document.getElementById(\"a81ac6eb-9aa3-4780-b7ae-ec3a4678ff3e\")) {                    Plotly.newPlot(                        \"a81ac6eb-9aa3-4780-b7ae-ec3a4678ff3e\",                        [{\"coloraxis\":\"coloraxis\",\"name\":\"0\",\"texttemplate\":\"%{z}\",\"x\":[\"RainTomorrow\"],\"y\":[\"RainTomorrow\",\"MinTemp\",\"MaxTemp\",\"Rainfall\",\"WindGustSpeed\",\"WindSpeed9am\",\"WindSpeed3pm\",\"Humidity9am\",\"Humidity3pm\",\"Pressure9am\",\"Pressure3pm\",\"Cloud9am\",\"Cloud3pm\",\"Temp9am\",\"Temp3pm\",\"RainToday\",\"Months\"],\"z\":[[1.0],[0.12],[-0.09],[0.28],[0.17],[0.14],[0.1],[0.34],[0.38],[-0.06],[-0.02],[0.17],[0.27],[-0.0],[-0.13],[0.3],[-0.04]],\"type\":\"heatmap\",\"xaxis\":\"x\",\"yaxis\":\"y\",\"hovertemplate\":\"x: %{x}\\u003cbr\\u003ey: %{y}\\u003cbr\\u003ecolor: %{z}\\u003cextra\\u003e\\u003c\\u002fextra\\u003e\"}],                        {\"template\":{\"data\":{\"histogram2dcontour\":[{\"type\":\"histogram2dcontour\",\"colorbar\":{\"outlinewidth\":0,\"ticks\":\"\"},\"colorscale\":[[0.0,\"#0d0887\"],[0.1111111111111111,\"#46039f\"],[0.2222222222222222,\"#7201a8\"],[0.3333333333333333,\"#9c179e\"],[0.4444444444444444,\"#bd3786\"],[0.5555555555555556,\"#d8576b\"],[0.6666666666666666,\"#ed7953\"],[0.7777777777777778,\"#fb9f3a\"],[0.8888888888888888,\"#fdca26\"],[1.0,\"#f0f921\"]]}],\"choropleth\":[{\"type\":\"choropleth\",\"colorbar\":{\"outlinewidth\":0,\"ticks\":\"\"}}],\"histogram2d\":[{\"type\":\"histogram2d\",\"colorbar\":{\"outlinewidth\":0,\"ticks\":\"\"},\"colorscale\":[[0.0,\"#0d0887\"],[0.1111111111111111,\"#46039f\"],[0.2222222222222222,\"#7201a8\"],[0.3333333333333333,\"#9c179e\"],[0.4444444444444444,\"#bd3786\"],[0.5555555555555556,\"#d8576b\"],[0.6666666666666666,\"#ed7953\"],[0.7777777777777778,\"#fb9f3a\"],[0.8888888888888888,\"#fdca26\"],[1.0,\"#f0f921\"]]}],\"heatmap\":[{\"type\":\"heatmap\",\"colorbar\":{\"outlinewidth\":0,\"ticks\":\"\"},\"colorscale\":[[0.0,\"#0d0887\"],[0.1111111111111111,\"#46039f\"],[0.2222222222222222,\"#7201a8\"],[0.3333333333333333,\"#9c179e\"],[0.4444444444444444,\"#bd3786\"],[0.5555555555555556,\"#d8576b\"],[0.6666666666666666,\"#ed7953\"],[0.7777777777777778,\"#fb9f3a\"],[0.8888888888888888,\"#fdca26\"],[1.0,\"#f0f921\"]]}],\"heatmapgl\":[{\"type\":\"heatmapgl\",\"colorbar\":{\"outlinewidth\":0,\"ticks\":\"\"},\"colorscale\":[[0.0,\"#0d0887\"],[0.1111111111111111,\"#46039f\"],[0.2222222222222222,\"#7201a8\"],[0.3333333333333333,\"#9c179e\"],[0.4444444444444444,\"#bd3786\"],[0.5555555555555556,\"#d8576b\"],[0.6666666666666666,\"#ed7953\"],[0.7777777777777778,\"#fb9f3a\"],[0.8888888888888888,\"#fdca26\"],[1.0,\"#f0f921\"]]}],\"contourcarpet\":[{\"type\":\"contourcarpet\",\"colorbar\":{\"outlinewidth\":0,\"ticks\":\"\"}}],\"contour\":[{\"type\":\"contour\",\"colorbar\":{\"outlinewidth\":0,\"ticks\":\"\"},\"colorscale\":[[0.0,\"#0d0887\"],[0.1111111111111111,\"#46039f\"],[0.2222222222222222,\"#7201a8\"],[0.3333333333333333,\"#9c179e\"],[0.4444444444444444,\"#bd3786\"],[0.5555555555555556,\"#d8576b\"],[0.6666666666666666,\"#ed7953\"],[0.7777777777777778,\"#fb9f3a\"],[0.8888888888888888,\"#fdca26\"],[1.0,\"#f0f921\"]]}],\"surface\":[{\"type\":\"surface\",\"colorbar\":{\"outlinewidth\":0,\"ticks\":\"\"},\"colorscale\":[[0.0,\"#0d0887\"],[0.1111111111111111,\"#46039f\"],[0.2222222222222222,\"#7201a8\"],[0.3333333333333333,\"#9c179e\"],[0.4444444444444444,\"#bd3786\"],[0.5555555555555556,\"#d8576b\"],[0.6666666666666666,\"#ed7953\"],[0.7777777777777778,\"#fb9f3a\"],[0.8888888888888888,\"#fdca26\"],[1.0,\"#f0f921\"]]}],\"mesh3d\":[{\"type\":\"mesh3d\",\"colorbar\":{\"outlinewidth\":0,\"ticks\":\"\"}}],\"scatter\":[{\"fillpattern\":{\"fillmode\":\"overlay\",\"size\":10,\"solidity\":0.2},\"type\":\"scatter\"}],\"parcoords\":[{\"type\":\"parcoords\",\"line\":{\"colorbar\":{\"outlinewidth\":0,\"ticks\":\"\"}}}],\"scatterpolargl\":[{\"type\":\"scatterpolargl\",\"marker\":{\"colorbar\":{\"outlinewidth\":0,\"ticks\":\"\"}}}],\"bar\":[{\"error_x\":{\"color\":\"#2a3f5f\"},\"error_y\":{\"color\":\"#2a3f5f\"},\"marker\":{\"line\":{\"color\":\"#E5ECF6\",\"width\":0.5},\"pattern\":{\"fillmode\":\"overlay\",\"size\":10,\"solidity\":0.2}},\"type\":\"bar\"}],\"scattergeo\":[{\"type\":\"scattergeo\",\"marker\":{\"colorbar\":{\"outlinewidth\":0,\"ticks\":\"\"}}}],\"scatterpolar\":[{\"type\":\"scatterpolar\",\"marker\":{\"colorbar\":{\"outlinewidth\":0,\"ticks\":\"\"}}}],\"histogram\":[{\"marker\":{\"pattern\":{\"fillmode\":\"overlay\",\"size\":10,\"solidity\":0.2}},\"type\":\"histogram\"}],\"scattergl\":[{\"type\":\"scattergl\",\"marker\":{\"colorbar\":{\"outlinewidth\":0,\"ticks\":\"\"}}}],\"scatter3d\":[{\"type\":\"scatter3d\",\"line\":{\"colorbar\":{\"outlinewidth\":0,\"ticks\":\"\"}},\"marker\":{\"colorbar\":{\"outlinewidth\":0,\"ticks\":\"\"}}}],\"scattermapbox\":[{\"type\":\"scattermapbox\",\"marker\":{\"colorbar\":{\"outlinewidth\":0,\"ticks\":\"\"}}}],\"scatterternary\":[{\"type\":\"scatterternary\",\"marker\":{\"colorbar\":{\"outlinewidth\":0,\"ticks\":\"\"}}}],\"scattercarpet\":[{\"type\":\"scattercarpet\",\"marker\":{\"colorbar\":{\"outlinewidth\":0,\"ticks\":\"\"}}}],\"carpet\":[{\"aaxis\":{\"endlinecolor\":\"#2a3f5f\",\"gridcolor\":\"white\",\"linecolor\":\"white\",\"minorgridcolor\":\"white\",\"startlinecolor\":\"#2a3f5f\"},\"baxis\":{\"endlinecolor\":\"#2a3f5f\",\"gridcolor\":\"white\",\"linecolor\":\"white\",\"minorgridcolor\":\"white\",\"startlinecolor\":\"#2a3f5f\"},\"type\":\"carpet\"}],\"table\":[{\"cells\":{\"fill\":{\"color\":\"#EBF0F8\"},\"line\":{\"color\":\"white\"}},\"header\":{\"fill\":{\"color\":\"#C8D4E3\"},\"line\":{\"color\":\"white\"}},\"type\":\"table\"}],\"barpolar\":[{\"marker\":{\"line\":{\"color\":\"#E5ECF6\",\"width\":0.5},\"pattern\":{\"fillmode\":\"overlay\",\"size\":10,\"solidity\":0.2}},\"type\":\"barpolar\"}],\"pie\":[{\"automargin\":true,\"type\":\"pie\"}]},\"layout\":{\"autotypenumbers\":\"strict\",\"colorway\":[\"#636efa\",\"#EF553B\",\"#00cc96\",\"#ab63fa\",\"#FFA15A\",\"#19d3f3\",\"#FF6692\",\"#B6E880\",\"#FF97FF\",\"#FECB52\"],\"font\":{\"color\":\"#2a3f5f\"},\"hovermode\":\"closest\",\"hoverlabel\":{\"align\":\"left\"},\"paper_bgcolor\":\"white\",\"plot_bgcolor\":\"#E5ECF6\",\"polar\":{\"bgcolor\":\"#E5ECF6\",\"angularaxis\":{\"gridcolor\":\"white\",\"linecolor\":\"white\",\"ticks\":\"\"},\"radialaxis\":{\"gridcolor\":\"white\",\"linecolor\":\"white\",\"ticks\":\"\"}},\"ternary\":{\"bgcolor\":\"#E5ECF6\",\"aaxis\":{\"gridcolor\":\"white\",\"linecolor\":\"white\",\"ticks\":\"\"},\"baxis\":{\"gridcolor\":\"white\",\"linecolor\":\"white\",\"ticks\":\"\"},\"caxis\":{\"gridcolor\":\"white\",\"linecolor\":\"white\",\"ticks\":\"\"}},\"coloraxis\":{\"colorbar\":{\"outlinewidth\":0,\"ticks\":\"\"}},\"colorscale\":{\"sequential\":[[0.0,\"#0d0887\"],[0.1111111111111111,\"#46039f\"],[0.2222222222222222,\"#7201a8\"],[0.3333333333333333,\"#9c179e\"],[0.4444444444444444,\"#bd3786\"],[0.5555555555555556,\"#d8576b\"],[0.6666666666666666,\"#ed7953\"],[0.7777777777777778,\"#fb9f3a\"],[0.8888888888888888,\"#fdca26\"],[1.0,\"#f0f921\"]],\"sequentialminus\":[[0.0,\"#0d0887\"],[0.1111111111111111,\"#46039f\"],[0.2222222222222222,\"#7201a8\"],[0.3333333333333333,\"#9c179e\"],[0.4444444444444444,\"#bd3786\"],[0.5555555555555556,\"#d8576b\"],[0.6666666666666666,\"#ed7953\"],[0.7777777777777778,\"#fb9f3a\"],[0.8888888888888888,\"#fdca26\"],[1.0,\"#f0f921\"]],\"diverging\":[[0,\"#8e0152\"],[0.1,\"#c51b7d\"],[0.2,\"#de77ae\"],[0.3,\"#f1b6da\"],[0.4,\"#fde0ef\"],[0.5,\"#f7f7f7\"],[0.6,\"#e6f5d0\"],[0.7,\"#b8e186\"],[0.8,\"#7fbc41\"],[0.9,\"#4d9221\"],[1,\"#276419\"]]},\"xaxis\":{\"gridcolor\":\"white\",\"linecolor\":\"white\",\"ticks\":\"\",\"title\":{\"standoff\":15},\"zerolinecolor\":\"white\",\"automargin\":true,\"zerolinewidth\":2},\"yaxis\":{\"gridcolor\":\"white\",\"linecolor\":\"white\",\"ticks\":\"\",\"title\":{\"standoff\":15},\"zerolinecolor\":\"white\",\"automargin\":true,\"zerolinewidth\":2},\"scene\":{\"xaxis\":{\"backgroundcolor\":\"#E5ECF6\",\"gridcolor\":\"white\",\"linecolor\":\"white\",\"showbackground\":true,\"ticks\":\"\",\"zerolinecolor\":\"white\",\"gridwidth\":2},\"yaxis\":{\"backgroundcolor\":\"#E5ECF6\",\"gridcolor\":\"white\",\"linecolor\":\"white\",\"showbackground\":true,\"ticks\":\"\",\"zerolinecolor\":\"white\",\"gridwidth\":2},\"zaxis\":{\"backgroundcolor\":\"#E5ECF6\",\"gridcolor\":\"white\",\"linecolor\":\"white\",\"showbackground\":true,\"ticks\":\"\",\"zerolinecolor\":\"white\",\"gridwidth\":2}},\"shapedefaults\":{\"line\":{\"color\":\"#2a3f5f\"}},\"annotationdefaults\":{\"arrowcolor\":\"#2a3f5f\",\"arrowhead\":0,\"arrowwidth\":1},\"geo\":{\"bgcolor\":\"white\",\"landcolor\":\"#E5ECF6\",\"subunitcolor\":\"white\",\"showland\":true,\"showlakes\":true,\"lakecolor\":\"white\"},\"title\":{\"x\":0.05},\"mapbox\":{\"style\":\"light\"}}},\"xaxis\":{\"anchor\":\"y\",\"domain\":[0.0,1.0]},\"yaxis\":{\"anchor\":\"x\",\"domain\":[0.0,1.0],\"autorange\":\"reversed\"},\"coloraxis\":{\"colorscale\":[[0.0,\"rgb(103,0,31)\"],[0.1,\"rgb(178,24,43)\"],[0.2,\"rgb(214,96,77)\"],[0.3,\"rgb(244,165,130)\"],[0.4,\"rgb(253,219,199)\"],[0.5,\"rgb(247,247,247)\"],[0.6,\"rgb(209,229,240)\"],[0.7,\"rgb(146,197,222)\"],[0.8,\"rgb(67,147,195)\"],[0.9,\"rgb(33,102,172)\"],[1.0,\"rgb(5,48,97)\"]]},\"title\":{\"text\":\"Wollongong\"},\"width\":500},                        {\"responsive\": true}                    ).then(function(){\n",
       "                            \n",
       "var gd = document.getElementById('a81ac6eb-9aa3-4780-b7ae-ec3a4678ff3e');\n",
       "var x = new MutationObserver(function (mutations, observer) {{\n",
       "        var display = window.getComputedStyle(gd).display;\n",
       "        if (!display || display === 'none') {{\n",
       "            console.log([gd, 'removed!']);\n",
       "            Plotly.purge(gd);\n",
       "            observer.disconnect();\n",
       "        }}\n",
       "}});\n",
       "\n",
       "// Listen for the removal of the full notebook cells\n",
       "var notebookContainer = gd.closest('#notebook-container');\n",
       "if (notebookContainer) {{\n",
       "    x.observe(notebookContainer, {childList: true});\n",
       "}}\n",
       "\n",
       "// Listen for the clearing of the current output cell\n",
       "var outputEl = gd.closest('.output');\n",
       "if (outputEl) {{\n",
       "    x.observe(outputEl, {childList: true});\n",
       "}}\n",
       "\n",
       "                        })                };                });            </script>        </div>"
      ]
     },
     "metadata": {},
     "output_type": "display_data"
    }
   ],
   "source": [
    "# matrix_lau = df_lau.corr().round(2)\n",
    "# matrix_lau\n",
    "\n",
    "fig_wol = px.imshow(df_wol.drop(columns = ['Sunshine', 'Evaporation']).corr().round(2)['RainTomorrow'].to_frame(), title = \"Wollongong\",\n",
    "                    text_auto = True, aspect = 'auto', color_continuous_scale='RdBu', width = 500)\n",
    "fig_wol.show()"
   ]
  },
  {
   "cell_type": "code",
   "execution_count": 160,
   "metadata": {},
   "outputs": [
    {
     "data": {
      "application/vnd.plotly.v1+json": {
       "config": {
        "plotlyServerURL": "https://plot.ly"
       },
       "data": [
        {
         "coloraxis": "coloraxis",
         "hovertemplate": "x: %{x}<br>y: %{y}<br>color: %{z}<extra></extra>",
         "name": "0",
         "texttemplate": "%{z}",
         "type": "heatmap",
         "visible": true,
         "x": [
          "MinTemp",
          "MaxTemp",
          "Rainfall",
          "Evaporation",
          "Sunshine",
          "WindGustSpeed",
          "WindSpeed9am",
          "WindSpeed3pm",
          "Humidity9am",
          "Humidity3pm",
          "Pressure9am",
          "Pressure3pm",
          "Cloud9am",
          "Cloud3pm",
          "Temp9am",
          "Temp3pm"
         ],
         "xaxis": "x",
         "y": [
          "MinTemp",
          "MaxTemp",
          "Rainfall",
          "Evaporation",
          "Sunshine",
          "WindGustSpeed",
          "WindSpeed9am",
          "WindSpeed3pm",
          "Humidity9am",
          "Humidity3pm",
          "Pressure9am",
          "Pressure3pm",
          "Cloud9am",
          "Cloud3pm",
          "Temp9am",
          "Temp3pm"
         ],
         "yaxis": "y",
         "z": [
          [
           1,
           0.736554879947358,
           0.10393795340859532,
           0.4669925569214256,
           0.07258586808397571,
           0.1774145260976753,
           0.17506364073869057,
           0.17517263108767825,
           -0.23289924559073164,
           0.006088664224423575,
           -0.4509699734544065,
           -0.46129172586164047,
           0.0787538283427066,
           0.021604685038888648,
           0.9018205621778996,
           0.7089055392798455
          ],
          [
           0.736554879947358,
           1,
           -0.07499209497993575,
           0.5879322271019112,
           0.4701557064131683,
           0.06761477569098283,
           0.01444964588964599,
           0.050300397194580494,
           -0.5041098050273038,
           -0.5088554199984232,
           -0.33206130275331036,
           -0.4271668835749745,
           -0.2893701949239778,
           -0.27792100295511346,
           0.8872096927504229,
           0.9845028310904481
          ],
          [
           0.10393795340859532,
           -0.07499209497993575,
           1,
           -0.06435117292604013,
           -0.22754857553745375,
           0.13365939753988504,
           0.08733769468151066,
           0.05788711972355656,
           0.22440497587716363,
           0.2557546575244556,
           -0.16815364149847833,
           -0.1265338436909568,
           0.19852828605297007,
           0.17240289926478258,
           0.011191601489034678,
           -0.0796570726164772
          ],
          [
           0.4669925569214256,
           0.5879322271019112,
           -0.06435117292604013,
           1,
           0.36560215022270703,
           0.20302143800515285,
           0.19308448307770443,
           0.12940001633420806,
           -0.5040922527968444,
           -0.39024259071039363,
           -0.2703621404798875,
           -0.2935805340204502,
           -0.18379325900830737,
           -0.18261841213978056,
           0.5451152126470746,
           0.5728932109454876
          ],
          [
           0.07258586808397571,
           0.4701557064131683,
           -0.22754857553745375,
           0.36560215022270703,
           1,
           -0.03475045685199232,
           0.005498574825312206,
           0.053834024723800285,
           -0.49081885139829456,
           -0.6291303599834128,
           0.041969831552005885,
           -0.019719031024735247,
           -0.6753233097055099,
           -0.7039296337088615,
           0.29118794175836554,
           0.4905006212075918
          ],
          [
           0.1774145260976753,
           0.06761477569098283,
           0.13365939753988504,
           0.20302143800515285,
           -0.03475045685199232,
           1,
           0.6053032893809175,
           0.686306743470663,
           -0.21506968756795294,
           -0.026327121063789812,
           -0.45874421802344273,
           -0.41374904863463996,
           0.0717355819801594,
           0.1091675240686803,
           0.15015009761950066,
           0.03274777925600875
          ],
          [
           0.17506364073869057,
           0.01444964588964599,
           0.08733769468151066,
           0.19308448307770443,
           0.005498574825312206,
           0.6053032893809175,
           1,
           0.519546834492561,
           -0.2708583880345406,
           -0.0316138259484374,
           -0.22874305315934174,
           -0.17581712628835547,
           0.02511225384648038,
           0.054638619717694493,
           0.12854466322246128,
           0.004568833457939502
          ],
          [
           0.17517263108767825,
           0.050300397194580494,
           0.05788711972355656,
           0.12940001633420806,
           0.053834024723800285,
           0.686306743470663,
           0.519546834492561,
           1,
           -0.145525126140691,
           0.016432471350722434,
           -0.2963511676629694,
           -0.25543861805056034,
           0.05333665419063742,
           0.025395671222374603,
           0.16302996588669325,
           0.027777592344805757
          ],
          [
           -0.23289924559073164,
           -0.5041098050273038,
           0.22440497587716363,
           -0.5040922527968444,
           -0.49081885139829456,
           -0.21506968756795294,
           -0.2708583880345406,
           -0.145525126140691,
           1,
           0.6669485686855433,
           0.13944214914517747,
           0.18685839923670616,
           0.45229699069983464,
           0.3573261614347828,
           -0.47135393998323405,
           -0.49839946252911915
          ],
          [
           0.006088664224423575,
           -0.5088554199984232,
           0.2557546575244556,
           -0.39024259071039363,
           -0.6291303599834128,
           -0.026327121063789812,
           -0.0316138259484374,
           0.016432471350722434,
           0.6669485686855433,
           1,
           -0.02754442712799566,
           0.05199662593498018,
           0.517119947699489,
           0.5231199766631821,
           -0.22101938347112143,
           -0.5578410027715796
          ],
          [
           -0.4509699734544065,
           -0.33206130275331036,
           -0.16815364149847833,
           -0.2703621404798875,
           0.041969831552005885,
           -0.45874421802344273,
           -0.22874305315934174,
           -0.2963511676629694,
           0.13944214914517747,
           -0.02754442712799566,
           1,
           0.961325721117448,
           -0.12979647803334157,
           -0.1478608219698691,
           -0.4225556605462815,
           -0.2867700414222888
          ],
          [
           -0.46129172586164047,
           -0.4271668835749745,
           -0.1265338436909568,
           -0.2935805340204502,
           -0.019719031024735247,
           -0.41374904863463996,
           -0.17581712628835547,
           -0.25543861805056034,
           0.18685839923670616,
           0.05199662593498018,
           0.961325721117448,
           1,
           -0.06077150995691364,
           -0.08477834323465137,
           -0.4701868443814808,
           -0.38954834973721725
          ],
          [
           0.0787538283427066,
           -0.2893701949239778,
           0.19852828605297007,
           -0.18379325900830737,
           -0.6753233097055099,
           0.0717355819801594,
           0.02511225384648038,
           0.05333665419063742,
           0.45229699069983464,
           0.517119947699489,
           -0.12979647803334157,
           -0.06077150995691364,
           1,
           0.6035637678576092,
           -0.13695868734311356,
           -0.3020600252203267
          ],
          [
           0.021604685038888648,
           -0.27792100295511346,
           0.17240289926478258,
           -0.18261841213978056,
           -0.7039296337088615,
           0.1091675240686803,
           0.054638619717694493,
           0.025395671222374603,
           0.3573261614347828,
           0.5231199766631821,
           -0.1478608219698691,
           -0.08477834323465137,
           0.6035637678576092,
           1,
           -0.12665882260768616,
           -0.31741962047769096
          ],
          [
           0.9018205621778996,
           0.8872096927504229,
           0.011191601489034678,
           0.5451152126470746,
           0.29118794175836554,
           0.15015009761950066,
           0.12854466322246128,
           0.16302996588669325,
           -0.47135393998323405,
           -0.22101938347112143,
           -0.4225556605462815,
           -0.4701868443814808,
           -0.13695868734311356,
           -0.12665882260768616,
           1,
           0.86059123734335
          ],
          [
           0.7089055392798455,
           0.9845028310904481,
           -0.0796570726164772,
           0.5728932109454876,
           0.4905006212075918,
           0.03274777925600875,
           0.004568833457939502,
           0.027777592344805757,
           -0.49839946252911915,
           -0.5578410027715796,
           -0.2867700414222888,
           -0.38954834973721725,
           -0.3020600252203267,
           -0.31741962047769096,
           0.86059123734335,
           1
          ]
         ]
        },
        {
         "coloraxis": "coloraxis",
         "hovertemplate": "x: %{x}<br>y: %{y}<br>color: %{z}<extra></extra>",
         "name": "0",
         "texttemplate": "%{z}",
         "type": "heatmap",
         "visible": false,
         "x": [
          "RainTomorrow"
         ],
         "xaxis": "x",
         "y": [
          "RainTomorrow",
          "MinTemp",
          "MaxTemp",
          "Rainfall",
          "Evaporation",
          "Sunshine",
          "WindGustSpeed",
          "WindSpeed9am",
          "WindSpeed3pm",
          "Humidity9am",
          "Humidity3pm",
          "Pressure9am",
          "Pressure3pm",
          "Cloud9am",
          "Cloud3pm",
          "Temp9am",
          "Temp3pm"
         ],
         "yaxis": "y",
         "z": [
          [
           1
          ],
          [
           0.08
          ],
          [
           -0.16
          ],
          [
           0.24
          ],
          [
           -0.12
          ],
          [
           -0.45
          ],
          [
           0.23
          ],
          [
           0.09
          ],
          [
           0.09
          ],
          [
           0.26
          ],
          [
           0.45
          ],
          [
           -0.25
          ],
          [
           -0.23
          ],
          [
           0.32
          ],
          [
           0.38
          ],
          [
           -0.03
          ],
          [
           -0.19
          ]
         ]
        },
        {
         "coloraxis": "coloraxis",
         "hovertemplate": "x: %{x}<br>y: %{y}<br>color: %{z}<extra></extra>",
         "name": "0",
         "texttemplate": "%{z}",
         "type": "heatmap",
         "visible": false,
         "x": [
          "RainTomorrow",
          "MinTemp",
          "MaxTemp",
          "Rainfall",
          "Evaporation",
          "Sunshine",
          "WindGustDir",
          "WindGustSpeed",
          "WindDir9am",
          "WindDir3pm",
          "WindSpeed9am",
          "WindSpeed3pm",
          "Humidity9am",
          "Humidity3pm",
          "Pressure9am",
          "Pressure3pm",
          "Cloud9am",
          "Cloud3pm",
          "Temp9am",
          "Temp3pm",
          "RainToday",
          "Months",
          "climate"
         ],
         "xaxis": "x",
         "y": [
          "RainTomorrow",
          "MinTemp",
          "MaxTemp",
          "Rainfall",
          "Evaporation",
          "Sunshine",
          "WindGustDir",
          "WindGustSpeed",
          "WindDir9am",
          "WindDir3pm",
          "WindSpeed9am",
          "WindSpeed3pm",
          "Humidity9am",
          "Humidity3pm",
          "Pressure9am",
          "Pressure3pm",
          "Cloud9am",
          "Cloud3pm",
          "Temp9am",
          "Temp3pm",
          "RainToday",
          "Months",
          "climate"
         ],
         "yaxis": "y",
         "z": [
          [
           1,
           0.08393581350156307,
           -0.15923666414933418,
           0.23903180145061995,
           -0.11928469674513816,
           -0.45076806310612133,
           0.05448787768927509,
           0.2340097255174442,
           0.018436465128785936,
           0.03443518679643055,
           0.09099465016310505,
           0.08781739865081424,
           0.2571611603438003,
           0.44616037879131293,
           -0.24637114625949133,
           -0.2260311455254271,
           0.31737982970634815,
           0.38187041104700753,
           -0.025690822604581623,
           -0.19242408670116043,
           0.31309674550896077,
           0.007328471840058584,
           0.08874490540107373
          ],
          [
           0.08393581350156307,
           1,
           0.736554879947358,
           0.10393795340859532,
           0.4669925569214256,
           0.07258586808397571,
           -0.12546510560514462,
           0.1774145260976753,
           -0.12510836430144925,
           -0.1588808902031206,
           0.17506364073869057,
           0.17517263108767825,
           -0.23289924559073164,
           0.006088664224423575,
           -0.4509699734544065,
           -0.46129172586164047,
           0.0787538283427066,
           0.021604685038888648,
           0.9018205621778996,
           0.7089055392798455,
           0.05583627714953934,
           -0.2038334961990112,
           0.027203226036641794
          ],
          [
           -0.15923666414933418,
           0.736554879947358,
           1,
           -0.07499209497993575,
           0.5879322271019112,
           0.4701557064131683,
           -0.20677399114883532,
           0.06761477569098283,
           -0.247523605245475,
           -0.18639030040584126,
           0.01444964588964599,
           0.050300397194580494,
           -0.5041098050273038,
           -0.5088554199984232,
           -0.33206130275331036,
           -0.4271668835749745,
           -0.2893701949239778,
           -0.27792100295511346,
           0.8872096927504229,
           0.9845028310904481,
           -0.22919201710479753,
           -0.16388435510848312,
           -0.10526053326948441
          ],
          [
           0.23903180145061995,
           0.10393795340859532,
           -0.07499209497993575,
           1,
           -0.06435117292604013,
           -0.22754857553745375,
           0.044790360485953945,
           0.13365939753988504,
           0.06565579553642202,
           0.04929575120155087,
           0.08733769468151066,
           0.05788711972355656,
           0.22440497587716363,
           0.2557546575244556,
           -0.16815364149847833,
           -0.1265338436909568,
           0.19852828605297007,
           0.17240289926478258,
           0.011191601489034678,
           -0.0796570726164772,
           0.5015157607624547,
           -0.03137101494207891,
           0.06287224452820833
          ],
          [
           -0.11928469674513816,
           0.4669925569214256,
           0.5879322271019112,
           -0.06435117292604013,
           1,
           0.36560215022270703,
           -0.09145487057709327,
           0.20302143800515285,
           -0.12441387884803935,
           -0.05995773734205562,
           0.19308448307770443,
           0.12940001633420806,
           -0.5040922527968444,
           -0.39024259071039363,
           -0.2703621404798875,
           -0.2935805340204502,
           -0.18379325900830737,
           -0.18261841213978056,
           0.5451152126470746,
           0.5728932109454876,
           -0.1869448712690504,
           -0.026804702597500497,
           -0.1669740807707648
          ],
          [
           -0.45076806310612133,
           0.07258586808397571,
           0.4701557064131683,
           -0.22754857553745375,
           0.36560215022270703,
           1,
           -0.08714451068460366,
           -0.03475045685199232,
           -0.11381176789409415,
           -0.05025213165552294,
           0.005498574825312206,
           0.053834024723800285,
           -0.49081885139829456,
           -0.6291303599834128,
           0.041969831552005885,
           -0.019719031024735247,
           -0.6753233097055099,
           -0.7039296337088615,
           0.29118794175836554,
           0.4905006212075918,
           -0.3305219883340796,
           0.024326846721304387,
           -0.13058039631398946
          ],
          [
           0.05448787768927509,
           -0.12546510560514462,
           -0.20677399114883532,
           0.044790360485953945,
           -0.09145487057709327,
           -0.08714451068460366,
           1,
           0.14216932091113657,
           0.3619951757207086,
           0.5606779676243747,
           -0.003837779989580148,
           0.07413457648782053,
           0.07314824286157952,
           0.07458272682959566,
           -0.11938602199625702,
           -0.028872115164091258,
           0.07810134864232743,
           0.06941300281677733,
           -0.16889256555548726,
           -0.2202727544561383,
           0.12560343069923902,
           0.03922480449070121,
           0.018512384100563186
          ],
          [
           0.2340097255174442,
           0.1774145260976753,
           0.06761477569098283,
           0.13365939753988504,
           0.20302143800515285,
           -0.03475045685199232,
           0.14216932091113657,
           1,
           -0.051322345569707314,
           0.1285923189058153,
           0.6053032893809175,
           0.686306743470663,
           -0.21506968756795294,
           -0.026327121063789812,
           -0.45874421802344273,
           -0.41374904863463996,
           0.0717355819801594,
           0.1091675240686803,
           0.15015009761950066,
           0.03274777925600875,
           0.15576076092638677,
           0.06102572708197479,
           0.0003200993792033971
          ],
          [
           0.018436465128785936,
           -0.12510836430144925,
           -0.247523605245475,
           0.06565579553642202,
           -0.12441387884803935,
           -0.11381176789409415,
           0.3619951757207086,
           -0.051322345569707314,
           1,
           0.2997244398039775,
           -0.15426641900237106,
           -0.016974665308061597,
           0.202861632217252,
           0.16441486973314154,
           0.029779652475743018,
           0.1096459084084164,
           0.11226929590809744,
           0.06692075799478021,
           -0.202708765921785,
           -0.25005576884294023,
           0.1364368712000411,
           0.0011575791119156353,
           0.10865054048152005
          ],
          [
           0.03443518679643055,
           -0.1588808902031206,
           -0.18639030040584126,
           0.04929575120155087,
           -0.05995773734205562,
           -0.05025213165552294,
           0.5606779676243747,
           0.1285923189058153,
           0.2997244398039775,
           1,
           0.03157183395264873,
           0.06464552080540305,
           0.03999398391452029,
           0.002796941876280849,
           -0.13105017179820774,
           -0.03249868576804112,
           0.06167362784133646,
           0.06729468298268082,
           -0.17808205916352193,
           -0.19828467288940743,
           0.12282159547906212,
           0.03355782464631565,
           -0.03415876770720816
          ],
          [
           0.09099465016310505,
           0.17506364073869057,
           0.01444964588964599,
           0.08733769468151066,
           0.19308448307770443,
           0.005498574825312206,
           -0.003837779989580148,
           0.6053032893809175,
           -0.15426641900237106,
           0.03157183395264873,
           1,
           0.519546834492561,
           -0.2708583880345406,
           -0.0316138259484374,
           -0.22874305315934174,
           -0.17581712628835547,
           0.02511225384648038,
           0.054638619717694493,
           0.12854466322246128,
           0.004568833457939502,
           0.10305709619777459,
           0.05127718301221624,
           -0.09648106808231084
          ],
          [
           0.08781739865081424,
           0.17517263108767825,
           0.050300397194580494,
           0.05788711972355656,
           0.12940001633420806,
           0.053834024723800285,
           0.07413457648782053,
           0.686306743470663,
           -0.016974665308061597,
           0.06464552080540305,
           0.519546834492561,
           1,
           -0.145525126140691,
           0.016432471350722434,
           -0.2963511676629694,
           -0.25543861805056034,
           0.05333665419063742,
           0.025395671222374603,
           0.16302996588669325,
           0.027777592344805757,
           0.0805913301004546,
           0.06037324323324587,
           0.045878973907706976
          ],
          [
           0.2571611603438003,
           -0.23289924559073164,
           -0.5041098050273038,
           0.22440497587716363,
           -0.5040922527968444,
           -0.49081885139829456,
           0.07314824286157952,
           -0.21506968756795294,
           0.202861632217252,
           0.03999398391452029,
           -0.2708583880345406,
           -0.145525126140691,
           1,
           0.6669485686855433,
           0.13944214914517747,
           0.18685839923670616,
           0.45229699069983464,
           0.3573261614347828,
           -0.47135393998323405,
           -0.49839946252911915,
           0.35370817607393973,
           -0.09075932437253288,
           0.2875629303413937
          ],
          [
           0.44616037879131293,
           0.006088664224423575,
           -0.5088554199984232,
           0.2557546575244556,
           -0.39024259071039363,
           -0.6291303599834128,
           0.07458272682959566,
           -0.026327121063789812,
           0.16441486973314154,
           0.002796941876280849,
           -0.0316138259484374,
           0.016432471350722434,
           0.6669485686855433,
           1,
           -0.02754442712799566,
           0.05199662593498018,
           0.517119947699489,
           0.5231199766631821,
           -0.22101938347112143,
           -0.5578410027715796,
           0.37902002883171093,
           -0.01885814387628076,
           0.3059025109958145
          ],
          [
           -0.24637114625949133,
           -0.4509699734544065,
           -0.33206130275331036,
           -0.16815364149847833,
           -0.2703621404798875,
           0.041969831552005885,
           -0.11938602199625702,
           -0.45874421802344273,
           0.029779652475743018,
           -0.13105017179820774,
           -0.22874305315934174,
           -0.2963511676629694,
           0.13944214914517747,
           -0.02754442712799566,
           1,
           0.961325721117448,
           -0.12979647803334157,
           -0.1478608219698691,
           -0.4225556605462815,
           -0.2867700414222888,
           -0.1897810025428808,
           0.034927807601934424,
           -0.07578123039333128
          ],
          [
           -0.2260311455254271,
           -0.46129172586164047,
           -0.4271668835749745,
           -0.1265338436909568,
           -0.2935805340204502,
           -0.019719031024735247,
           -0.028872115164091258,
           -0.41374904863463996,
           0.1096459084084164,
           -0.03249868576804112,
           -0.17581712628835547,
           -0.25543861805056034,
           0.18685839923670616,
           0.05199662593498018,
           0.961325721117448,
           1,
           -0.06077150995691364,
           -0.08477834323465137,
           -0.4701868443814808,
           -0.38954834973721725,
           -0.10612988528356615,
           0.02561125805226733,
           -0.059126089460642114
          ],
          [
           0.31737982970634815,
           0.0787538283427066,
           -0.2893701949239778,
           0.19852828605297007,
           -0.18379325900830737,
           -0.6753233097055099,
           0.07810134864232743,
           0.0717355819801594,
           0.11226929590809744,
           0.06167362784133646,
           0.02511225384648038,
           0.05333665419063742,
           0.45229699069983464,
           0.517119947699489,
           -0.12979647803334157,
           -0.06077150995691364,
           1,
           0.6035637678576092,
           -0.13695868734311356,
           -0.3020600252203267,
           0.306201284355178,
           -0.010168093192442393,
           0.177728909421615
          ],
          [
           0.38187041104700753,
           0.021604685038888648,
           -0.27792100295511346,
           0.17240289926478258,
           -0.18261841213978056,
           -0.7039296337088615,
           0.06941300281677733,
           0.1091675240686803,
           0.06692075799478021,
           0.06729468298268082,
           0.054638619717694493,
           0.025395671222374603,
           0.3573261614347828,
           0.5231199766631821,
           -0.1478608219698691,
           -0.08477834323465137,
           0.6035637678576092,
           1,
           -0.12665882260768616,
           -0.31741962047769096,
           0.2722249558653982,
           -0.003999266148236069,
           0.14446192874281766
          ],
          [
           -0.025690822604581623,
           0.9018205621778996,
           0.8872096927504229,
           0.011191601489034678,
           0.5451152126470746,
           0.29118794175836554,
           -0.16889256555548726,
           0.15015009761950066,
           -0.202708765921785,
           -0.17808205916352193,
           0.12854466322246128,
           0.16302996588669325,
           -0.47135393998323405,
           -0.22101938347112143,
           -0.4225556605462815,
           -0.4701868443814808,
           -0.13695868734311356,
           -0.12665882260768616,
           1,
           0.86059123734335,
           -0.09686468757182057,
           -0.13616133519461704,
           -0.029190754945049583
          ],
          [
           -0.19242408670116043,
           0.7089055392798455,
           0.9845028310904481,
           -0.0796570726164772,
           0.5728932109454876,
           0.4905006212075918,
           -0.2202727544561383,
           0.03274777925600875,
           -0.25005576884294023,
           -0.19828467288940743,
           0.004568833457939502,
           0.027777592344805757,
           -0.49839946252911915,
           -0.5578410027715796,
           -0.2867700414222888,
           -0.38954834973721725,
           -0.3020600252203267,
           -0.31741962047769096,
           0.86059123734335,
           1,
           -0.23534031052896895,
           -0.17500044407241472,
           -0.12634112167822073
          ],
          [
           0.31309674550896077,
           0.05583627714953934,
           -0.22919201710479753,
           0.5015157607624547,
           -0.1869448712690504,
           -0.3305219883340796,
           0.12560343069923902,
           0.15576076092638677,
           0.1364368712000411,
           0.12282159547906212,
           0.10305709619777459,
           0.0805913301004546,
           0.35370817607393973,
           0.37902002883171093,
           -0.1897810025428808,
           -0.10612988528356615,
           0.306201284355178,
           0.2722249558653982,
           -0.09686468757182057,
           -0.23534031052896895,
           1,
           0.010070578700031687,
           0.08879030221593713
          ],
          [
           0.007328471840058584,
           -0.2038334961990112,
           -0.16388435510848312,
           -0.03137101494207891,
           -0.026804702597500497,
           0.024326846721304387,
           0.03922480449070121,
           0.06102572708197479,
           0.0011575791119156353,
           0.03355782464631565,
           0.05127718301221624,
           0.06037324323324587,
           -0.09075932437253288,
           -0.01885814387628076,
           0.034927807601934424,
           0.02561125805226733,
           -0.010168093192442393,
           -0.003999266148236069,
           -0.13616133519461704,
           -0.17500044407241472,
           0.010070578700031687,
           1,
           0.0031922385861274686
          ],
          [
           0.08874490540107373,
           0.027203226036641794,
           -0.10526053326948441,
           0.06287224452820833,
           -0.1669740807707648,
           -0.13058039631398946,
           0.018512384100563186,
           0.0003200993792033971,
           0.10865054048152005,
           -0.03415876770720816,
           -0.09648106808231084,
           0.045878973907706976,
           0.2875629303413937,
           0.3059025109958145,
           -0.07578123039333128,
           -0.059126089460642114,
           0.177728909421615,
           0.14446192874281766,
           -0.029190754945049583,
           -0.12634112167822073,
           0.08879030221593713,
           0.0031922385861274686,
           1
          ]
         ]
        },
        {
         "coloraxis": "coloraxis",
         "colorscale": [
          [
           0,
           "rgb(103,0,31)"
          ],
          [
           0.1,
           "rgb(178,24,43)"
          ],
          [
           0.2,
           "rgb(214,96,77)"
          ],
          [
           0.3,
           "rgb(244,165,130)"
          ],
          [
           0.4,
           "rgb(253,219,199)"
          ],
          [
           0.5,
           "rgb(247,247,247)"
          ],
          [
           0.6,
           "rgb(209,229,240)"
          ],
          [
           0.7,
           "rgb(146,197,222)"
          ],
          [
           0.8,
           "rgb(67,147,195)"
          ],
          [
           0.9,
           "rgb(33,102,172)"
          ],
          [
           1,
           "rgb(5,48,97)"
          ]
         ],
         "hovertemplate": "x: %{x}<br>y: %{y}<br>color: %{z}<extra></extra>",
         "name": "0",
         "texttemplate": "%{z}",
         "type": "heatmap",
         "visible": false,
         "x": [
          "RainTomorrow",
          "MinTemp",
          "MaxTemp",
          "Rainfall",
          "WindGustDir",
          "WindGustSpeed",
          "WindDir9am",
          "WindDir3pm",
          "WindSpeed9am",
          "WindSpeed3pm",
          "Humidity9am",
          "Humidity3pm",
          "Pressure9am",
          "Pressure3pm",
          "Temp9am",
          "Temp3pm",
          "RainToday",
          "Months",
          "climate"
         ],
         "xaxis": "x",
         "y": [
          "RainTomorrow",
          "MinTemp",
          "MaxTemp",
          "Rainfall",
          "WindGustDir",
          "WindGustSpeed",
          "WindDir9am",
          "WindDir3pm",
          "WindSpeed9am",
          "WindSpeed3pm",
          "Humidity9am",
          "Humidity3pm",
          "Pressure9am",
          "Pressure3pm",
          "Temp9am",
          "Temp3pm",
          "RainToday",
          "Months",
          "climate"
         ],
         "yaxis": "y",
         "z": [
          [
           1,
           0.08393581350156307,
           -0.15923666414933418,
           0.23903180145061995,
           0.05448787768927509,
           0.2340097255174442,
           0.018436465128785936,
           0.03443518679643055,
           0.09099465016310505,
           0.08781739865081424,
           0.2571611603438003,
           0.44616037879131293,
           -0.24637114625949133,
           -0.2260311455254271,
           -0.025690822604581623,
           -0.19242408670116043,
           0.31309674550896077,
           0.007328471840058584,
           0.08874490540107373
          ],
          [
           0.08393581350156307,
           1,
           0.736554879947358,
           0.10393795340859532,
           -0.12546510560514462,
           0.1774145260976753,
           -0.12510836430144925,
           -0.1588808902031206,
           0.17506364073869057,
           0.17517263108767825,
           -0.23289924559073164,
           0.006088664224423575,
           -0.4509699734544065,
           -0.46129172586164047,
           0.9018205621778996,
           0.7089055392798455,
           0.05583627714953934,
           -0.2038334961990112,
           0.027203226036641794
          ],
          [
           -0.15923666414933418,
           0.736554879947358,
           1,
           -0.07499209497993575,
           -0.20677399114883532,
           0.06761477569098283,
           -0.247523605245475,
           -0.18639030040584126,
           0.01444964588964599,
           0.050300397194580494,
           -0.5041098050273038,
           -0.5088554199984232,
           -0.33206130275331036,
           -0.4271668835749745,
           0.8872096927504229,
           0.9845028310904481,
           -0.22919201710479753,
           -0.16388435510848312,
           -0.10526053326948441
          ],
          [
           0.23903180145061995,
           0.10393795340859532,
           -0.07499209497993575,
           1,
           0.044790360485953945,
           0.13365939753988504,
           0.06565579553642202,
           0.04929575120155087,
           0.08733769468151066,
           0.05788711972355656,
           0.22440497587716363,
           0.2557546575244556,
           -0.16815364149847833,
           -0.1265338436909568,
           0.011191601489034678,
           -0.0796570726164772,
           0.5015157607624547,
           -0.03137101494207891,
           0.06287224452820833
          ],
          [
           0.05448787768927509,
           -0.12546510560514462,
           -0.20677399114883532,
           0.044790360485953945,
           1,
           0.14216932091113657,
           0.3619951757207086,
           0.5606779676243747,
           -0.003837779989580148,
           0.07413457648782053,
           0.07314824286157952,
           0.07458272682959566,
           -0.11938602199625702,
           -0.028872115164091258,
           -0.16889256555548726,
           -0.2202727544561383,
           0.12560343069923902,
           0.03922480449070121,
           0.018512384100563186
          ],
          [
           0.2340097255174442,
           0.1774145260976753,
           0.06761477569098283,
           0.13365939753988504,
           0.14216932091113657,
           1,
           -0.051322345569707314,
           0.1285923189058153,
           0.6053032893809175,
           0.686306743470663,
           -0.21506968756795294,
           -0.026327121063789812,
           -0.45874421802344273,
           -0.41374904863463996,
           0.15015009761950066,
           0.03274777925600875,
           0.15576076092638677,
           0.06102572708197479,
           0.0003200993792033971
          ],
          [
           0.018436465128785936,
           -0.12510836430144925,
           -0.247523605245475,
           0.06565579553642202,
           0.3619951757207086,
           -0.051322345569707314,
           1,
           0.2997244398039775,
           -0.15426641900237106,
           -0.016974665308061597,
           0.202861632217252,
           0.16441486973314154,
           0.029779652475743018,
           0.1096459084084164,
           -0.202708765921785,
           -0.25005576884294023,
           0.1364368712000411,
           0.0011575791119156353,
           0.10865054048152005
          ],
          [
           0.03443518679643055,
           -0.1588808902031206,
           -0.18639030040584126,
           0.04929575120155087,
           0.5606779676243747,
           0.1285923189058153,
           0.2997244398039775,
           1,
           0.03157183395264873,
           0.06464552080540305,
           0.03999398391452029,
           0.002796941876280849,
           -0.13105017179820774,
           -0.03249868576804112,
           -0.17808205916352193,
           -0.19828467288940743,
           0.12282159547906212,
           0.03355782464631565,
           -0.03415876770720816
          ],
          [
           0.09099465016310505,
           0.17506364073869057,
           0.01444964588964599,
           0.08733769468151066,
           -0.003837779989580148,
           0.6053032893809175,
           -0.15426641900237106,
           0.03157183395264873,
           1,
           0.519546834492561,
           -0.2708583880345406,
           -0.0316138259484374,
           -0.22874305315934174,
           -0.17581712628835547,
           0.12854466322246128,
           0.004568833457939502,
           0.10305709619777459,
           0.05127718301221624,
           -0.09648106808231084
          ],
          [
           0.08781739865081424,
           0.17517263108767825,
           0.050300397194580494,
           0.05788711972355656,
           0.07413457648782053,
           0.686306743470663,
           -0.016974665308061597,
           0.06464552080540305,
           0.519546834492561,
           1,
           -0.145525126140691,
           0.016432471350722434,
           -0.2963511676629694,
           -0.25543861805056034,
           0.16302996588669325,
           0.027777592344805757,
           0.0805913301004546,
           0.06037324323324587,
           0.045878973907706976
          ],
          [
           0.2571611603438003,
           -0.23289924559073164,
           -0.5041098050273038,
           0.22440497587716363,
           0.07314824286157952,
           -0.21506968756795294,
           0.202861632217252,
           0.03999398391452029,
           -0.2708583880345406,
           -0.145525126140691,
           1,
           0.6669485686855433,
           0.13944214914517747,
           0.18685839923670616,
           -0.47135393998323405,
           -0.49839946252911915,
           0.35370817607393973,
           -0.09075932437253288,
           0.2875629303413937
          ],
          [
           0.44616037879131293,
           0.006088664224423575,
           -0.5088554199984232,
           0.2557546575244556,
           0.07458272682959566,
           -0.026327121063789812,
           0.16441486973314154,
           0.002796941876280849,
           -0.0316138259484374,
           0.016432471350722434,
           0.6669485686855433,
           1,
           -0.02754442712799566,
           0.05199662593498018,
           -0.22101938347112143,
           -0.5578410027715796,
           0.37902002883171093,
           -0.01885814387628076,
           0.3059025109958145
          ],
          [
           -0.24637114625949133,
           -0.4509699734544065,
           -0.33206130275331036,
           -0.16815364149847833,
           -0.11938602199625702,
           -0.45874421802344273,
           0.029779652475743018,
           -0.13105017179820774,
           -0.22874305315934174,
           -0.2963511676629694,
           0.13944214914517747,
           -0.02754442712799566,
           1,
           0.961325721117448,
           -0.4225556605462815,
           -0.2867700414222888,
           -0.1897810025428808,
           0.034927807601934424,
           -0.07578123039333128
          ],
          [
           -0.2260311455254271,
           -0.46129172586164047,
           -0.4271668835749745,
           -0.1265338436909568,
           -0.028872115164091258,
           -0.41374904863463996,
           0.1096459084084164,
           -0.03249868576804112,
           -0.17581712628835547,
           -0.25543861805056034,
           0.18685839923670616,
           0.05199662593498018,
           0.961325721117448,
           1,
           -0.4701868443814808,
           -0.38954834973721725,
           -0.10612988528356615,
           0.02561125805226733,
           -0.059126089460642114
          ],
          [
           -0.025690822604581623,
           0.9018205621778996,
           0.8872096927504229,
           0.011191601489034678,
           -0.16889256555548726,
           0.15015009761950066,
           -0.202708765921785,
           -0.17808205916352193,
           0.12854466322246128,
           0.16302996588669325,
           -0.47135393998323405,
           -0.22101938347112143,
           -0.4225556605462815,
           -0.4701868443814808,
           1,
           0.86059123734335,
           -0.09686468757182057,
           -0.13616133519461704,
           -0.029190754945049583
          ],
          [
           -0.19242408670116043,
           0.7089055392798455,
           0.9845028310904481,
           -0.0796570726164772,
           -0.2202727544561383,
           0.03274777925600875,
           -0.25005576884294023,
           -0.19828467288940743,
           0.004568833457939502,
           0.027777592344805757,
           -0.49839946252911915,
           -0.5578410027715796,
           -0.2867700414222888,
           -0.38954834973721725,
           0.86059123734335,
           1,
           -0.23534031052896895,
           -0.17500044407241472,
           -0.12634112167822073
          ],
          [
           0.31309674550896077,
           0.05583627714953934,
           -0.22919201710479753,
           0.5015157607624547,
           0.12560343069923902,
           0.15576076092638677,
           0.1364368712000411,
           0.12282159547906212,
           0.10305709619777459,
           0.0805913301004546,
           0.35370817607393973,
           0.37902002883171093,
           -0.1897810025428808,
           -0.10612988528356615,
           -0.09686468757182057,
           -0.23534031052896895,
           1,
           0.010070578700031687,
           0.08879030221593713
          ],
          [
           0.007328471840058584,
           -0.2038334961990112,
           -0.16388435510848312,
           -0.03137101494207891,
           0.03922480449070121,
           0.06102572708197479,
           0.0011575791119156353,
           0.03355782464631565,
           0.05127718301221624,
           0.06037324323324587,
           -0.09075932437253288,
           -0.01885814387628076,
           0.034927807601934424,
           0.02561125805226733,
           -0.13616133519461704,
           -0.17500044407241472,
           0.010070578700031687,
           1,
           0.0031922385861274686
          ],
          [
           0.08874490540107373,
           0.027203226036641794,
           -0.10526053326948441,
           0.06287224452820833,
           0.018512384100563186,
           0.0003200993792033971,
           0.10865054048152005,
           -0.03415876770720816,
           -0.09648106808231084,
           0.045878973907706976,
           0.2875629303413937,
           0.3059025109958145,
           -0.07578123039333128,
           -0.059126089460642114,
           -0.029190754945049583,
           -0.12634112167822073,
           0.08879030221593713,
           0.0031922385861274686,
           1
          ]
         ]
        },
        {
         "coloraxis": "coloraxis",
         "colorscale": [
          [
           0,
           "rgb(103,0,31)"
          ],
          [
           0.1,
           "rgb(178,24,43)"
          ],
          [
           0.2,
           "rgb(214,96,77)"
          ],
          [
           0.3,
           "rgb(244,165,130)"
          ],
          [
           0.4,
           "rgb(253,219,199)"
          ],
          [
           0.5,
           "rgb(247,247,247)"
          ],
          [
           0.6,
           "rgb(209,229,240)"
          ],
          [
           0.7,
           "rgb(146,197,222)"
          ],
          [
           0.8,
           "rgb(67,147,195)"
          ],
          [
           0.9,
           "rgb(33,102,172)"
          ],
          [
           1,
           "rgb(5,48,97)"
          ]
         ],
         "hovertemplate": "x: %{x}<br>y: %{y}<br>color: %{z}<extra></extra>",
         "name": "0",
         "texttemplate": "%{z}",
         "type": "heatmap",
         "visible": false,
         "x": [
          "RainTomorrow",
          "MinTemp",
          "MaxTemp",
          "Rainfall",
          "WindGustDir",
          "WindGustSpeed",
          "WindDir9am",
          "WindDir3pm",
          "WindSpeed9am",
          "WindSpeed3pm",
          "Humidity9am",
          "Humidity3pm",
          "Pressure9am",
          "Pressure3pm",
          "Temp9am",
          "Temp3pm",
          "RainToday",
          "Months",
          "climate"
         ],
         "xaxis": "x",
         "y": [
          "RainTomorrow",
          "MinTemp",
          "MaxTemp",
          "Rainfall",
          "WindGustDir",
          "WindGustSpeed",
          "WindDir9am",
          "WindDir3pm",
          "WindSpeed9am",
          "WindSpeed3pm",
          "Humidity9am",
          "Humidity3pm",
          "Pressure9am",
          "Pressure3pm",
          "Temp9am",
          "Temp3pm",
          "RainToday",
          "Months",
          "climate"
         ],
         "yaxis": "y",
         "z": [
          [
           1,
           0.08801933624469639,
           -0.16025739946813042,
           0.23783278181599282,
           0.05002631563193868,
           0.23600115541124533,
           0.01446095054870929,
           0.025450691036122627,
           0.09509978662045494,
           0.09383153460770645,
           0.2613785065549964,
           0.4526451373755603,
           -0.24645663245600347,
           -0.2281558920642846,
           -0.023737639081821492,
           -0.19505959735677372,
           0.31371778725462546,
           0.007922163043203142,
           0.0960504098702356
          ],
          [
           0.08801933624469639,
           1,
           0.7308467896252607,
           0.11105556832439559,
           -0.15375090320665774,
           0.1962705493818516,
           -0.12822928909140854,
           -0.16275595460623,
           0.20215055116281894,
           0.17492403184188535,
           -0.24619848493176472,
           0.022010383906732565,
           -0.45225929920856106,
           -0.4629183991747936,
           0.9030631470185919,
           0.7056636828616176,
           0.05970490531183075,
           -0.20449957481975606,
           0.0395159645944352
          ],
          [
           -0.16025739946813042,
           0.7308467896252607,
           1,
           -0.069919344101804,
           -0.2139388886780173,
           0.0889598833423957,
           -0.25677030272914864,
           -0.1764796684064474,
           0.031689005610535836,
           0.043565516620182626,
           -0.5240889892801298,
           -0.4987253484387088,
           -0.3294949704875041,
           -0.42323522459325547,
           0.8828465583899251,
           0.9846638513224081,
           -0.23052606476859408,
           -0.17183378326061113,
           -0.10940116571947434
          ],
          [
           0.23783278181599282,
           0.11105556832439559,
           -0.069919344101804,
           1,
           0.04392425278797009,
           0.13218074700712398,
           0.06473161937619988,
           0.044620288296641906,
           0.08875466036774875,
           0.06222157545092669,
           0.22536897729216285,
           0.25647474554098526,
           -0.17004812183591597,
           -0.1298402054391171,
           0.016858801273078317,
           -0.07397647405708874,
           0.49826040194869003,
           -0.033074527666260053,
           0.06813870927487448
          ],
          [
           0.05002631563193868,
           -0.15375090320665774,
           -0.2139388886780173,
           0.04392425278797009,
           1,
           0.1333997497456505,
           0.3550999589964281,
           0.5937066443131276,
           0.02542821962456856,
           0.10003720498829302,
           0.06414787827843763,
           0.046487248480187676,
           -0.1391649511635483,
           -0.044068756587938115,
           -0.1893297480909672,
           -0.22977571725475604,
           0.13481420969157099,
           0.04345687776854818,
           -0.0077383693357693396
          ],
          [
           0.23600115541124533,
           0.1962705493818516,
           0.0889598833423957,
           0.13218074700712398,
           0.1333997497456505,
           1,
           -0.05700792586941119,
           0.11966686310333095,
           0.6016071088524799,
           0.6891962612760189,
           -0.21981239829720237,
           -0.03546503386808475,
           -0.458367954366771,
           -0.4142853889231315,
           0.16659038244160915,
           0.04953709419958988,
           0.15605941922644267,
           0.05634164602841943,
           0.005581325867748552
          ],
          [
           0.01446095054870929,
           -0.12822928909140854,
           -0.25677030272914864,
           0.06473161937619988,
           0.3550999589964281,
           -0.05700792586941119,
           1,
           0.27047560284638145,
           -0.14573388047719882,
           -0.0006001032234457715,
           0.20819677246772467,
           0.16750855440236687,
           0.0275743448710979,
           0.10821200408383985,
           -0.20627051024608348,
           -0.2567949714169888,
           0.14022530864768815,
           -0.004145505749677174,
           0.10903545079967336
          ],
          [
           0.025450691036122627,
           -0.16275595460623,
           -0.1764796684064474,
           0.044620288296641906,
           0.5937066443131276,
           0.11966686310333095,
           0.27047560284638145,
           1,
           0.03572580424481582,
           0.07283028133577811,
           0.0323525760263631,
           -0.012667028306350123,
           -0.13460485426411425,
           -0.03587718088483836,
           -0.17750176851125735,
           -0.18986779682874416,
           0.12244622570798483,
           0.031150039499570306,
           -0.0463636279746584
          ],
          [
           0.09509978662045494,
           0.20215055116281894,
           0.031689005610535836,
           0.08875466036774875,
           0.02542821962456856,
           0.6016071088524799,
           -0.14573388047719882,
           0.03572580424481582,
           1,
           0.5140952681205336,
           -0.26931334772806786,
           -0.029132738178589346,
           -0.23034888512811574,
           -0.1795863636231255,
           0.14665536008715976,
           0.015774549924911105,
           0.10450754398833803,
           0.0533051076979512,
           -0.08769258303497203
          ],
          [
           0.09383153460770645,
           0.17492403184188535,
           0.043565516620182626,
           0.06222157545092669,
           0.10003720498829302,
           0.6891962612760189,
           -0.0006001032234457715,
           0.07283028133577811,
           0.5140952681205336,
           1,
           -0.13253895446077485,
           0.032595470462860064,
           -0.3001032215849781,
           -0.26117111489738387,
           0.1607868892899204,
           0.017174610683278888,
           0.08855762029199085,
           0.061806349642940586,
           0.07511349664979183
          ],
          [
           0.2613785065549964,
           -0.24619848493176472,
           -0.5240889892801298,
           0.22536897729216285,
           0.06414787827843763,
           -0.21981239829720237,
           0.20819677246772467,
           0.0323525760263631,
           -0.26931334772806786,
           -0.13253895446077485,
           1,
           0.675197057312311,
           0.14199213196145086,
           0.1895122994867948,
           -0.48369925543354375,
           -0.5158586242762205,
           0.35777385315156596,
           -0.08633112039687878,
           0.3042695612108662
          ],
          [
           0.4526451373755603,
           0.022010383906732565,
           -0.4987253484387088,
           0.25647474554098526,
           0.046487248480187676,
           -0.03546503386808475,
           0.16750855440236687,
           -0.012667028306350123,
           -0.029132738178589346,
           0.032595470462860064,
           0.675197057312311,
           1,
           -0.0275301030180844,
           0.051399017546702334,
           -0.20384313489598255,
           -0.5477311092768299,
           0.38230093352841726,
           -0.013663778351431215,
           0.3227070138261744
          ],
          [
           -0.24645663245600347,
           -0.45225929920856106,
           -0.3294949704875041,
           -0.17004812183591597,
           -0.1391649511635483,
           -0.458367954366771,
           0.0275743448710979,
           -0.13460485426411425,
           -0.23034888512811574,
           -0.3001032215849781,
           0.14199213196145086,
           -0.0275301030180844,
           1,
           0.9616365245209764,
           -0.42093423941082825,
           -0.28746577835593157,
           -0.1927962878163178,
           0.03904094340395291,
           -0.07704227027544266
          ],
          [
           -0.2281558920642846,
           -0.4629183991747936,
           -0.42323522459325547,
           -0.1298402054391171,
           -0.044068756587938115,
           -0.4142853889231315,
           0.10821200408383985,
           -0.03587718088483836,
           -0.1795863636231255,
           -0.26117111489738387,
           0.1895122994867948,
           0.051399017546702334,
           0.9616365245209764,
           1,
           -0.46811965142925566,
           -0.390238896965266,
           -0.11097269057594018,
           0.02946084409483971,
           -0.05869058230232018
          ],
          [
           -0.023737639081821492,
           0.9030631470185919,
           0.8828465583899251,
           0.016858801273078317,
           -0.1893297480909672,
           0.16659038244160915,
           -0.20627051024608348,
           -0.17750176851125735,
           0.14665536008715976,
           0.1607868892899204,
           -0.48369925543354375,
           -0.20384313489598255,
           -0.42093423941082825,
           -0.46811965142925566,
           1,
           0.8575426713258049,
           -0.09536775713136575,
           -0.13692874803678368,
           -0.023725436031428394
          ],
          [
           -0.19505959735677372,
           0.7056636828616176,
           0.9846638513224081,
           -0.07397647405708874,
           -0.22977571725475604,
           0.04953709419958988,
           -0.2567949714169888,
           -0.18986779682874416,
           0.015774549924911105,
           0.017174610683278888,
           -0.5158586242762205,
           -0.5477311092768299,
           -0.28746577835593157,
           -0.390238896965266,
           0.8575426713258049,
           1,
           -0.23702932478671243,
           -0.18025063235919003,
           -0.1174813185407928
          ],
          [
           0.31371778725462546,
           0.05970490531183075,
           -0.23052606476859408,
           0.49826040194869003,
           0.13481420969157099,
           0.15605941922644267,
           0.14022530864768815,
           0.12244622570798483,
           0.10450754398833803,
           0.08855762029199085,
           0.35777385315156596,
           0.38230093352841726,
           -0.1927962878163178,
           -0.11097269057594018,
           -0.09536775713136575,
           -0.23702932478671243,
           1,
           0.00954243918939256,
           0.09648681431568934
          ],
          [
           0.007922163043203142,
           -0.20449957481975606,
           -0.17183378326061113,
           -0.033074527666260053,
           0.04345687776854818,
           0.05634164602841943,
           -0.004145505749677174,
           0.031150039499570306,
           0.0533051076979512,
           0.061806349642940586,
           -0.08633112039687878,
           -0.013663778351431215,
           0.03904094340395291,
           0.02946084409483971,
           -0.13692874803678368,
           -0.18025063235919003,
           0.00954243918939256,
           1,
           0.0037578158759923163
          ],
          [
           0.0960504098702356,
           0.0395159645944352,
           -0.10940116571947434,
           0.06813870927487448,
           -0.0077383693357693396,
           0.005581325867748552,
           0.10903545079967336,
           -0.0463636279746584,
           -0.08769258303497203,
           0.07511349664979183,
           0.3042695612108662,
           0.3227070138261744,
           -0.07704227027544266,
           -0.05869058230232018,
           -0.023725436031428394,
           -0.1174813185407928,
           0.09648681431568934,
           0.0037578158759923163,
           1
          ]
         ]
        },
        {
         "coloraxis": "coloraxis",
         "colorscale": [
          [
           0,
           "rgb(103,0,31)"
          ],
          [
           0.1,
           "rgb(178,24,43)"
          ],
          [
           0.2,
           "rgb(214,96,77)"
          ],
          [
           0.3,
           "rgb(244,165,130)"
          ],
          [
           0.4,
           "rgb(253,219,199)"
          ],
          [
           0.5,
           "rgb(247,247,247)"
          ],
          [
           0.6,
           "rgb(209,229,240)"
          ],
          [
           0.7,
           "rgb(146,197,222)"
          ],
          [
           0.8,
           "rgb(67,147,195)"
          ],
          [
           0.9,
           "rgb(33,102,172)"
          ],
          [
           1,
           "rgb(5,48,97)"
          ]
         ],
         "hovertemplate": "x: %{x}<br>y: %{y}<br>color: %{z}<extra></extra>",
         "name": "0",
         "texttemplate": "%{z}",
         "type": "heatmap",
         "visible": false,
         "x": [
          "RainTomorrow",
          "MinTemp",
          "MaxTemp",
          "Rainfall",
          "Evaporation",
          "Sunshine",
          "WindGustSpeed",
          "WindSpeed9am",
          "WindSpeed3pm",
          "Humidity9am",
          "Humidity3pm",
          "Pressure9am",
          "Pressure3pm",
          "Cloud9am",
          "Cloud3pm",
          "Temp9am",
          "Temp3pm",
          "RainToday",
          "Months"
         ],
         "xaxis": "x",
         "y": [
          "RainTomorrow",
          "MinTemp",
          "MaxTemp",
          "Rainfall",
          "Evaporation",
          "Sunshine",
          "WindGustSpeed",
          "WindSpeed9am",
          "WindSpeed3pm",
          "Humidity9am",
          "Humidity3pm",
          "Pressure9am",
          "Pressure3pm",
          "Cloud9am",
          "Cloud3pm",
          "Temp9am",
          "Temp3pm",
          "RainToday",
          "Months"
         ],
         "yaxis": "y",
         "z": [
          [
           1,
           0.07997457872496214,
           -0.14928493809227694,
           0.2941214836460777,
           -0.06522109055991386,
           -0.5230602247909859,
           0.17401101103203742,
           0.06764750493598827,
           -0.011681535633189603,
           0.32950139893106495,
           0.47210459300857616,
           -0.032536035830027545,
           0.01100422380025663,
           0.3648612276196465,
           0.45695547131879427,
           -0.0007211151504586134,
           -0.18899075147349123,
           0.34154664098612375,
           -0.0480520134539182
          ],
          [
           0.07997457872496214,
           1,
           0.7704605600787303,
           0.012735255833404112,
           0.5715489473265775,
           -0.0633517709549337,
           0.15293638299301635,
           -0.29479222403622096,
           0.22330735482557115,
           0.052595922903553485,
           0.27189086537866813,
           -0.39341658000215884,
           -0.35585460140545977,
           0.25995910906948794,
           0.1802199182889194,
           0.9390441104475674,
           0.7527072125468011,
           0.018663711196884435,
           -0.2654770181153357
          ],
          [
           -0.14928493809227694,
           0.7704605600787303,
           1,
           -0.13996784533630816,
           0.5134373364915534,
           0.32735511930344363,
           0.08811376147970676,
           -0.3463853033155693,
           0.1517968524043693,
           -0.18734220766414555,
           -0.15254836081216305,
           -0.38925122484943214,
           -0.42536682022141015,
           -0.09694133041677781,
           -0.10820501888449673,
           0.8592248725319365,
           0.9604533401799124,
           -0.18779179494208673,
           -0.18735303891538105
          ],
          [
           0.2941214836460777,
           0.012735255833404112,
           -0.13996784533630816,
           1,
           -0.12633236305328832,
           -0.30739942402425663,
           0.17232319529709073,
           0.1540553539796675,
           0.03983978641467151,
           0.33106632310817546,
           0.3015897798457755,
           -0.036913876944474136,
           0.003327943882391268,
           0.2773579983705659,
           0.22939427546272648,
           -0.05618705780996801,
           -0.14362021860587398,
           0.5553047678570939,
           -0.06943462685427466
          ],
          [
           -0.06522109055991386,
           0.5715489473265775,
           0.5134373364915534,
           -0.12633236305328832,
           1,
           0.17735934484575633,
           0.2993943221790957,
           -0.07659059869990294,
           0.2996018007145375,
           -0.39880039671922957,
           -0.10295595403375606,
           -0.34927336811626564,
           -0.303301280974039,
           -0.041985881809287064,
           -0.04046431039978614,
           0.6093247536358459,
           0.47792927837073557,
           -0.23279816430017863,
           0.042434019488477845
          ],
          [
           -0.5230602247909859,
           -0.0633517709549337,
           0.32735511930344363,
           -0.30739942402425663,
           0.17735934484575633,
           1,
           -0.03646089319973014,
           -0.05956094339130134,
           0.17709166050875225,
           -0.4903161500541048,
           -0.585325080758917,
           -0.047862717238151394,
           -0.09596283776525699,
           -0.7344927048945973,
           -0.751218695924234,
           0.11538480205902372,
           0.3456151945403992,
           -0.3666281771495355,
           0.08144416586937903
          ],
          [
           0.17401101103203742,
           0.15293638299301635,
           0.08811376147970676,
           0.17232319529709073,
           0.2993943221790957,
           -0.03646089319973014,
           1,
           0.31145325861133266,
           0.6089102417206033,
           -0.27175422475583977,
           -0.11787888762371503,
           -0.4872130571761201,
           -0.4198569435164911,
           0.035585904979597655,
           0.06981000909946558,
           0.19140076580206491,
           0.04339346269090175,
           0.10545395589558298,
           0.09923832629604269
          ],
          [
           0.06764750493598827,
           -0.29479222403622096,
           -0.3463853033155693,
           0.1540553539796675,
           -0.07659059869990294,
           -0.05956094339130134,
           0.31145325861133266,
           1,
           0.1985023014157259,
           -0.1921833707645885,
           -0.1520510638324288,
           0.0028505309400431223,
           0.0915248118076738,
           -0.07094076411475926,
           -0.018180228491529952,
           -0.3303202665857304,
           -0.34867479464390616,
           0.14607818965034702,
           0.05487045469194997
          ],
          [
           -0.011681535633189603,
           0.22330735482557115,
           0.1517968524043693,
           0.03983978641467151,
           0.2996018007145375,
           0.17709166050875225,
           0.6089102417206033,
           0.1985023014157259,
           1,
           -0.29042265441730175,
           -0.13565189532142305,
           -0.3308080947304432,
           -0.27567406675999384,
           -0.061411044832321675,
           -0.10048519360449763,
           0.27690732164131804,
           0.13272492675134281,
           0.01576942178063629,
           0.07243814632156136
          ],
          [
           0.32950139893106495,
           0.052595922903553485,
           -0.18734220766414555,
           0.33106632310817546,
           -0.39880039671922957,
           -0.4903161500541048,
           -0.27175422475583977,
           -0.1921833707645885,
           -0.29042265441730175,
           1,
           0.6593054558484294,
           0.2636100080177159,
           0.2519416107918645,
           0.4596216916152066,
           0.3595108688928468,
           -0.14806490080762652,
           -0.15751783502403027,
           0.4010634725006453,
           -0.2206122434376258
          ],
          [
           0.47210459300857616,
           0.27189086537866813,
           -0.15254836081216305,
           0.3015897798457755,
           -0.10295595403375606,
           -0.585325080758917,
           -0.11787888762371503,
           -0.1520510638324288,
           -0.13565189532142305,
           0.6593054558484294,
           1,
           0.15475669548206392,
           0.18330489659303015,
           0.4982146397306407,
           0.5173620707490263,
           0.12896874623651064,
           -0.2139129909438007,
           0.3431986436043975,
           -0.13030795544878865
          ],
          [
           -0.032536035830027545,
           -0.39341658000215884,
           -0.38925122484943214,
           -0.036913876944474136,
           -0.34927336811626564,
           -0.047862717238151394,
           -0.4872130571761201,
           0.0028505309400431223,
           -0.3308080947304432,
           0.2636100080177159,
           0.15475669548206392,
           1,
           0.9631634263667962,
           -0.011774611964408255,
           -0.043863783585419154,
           -0.4193694761275477,
           -0.34693488997249367,
           -0.00016673179265102938,
           -0.01135946162120846
          ],
          [
           0.01100422380025663,
           -0.35585460140545977,
           -0.42536682022141015,
           0.003327943882391268,
           -0.303301280974039,
           -0.09596283776525699,
           -0.4198569435164911,
           0.0915248118076738,
           -0.27567406675999384,
           0.2519416107918645,
           0.18330489659303015,
           0.9631634263667962,
           1,
           0.021305657529148012,
           -0.0029891426842708507,
           -0.404949657381876,
           -0.39278570488140935,
           0.05710576913837519,
           -0.03622943570676192
          ],
          [
           0.3648612276196465,
           0.25995910906948794,
           -0.09694133041677781,
           0.2773579983705659,
           -0.041985881809287064,
           -0.7344927048945973,
           0.035585904979597655,
           -0.07094076411475926,
           -0.061411044832321675,
           0.4596216916152066,
           0.4982146397306407,
           -0.011774611964408255,
           0.021305657529148012,
           1,
           0.6090312274771074,
           0.09621261412998798,
           -0.09909816216172136,
           0.3492650639918581,
           -0.05241045424112987
          ],
          [
           0.45695547131879427,
           0.1802199182889194,
           -0.10820501888449673,
           0.22939427546272648,
           -0.04046431039978614,
           -0.751218695924234,
           0.06981000909946558,
           -0.018180228491529952,
           -0.10048519360449763,
           0.3595108688928468,
           0.5173620707490263,
           -0.043863783585419154,
           -0.0029891426842708507,
           0.6090312274771074,
           1,
           0.07424412629391726,
           -0.15972368183336022,
           0.2872537278604459,
           -0.03663714973501194
          ],
          [
           -0.0007211151504586134,
           0.9390441104475674,
           0.8592248725319365,
           -0.05618705780996801,
           0.6093247536358459,
           0.11538480205902372,
           0.19140076580206491,
           -0.3303202665857304,
           0.27690732164131804,
           -0.14806490080762652,
           0.12896874623651064,
           -0.4193694761275477,
           -0.404949657381876,
           0.09621261412998798,
           0.07424412629391726,
           1,
           0.8291107028354859,
           -0.07482902147767613,
           -0.1699283329007768
          ],
          [
           -0.18899075147349123,
           0.7527072125468011,
           0.9604533401799124,
           -0.14362021860587398,
           0.47792927837073557,
           0.3456151945403992,
           0.04339346269090175,
           -0.34867479464390616,
           0.13272492675134281,
           -0.15751783502403027,
           -0.2139129909438007,
           -0.34693488997249367,
           -0.39278570488140935,
           -0.09909816216172136,
           -0.15972368183336022,
           0.8291107028354859,
           1,
           -0.18875389359157194,
           -0.227630288861524
          ],
          [
           0.34154664098612375,
           0.018663711196884435,
           -0.18779179494208673,
           0.5553047678570939,
           -0.23279816430017863,
           -0.3666281771495355,
           0.10545395589558298,
           0.14607818965034702,
           0.01576942178063629,
           0.4010634725006453,
           0.3431986436043975,
           -0.00016673179265102938,
           0.05710576913837519,
           0.3492650639918581,
           0.2872537278604459,
           -0.07482902147767613,
           -0.18875389359157194,
           1,
           -0.04344157536565503
          ],
          [
           -0.0480520134539182,
           -0.2654770181153357,
           -0.18735303891538105,
           -0.06943462685427466,
           0.042434019488477845,
           0.08144416586937903,
           0.09923832629604269,
           0.05487045469194997,
           0.07243814632156136,
           -0.2206122434376258,
           -0.13030795544878865,
           -0.01135946162120846,
           -0.03622943570676192,
           -0.05241045424112987,
           -0.03663714973501194,
           -0.1699283329007768,
           -0.227630288861524,
           -0.04344157536565503,
           1
          ]
         ]
        },
        {
         "coloraxis": "coloraxis",
         "hovertemplate": "x: %{x}<br>y: %{y}<br>color: %{z}<extra></extra>",
         "name": "0",
         "texttemplate": "%{z}",
         "type": "heatmap",
         "visible": false,
         "x": [
          "RainTomorrow"
         ],
         "xaxis": "x",
         "y": [
          "RainTomorrow",
          "MinTemp",
          "MaxTemp",
          "Rainfall",
          "Evaporation",
          "Sunshine",
          "WindGustSpeed",
          "WindSpeed9am",
          "WindSpeed3pm",
          "Humidity9am",
          "Humidity3pm",
          "Pressure9am",
          "Pressure3pm",
          "Cloud9am",
          "Cloud3pm",
          "Temp9am",
          "Temp3pm",
          "RainToday",
          "Months"
         ],
         "yaxis": "y",
         "z": [
          [
           1
          ],
          [
           0.06
          ],
          [
           -0.18
          ],
          [
           0.2
          ],
          [
           0.03
          ],
          [
           null
          ],
          [
           0.24
          ],
          [
           0.07
          ],
          [
           0.09
          ],
          [
           0.21
          ],
          [
           0.48
          ],
          [
           -0.3
          ],
          [
           -0.37
          ],
          [
           0.16
          ],
          [
           0.26
          ],
          [
           0.02
          ],
          [
           -0.22
          ],
          [
           0.25
          ],
          [
           0.09
          ]
         ]
        }
       ],
       "layout": {
        "height": 600,
        "showlegend": true,
        "template": {
         "data": {
          "bar": [
           {
            "error_x": {
             "color": "#2a3f5f"
            },
            "error_y": {
             "color": "#2a3f5f"
            },
            "marker": {
             "line": {
              "color": "#E5ECF6",
              "width": 0.5
             },
             "pattern": {
              "fillmode": "overlay",
              "size": 10,
              "solidity": 0.2
             }
            },
            "type": "bar"
           }
          ],
          "barpolar": [
           {
            "marker": {
             "line": {
              "color": "#E5ECF6",
              "width": 0.5
             },
             "pattern": {
              "fillmode": "overlay",
              "size": 10,
              "solidity": 0.2
             }
            },
            "type": "barpolar"
           }
          ],
          "carpet": [
           {
            "aaxis": {
             "endlinecolor": "#2a3f5f",
             "gridcolor": "white",
             "linecolor": "white",
             "minorgridcolor": "white",
             "startlinecolor": "#2a3f5f"
            },
            "baxis": {
             "endlinecolor": "#2a3f5f",
             "gridcolor": "white",
             "linecolor": "white",
             "minorgridcolor": "white",
             "startlinecolor": "#2a3f5f"
            },
            "type": "carpet"
           }
          ],
          "choropleth": [
           {
            "colorbar": {
             "outlinewidth": 0,
             "ticks": ""
            },
            "type": "choropleth"
           }
          ],
          "contour": [
           {
            "colorbar": {
             "outlinewidth": 0,
             "ticks": ""
            },
            "colorscale": [
             [
              0,
              "#0d0887"
             ],
             [
              0.1111111111111111,
              "#46039f"
             ],
             [
              0.2222222222222222,
              "#7201a8"
             ],
             [
              0.3333333333333333,
              "#9c179e"
             ],
             [
              0.4444444444444444,
              "#bd3786"
             ],
             [
              0.5555555555555556,
              "#d8576b"
             ],
             [
              0.6666666666666666,
              "#ed7953"
             ],
             [
              0.7777777777777778,
              "#fb9f3a"
             ],
             [
              0.8888888888888888,
              "#fdca26"
             ],
             [
              1,
              "#f0f921"
             ]
            ],
            "type": "contour"
           }
          ],
          "contourcarpet": [
           {
            "colorbar": {
             "outlinewidth": 0,
             "ticks": ""
            },
            "type": "contourcarpet"
           }
          ],
          "heatmap": [
           {
            "colorbar": {
             "outlinewidth": 0,
             "ticks": ""
            },
            "colorscale": [
             [
              0,
              "#0d0887"
             ],
             [
              0.1111111111111111,
              "#46039f"
             ],
             [
              0.2222222222222222,
              "#7201a8"
             ],
             [
              0.3333333333333333,
              "#9c179e"
             ],
             [
              0.4444444444444444,
              "#bd3786"
             ],
             [
              0.5555555555555556,
              "#d8576b"
             ],
             [
              0.6666666666666666,
              "#ed7953"
             ],
             [
              0.7777777777777778,
              "#fb9f3a"
             ],
             [
              0.8888888888888888,
              "#fdca26"
             ],
             [
              1,
              "#f0f921"
             ]
            ],
            "type": "heatmap"
           }
          ],
          "heatmapgl": [
           {
            "colorbar": {
             "outlinewidth": 0,
             "ticks": ""
            },
            "colorscale": [
             [
              0,
              "#0d0887"
             ],
             [
              0.1111111111111111,
              "#46039f"
             ],
             [
              0.2222222222222222,
              "#7201a8"
             ],
             [
              0.3333333333333333,
              "#9c179e"
             ],
             [
              0.4444444444444444,
              "#bd3786"
             ],
             [
              0.5555555555555556,
              "#d8576b"
             ],
             [
              0.6666666666666666,
              "#ed7953"
             ],
             [
              0.7777777777777778,
              "#fb9f3a"
             ],
             [
              0.8888888888888888,
              "#fdca26"
             ],
             [
              1,
              "#f0f921"
             ]
            ],
            "type": "heatmapgl"
           }
          ],
          "histogram": [
           {
            "marker": {
             "pattern": {
              "fillmode": "overlay",
              "size": 10,
              "solidity": 0.2
             }
            },
            "type": "histogram"
           }
          ],
          "histogram2d": [
           {
            "colorbar": {
             "outlinewidth": 0,
             "ticks": ""
            },
            "colorscale": [
             [
              0,
              "#0d0887"
             ],
             [
              0.1111111111111111,
              "#46039f"
             ],
             [
              0.2222222222222222,
              "#7201a8"
             ],
             [
              0.3333333333333333,
              "#9c179e"
             ],
             [
              0.4444444444444444,
              "#bd3786"
             ],
             [
              0.5555555555555556,
              "#d8576b"
             ],
             [
              0.6666666666666666,
              "#ed7953"
             ],
             [
              0.7777777777777778,
              "#fb9f3a"
             ],
             [
              0.8888888888888888,
              "#fdca26"
             ],
             [
              1,
              "#f0f921"
             ]
            ],
            "type": "histogram2d"
           }
          ],
          "histogram2dcontour": [
           {
            "colorbar": {
             "outlinewidth": 0,
             "ticks": ""
            },
            "colorscale": [
             [
              0,
              "#0d0887"
             ],
             [
              0.1111111111111111,
              "#46039f"
             ],
             [
              0.2222222222222222,
              "#7201a8"
             ],
             [
              0.3333333333333333,
              "#9c179e"
             ],
             [
              0.4444444444444444,
              "#bd3786"
             ],
             [
              0.5555555555555556,
              "#d8576b"
             ],
             [
              0.6666666666666666,
              "#ed7953"
             ],
             [
              0.7777777777777778,
              "#fb9f3a"
             ],
             [
              0.8888888888888888,
              "#fdca26"
             ],
             [
              1,
              "#f0f921"
             ]
            ],
            "type": "histogram2dcontour"
           }
          ],
          "mesh3d": [
           {
            "colorbar": {
             "outlinewidth": 0,
             "ticks": ""
            },
            "type": "mesh3d"
           }
          ],
          "parcoords": [
           {
            "line": {
             "colorbar": {
              "outlinewidth": 0,
              "ticks": ""
             }
            },
            "type": "parcoords"
           }
          ],
          "pie": [
           {
            "automargin": true,
            "type": "pie"
           }
          ],
          "scatter": [
           {
            "fillpattern": {
             "fillmode": "overlay",
             "size": 10,
             "solidity": 0.2
            },
            "type": "scatter"
           }
          ],
          "scatter3d": [
           {
            "line": {
             "colorbar": {
              "outlinewidth": 0,
              "ticks": ""
             }
            },
            "marker": {
             "colorbar": {
              "outlinewidth": 0,
              "ticks": ""
             }
            },
            "type": "scatter3d"
           }
          ],
          "scattercarpet": [
           {
            "marker": {
             "colorbar": {
              "outlinewidth": 0,
              "ticks": ""
             }
            },
            "type": "scattercarpet"
           }
          ],
          "scattergeo": [
           {
            "marker": {
             "colorbar": {
              "outlinewidth": 0,
              "ticks": ""
             }
            },
            "type": "scattergeo"
           }
          ],
          "scattergl": [
           {
            "marker": {
             "colorbar": {
              "outlinewidth": 0,
              "ticks": ""
             }
            },
            "type": "scattergl"
           }
          ],
          "scattermapbox": [
           {
            "marker": {
             "colorbar": {
              "outlinewidth": 0,
              "ticks": ""
             }
            },
            "type": "scattermapbox"
           }
          ],
          "scatterpolar": [
           {
            "marker": {
             "colorbar": {
              "outlinewidth": 0,
              "ticks": ""
             }
            },
            "type": "scatterpolar"
           }
          ],
          "scatterpolargl": [
           {
            "marker": {
             "colorbar": {
              "outlinewidth": 0,
              "ticks": ""
             }
            },
            "type": "scatterpolargl"
           }
          ],
          "scatterternary": [
           {
            "marker": {
             "colorbar": {
              "outlinewidth": 0,
              "ticks": ""
             }
            },
            "type": "scatterternary"
           }
          ],
          "surface": [
           {
            "colorbar": {
             "outlinewidth": 0,
             "ticks": ""
            },
            "colorscale": [
             [
              0,
              "#0d0887"
             ],
             [
              0.1111111111111111,
              "#46039f"
             ],
             [
              0.2222222222222222,
              "#7201a8"
             ],
             [
              0.3333333333333333,
              "#9c179e"
             ],
             [
              0.4444444444444444,
              "#bd3786"
             ],
             [
              0.5555555555555556,
              "#d8576b"
             ],
             [
              0.6666666666666666,
              "#ed7953"
             ],
             [
              0.7777777777777778,
              "#fb9f3a"
             ],
             [
              0.8888888888888888,
              "#fdca26"
             ],
             [
              1,
              "#f0f921"
             ]
            ],
            "type": "surface"
           }
          ],
          "table": [
           {
            "cells": {
             "fill": {
              "color": "#EBF0F8"
             },
             "line": {
              "color": "white"
             }
            },
            "header": {
             "fill": {
              "color": "#C8D4E3"
             },
             "line": {
              "color": "white"
             }
            },
            "type": "table"
           }
          ]
         },
         "layout": {
          "annotationdefaults": {
           "arrowcolor": "#2a3f5f",
           "arrowhead": 0,
           "arrowwidth": 1
          },
          "autotypenumbers": "strict",
          "coloraxis": {
           "colorbar": {
            "outlinewidth": 0,
            "ticks": ""
           }
          },
          "colorscale": {
           "diverging": [
            [
             0,
             "#8e0152"
            ],
            [
             0.1,
             "#c51b7d"
            ],
            [
             0.2,
             "#de77ae"
            ],
            [
             0.3,
             "#f1b6da"
            ],
            [
             0.4,
             "#fde0ef"
            ],
            [
             0.5,
             "#f7f7f7"
            ],
            [
             0.6,
             "#e6f5d0"
            ],
            [
             0.7,
             "#b8e186"
            ],
            [
             0.8,
             "#7fbc41"
            ],
            [
             0.9,
             "#4d9221"
            ],
            [
             1,
             "#276419"
            ]
           ],
           "sequential": [
            [
             0,
             "#0d0887"
            ],
            [
             0.1111111111111111,
             "#46039f"
            ],
            [
             0.2222222222222222,
             "#7201a8"
            ],
            [
             0.3333333333333333,
             "#9c179e"
            ],
            [
             0.4444444444444444,
             "#bd3786"
            ],
            [
             0.5555555555555556,
             "#d8576b"
            ],
            [
             0.6666666666666666,
             "#ed7953"
            ],
            [
             0.7777777777777778,
             "#fb9f3a"
            ],
            [
             0.8888888888888888,
             "#fdca26"
            ],
            [
             1,
             "#f0f921"
            ]
           ],
           "sequentialminus": [
            [
             0,
             "#0d0887"
            ],
            [
             0.1111111111111111,
             "#46039f"
            ],
            [
             0.2222222222222222,
             "#7201a8"
            ],
            [
             0.3333333333333333,
             "#9c179e"
            ],
            [
             0.4444444444444444,
             "#bd3786"
            ],
            [
             0.5555555555555556,
             "#d8576b"
            ],
            [
             0.6666666666666666,
             "#ed7953"
            ],
            [
             0.7777777777777778,
             "#fb9f3a"
            ],
            [
             0.8888888888888888,
             "#fdca26"
            ],
            [
             1,
             "#f0f921"
            ]
           ]
          },
          "colorway": [
           "#636efa",
           "#EF553B",
           "#00cc96",
           "#ab63fa",
           "#FFA15A",
           "#19d3f3",
           "#FF6692",
           "#B6E880",
           "#FF97FF",
           "#FECB52"
          ],
          "font": {
           "color": "#2a3f5f"
          },
          "geo": {
           "bgcolor": "white",
           "lakecolor": "white",
           "landcolor": "#E5ECF6",
           "showlakes": true,
           "showland": true,
           "subunitcolor": "white"
          },
          "hoverlabel": {
           "align": "left"
          },
          "hovermode": "closest",
          "mapbox": {
           "style": "light"
          },
          "paper_bgcolor": "white",
          "plot_bgcolor": "#E5ECF6",
          "polar": {
           "angularaxis": {
            "gridcolor": "white",
            "linecolor": "white",
            "ticks": ""
           },
           "bgcolor": "#E5ECF6",
           "radialaxis": {
            "gridcolor": "white",
            "linecolor": "white",
            "ticks": ""
           }
          },
          "scene": {
           "xaxis": {
            "backgroundcolor": "#E5ECF6",
            "gridcolor": "white",
            "gridwidth": 2,
            "linecolor": "white",
            "showbackground": true,
            "ticks": "",
            "zerolinecolor": "white"
           },
           "yaxis": {
            "backgroundcolor": "#E5ECF6",
            "gridcolor": "white",
            "gridwidth": 2,
            "linecolor": "white",
            "showbackground": true,
            "ticks": "",
            "zerolinecolor": "white"
           },
           "zaxis": {
            "backgroundcolor": "#E5ECF6",
            "gridcolor": "white",
            "gridwidth": 2,
            "linecolor": "white",
            "showbackground": true,
            "ticks": "",
            "zerolinecolor": "white"
           }
          },
          "shapedefaults": {
           "line": {
            "color": "#2a3f5f"
           }
          },
          "ternary": {
           "aaxis": {
            "gridcolor": "white",
            "linecolor": "white",
            "ticks": ""
           },
           "baxis": {
            "gridcolor": "white",
            "linecolor": "white",
            "ticks": ""
           },
           "bgcolor": "#E5ECF6",
           "caxis": {
            "gridcolor": "white",
            "linecolor": "white",
            "ticks": ""
           }
          },
          "title": {
           "x": 0.05
          },
          "xaxis": {
           "automargin": true,
           "gridcolor": "white",
           "linecolor": "white",
           "ticks": "",
           "title": {
            "standoff": 15
           },
           "zerolinecolor": "white",
           "zerolinewidth": 2
          },
          "yaxis": {
           "automargin": true,
           "gridcolor": "white",
           "linecolor": "white",
           "ticks": "",
           "title": {
            "standoff": 15
           },
           "zerolinecolor": "white",
           "zerolinewidth": 2
          }
         }
        },
        "updatemenus": [
         {
          "active": 0,
          "buttons": [
           {
            "args": [
             {
              "visible": [
               true,
               false,
               false,
               false,
               false,
               false,
               false,
               false
              ]
             },
             {
              "title": "1 - Matrice de Corrélation (Toutes les données)"
             }
            ],
            "label": "1 - Heatmap basique",
            "method": "update"
           },
           {
            "args": [
             {
              "visible": [
               false,
               true,
               false,
               false,
               false,
               false,
               false,
               false
              ]
             },
             {
              "title": "2 - Matrice de Corrélation (Toutes les données) + Tomorrow (0/1)"
             }
            ],
            "label": "2 - Matrice avec Tomorrow",
            "method": "update"
           },
           {
            "args": [
             {
              "visible": [
               false,
               false,
               true,
               false,
               false,
               false,
               false,
               false
              ]
             },
             {
              "title": "3 - Matrice de Corrélation + quantitative encoder"
             }
            ],
            "label": "3 - Matrice encoder",
            "method": "update"
           },
           {
            "args": [
             {
              "visible": [
               false,
               false,
               false,
               true,
               false,
               false,
               false,
               false
              ]
             },
             {
              "title": "4 - Matrice de Corrélation après suppression des colonnes Sunshine, Evaporation, Cloud9am, Cloud3pm"
             }
            ],
            "label": "4 - Matrice Drop Col",
            "method": "update"
           },
           {
            "args": [
             {
              "visible": [
               false,
               false,
               false,
               false,
               true,
               false,
               false,
               false
              ]
             },
             {
              "title": "5 - Matrice de Corrélation avec Na supprimés"
             }
            ],
            "label": "5 - Matrice Drop Col Na",
            "method": "update"
           },
           {
            "args": [
             {
              "visible": [
               false,
               false,
               false,
               false,
               false,
               true,
               false,
               false
              ]
             },
             {
              "title": "6 - Matrice de Corrélation pour Sydney sans dropcol, sans dropna"
             }
            ],
            "label": "6 - Matrice Sydney",
            "method": "update"
           },
           {
            "args": [
             {
              "visible": [
               false,
               false,
               false,
               false,
               false,
               false,
               true
              ]
             },
             {
              "title": "6 - Matrice de Corrélation pour Launceston sans dropcol, sans dropna mais beacoup de Sunshine manque"
             }
            ],
            "label": "6 - Matrice Launceston",
            "method": "update"
           }
          ],
          "direction": "down",
          "showactive": true,
          "x": 0.8,
          "xanchor": "left",
          "y": 1.15,
          "yanchor": "top"
         }
        ],
        "width": 1400
       }
      },
      "text/html": [
       "<div>                            <div id=\"bc956580-24d1-4df9-a795-56073333d0e7\" class=\"plotly-graph-div\" style=\"height:600px; width:1400px;\"></div>            <script type=\"text/javascript\">                require([\"plotly\"], function(Plotly) {                    window.PLOTLYENV=window.PLOTLYENV || {};                                    if (document.getElementById(\"bc956580-24d1-4df9-a795-56073333d0e7\")) {                    Plotly.newPlot(                        \"bc956580-24d1-4df9-a795-56073333d0e7\",                        [{\"coloraxis\":\"coloraxis\",\"hovertemplate\":\"x: %{x}\\u003cbr\\u003ey: %{y}\\u003cbr\\u003ecolor: %{z}\\u003cextra\\u003e\\u003c\\u002fextra\\u003e\",\"name\":\"0\",\"texttemplate\":\"%{z}\",\"x\":[\"MinTemp\",\"MaxTemp\",\"Rainfall\",\"Evaporation\",\"Sunshine\",\"WindGustSpeed\",\"WindSpeed9am\",\"WindSpeed3pm\",\"Humidity9am\",\"Humidity3pm\",\"Pressure9am\",\"Pressure3pm\",\"Cloud9am\",\"Cloud3pm\",\"Temp9am\",\"Temp3pm\"],\"xaxis\":\"x\",\"y\":[\"MinTemp\",\"MaxTemp\",\"Rainfall\",\"Evaporation\",\"Sunshine\",\"WindGustSpeed\",\"WindSpeed9am\",\"WindSpeed3pm\",\"Humidity9am\",\"Humidity3pm\",\"Pressure9am\",\"Pressure3pm\",\"Cloud9am\",\"Cloud3pm\",\"Temp9am\",\"Temp3pm\"],\"yaxis\":\"y\",\"z\":[[1.0,0.736554879947358,0.10393795340859532,0.4669925569214256,0.07258586808397571,0.1774145260976753,0.17506364073869057,0.17517263108767825,-0.23289924559073164,0.006088664224423575,-0.4509699734544065,-0.46129172586164047,0.0787538283427066,0.021604685038888648,0.9018205621778996,0.7089055392798455],[0.736554879947358,1.0,-0.07499209497993575,0.5879322271019112,0.4701557064131683,0.06761477569098283,0.01444964588964599,0.050300397194580494,-0.5041098050273038,-0.5088554199984232,-0.33206130275331036,-0.4271668835749745,-0.2893701949239778,-0.27792100295511346,0.8872096927504229,0.9845028310904481],[0.10393795340859532,-0.07499209497993575,1.0,-0.06435117292604013,-0.22754857553745375,0.13365939753988504,0.08733769468151066,0.05788711972355656,0.22440497587716363,0.2557546575244556,-0.16815364149847833,-0.1265338436909568,0.19852828605297007,0.17240289926478258,0.011191601489034678,-0.0796570726164772],[0.4669925569214256,0.5879322271019112,-0.06435117292604013,1.0,0.36560215022270703,0.20302143800515285,0.19308448307770443,0.12940001633420806,-0.5040922527968444,-0.39024259071039363,-0.2703621404798875,-0.2935805340204502,-0.18379325900830737,-0.18261841213978056,0.5451152126470746,0.5728932109454876],[0.07258586808397571,0.4701557064131683,-0.22754857553745375,0.36560215022270703,1.0,-0.03475045685199232,0.005498574825312206,0.053834024723800285,-0.49081885139829456,-0.6291303599834128,0.041969831552005885,-0.019719031024735247,-0.6753233097055099,-0.7039296337088615,0.29118794175836554,0.4905006212075918],[0.1774145260976753,0.06761477569098283,0.13365939753988504,0.20302143800515285,-0.03475045685199232,1.0,0.6053032893809175,0.686306743470663,-0.21506968756795294,-0.026327121063789812,-0.45874421802344273,-0.41374904863463996,0.0717355819801594,0.1091675240686803,0.15015009761950066,0.03274777925600875],[0.17506364073869057,0.01444964588964599,0.08733769468151066,0.19308448307770443,0.005498574825312206,0.6053032893809175,1.0,0.519546834492561,-0.2708583880345406,-0.0316138259484374,-0.22874305315934174,-0.17581712628835547,0.02511225384648038,0.054638619717694493,0.12854466322246128,0.004568833457939502],[0.17517263108767825,0.050300397194580494,0.05788711972355656,0.12940001633420806,0.053834024723800285,0.686306743470663,0.519546834492561,1.0,-0.145525126140691,0.016432471350722434,-0.2963511676629694,-0.25543861805056034,0.05333665419063742,0.025395671222374603,0.16302996588669325,0.027777592344805757],[-0.23289924559073164,-0.5041098050273038,0.22440497587716363,-0.5040922527968444,-0.49081885139829456,-0.21506968756795294,-0.2708583880345406,-0.145525126140691,1.0,0.6669485686855433,0.13944214914517747,0.18685839923670616,0.45229699069983464,0.3573261614347828,-0.47135393998323405,-0.49839946252911915],[0.006088664224423575,-0.5088554199984232,0.2557546575244556,-0.39024259071039363,-0.6291303599834128,-0.026327121063789812,-0.0316138259484374,0.016432471350722434,0.6669485686855433,1.0,-0.02754442712799566,0.05199662593498018,0.517119947699489,0.5231199766631821,-0.22101938347112143,-0.5578410027715796],[-0.4509699734544065,-0.33206130275331036,-0.16815364149847833,-0.2703621404798875,0.041969831552005885,-0.45874421802344273,-0.22874305315934174,-0.2963511676629694,0.13944214914517747,-0.02754442712799566,1.0,0.961325721117448,-0.12979647803334157,-0.1478608219698691,-0.4225556605462815,-0.2867700414222888],[-0.46129172586164047,-0.4271668835749745,-0.1265338436909568,-0.2935805340204502,-0.019719031024735247,-0.41374904863463996,-0.17581712628835547,-0.25543861805056034,0.18685839923670616,0.05199662593498018,0.961325721117448,1.0,-0.06077150995691364,-0.08477834323465137,-0.4701868443814808,-0.38954834973721725],[0.0787538283427066,-0.2893701949239778,0.19852828605297007,-0.18379325900830737,-0.6753233097055099,0.0717355819801594,0.02511225384648038,0.05333665419063742,0.45229699069983464,0.517119947699489,-0.12979647803334157,-0.06077150995691364,1.0,0.6035637678576092,-0.13695868734311356,-0.3020600252203267],[0.021604685038888648,-0.27792100295511346,0.17240289926478258,-0.18261841213978056,-0.7039296337088615,0.1091675240686803,0.054638619717694493,0.025395671222374603,0.3573261614347828,0.5231199766631821,-0.1478608219698691,-0.08477834323465137,0.6035637678576092,1.0,-0.12665882260768616,-0.31741962047769096],[0.9018205621778996,0.8872096927504229,0.011191601489034678,0.5451152126470746,0.29118794175836554,0.15015009761950066,0.12854466322246128,0.16302996588669325,-0.47135393998323405,-0.22101938347112143,-0.4225556605462815,-0.4701868443814808,-0.13695868734311356,-0.12665882260768616,1.0,0.86059123734335],[0.7089055392798455,0.9845028310904481,-0.0796570726164772,0.5728932109454876,0.4905006212075918,0.03274777925600875,0.004568833457939502,0.027777592344805757,-0.49839946252911915,-0.5578410027715796,-0.2867700414222888,-0.38954834973721725,-0.3020600252203267,-0.31741962047769096,0.86059123734335,1.0]],\"type\":\"heatmap\",\"visible\":true},{\"coloraxis\":\"coloraxis\",\"hovertemplate\":\"x: %{x}\\u003cbr\\u003ey: %{y}\\u003cbr\\u003ecolor: %{z}\\u003cextra\\u003e\\u003c\\u002fextra\\u003e\",\"name\":\"0\",\"texttemplate\":\"%{z}\",\"x\":[\"RainTomorrow\"],\"xaxis\":\"x\",\"y\":[\"RainTomorrow\",\"MinTemp\",\"MaxTemp\",\"Rainfall\",\"Evaporation\",\"Sunshine\",\"WindGustSpeed\",\"WindSpeed9am\",\"WindSpeed3pm\",\"Humidity9am\",\"Humidity3pm\",\"Pressure9am\",\"Pressure3pm\",\"Cloud9am\",\"Cloud3pm\",\"Temp9am\",\"Temp3pm\"],\"yaxis\":\"y\",\"z\":[[1.0],[0.08],[-0.16],[0.24],[-0.12],[-0.45],[0.23],[0.09],[0.09],[0.26],[0.45],[-0.25],[-0.23],[0.32],[0.38],[-0.03],[-0.19]],\"type\":\"heatmap\",\"visible\":false},{\"coloraxis\":\"coloraxis\",\"hovertemplate\":\"x: %{x}\\u003cbr\\u003ey: %{y}\\u003cbr\\u003ecolor: %{z}\\u003cextra\\u003e\\u003c\\u002fextra\\u003e\",\"name\":\"0\",\"texttemplate\":\"%{z}\",\"x\":[\"RainTomorrow\",\"MinTemp\",\"MaxTemp\",\"Rainfall\",\"Evaporation\",\"Sunshine\",\"WindGustDir\",\"WindGustSpeed\",\"WindDir9am\",\"WindDir3pm\",\"WindSpeed9am\",\"WindSpeed3pm\",\"Humidity9am\",\"Humidity3pm\",\"Pressure9am\",\"Pressure3pm\",\"Cloud9am\",\"Cloud3pm\",\"Temp9am\",\"Temp3pm\",\"RainToday\",\"Months\",\"climate\"],\"xaxis\":\"x\",\"y\":[\"RainTomorrow\",\"MinTemp\",\"MaxTemp\",\"Rainfall\",\"Evaporation\",\"Sunshine\",\"WindGustDir\",\"WindGustSpeed\",\"WindDir9am\",\"WindDir3pm\",\"WindSpeed9am\",\"WindSpeed3pm\",\"Humidity9am\",\"Humidity3pm\",\"Pressure9am\",\"Pressure3pm\",\"Cloud9am\",\"Cloud3pm\",\"Temp9am\",\"Temp3pm\",\"RainToday\",\"Months\",\"climate\"],\"yaxis\":\"y\",\"z\":[[1.0,0.08393581350156307,-0.15923666414933418,0.23903180145061995,-0.11928469674513816,-0.45076806310612133,0.05448787768927509,0.2340097255174442,0.018436465128785936,0.03443518679643055,0.09099465016310505,0.08781739865081424,0.2571611603438003,0.44616037879131293,-0.24637114625949133,-0.2260311455254271,0.31737982970634815,0.38187041104700753,-0.025690822604581623,-0.19242408670116043,0.31309674550896077,0.007328471840058584,0.08874490540107373],[0.08393581350156307,1.0,0.736554879947358,0.10393795340859532,0.4669925569214256,0.07258586808397571,-0.12546510560514462,0.1774145260976753,-0.12510836430144925,-0.1588808902031206,0.17506364073869057,0.17517263108767825,-0.23289924559073164,0.006088664224423575,-0.4509699734544065,-0.46129172586164047,0.0787538283427066,0.021604685038888648,0.9018205621778996,0.7089055392798455,0.05583627714953934,-0.2038334961990112,0.027203226036641794],[-0.15923666414933418,0.736554879947358,1.0,-0.07499209497993575,0.5879322271019112,0.4701557064131683,-0.20677399114883532,0.06761477569098283,-0.247523605245475,-0.18639030040584126,0.01444964588964599,0.050300397194580494,-0.5041098050273038,-0.5088554199984232,-0.33206130275331036,-0.4271668835749745,-0.2893701949239778,-0.27792100295511346,0.8872096927504229,0.9845028310904481,-0.22919201710479753,-0.16388435510848312,-0.10526053326948441],[0.23903180145061995,0.10393795340859532,-0.07499209497993575,1.0,-0.06435117292604013,-0.22754857553745375,0.044790360485953945,0.13365939753988504,0.06565579553642202,0.04929575120155087,0.08733769468151066,0.05788711972355656,0.22440497587716363,0.2557546575244556,-0.16815364149847833,-0.1265338436909568,0.19852828605297007,0.17240289926478258,0.011191601489034678,-0.0796570726164772,0.5015157607624547,-0.03137101494207891,0.06287224452820833],[-0.11928469674513816,0.4669925569214256,0.5879322271019112,-0.06435117292604013,1.0,0.36560215022270703,-0.09145487057709327,0.20302143800515285,-0.12441387884803935,-0.05995773734205562,0.19308448307770443,0.12940001633420806,-0.5040922527968444,-0.39024259071039363,-0.2703621404798875,-0.2935805340204502,-0.18379325900830737,-0.18261841213978056,0.5451152126470746,0.5728932109454876,-0.1869448712690504,-0.026804702597500497,-0.1669740807707648],[-0.45076806310612133,0.07258586808397571,0.4701557064131683,-0.22754857553745375,0.36560215022270703,1.0,-0.08714451068460366,-0.03475045685199232,-0.11381176789409415,-0.05025213165552294,0.005498574825312206,0.053834024723800285,-0.49081885139829456,-0.6291303599834128,0.041969831552005885,-0.019719031024735247,-0.6753233097055099,-0.7039296337088615,0.29118794175836554,0.4905006212075918,-0.3305219883340796,0.024326846721304387,-0.13058039631398946],[0.05448787768927509,-0.12546510560514462,-0.20677399114883532,0.044790360485953945,-0.09145487057709327,-0.08714451068460366,1.0,0.14216932091113657,0.3619951757207086,0.5606779676243747,-0.003837779989580148,0.07413457648782053,0.07314824286157952,0.07458272682959566,-0.11938602199625702,-0.028872115164091258,0.07810134864232743,0.06941300281677733,-0.16889256555548726,-0.2202727544561383,0.12560343069923902,0.03922480449070121,0.018512384100563186],[0.2340097255174442,0.1774145260976753,0.06761477569098283,0.13365939753988504,0.20302143800515285,-0.03475045685199232,0.14216932091113657,1.0,-0.051322345569707314,0.1285923189058153,0.6053032893809175,0.686306743470663,-0.21506968756795294,-0.026327121063789812,-0.45874421802344273,-0.41374904863463996,0.0717355819801594,0.1091675240686803,0.15015009761950066,0.03274777925600875,0.15576076092638677,0.06102572708197479,0.0003200993792033971],[0.018436465128785936,-0.12510836430144925,-0.247523605245475,0.06565579553642202,-0.12441387884803935,-0.11381176789409415,0.3619951757207086,-0.051322345569707314,1.0,0.2997244398039775,-0.15426641900237106,-0.016974665308061597,0.202861632217252,0.16441486973314154,0.029779652475743018,0.1096459084084164,0.11226929590809744,0.06692075799478021,-0.202708765921785,-0.25005576884294023,0.1364368712000411,0.0011575791119156353,0.10865054048152005],[0.03443518679643055,-0.1588808902031206,-0.18639030040584126,0.04929575120155087,-0.05995773734205562,-0.05025213165552294,0.5606779676243747,0.1285923189058153,0.2997244398039775,1.0,0.03157183395264873,0.06464552080540305,0.03999398391452029,0.002796941876280849,-0.13105017179820774,-0.03249868576804112,0.06167362784133646,0.06729468298268082,-0.17808205916352193,-0.19828467288940743,0.12282159547906212,0.03355782464631565,-0.03415876770720816],[0.09099465016310505,0.17506364073869057,0.01444964588964599,0.08733769468151066,0.19308448307770443,0.005498574825312206,-0.003837779989580148,0.6053032893809175,-0.15426641900237106,0.03157183395264873,1.0,0.519546834492561,-0.2708583880345406,-0.0316138259484374,-0.22874305315934174,-0.17581712628835547,0.02511225384648038,0.054638619717694493,0.12854466322246128,0.004568833457939502,0.10305709619777459,0.05127718301221624,-0.09648106808231084],[0.08781739865081424,0.17517263108767825,0.050300397194580494,0.05788711972355656,0.12940001633420806,0.053834024723800285,0.07413457648782053,0.686306743470663,-0.016974665308061597,0.06464552080540305,0.519546834492561,1.0,-0.145525126140691,0.016432471350722434,-0.2963511676629694,-0.25543861805056034,0.05333665419063742,0.025395671222374603,0.16302996588669325,0.027777592344805757,0.0805913301004546,0.06037324323324587,0.045878973907706976],[0.2571611603438003,-0.23289924559073164,-0.5041098050273038,0.22440497587716363,-0.5040922527968444,-0.49081885139829456,0.07314824286157952,-0.21506968756795294,0.202861632217252,0.03999398391452029,-0.2708583880345406,-0.145525126140691,1.0,0.6669485686855433,0.13944214914517747,0.18685839923670616,0.45229699069983464,0.3573261614347828,-0.47135393998323405,-0.49839946252911915,0.35370817607393973,-0.09075932437253288,0.2875629303413937],[0.44616037879131293,0.006088664224423575,-0.5088554199984232,0.2557546575244556,-0.39024259071039363,-0.6291303599834128,0.07458272682959566,-0.026327121063789812,0.16441486973314154,0.002796941876280849,-0.0316138259484374,0.016432471350722434,0.6669485686855433,1.0,-0.02754442712799566,0.05199662593498018,0.517119947699489,0.5231199766631821,-0.22101938347112143,-0.5578410027715796,0.37902002883171093,-0.01885814387628076,0.3059025109958145],[-0.24637114625949133,-0.4509699734544065,-0.33206130275331036,-0.16815364149847833,-0.2703621404798875,0.041969831552005885,-0.11938602199625702,-0.45874421802344273,0.029779652475743018,-0.13105017179820774,-0.22874305315934174,-0.2963511676629694,0.13944214914517747,-0.02754442712799566,1.0,0.961325721117448,-0.12979647803334157,-0.1478608219698691,-0.4225556605462815,-0.2867700414222888,-0.1897810025428808,0.034927807601934424,-0.07578123039333128],[-0.2260311455254271,-0.46129172586164047,-0.4271668835749745,-0.1265338436909568,-0.2935805340204502,-0.019719031024735247,-0.028872115164091258,-0.41374904863463996,0.1096459084084164,-0.03249868576804112,-0.17581712628835547,-0.25543861805056034,0.18685839923670616,0.05199662593498018,0.961325721117448,1.0,-0.06077150995691364,-0.08477834323465137,-0.4701868443814808,-0.38954834973721725,-0.10612988528356615,0.02561125805226733,-0.059126089460642114],[0.31737982970634815,0.0787538283427066,-0.2893701949239778,0.19852828605297007,-0.18379325900830737,-0.6753233097055099,0.07810134864232743,0.0717355819801594,0.11226929590809744,0.06167362784133646,0.02511225384648038,0.05333665419063742,0.45229699069983464,0.517119947699489,-0.12979647803334157,-0.06077150995691364,1.0,0.6035637678576092,-0.13695868734311356,-0.3020600252203267,0.306201284355178,-0.010168093192442393,0.177728909421615],[0.38187041104700753,0.021604685038888648,-0.27792100295511346,0.17240289926478258,-0.18261841213978056,-0.7039296337088615,0.06941300281677733,0.1091675240686803,0.06692075799478021,0.06729468298268082,0.054638619717694493,0.025395671222374603,0.3573261614347828,0.5231199766631821,-0.1478608219698691,-0.08477834323465137,0.6035637678576092,1.0,-0.12665882260768616,-0.31741962047769096,0.2722249558653982,-0.003999266148236069,0.14446192874281766],[-0.025690822604581623,0.9018205621778996,0.8872096927504229,0.011191601489034678,0.5451152126470746,0.29118794175836554,-0.16889256555548726,0.15015009761950066,-0.202708765921785,-0.17808205916352193,0.12854466322246128,0.16302996588669325,-0.47135393998323405,-0.22101938347112143,-0.4225556605462815,-0.4701868443814808,-0.13695868734311356,-0.12665882260768616,1.0,0.86059123734335,-0.09686468757182057,-0.13616133519461704,-0.029190754945049583],[-0.19242408670116043,0.7089055392798455,0.9845028310904481,-0.0796570726164772,0.5728932109454876,0.4905006212075918,-0.2202727544561383,0.03274777925600875,-0.25005576884294023,-0.19828467288940743,0.004568833457939502,0.027777592344805757,-0.49839946252911915,-0.5578410027715796,-0.2867700414222888,-0.38954834973721725,-0.3020600252203267,-0.31741962047769096,0.86059123734335,1.0,-0.23534031052896895,-0.17500044407241472,-0.12634112167822073],[0.31309674550896077,0.05583627714953934,-0.22919201710479753,0.5015157607624547,-0.1869448712690504,-0.3305219883340796,0.12560343069923902,0.15576076092638677,0.1364368712000411,0.12282159547906212,0.10305709619777459,0.0805913301004546,0.35370817607393973,0.37902002883171093,-0.1897810025428808,-0.10612988528356615,0.306201284355178,0.2722249558653982,-0.09686468757182057,-0.23534031052896895,1.0,0.010070578700031687,0.08879030221593713],[0.007328471840058584,-0.2038334961990112,-0.16388435510848312,-0.03137101494207891,-0.026804702597500497,0.024326846721304387,0.03922480449070121,0.06102572708197479,0.0011575791119156353,0.03355782464631565,0.05127718301221624,0.06037324323324587,-0.09075932437253288,-0.01885814387628076,0.034927807601934424,0.02561125805226733,-0.010168093192442393,-0.003999266148236069,-0.13616133519461704,-0.17500044407241472,0.010070578700031687,1.0,0.0031922385861274686],[0.08874490540107373,0.027203226036641794,-0.10526053326948441,0.06287224452820833,-0.1669740807707648,-0.13058039631398946,0.018512384100563186,0.0003200993792033971,0.10865054048152005,-0.03415876770720816,-0.09648106808231084,0.045878973907706976,0.2875629303413937,0.3059025109958145,-0.07578123039333128,-0.059126089460642114,0.177728909421615,0.14446192874281766,-0.029190754945049583,-0.12634112167822073,0.08879030221593713,0.0031922385861274686,1.0]],\"type\":\"heatmap\",\"visible\":false},{\"coloraxis\":\"coloraxis\",\"colorscale\":[[0.0,\"rgb(103,0,31)\"],[0.1,\"rgb(178,24,43)\"],[0.2,\"rgb(214,96,77)\"],[0.3,\"rgb(244,165,130)\"],[0.4,\"rgb(253,219,199)\"],[0.5,\"rgb(247,247,247)\"],[0.6,\"rgb(209,229,240)\"],[0.7,\"rgb(146,197,222)\"],[0.8,\"rgb(67,147,195)\"],[0.9,\"rgb(33,102,172)\"],[1.0,\"rgb(5,48,97)\"]],\"hovertemplate\":\"x: %{x}\\u003cbr\\u003ey: %{y}\\u003cbr\\u003ecolor: %{z}\\u003cextra\\u003e\\u003c\\u002fextra\\u003e\",\"name\":\"0\",\"texttemplate\":\"%{z}\",\"x\":[\"RainTomorrow\",\"MinTemp\",\"MaxTemp\",\"Rainfall\",\"WindGustDir\",\"WindGustSpeed\",\"WindDir9am\",\"WindDir3pm\",\"WindSpeed9am\",\"WindSpeed3pm\",\"Humidity9am\",\"Humidity3pm\",\"Pressure9am\",\"Pressure3pm\",\"Temp9am\",\"Temp3pm\",\"RainToday\",\"Months\",\"climate\"],\"xaxis\":\"x\",\"y\":[\"RainTomorrow\",\"MinTemp\",\"MaxTemp\",\"Rainfall\",\"WindGustDir\",\"WindGustSpeed\",\"WindDir9am\",\"WindDir3pm\",\"WindSpeed9am\",\"WindSpeed3pm\",\"Humidity9am\",\"Humidity3pm\",\"Pressure9am\",\"Pressure3pm\",\"Temp9am\",\"Temp3pm\",\"RainToday\",\"Months\",\"climate\"],\"yaxis\":\"y\",\"z\":[[1.0,0.08393581350156307,-0.15923666414933418,0.23903180145061995,0.05448787768927509,0.2340097255174442,0.018436465128785936,0.03443518679643055,0.09099465016310505,0.08781739865081424,0.2571611603438003,0.44616037879131293,-0.24637114625949133,-0.2260311455254271,-0.025690822604581623,-0.19242408670116043,0.31309674550896077,0.007328471840058584,0.08874490540107373],[0.08393581350156307,1.0,0.736554879947358,0.10393795340859532,-0.12546510560514462,0.1774145260976753,-0.12510836430144925,-0.1588808902031206,0.17506364073869057,0.17517263108767825,-0.23289924559073164,0.006088664224423575,-0.4509699734544065,-0.46129172586164047,0.9018205621778996,0.7089055392798455,0.05583627714953934,-0.2038334961990112,0.027203226036641794],[-0.15923666414933418,0.736554879947358,1.0,-0.07499209497993575,-0.20677399114883532,0.06761477569098283,-0.247523605245475,-0.18639030040584126,0.01444964588964599,0.050300397194580494,-0.5041098050273038,-0.5088554199984232,-0.33206130275331036,-0.4271668835749745,0.8872096927504229,0.9845028310904481,-0.22919201710479753,-0.16388435510848312,-0.10526053326948441],[0.23903180145061995,0.10393795340859532,-0.07499209497993575,1.0,0.044790360485953945,0.13365939753988504,0.06565579553642202,0.04929575120155087,0.08733769468151066,0.05788711972355656,0.22440497587716363,0.2557546575244556,-0.16815364149847833,-0.1265338436909568,0.011191601489034678,-0.0796570726164772,0.5015157607624547,-0.03137101494207891,0.06287224452820833],[0.05448787768927509,-0.12546510560514462,-0.20677399114883532,0.044790360485953945,1.0,0.14216932091113657,0.3619951757207086,0.5606779676243747,-0.003837779989580148,0.07413457648782053,0.07314824286157952,0.07458272682959566,-0.11938602199625702,-0.028872115164091258,-0.16889256555548726,-0.2202727544561383,0.12560343069923902,0.03922480449070121,0.018512384100563186],[0.2340097255174442,0.1774145260976753,0.06761477569098283,0.13365939753988504,0.14216932091113657,1.0,-0.051322345569707314,0.1285923189058153,0.6053032893809175,0.686306743470663,-0.21506968756795294,-0.026327121063789812,-0.45874421802344273,-0.41374904863463996,0.15015009761950066,0.03274777925600875,0.15576076092638677,0.06102572708197479,0.0003200993792033971],[0.018436465128785936,-0.12510836430144925,-0.247523605245475,0.06565579553642202,0.3619951757207086,-0.051322345569707314,1.0,0.2997244398039775,-0.15426641900237106,-0.016974665308061597,0.202861632217252,0.16441486973314154,0.029779652475743018,0.1096459084084164,-0.202708765921785,-0.25005576884294023,0.1364368712000411,0.0011575791119156353,0.10865054048152005],[0.03443518679643055,-0.1588808902031206,-0.18639030040584126,0.04929575120155087,0.5606779676243747,0.1285923189058153,0.2997244398039775,1.0,0.03157183395264873,0.06464552080540305,0.03999398391452029,0.002796941876280849,-0.13105017179820774,-0.03249868576804112,-0.17808205916352193,-0.19828467288940743,0.12282159547906212,0.03355782464631565,-0.03415876770720816],[0.09099465016310505,0.17506364073869057,0.01444964588964599,0.08733769468151066,-0.003837779989580148,0.6053032893809175,-0.15426641900237106,0.03157183395264873,1.0,0.519546834492561,-0.2708583880345406,-0.0316138259484374,-0.22874305315934174,-0.17581712628835547,0.12854466322246128,0.004568833457939502,0.10305709619777459,0.05127718301221624,-0.09648106808231084],[0.08781739865081424,0.17517263108767825,0.050300397194580494,0.05788711972355656,0.07413457648782053,0.686306743470663,-0.016974665308061597,0.06464552080540305,0.519546834492561,1.0,-0.145525126140691,0.016432471350722434,-0.2963511676629694,-0.25543861805056034,0.16302996588669325,0.027777592344805757,0.0805913301004546,0.06037324323324587,0.045878973907706976],[0.2571611603438003,-0.23289924559073164,-0.5041098050273038,0.22440497587716363,0.07314824286157952,-0.21506968756795294,0.202861632217252,0.03999398391452029,-0.2708583880345406,-0.145525126140691,1.0,0.6669485686855433,0.13944214914517747,0.18685839923670616,-0.47135393998323405,-0.49839946252911915,0.35370817607393973,-0.09075932437253288,0.2875629303413937],[0.44616037879131293,0.006088664224423575,-0.5088554199984232,0.2557546575244556,0.07458272682959566,-0.026327121063789812,0.16441486973314154,0.002796941876280849,-0.0316138259484374,0.016432471350722434,0.6669485686855433,1.0,-0.02754442712799566,0.05199662593498018,-0.22101938347112143,-0.5578410027715796,0.37902002883171093,-0.01885814387628076,0.3059025109958145],[-0.24637114625949133,-0.4509699734544065,-0.33206130275331036,-0.16815364149847833,-0.11938602199625702,-0.45874421802344273,0.029779652475743018,-0.13105017179820774,-0.22874305315934174,-0.2963511676629694,0.13944214914517747,-0.02754442712799566,1.0,0.961325721117448,-0.4225556605462815,-0.2867700414222888,-0.1897810025428808,0.034927807601934424,-0.07578123039333128],[-0.2260311455254271,-0.46129172586164047,-0.4271668835749745,-0.1265338436909568,-0.028872115164091258,-0.41374904863463996,0.1096459084084164,-0.03249868576804112,-0.17581712628835547,-0.25543861805056034,0.18685839923670616,0.05199662593498018,0.961325721117448,1.0,-0.4701868443814808,-0.38954834973721725,-0.10612988528356615,0.02561125805226733,-0.059126089460642114],[-0.025690822604581623,0.9018205621778996,0.8872096927504229,0.011191601489034678,-0.16889256555548726,0.15015009761950066,-0.202708765921785,-0.17808205916352193,0.12854466322246128,0.16302996588669325,-0.47135393998323405,-0.22101938347112143,-0.4225556605462815,-0.4701868443814808,1.0,0.86059123734335,-0.09686468757182057,-0.13616133519461704,-0.029190754945049583],[-0.19242408670116043,0.7089055392798455,0.9845028310904481,-0.0796570726164772,-0.2202727544561383,0.03274777925600875,-0.25005576884294023,-0.19828467288940743,0.004568833457939502,0.027777592344805757,-0.49839946252911915,-0.5578410027715796,-0.2867700414222888,-0.38954834973721725,0.86059123734335,1.0,-0.23534031052896895,-0.17500044407241472,-0.12634112167822073],[0.31309674550896077,0.05583627714953934,-0.22919201710479753,0.5015157607624547,0.12560343069923902,0.15576076092638677,0.1364368712000411,0.12282159547906212,0.10305709619777459,0.0805913301004546,0.35370817607393973,0.37902002883171093,-0.1897810025428808,-0.10612988528356615,-0.09686468757182057,-0.23534031052896895,1.0,0.010070578700031687,0.08879030221593713],[0.007328471840058584,-0.2038334961990112,-0.16388435510848312,-0.03137101494207891,0.03922480449070121,0.06102572708197479,0.0011575791119156353,0.03355782464631565,0.05127718301221624,0.06037324323324587,-0.09075932437253288,-0.01885814387628076,0.034927807601934424,0.02561125805226733,-0.13616133519461704,-0.17500044407241472,0.010070578700031687,1.0,0.0031922385861274686],[0.08874490540107373,0.027203226036641794,-0.10526053326948441,0.06287224452820833,0.018512384100563186,0.0003200993792033971,0.10865054048152005,-0.03415876770720816,-0.09648106808231084,0.045878973907706976,0.2875629303413937,0.3059025109958145,-0.07578123039333128,-0.059126089460642114,-0.029190754945049583,-0.12634112167822073,0.08879030221593713,0.0031922385861274686,1.0]],\"type\":\"heatmap\",\"visible\":false},{\"coloraxis\":\"coloraxis\",\"colorscale\":[[0.0,\"rgb(103,0,31)\"],[0.1,\"rgb(178,24,43)\"],[0.2,\"rgb(214,96,77)\"],[0.3,\"rgb(244,165,130)\"],[0.4,\"rgb(253,219,199)\"],[0.5,\"rgb(247,247,247)\"],[0.6,\"rgb(209,229,240)\"],[0.7,\"rgb(146,197,222)\"],[0.8,\"rgb(67,147,195)\"],[0.9,\"rgb(33,102,172)\"],[1.0,\"rgb(5,48,97)\"]],\"hovertemplate\":\"x: %{x}\\u003cbr\\u003ey: %{y}\\u003cbr\\u003ecolor: %{z}\\u003cextra\\u003e\\u003c\\u002fextra\\u003e\",\"name\":\"0\",\"texttemplate\":\"%{z}\",\"x\":[\"RainTomorrow\",\"MinTemp\",\"MaxTemp\",\"Rainfall\",\"WindGustDir\",\"WindGustSpeed\",\"WindDir9am\",\"WindDir3pm\",\"WindSpeed9am\",\"WindSpeed3pm\",\"Humidity9am\",\"Humidity3pm\",\"Pressure9am\",\"Pressure3pm\",\"Temp9am\",\"Temp3pm\",\"RainToday\",\"Months\",\"climate\"],\"xaxis\":\"x\",\"y\":[\"RainTomorrow\",\"MinTemp\",\"MaxTemp\",\"Rainfall\",\"WindGustDir\",\"WindGustSpeed\",\"WindDir9am\",\"WindDir3pm\",\"WindSpeed9am\",\"WindSpeed3pm\",\"Humidity9am\",\"Humidity3pm\",\"Pressure9am\",\"Pressure3pm\",\"Temp9am\",\"Temp3pm\",\"RainToday\",\"Months\",\"climate\"],\"yaxis\":\"y\",\"z\":[[1.0,0.08801933624469639,-0.16025739946813042,0.23783278181599282,0.05002631563193868,0.23600115541124533,0.01446095054870929,0.025450691036122627,0.09509978662045494,0.09383153460770645,0.2613785065549964,0.4526451373755603,-0.24645663245600347,-0.2281558920642846,-0.023737639081821492,-0.19505959735677372,0.31371778725462546,0.007922163043203142,0.0960504098702356],[0.08801933624469639,1.0,0.7308467896252607,0.11105556832439559,-0.15375090320665774,0.1962705493818516,-0.12822928909140854,-0.16275595460623,0.20215055116281894,0.17492403184188535,-0.24619848493176472,0.022010383906732565,-0.45225929920856106,-0.4629183991747936,0.9030631470185919,0.7056636828616176,0.05970490531183075,-0.20449957481975606,0.0395159645944352],[-0.16025739946813042,0.7308467896252607,1.0,-0.069919344101804,-0.2139388886780173,0.0889598833423957,-0.25677030272914864,-0.1764796684064474,0.031689005610535836,0.043565516620182626,-0.5240889892801298,-0.4987253484387088,-0.3294949704875041,-0.42323522459325547,0.8828465583899251,0.9846638513224081,-0.23052606476859408,-0.17183378326061113,-0.10940116571947434],[0.23783278181599282,0.11105556832439559,-0.069919344101804,1.0,0.04392425278797009,0.13218074700712398,0.06473161937619988,0.044620288296641906,0.08875466036774875,0.06222157545092669,0.22536897729216285,0.25647474554098526,-0.17004812183591597,-0.1298402054391171,0.016858801273078317,-0.07397647405708874,0.49826040194869003,-0.033074527666260053,0.06813870927487448],[0.05002631563193868,-0.15375090320665774,-0.2139388886780173,0.04392425278797009,1.0,0.1333997497456505,0.3550999589964281,0.5937066443131276,0.02542821962456856,0.10003720498829302,0.06414787827843763,0.046487248480187676,-0.1391649511635483,-0.044068756587938115,-0.1893297480909672,-0.22977571725475604,0.13481420969157099,0.04345687776854818,-0.0077383693357693396],[0.23600115541124533,0.1962705493818516,0.0889598833423957,0.13218074700712398,0.1333997497456505,1.0,-0.05700792586941119,0.11966686310333095,0.6016071088524799,0.6891962612760189,-0.21981239829720237,-0.03546503386808475,-0.458367954366771,-0.4142853889231315,0.16659038244160915,0.04953709419958988,0.15605941922644267,0.05634164602841943,0.005581325867748552],[0.01446095054870929,-0.12822928909140854,-0.25677030272914864,0.06473161937619988,0.3550999589964281,-0.05700792586941119,1.0,0.27047560284638145,-0.14573388047719882,-0.0006001032234457715,0.20819677246772467,0.16750855440236687,0.0275743448710979,0.10821200408383985,-0.20627051024608348,-0.2567949714169888,0.14022530864768815,-0.004145505749677174,0.10903545079967336],[0.025450691036122627,-0.16275595460623,-0.1764796684064474,0.044620288296641906,0.5937066443131276,0.11966686310333095,0.27047560284638145,1.0,0.03572580424481582,0.07283028133577811,0.0323525760263631,-0.012667028306350123,-0.13460485426411425,-0.03587718088483836,-0.17750176851125735,-0.18986779682874416,0.12244622570798483,0.031150039499570306,-0.0463636279746584],[0.09509978662045494,0.20215055116281894,0.031689005610535836,0.08875466036774875,0.02542821962456856,0.6016071088524799,-0.14573388047719882,0.03572580424481582,1.0,0.5140952681205336,-0.26931334772806786,-0.029132738178589346,-0.23034888512811574,-0.1795863636231255,0.14665536008715976,0.015774549924911105,0.10450754398833803,0.0533051076979512,-0.08769258303497203],[0.09383153460770645,0.17492403184188535,0.043565516620182626,0.06222157545092669,0.10003720498829302,0.6891962612760189,-0.0006001032234457715,0.07283028133577811,0.5140952681205336,1.0,-0.13253895446077485,0.032595470462860064,-0.3001032215849781,-0.26117111489738387,0.1607868892899204,0.017174610683278888,0.08855762029199085,0.061806349642940586,0.07511349664979183],[0.2613785065549964,-0.24619848493176472,-0.5240889892801298,0.22536897729216285,0.06414787827843763,-0.21981239829720237,0.20819677246772467,0.0323525760263631,-0.26931334772806786,-0.13253895446077485,1.0,0.675197057312311,0.14199213196145086,0.1895122994867948,-0.48369925543354375,-0.5158586242762205,0.35777385315156596,-0.08633112039687878,0.3042695612108662],[0.4526451373755603,0.022010383906732565,-0.4987253484387088,0.25647474554098526,0.046487248480187676,-0.03546503386808475,0.16750855440236687,-0.012667028306350123,-0.029132738178589346,0.032595470462860064,0.675197057312311,1.0,-0.0275301030180844,0.051399017546702334,-0.20384313489598255,-0.5477311092768299,0.38230093352841726,-0.013663778351431215,0.3227070138261744],[-0.24645663245600347,-0.45225929920856106,-0.3294949704875041,-0.17004812183591597,-0.1391649511635483,-0.458367954366771,0.0275743448710979,-0.13460485426411425,-0.23034888512811574,-0.3001032215849781,0.14199213196145086,-0.0275301030180844,1.0,0.9616365245209764,-0.42093423941082825,-0.28746577835593157,-0.1927962878163178,0.03904094340395291,-0.07704227027544266],[-0.2281558920642846,-0.4629183991747936,-0.42323522459325547,-0.1298402054391171,-0.044068756587938115,-0.4142853889231315,0.10821200408383985,-0.03587718088483836,-0.1795863636231255,-0.26117111489738387,0.1895122994867948,0.051399017546702334,0.9616365245209764,1.0,-0.46811965142925566,-0.390238896965266,-0.11097269057594018,0.02946084409483971,-0.05869058230232018],[-0.023737639081821492,0.9030631470185919,0.8828465583899251,0.016858801273078317,-0.1893297480909672,0.16659038244160915,-0.20627051024608348,-0.17750176851125735,0.14665536008715976,0.1607868892899204,-0.48369925543354375,-0.20384313489598255,-0.42093423941082825,-0.46811965142925566,1.0,0.8575426713258049,-0.09536775713136575,-0.13692874803678368,-0.023725436031428394],[-0.19505959735677372,0.7056636828616176,0.9846638513224081,-0.07397647405708874,-0.22977571725475604,0.04953709419958988,-0.2567949714169888,-0.18986779682874416,0.015774549924911105,0.017174610683278888,-0.5158586242762205,-0.5477311092768299,-0.28746577835593157,-0.390238896965266,0.8575426713258049,1.0,-0.23702932478671243,-0.18025063235919003,-0.1174813185407928],[0.31371778725462546,0.05970490531183075,-0.23052606476859408,0.49826040194869003,0.13481420969157099,0.15605941922644267,0.14022530864768815,0.12244622570798483,0.10450754398833803,0.08855762029199085,0.35777385315156596,0.38230093352841726,-0.1927962878163178,-0.11097269057594018,-0.09536775713136575,-0.23702932478671243,1.0,0.00954243918939256,0.09648681431568934],[0.007922163043203142,-0.20449957481975606,-0.17183378326061113,-0.033074527666260053,0.04345687776854818,0.05634164602841943,-0.004145505749677174,0.031150039499570306,0.0533051076979512,0.061806349642940586,-0.08633112039687878,-0.013663778351431215,0.03904094340395291,0.02946084409483971,-0.13692874803678368,-0.18025063235919003,0.00954243918939256,1.0,0.0037578158759923163],[0.0960504098702356,0.0395159645944352,-0.10940116571947434,0.06813870927487448,-0.0077383693357693396,0.005581325867748552,0.10903545079967336,-0.0463636279746584,-0.08769258303497203,0.07511349664979183,0.3042695612108662,0.3227070138261744,-0.07704227027544266,-0.05869058230232018,-0.023725436031428394,-0.1174813185407928,0.09648681431568934,0.0037578158759923163,1.0]],\"type\":\"heatmap\",\"visible\":false},{\"coloraxis\":\"coloraxis\",\"colorscale\":[[0.0,\"rgb(103,0,31)\"],[0.1,\"rgb(178,24,43)\"],[0.2,\"rgb(214,96,77)\"],[0.3,\"rgb(244,165,130)\"],[0.4,\"rgb(253,219,199)\"],[0.5,\"rgb(247,247,247)\"],[0.6,\"rgb(209,229,240)\"],[0.7,\"rgb(146,197,222)\"],[0.8,\"rgb(67,147,195)\"],[0.9,\"rgb(33,102,172)\"],[1.0,\"rgb(5,48,97)\"]],\"hovertemplate\":\"x: %{x}\\u003cbr\\u003ey: %{y}\\u003cbr\\u003ecolor: %{z}\\u003cextra\\u003e\\u003c\\u002fextra\\u003e\",\"name\":\"0\",\"texttemplate\":\"%{z}\",\"x\":[\"RainTomorrow\",\"MinTemp\",\"MaxTemp\",\"Rainfall\",\"Evaporation\",\"Sunshine\",\"WindGustSpeed\",\"WindSpeed9am\",\"WindSpeed3pm\",\"Humidity9am\",\"Humidity3pm\",\"Pressure9am\",\"Pressure3pm\",\"Cloud9am\",\"Cloud3pm\",\"Temp9am\",\"Temp3pm\",\"RainToday\",\"Months\"],\"xaxis\":\"x\",\"y\":[\"RainTomorrow\",\"MinTemp\",\"MaxTemp\",\"Rainfall\",\"Evaporation\",\"Sunshine\",\"WindGustSpeed\",\"WindSpeed9am\",\"WindSpeed3pm\",\"Humidity9am\",\"Humidity3pm\",\"Pressure9am\",\"Pressure3pm\",\"Cloud9am\",\"Cloud3pm\",\"Temp9am\",\"Temp3pm\",\"RainToday\",\"Months\"],\"yaxis\":\"y\",\"z\":[[1.0,0.07997457872496214,-0.14928493809227694,0.2941214836460777,-0.06522109055991386,-0.5230602247909859,0.17401101103203742,0.06764750493598827,-0.011681535633189603,0.32950139893106495,0.47210459300857616,-0.032536035830027545,0.01100422380025663,0.3648612276196465,0.45695547131879427,-0.0007211151504586134,-0.18899075147349123,0.34154664098612375,-0.0480520134539182],[0.07997457872496214,1.0,0.7704605600787303,0.012735255833404112,0.5715489473265775,-0.0633517709549337,0.15293638299301635,-0.29479222403622096,0.22330735482557115,0.052595922903553485,0.27189086537866813,-0.39341658000215884,-0.35585460140545977,0.25995910906948794,0.1802199182889194,0.9390441104475674,0.7527072125468011,0.018663711196884435,-0.2654770181153357],[-0.14928493809227694,0.7704605600787303,1.0,-0.13996784533630816,0.5134373364915534,0.32735511930344363,0.08811376147970676,-0.3463853033155693,0.1517968524043693,-0.18734220766414555,-0.15254836081216305,-0.38925122484943214,-0.42536682022141015,-0.09694133041677781,-0.10820501888449673,0.8592248725319365,0.9604533401799124,-0.18779179494208673,-0.18735303891538105],[0.2941214836460777,0.012735255833404112,-0.13996784533630816,1.0,-0.12633236305328832,-0.30739942402425663,0.17232319529709073,0.1540553539796675,0.03983978641467151,0.33106632310817546,0.3015897798457755,-0.036913876944474136,0.003327943882391268,0.2773579983705659,0.22939427546272648,-0.05618705780996801,-0.14362021860587398,0.5553047678570939,-0.06943462685427466],[-0.06522109055991386,0.5715489473265775,0.5134373364915534,-0.12633236305328832,1.0,0.17735934484575633,0.2993943221790957,-0.07659059869990294,0.2996018007145375,-0.39880039671922957,-0.10295595403375606,-0.34927336811626564,-0.303301280974039,-0.041985881809287064,-0.04046431039978614,0.6093247536358459,0.47792927837073557,-0.23279816430017863,0.042434019488477845],[-0.5230602247909859,-0.0633517709549337,0.32735511930344363,-0.30739942402425663,0.17735934484575633,1.0,-0.03646089319973014,-0.05956094339130134,0.17709166050875225,-0.4903161500541048,-0.585325080758917,-0.047862717238151394,-0.09596283776525699,-0.7344927048945973,-0.751218695924234,0.11538480205902372,0.3456151945403992,-0.3666281771495355,0.08144416586937903],[0.17401101103203742,0.15293638299301635,0.08811376147970676,0.17232319529709073,0.2993943221790957,-0.03646089319973014,1.0,0.31145325861133266,0.6089102417206033,-0.27175422475583977,-0.11787888762371503,-0.4872130571761201,-0.4198569435164911,0.035585904979597655,0.06981000909946558,0.19140076580206491,0.04339346269090175,0.10545395589558298,0.09923832629604269],[0.06764750493598827,-0.29479222403622096,-0.3463853033155693,0.1540553539796675,-0.07659059869990294,-0.05956094339130134,0.31145325861133266,1.0,0.1985023014157259,-0.1921833707645885,-0.1520510638324288,0.0028505309400431223,0.0915248118076738,-0.07094076411475926,-0.018180228491529952,-0.3303202665857304,-0.34867479464390616,0.14607818965034702,0.05487045469194997],[-0.011681535633189603,0.22330735482557115,0.1517968524043693,0.03983978641467151,0.2996018007145375,0.17709166050875225,0.6089102417206033,0.1985023014157259,1.0,-0.29042265441730175,-0.13565189532142305,-0.3308080947304432,-0.27567406675999384,-0.061411044832321675,-0.10048519360449763,0.27690732164131804,0.13272492675134281,0.01576942178063629,0.07243814632156136],[0.32950139893106495,0.052595922903553485,-0.18734220766414555,0.33106632310817546,-0.39880039671922957,-0.4903161500541048,-0.27175422475583977,-0.1921833707645885,-0.29042265441730175,1.0,0.6593054558484294,0.2636100080177159,0.2519416107918645,0.4596216916152066,0.3595108688928468,-0.14806490080762652,-0.15751783502403027,0.4010634725006453,-0.2206122434376258],[0.47210459300857616,0.27189086537866813,-0.15254836081216305,0.3015897798457755,-0.10295595403375606,-0.585325080758917,-0.11787888762371503,-0.1520510638324288,-0.13565189532142305,0.6593054558484294,1.0,0.15475669548206392,0.18330489659303015,0.4982146397306407,0.5173620707490263,0.12896874623651064,-0.2139129909438007,0.3431986436043975,-0.13030795544878865],[-0.032536035830027545,-0.39341658000215884,-0.38925122484943214,-0.036913876944474136,-0.34927336811626564,-0.047862717238151394,-0.4872130571761201,0.0028505309400431223,-0.3308080947304432,0.2636100080177159,0.15475669548206392,1.0,0.9631634263667962,-0.011774611964408255,-0.043863783585419154,-0.4193694761275477,-0.34693488997249367,-0.00016673179265102938,-0.01135946162120846],[0.01100422380025663,-0.35585460140545977,-0.42536682022141015,0.003327943882391268,-0.303301280974039,-0.09596283776525699,-0.4198569435164911,0.0915248118076738,-0.27567406675999384,0.2519416107918645,0.18330489659303015,0.9631634263667962,1.0,0.021305657529148012,-0.0029891426842708507,-0.404949657381876,-0.39278570488140935,0.05710576913837519,-0.03622943570676192],[0.3648612276196465,0.25995910906948794,-0.09694133041677781,0.2773579983705659,-0.041985881809287064,-0.7344927048945973,0.035585904979597655,-0.07094076411475926,-0.061411044832321675,0.4596216916152066,0.4982146397306407,-0.011774611964408255,0.021305657529148012,1.0,0.6090312274771074,0.09621261412998798,-0.09909816216172136,0.3492650639918581,-0.05241045424112987],[0.45695547131879427,0.1802199182889194,-0.10820501888449673,0.22939427546272648,-0.04046431039978614,-0.751218695924234,0.06981000909946558,-0.018180228491529952,-0.10048519360449763,0.3595108688928468,0.5173620707490263,-0.043863783585419154,-0.0029891426842708507,0.6090312274771074,1.0,0.07424412629391726,-0.15972368183336022,0.2872537278604459,-0.03663714973501194],[-0.0007211151504586134,0.9390441104475674,0.8592248725319365,-0.05618705780996801,0.6093247536358459,0.11538480205902372,0.19140076580206491,-0.3303202665857304,0.27690732164131804,-0.14806490080762652,0.12896874623651064,-0.4193694761275477,-0.404949657381876,0.09621261412998798,0.07424412629391726,1.0,0.8291107028354859,-0.07482902147767613,-0.1699283329007768],[-0.18899075147349123,0.7527072125468011,0.9604533401799124,-0.14362021860587398,0.47792927837073557,0.3456151945403992,0.04339346269090175,-0.34867479464390616,0.13272492675134281,-0.15751783502403027,-0.2139129909438007,-0.34693488997249367,-0.39278570488140935,-0.09909816216172136,-0.15972368183336022,0.8291107028354859,1.0,-0.18875389359157194,-0.227630288861524],[0.34154664098612375,0.018663711196884435,-0.18779179494208673,0.5553047678570939,-0.23279816430017863,-0.3666281771495355,0.10545395589558298,0.14607818965034702,0.01576942178063629,0.4010634725006453,0.3431986436043975,-0.00016673179265102938,0.05710576913837519,0.3492650639918581,0.2872537278604459,-0.07482902147767613,-0.18875389359157194,1.0,-0.04344157536565503],[-0.0480520134539182,-0.2654770181153357,-0.18735303891538105,-0.06943462685427466,0.042434019488477845,0.08144416586937903,0.09923832629604269,0.05487045469194997,0.07243814632156136,-0.2206122434376258,-0.13030795544878865,-0.01135946162120846,-0.03622943570676192,-0.05241045424112987,-0.03663714973501194,-0.1699283329007768,-0.227630288861524,-0.04344157536565503,1.0]],\"type\":\"heatmap\",\"visible\":false},{\"coloraxis\":\"coloraxis\",\"hovertemplate\":\"x: %{x}\\u003cbr\\u003ey: %{y}\\u003cbr\\u003ecolor: %{z}\\u003cextra\\u003e\\u003c\\u002fextra\\u003e\",\"name\":\"0\",\"texttemplate\":\"%{z}\",\"x\":[\"RainTomorrow\"],\"xaxis\":\"x\",\"y\":[\"RainTomorrow\",\"MinTemp\",\"MaxTemp\",\"Rainfall\",\"Evaporation\",\"Sunshine\",\"WindGustSpeed\",\"WindSpeed9am\",\"WindSpeed3pm\",\"Humidity9am\",\"Humidity3pm\",\"Pressure9am\",\"Pressure3pm\",\"Cloud9am\",\"Cloud3pm\",\"Temp9am\",\"Temp3pm\",\"RainToday\",\"Months\"],\"yaxis\":\"y\",\"z\":[[1.0],[0.06],[-0.18],[0.2],[0.03],[null],[0.24],[0.07],[0.09],[0.21],[0.48],[-0.3],[-0.37],[0.16],[0.26],[0.02],[-0.22],[0.25],[0.09]],\"type\":\"heatmap\",\"visible\":false}],                        {\"template\":{\"data\":{\"histogram2dcontour\":[{\"type\":\"histogram2dcontour\",\"colorbar\":{\"outlinewidth\":0,\"ticks\":\"\"},\"colorscale\":[[0.0,\"#0d0887\"],[0.1111111111111111,\"#46039f\"],[0.2222222222222222,\"#7201a8\"],[0.3333333333333333,\"#9c179e\"],[0.4444444444444444,\"#bd3786\"],[0.5555555555555556,\"#d8576b\"],[0.6666666666666666,\"#ed7953\"],[0.7777777777777778,\"#fb9f3a\"],[0.8888888888888888,\"#fdca26\"],[1.0,\"#f0f921\"]]}],\"choropleth\":[{\"type\":\"choropleth\",\"colorbar\":{\"outlinewidth\":0,\"ticks\":\"\"}}],\"histogram2d\":[{\"type\":\"histogram2d\",\"colorbar\":{\"outlinewidth\":0,\"ticks\":\"\"},\"colorscale\":[[0.0,\"#0d0887\"],[0.1111111111111111,\"#46039f\"],[0.2222222222222222,\"#7201a8\"],[0.3333333333333333,\"#9c179e\"],[0.4444444444444444,\"#bd3786\"],[0.5555555555555556,\"#d8576b\"],[0.6666666666666666,\"#ed7953\"],[0.7777777777777778,\"#fb9f3a\"],[0.8888888888888888,\"#fdca26\"],[1.0,\"#f0f921\"]]}],\"heatmap\":[{\"type\":\"heatmap\",\"colorbar\":{\"outlinewidth\":0,\"ticks\":\"\"},\"colorscale\":[[0.0,\"#0d0887\"],[0.1111111111111111,\"#46039f\"],[0.2222222222222222,\"#7201a8\"],[0.3333333333333333,\"#9c179e\"],[0.4444444444444444,\"#bd3786\"],[0.5555555555555556,\"#d8576b\"],[0.6666666666666666,\"#ed7953\"],[0.7777777777777778,\"#fb9f3a\"],[0.8888888888888888,\"#fdca26\"],[1.0,\"#f0f921\"]]}],\"heatmapgl\":[{\"type\":\"heatmapgl\",\"colorbar\":{\"outlinewidth\":0,\"ticks\":\"\"},\"colorscale\":[[0.0,\"#0d0887\"],[0.1111111111111111,\"#46039f\"],[0.2222222222222222,\"#7201a8\"],[0.3333333333333333,\"#9c179e\"],[0.4444444444444444,\"#bd3786\"],[0.5555555555555556,\"#d8576b\"],[0.6666666666666666,\"#ed7953\"],[0.7777777777777778,\"#fb9f3a\"],[0.8888888888888888,\"#fdca26\"],[1.0,\"#f0f921\"]]}],\"contourcarpet\":[{\"type\":\"contourcarpet\",\"colorbar\":{\"outlinewidth\":0,\"ticks\":\"\"}}],\"contour\":[{\"type\":\"contour\",\"colorbar\":{\"outlinewidth\":0,\"ticks\":\"\"},\"colorscale\":[[0.0,\"#0d0887\"],[0.1111111111111111,\"#46039f\"],[0.2222222222222222,\"#7201a8\"],[0.3333333333333333,\"#9c179e\"],[0.4444444444444444,\"#bd3786\"],[0.5555555555555556,\"#d8576b\"],[0.6666666666666666,\"#ed7953\"],[0.7777777777777778,\"#fb9f3a\"],[0.8888888888888888,\"#fdca26\"],[1.0,\"#f0f921\"]]}],\"surface\":[{\"type\":\"surface\",\"colorbar\":{\"outlinewidth\":0,\"ticks\":\"\"},\"colorscale\":[[0.0,\"#0d0887\"],[0.1111111111111111,\"#46039f\"],[0.2222222222222222,\"#7201a8\"],[0.3333333333333333,\"#9c179e\"],[0.4444444444444444,\"#bd3786\"],[0.5555555555555556,\"#d8576b\"],[0.6666666666666666,\"#ed7953\"],[0.7777777777777778,\"#fb9f3a\"],[0.8888888888888888,\"#fdca26\"],[1.0,\"#f0f921\"]]}],\"mesh3d\":[{\"type\":\"mesh3d\",\"colorbar\":{\"outlinewidth\":0,\"ticks\":\"\"}}],\"scatter\":[{\"fillpattern\":{\"fillmode\":\"overlay\",\"size\":10,\"solidity\":0.2},\"type\":\"scatter\"}],\"parcoords\":[{\"type\":\"parcoords\",\"line\":{\"colorbar\":{\"outlinewidth\":0,\"ticks\":\"\"}}}],\"scatterpolargl\":[{\"type\":\"scatterpolargl\",\"marker\":{\"colorbar\":{\"outlinewidth\":0,\"ticks\":\"\"}}}],\"bar\":[{\"error_x\":{\"color\":\"#2a3f5f\"},\"error_y\":{\"color\":\"#2a3f5f\"},\"marker\":{\"line\":{\"color\":\"#E5ECF6\",\"width\":0.5},\"pattern\":{\"fillmode\":\"overlay\",\"size\":10,\"solidity\":0.2}},\"type\":\"bar\"}],\"scattergeo\":[{\"type\":\"scattergeo\",\"marker\":{\"colorbar\":{\"outlinewidth\":0,\"ticks\":\"\"}}}],\"scatterpolar\":[{\"type\":\"scatterpolar\",\"marker\":{\"colorbar\":{\"outlinewidth\":0,\"ticks\":\"\"}}}],\"histogram\":[{\"marker\":{\"pattern\":{\"fillmode\":\"overlay\",\"size\":10,\"solidity\":0.2}},\"type\":\"histogram\"}],\"scattergl\":[{\"type\":\"scattergl\",\"marker\":{\"colorbar\":{\"outlinewidth\":0,\"ticks\":\"\"}}}],\"scatter3d\":[{\"type\":\"scatter3d\",\"line\":{\"colorbar\":{\"outlinewidth\":0,\"ticks\":\"\"}},\"marker\":{\"colorbar\":{\"outlinewidth\":0,\"ticks\":\"\"}}}],\"scattermapbox\":[{\"type\":\"scattermapbox\",\"marker\":{\"colorbar\":{\"outlinewidth\":0,\"ticks\":\"\"}}}],\"scatterternary\":[{\"type\":\"scatterternary\",\"marker\":{\"colorbar\":{\"outlinewidth\":0,\"ticks\":\"\"}}}],\"scattercarpet\":[{\"type\":\"scattercarpet\",\"marker\":{\"colorbar\":{\"outlinewidth\":0,\"ticks\":\"\"}}}],\"carpet\":[{\"aaxis\":{\"endlinecolor\":\"#2a3f5f\",\"gridcolor\":\"white\",\"linecolor\":\"white\",\"minorgridcolor\":\"white\",\"startlinecolor\":\"#2a3f5f\"},\"baxis\":{\"endlinecolor\":\"#2a3f5f\",\"gridcolor\":\"white\",\"linecolor\":\"white\",\"minorgridcolor\":\"white\",\"startlinecolor\":\"#2a3f5f\"},\"type\":\"carpet\"}],\"table\":[{\"cells\":{\"fill\":{\"color\":\"#EBF0F8\"},\"line\":{\"color\":\"white\"}},\"header\":{\"fill\":{\"color\":\"#C8D4E3\"},\"line\":{\"color\":\"white\"}},\"type\":\"table\"}],\"barpolar\":[{\"marker\":{\"line\":{\"color\":\"#E5ECF6\",\"width\":0.5},\"pattern\":{\"fillmode\":\"overlay\",\"size\":10,\"solidity\":0.2}},\"type\":\"barpolar\"}],\"pie\":[{\"automargin\":true,\"type\":\"pie\"}]},\"layout\":{\"autotypenumbers\":\"strict\",\"colorway\":[\"#636efa\",\"#EF553B\",\"#00cc96\",\"#ab63fa\",\"#FFA15A\",\"#19d3f3\",\"#FF6692\",\"#B6E880\",\"#FF97FF\",\"#FECB52\"],\"font\":{\"color\":\"#2a3f5f\"},\"hovermode\":\"closest\",\"hoverlabel\":{\"align\":\"left\"},\"paper_bgcolor\":\"white\",\"plot_bgcolor\":\"#E5ECF6\",\"polar\":{\"bgcolor\":\"#E5ECF6\",\"angularaxis\":{\"gridcolor\":\"white\",\"linecolor\":\"white\",\"ticks\":\"\"},\"radialaxis\":{\"gridcolor\":\"white\",\"linecolor\":\"white\",\"ticks\":\"\"}},\"ternary\":{\"bgcolor\":\"#E5ECF6\",\"aaxis\":{\"gridcolor\":\"white\",\"linecolor\":\"white\",\"ticks\":\"\"},\"baxis\":{\"gridcolor\":\"white\",\"linecolor\":\"white\",\"ticks\":\"\"},\"caxis\":{\"gridcolor\":\"white\",\"linecolor\":\"white\",\"ticks\":\"\"}},\"coloraxis\":{\"colorbar\":{\"outlinewidth\":0,\"ticks\":\"\"}},\"colorscale\":{\"sequential\":[[0.0,\"#0d0887\"],[0.1111111111111111,\"#46039f\"],[0.2222222222222222,\"#7201a8\"],[0.3333333333333333,\"#9c179e\"],[0.4444444444444444,\"#bd3786\"],[0.5555555555555556,\"#d8576b\"],[0.6666666666666666,\"#ed7953\"],[0.7777777777777778,\"#fb9f3a\"],[0.8888888888888888,\"#fdca26\"],[1.0,\"#f0f921\"]],\"sequentialminus\":[[0.0,\"#0d0887\"],[0.1111111111111111,\"#46039f\"],[0.2222222222222222,\"#7201a8\"],[0.3333333333333333,\"#9c179e\"],[0.4444444444444444,\"#bd3786\"],[0.5555555555555556,\"#d8576b\"],[0.6666666666666666,\"#ed7953\"],[0.7777777777777778,\"#fb9f3a\"],[0.8888888888888888,\"#fdca26\"],[1.0,\"#f0f921\"]],\"diverging\":[[0,\"#8e0152\"],[0.1,\"#c51b7d\"],[0.2,\"#de77ae\"],[0.3,\"#f1b6da\"],[0.4,\"#fde0ef\"],[0.5,\"#f7f7f7\"],[0.6,\"#e6f5d0\"],[0.7,\"#b8e186\"],[0.8,\"#7fbc41\"],[0.9,\"#4d9221\"],[1,\"#276419\"]]},\"xaxis\":{\"gridcolor\":\"white\",\"linecolor\":\"white\",\"ticks\":\"\",\"title\":{\"standoff\":15},\"zerolinecolor\":\"white\",\"automargin\":true,\"zerolinewidth\":2},\"yaxis\":{\"gridcolor\":\"white\",\"linecolor\":\"white\",\"ticks\":\"\",\"title\":{\"standoff\":15},\"zerolinecolor\":\"white\",\"automargin\":true,\"zerolinewidth\":2},\"scene\":{\"xaxis\":{\"backgroundcolor\":\"#E5ECF6\",\"gridcolor\":\"white\",\"linecolor\":\"white\",\"showbackground\":true,\"ticks\":\"\",\"zerolinecolor\":\"white\",\"gridwidth\":2},\"yaxis\":{\"backgroundcolor\":\"#E5ECF6\",\"gridcolor\":\"white\",\"linecolor\":\"white\",\"showbackground\":true,\"ticks\":\"\",\"zerolinecolor\":\"white\",\"gridwidth\":2},\"zaxis\":{\"backgroundcolor\":\"#E5ECF6\",\"gridcolor\":\"white\",\"linecolor\":\"white\",\"showbackground\":true,\"ticks\":\"\",\"zerolinecolor\":\"white\",\"gridwidth\":2}},\"shapedefaults\":{\"line\":{\"color\":\"#2a3f5f\"}},\"annotationdefaults\":{\"arrowcolor\":\"#2a3f5f\",\"arrowhead\":0,\"arrowwidth\":1},\"geo\":{\"bgcolor\":\"white\",\"landcolor\":\"#E5ECF6\",\"subunitcolor\":\"white\",\"showland\":true,\"showlakes\":true,\"lakecolor\":\"white\"},\"title\":{\"x\":0.05},\"mapbox\":{\"style\":\"light\"}}},\"updatemenus\":[{\"active\":0,\"buttons\":[{\"args\":[{\"visible\":[true,false,false,false,false,false,false,false]},{\"title\":\"1 - Matrice de Corrélation (Toutes les données)\"}],\"label\":\"1 - Heatmap basique\",\"method\":\"update\"},{\"args\":[{\"visible\":[false,true,false,false,false,false,false,false]},{\"title\":\"2 - Matrice de Corrélation (Toutes les données) + Tomorrow (0\\u002f1)\"}],\"label\":\"2 - Matrice avec Tomorrow\",\"method\":\"update\"},{\"args\":[{\"visible\":[false,false,true,false,false,false,false,false]},{\"title\":\"3 - Matrice de Corrélation + quantitative encoder\"}],\"label\":\"3 - Matrice encoder\",\"method\":\"update\"},{\"args\":[{\"visible\":[false,false,false,true,false,false,false,false]},{\"title\":\"4 - Matrice de Corrélation après suppression des colonnes Sunshine, Evaporation, Cloud9am, Cloud3pm\"}],\"label\":\"4 - Matrice Drop Col\",\"method\":\"update\"},{\"args\":[{\"visible\":[false,false,false,false,true,false,false,false]},{\"title\":\"5 - Matrice de Corrélation avec Na supprimés\"}],\"label\":\"5 - Matrice Drop Col Na\",\"method\":\"update\"},{\"args\":[{\"visible\":[false,false,false,false,false,true,false,false]},{\"title\":\"6 - Matrice de Corrélation pour Sydney sans dropcol, sans dropna\"}],\"label\":\"6 - Matrice Sydney\",\"method\":\"update\"},{\"args\":[{\"visible\":[false,false,false,false,false,false,true]},{\"title\":\"6 - Matrice de Corrélation pour Launceston sans dropcol, sans dropna mais beacoup de Sunshine manque\"}],\"label\":\"6 - Matrice Launceston\",\"method\":\"update\"}],\"direction\":\"down\",\"showactive\":true,\"x\":0.8,\"xanchor\":\"left\",\"y\":1.15,\"yanchor\":\"top\"}],\"showlegend\":true,\"width\":1400,\"height\":600},                        {\"responsive\": true}                    ).then(function(){\n",
       "                            \n",
       "var gd = document.getElementById('bc956580-24d1-4df9-a795-56073333d0e7');\n",
       "var x = new MutationObserver(function (mutations, observer) {{\n",
       "        var display = window.getComputedStyle(gd).display;\n",
       "        if (!display || display === 'none') {{\n",
       "            console.log([gd, 'removed!']);\n",
       "            Plotly.purge(gd);\n",
       "            observer.disconnect();\n",
       "        }}\n",
       "}});\n",
       "\n",
       "// Listen for the removal of the full notebook cells\n",
       "var notebookContainer = gd.closest('#notebook-container');\n",
       "if (notebookContainer) {{\n",
       "    x.observe(notebookContainer, {childList: true});\n",
       "}}\n",
       "\n",
       "// Listen for the clearing of the current output cell\n",
       "var outputEl = gd.closest('.output');\n",
       "if (outputEl) {{\n",
       "    x.observe(outputEl, {childList: true});\n",
       "}}\n",
       "\n",
       "                        })                };                });            </script>        </div>"
      ]
     },
     "metadata": {},
     "output_type": "display_data"
    }
   ],
   "source": [
    "# fig_all\n",
    "# fig_all_raintomorrow\n",
    "# fig_all_include\n",
    "# fig_drop_col\n",
    "# fig_drop_col_na\n",
    "# fig_syd\n",
    "# fig_lau\n",
    "\n",
    "\n",
    "fig = go.Figure()\n",
    "\n",
    "# Ajouter les traces\n",
    "fig.add_trace(fig_all.data[0])\n",
    "fig.add_trace(fig_all_raintomorrow.data[0])\n",
    "fig.add_trace(fig_all_include.data[0])\n",
    "fig.add_trace(fig_drop_col.data[0])\n",
    "fig.add_trace(fig_drop_col_na.data[0])\n",
    "fig.add_trace(fig_syd.data[0])\n",
    "fig.add_trace(fig_lau.data[0])\n",
    "\n",
    "fig.update_layout(\n",
    "    updatemenus=[\n",
    "        {\n",
    "            'buttons': [\n",
    "                {\n",
    "                    'label': '1 - Heatmap basique',\n",
    "                    'method': 'update',\n",
    "                    'args': [{'visible': [True, False, False, False, False, False, False, False]},\n",
    "                             {'title': '1 - Matrice de Corrélation (Toutes les données)'}]\n",
    "                },\n",
    "                {\n",
    "                    'label': '2 - Matrice avec Tomorrow',\n",
    "                    'method': 'update',\n",
    "                    'args': [{'visible': [False, True, False, False, False, False, False, False]},\n",
    "                             {'title': '2 - Matrice de Corrélation (Toutes les données) + Tomorrow (0/1)'}]\n",
    "                },\n",
    "                {\n",
    "                    'label': '3 - Matrice encoder',\n",
    "                    'method': 'update',\n",
    "                    'args': [{'visible': [False, False, True, False, False, False, False, False]},\n",
    "                             {'title': '3 - Matrice de Corrélation + quantitative encoder'}]\n",
    "                },\n",
    "                # Ajouter d'autres boutons pour les autres graphiques\n",
    "                {\n",
    "                    'label': '4 - Matrice Drop Col',\n",
    "                    'method': 'update',\n",
    "                    'args': [{'visible': [False, False, False, True, False, False, False, False]},\n",
    "                             {'title': '4 - Matrice de Corrélation après suppression des colonnes Sunshine, Evaporation, Cloud9am, Cloud3pm'}]\n",
    "                },\n",
    "                {\n",
    "                    'label': '5 - Matrice Drop Col Na',\n",
    "                    'method': 'update',\n",
    "                    'args': [{'visible': [False, False, False, False, True, False, False, False]},\n",
    "                             {'title': '5 - Matrice de Corrélation avec Na supprimés'}]\n",
    "                },\n",
    "                {\n",
    "                    'label': '6 - Matrice Sydney',\n",
    "                    'method': 'update',\n",
    "                    'args': [{'visible': [False, False, False, False, False, True, False, False]},\n",
    "                             {'title': '6 - Matrice de Corrélation pour Sydney sans dropcol, sans dropna'}]\n",
    "                },\n",
    "                {\n",
    "                    'label': '6 - Matrice Launceston',\n",
    "                    'method': 'update',\n",
    "                    'args': [{'visible': [False, False, False, False, False, False, True]},\n",
    "                             {'title': '6 - Matrice de Corrélation pour Launceston sans dropcol, sans dropna mais beacoup de Sunshine manque'}]\n",
    "                },\n",
    "\n",
    "            ],\n",
    "            'direction': 'down',\n",
    "            'showactive': True,\n",
    "            'active': 0,\n",
    "            'x': 0.8,\n",
    "            'xanchor': 'left',\n",
    "            'y': 1.15,\n",
    "            'yanchor': 'top'\n",
    "        }\n",
    "    ],\n",
    "    showlegend=True,\n",
    "    width=1400,\n",
    "    height=600,\n",
    ")\n",
    "\n",
    "fig.data[0].update(visible=True)\n",
    "fig.data[1].update(visible=False)\n",
    "fig.data[2].update(visible=False)\n",
    "fig.data[3].update(visible=False)\n",
    "fig.data[4].update(visible=False)\n",
    "fig.data[5].update(visible=False)\n",
    "fig.data[6].update(visible=False)\n",
    "\n",
    "fig.show()"
   ]
  },
  {
   "cell_type": "code",
   "execution_count": 23,
   "metadata": {},
   "outputs": [
    {
     "data": {
      "application/vnd.plotly.v1+json": {
       "config": {
        "plotlyServerURL": "https://plot.ly"
       },
       "data": [
        {
         "coloraxis": "coloraxis",
         "hovertemplate": "x: %{x}<br>y: %{y}<br>color: %{z}<extra></extra>",
         "name": "0",
         "texttemplate": "%{z}",
         "type": "heatmap",
         "x": [
          "RainTomorrow",
          "MinTemp",
          "MaxTemp",
          "Rainfall",
          "Evaporation",
          "Sunshine",
          "WindGustSpeed",
          "WindSpeed9am",
          "WindSpeed3pm",
          "Humidity9am",
          "Humidity3pm",
          "Pressure9am",
          "Pressure3pm",
          "Cloud9am",
          "Cloud3pm",
          "Temp9am",
          "Temp3pm"
         ],
         "xaxis": "x",
         "y": [
          "RainTomorrow",
          "MinTemp",
          "MaxTemp",
          "Rainfall",
          "Evaporation",
          "Sunshine",
          "WindGustSpeed",
          "WindSpeed9am",
          "WindSpeed3pm",
          "Humidity9am",
          "Humidity3pm",
          "Pressure9am",
          "Pressure3pm",
          "Cloud9am",
          "Cloud3pm",
          "Temp9am",
          "Temp3pm"
         ],
         "yaxis": "y",
         "z": [
          [
           1,
           0.07649344103235671,
           -0.15875577967956847,
           0.33179114785913666,
           -0.1376292633960668,
           -0.43846900885518364,
           0.21235077547632691,
           0.08141775305086288,
           0.076321057117419,
           0.2671717872362788,
           0.4311738060654613,
           -0.23576983037644753,
           -0.21542599169236817,
           0.3246192046414821,
           0.3940786044010217,
           -0.03027798544548988,
           -0.19306818858195174
          ],
          [
           0.07649344103235671,
           1,
           0.7379949991851396,
           0.022430376646742946,
           0.580826229313904,
           0.11280372690857617,
           0.20215751876522514,
           0.17879187748102235,
           0.18159903370872058,
           -0.22000400055630448,
           0.029938679865574976,
           -0.46464014278431687,
           -0.46916059312444996,
           0.06680109910597423,
           0.011773464622908422,
           0.8987861214622624,
           0.709459192274198
          ],
          [
           -0.15875577967956847,
           0.7379949991851396,
           1,
           -0.29838142798898515,
           0.6965358278704482,
           0.49896877106776316,
           0.09226222306587392,
           0.023157328715731635,
           0.06513307381959964,
           -0.46627418036051294,
           -0.4603412063374089,
           -0.35425973710114794,
           -0.4448476404911,
           -0.2925280761570616,
           -0.2876733445180042,
           0.8916584020281971,
           0.9844756228564375
          ],
          [
           0.33179114785913666,
           0.022430376646742946,
           -0.29838142798898515,
           1,
           -0.3093160781271971,
           -0.4013062820057067,
           0.12596624730355774,
           0.08272359485043881,
           0.06807199158341219,
           0.4444160799578316,
           0.4436352109823417,
           -0.15464302632799767,
           -0.06345721855382426,
           0.3740250427490584,
           0.32191078268698553,
           -0.15499714218039115,
           -0.3050567780107622
          ],
          [
           -0.1376292633960668,
           0.580826229313904,
           0.6965358278704482,
           -0.3093160781271971,
           1,
           0.4476768911958128,
           0.2580156739649201,
           0.20874415935204493,
           0.18082764317787348,
           -0.559996681489614,
           -0.40827225606293815,
           -0.3447374730540276,
           -0.3721650462639025,
           -0.2093988703337594,
           -0.2175745211198265,
           0.6719293398126164,
           0.6770917911246562
          ],
          [
           -0.43846900885518364,
           0.11280372690857617,
           0.49896877106776316,
           -0.4013062820057067,
           0.4476768911958128,
           1,
           -0.006614195314578636,
           0.026059661506752724,
           0.05709611374899572,
           -0.5298907522875483,
           -0.6203486182962661,
           0.01538107012394231,
           -0.051295768603649594,
           -0.6882045153601767,
           -0.7191464298430466,
           0.33142683769168535,
           0.5206011651804648
          ],
          [
           0.21235077547632691,
           0.20215751876522514,
           0.09226222306587392,
           0.12596624730355774,
           0.2580156739649201,
           -0.006614195314578636,
           1,
           0.5888818492143014,
           0.6806412989887277,
           -0.2321233741158619,
           -0.04652751357921334,
           -0.428986784228798,
           -0.3830954244639217,
           0.05865751227391158,
           0.09499118203888596,
           0.1749991233112109,
           0.057450849849923796
          ],
          [
           0.08141775305086288,
           0.17879187748102235,
           0.023157328715731635,
           0.08272359485043881,
           0.20874415935204493,
           0.026059661506752724,
           0.5888818492143014,
           1,
           0.48621213005687847,
           -0.28739289924824357,
           -0.03602425403183503,
           -0.21271228541907958,
           -0.1627573430209626,
           0.016800655202779742,
           0.04677115856762465,
           0.1356584473063581,
           0.012285815109637766
          ],
          [
           0.076321057117419,
           0.18159903370872058,
           0.06513307381959964,
           0.06807199158341219,
           0.18082764317787348,
           0.05709611374899572,
           0.6806412989887277,
           0.48621213005687847,
           1,
           -0.15780911222710292,
           0.025166863258480436,
           -0.28142778757876585,
           -0.23853819495729903,
           0.04694279266869244,
           0.016832486845563786,
           0.172297691824096,
           0.04441789943768512
          ],
          [
           0.2671717872362788,
           -0.22000400055630448,
           -0.46627418036051294,
           0.4444160799578316,
           -0.559996681489614,
           -0.5298907522875483,
           -0.2321233741158619,
           -0.28739289924824357,
           -0.15780911222710292,
           1,
           0.6372395504773852,
           0.1268771299207545,
           0.1741677485995449,
           0.48185377898838855,
           0.3755485651024788,
           -0.44300176879878067,
           -0.4600924900217988
          ],
          [
           0.4311738060654613,
           0.029938679865574976,
           -0.4603412063374089,
           0.4436352109823417,
           -0.40827225606293815,
           -0.6203486182962661,
           -0.04652751357921334,
           -0.03602425403183503,
           0.025166863258480436,
           0.6372395504773852,
           1,
           -0.022240347602477138,
           0.057974654427566524,
           0.5301184574791528,
           0.5395343232082044,
           -0.18236030329464398,
           -0.5091068032265501
          ],
          [
           -0.23576983037644753,
           -0.46464014278431687,
           -0.35425973710114794,
           -0.15464302632799767,
           -0.3447374730540276,
           0.01538107012394231,
           -0.428986784228798,
           -0.21271228541907958,
           -0.28142778757876585,
           0.1268771299207545,
           -0.022240347602477138,
           1,
           0.9595881238390589,
           -0.12225485764382978,
           -0.14435454739764206,
           -0.43774843556016135,
           -0.3103558072454821
          ],
          [
           -0.21542599169236817,
           -0.46916059312444996,
           -0.4448476404911,
           -0.06345721855382426,
           -0.3721650462639025,
           -0.051295768603649594,
           -0.3830954244639217,
           -0.1627573430209626,
           -0.23853819495729903,
           0.1741677485995449,
           0.057974654427566524,
           0.9595881238390589,
           1,
           -0.05074498708609879,
           -0.07993655421125488,
           -0.48140726210382756,
           -0.4081932476214853
          ],
          [
           0.3246192046414821,
           0.06680109910597423,
           -0.2925280761570616,
           0.3740250427490584,
           -0.2093988703337594,
           -0.6882045153601767,
           0.05865751227391158,
           0.016800655202779742,
           0.04694279266869244,
           0.48185377898838855,
           0.5301184574791528,
           -0.12225485764382978,
           -0.05074498708609879,
           1,
           0.6148391354412379,
           -0.1463968844995403,
           -0.30579908626176616
          ],
          [
           0.3940786044010217,
           0.011773464622908422,
           -0.2876733445180042,
           0.32191078268698553,
           -0.2175745211198265,
           -0.7191464298430466,
           0.09499118203888596,
           0.04677115856762465,
           0.016832486845563786,
           0.3755485651024788,
           0.5395343232082044,
           -0.14435454739764206,
           -0.07993655421125488,
           0.6148391354412379,
           1,
           -0.13474497152198084,
           -0.33068455071192704
          ],
          [
           -0.03027798544548988,
           0.8987861214622624,
           0.8916584020281971,
           -0.15499714218039115,
           0.6719293398126164,
           0.33142683769168535,
           0.1749991233112109,
           0.1356584473063581,
           0.172297691824096,
           -0.44300176879878067,
           -0.18236030329464398,
           -0.43774843556016135,
           -0.48140726210382756,
           -0.1463968844995403,
           -0.13474497152198084,
           1,
           0.8645640775979457
          ],
          [
           -0.19306818858195174,
           0.709459192274198,
           0.9844756228564375,
           -0.3050567780107622,
           0.6770917911246562,
           0.5206011651804648,
           0.057450849849923796,
           0.012285815109637766,
           0.04441789943768512,
           -0.4600924900217988,
           -0.5091068032265501,
           -0.3103558072454821,
           -0.4081932476214853,
           -0.30579908626176616,
           -0.33068455071192704,
           0.8645640775979457,
           1
          ]
         ]
        }
       ],
       "layout": {
        "coloraxis": {
         "colorscale": [
          [
           0,
           "rgb(103,0,31)"
          ],
          [
           0.1,
           "rgb(178,24,43)"
          ],
          [
           0.2,
           "rgb(214,96,77)"
          ],
          [
           0.3,
           "rgb(244,165,130)"
          ],
          [
           0.4,
           "rgb(253,219,199)"
          ],
          [
           0.5,
           "rgb(247,247,247)"
          ],
          [
           0.6,
           "rgb(209,229,240)"
          ],
          [
           0.7,
           "rgb(146,197,222)"
          ],
          [
           0.8,
           "rgb(67,147,195)"
          ],
          [
           0.9,
           "rgb(33,102,172)"
          ],
          [
           1,
           "rgb(5,48,97)"
          ]
         ]
        },
        "template": {
         "data": {
          "bar": [
           {
            "error_x": {
             "color": "#2a3f5f"
            },
            "error_y": {
             "color": "#2a3f5f"
            },
            "marker": {
             "line": {
              "color": "#E5ECF6",
              "width": 0.5
             },
             "pattern": {
              "fillmode": "overlay",
              "size": 10,
              "solidity": 0.2
             }
            },
            "type": "bar"
           }
          ],
          "barpolar": [
           {
            "marker": {
             "line": {
              "color": "#E5ECF6",
              "width": 0.5
             },
             "pattern": {
              "fillmode": "overlay",
              "size": 10,
              "solidity": 0.2
             }
            },
            "type": "barpolar"
           }
          ],
          "carpet": [
           {
            "aaxis": {
             "endlinecolor": "#2a3f5f",
             "gridcolor": "white",
             "linecolor": "white",
             "minorgridcolor": "white",
             "startlinecolor": "#2a3f5f"
            },
            "baxis": {
             "endlinecolor": "#2a3f5f",
             "gridcolor": "white",
             "linecolor": "white",
             "minorgridcolor": "white",
             "startlinecolor": "#2a3f5f"
            },
            "type": "carpet"
           }
          ],
          "choropleth": [
           {
            "colorbar": {
             "outlinewidth": 0,
             "ticks": ""
            },
            "type": "choropleth"
           }
          ],
          "contour": [
           {
            "colorbar": {
             "outlinewidth": 0,
             "ticks": ""
            },
            "colorscale": [
             [
              0,
              "#0d0887"
             ],
             [
              0.1111111111111111,
              "#46039f"
             ],
             [
              0.2222222222222222,
              "#7201a8"
             ],
             [
              0.3333333333333333,
              "#9c179e"
             ],
             [
              0.4444444444444444,
              "#bd3786"
             ],
             [
              0.5555555555555556,
              "#d8576b"
             ],
             [
              0.6666666666666666,
              "#ed7953"
             ],
             [
              0.7777777777777778,
              "#fb9f3a"
             ],
             [
              0.8888888888888888,
              "#fdca26"
             ],
             [
              1,
              "#f0f921"
             ]
            ],
            "type": "contour"
           }
          ],
          "contourcarpet": [
           {
            "colorbar": {
             "outlinewidth": 0,
             "ticks": ""
            },
            "type": "contourcarpet"
           }
          ],
          "heatmap": [
           {
            "colorbar": {
             "outlinewidth": 0,
             "ticks": ""
            },
            "colorscale": [
             [
              0,
              "#0d0887"
             ],
             [
              0.1111111111111111,
              "#46039f"
             ],
             [
              0.2222222222222222,
              "#7201a8"
             ],
             [
              0.3333333333333333,
              "#9c179e"
             ],
             [
              0.4444444444444444,
              "#bd3786"
             ],
             [
              0.5555555555555556,
              "#d8576b"
             ],
             [
              0.6666666666666666,
              "#ed7953"
             ],
             [
              0.7777777777777778,
              "#fb9f3a"
             ],
             [
              0.8888888888888888,
              "#fdca26"
             ],
             [
              1,
              "#f0f921"
             ]
            ],
            "type": "heatmap"
           }
          ],
          "heatmapgl": [
           {
            "colorbar": {
             "outlinewidth": 0,
             "ticks": ""
            },
            "colorscale": [
             [
              0,
              "#0d0887"
             ],
             [
              0.1111111111111111,
              "#46039f"
             ],
             [
              0.2222222222222222,
              "#7201a8"
             ],
             [
              0.3333333333333333,
              "#9c179e"
             ],
             [
              0.4444444444444444,
              "#bd3786"
             ],
             [
              0.5555555555555556,
              "#d8576b"
             ],
             [
              0.6666666666666666,
              "#ed7953"
             ],
             [
              0.7777777777777778,
              "#fb9f3a"
             ],
             [
              0.8888888888888888,
              "#fdca26"
             ],
             [
              1,
              "#f0f921"
             ]
            ],
            "type": "heatmapgl"
           }
          ],
          "histogram": [
           {
            "marker": {
             "pattern": {
              "fillmode": "overlay",
              "size": 10,
              "solidity": 0.2
             }
            },
            "type": "histogram"
           }
          ],
          "histogram2d": [
           {
            "colorbar": {
             "outlinewidth": 0,
             "ticks": ""
            },
            "colorscale": [
             [
              0,
              "#0d0887"
             ],
             [
              0.1111111111111111,
              "#46039f"
             ],
             [
              0.2222222222222222,
              "#7201a8"
             ],
             [
              0.3333333333333333,
              "#9c179e"
             ],
             [
              0.4444444444444444,
              "#bd3786"
             ],
             [
              0.5555555555555556,
              "#d8576b"
             ],
             [
              0.6666666666666666,
              "#ed7953"
             ],
             [
              0.7777777777777778,
              "#fb9f3a"
             ],
             [
              0.8888888888888888,
              "#fdca26"
             ],
             [
              1,
              "#f0f921"
             ]
            ],
            "type": "histogram2d"
           }
          ],
          "histogram2dcontour": [
           {
            "colorbar": {
             "outlinewidth": 0,
             "ticks": ""
            },
            "colorscale": [
             [
              0,
              "#0d0887"
             ],
             [
              0.1111111111111111,
              "#46039f"
             ],
             [
              0.2222222222222222,
              "#7201a8"
             ],
             [
              0.3333333333333333,
              "#9c179e"
             ],
             [
              0.4444444444444444,
              "#bd3786"
             ],
             [
              0.5555555555555556,
              "#d8576b"
             ],
             [
              0.6666666666666666,
              "#ed7953"
             ],
             [
              0.7777777777777778,
              "#fb9f3a"
             ],
             [
              0.8888888888888888,
              "#fdca26"
             ],
             [
              1,
              "#f0f921"
             ]
            ],
            "type": "histogram2dcontour"
           }
          ],
          "mesh3d": [
           {
            "colorbar": {
             "outlinewidth": 0,
             "ticks": ""
            },
            "type": "mesh3d"
           }
          ],
          "parcoords": [
           {
            "line": {
             "colorbar": {
              "outlinewidth": 0,
              "ticks": ""
             }
            },
            "type": "parcoords"
           }
          ],
          "pie": [
           {
            "automargin": true,
            "type": "pie"
           }
          ],
          "scatter": [
           {
            "fillpattern": {
             "fillmode": "overlay",
             "size": 10,
             "solidity": 0.2
            },
            "type": "scatter"
           }
          ],
          "scatter3d": [
           {
            "line": {
             "colorbar": {
              "outlinewidth": 0,
              "ticks": ""
             }
            },
            "marker": {
             "colorbar": {
              "outlinewidth": 0,
              "ticks": ""
             }
            },
            "type": "scatter3d"
           }
          ],
          "scattercarpet": [
           {
            "marker": {
             "colorbar": {
              "outlinewidth": 0,
              "ticks": ""
             }
            },
            "type": "scattercarpet"
           }
          ],
          "scattergeo": [
           {
            "marker": {
             "colorbar": {
              "outlinewidth": 0,
              "ticks": ""
             }
            },
            "type": "scattergeo"
           }
          ],
          "scattergl": [
           {
            "marker": {
             "colorbar": {
              "outlinewidth": 0,
              "ticks": ""
             }
            },
            "type": "scattergl"
           }
          ],
          "scattermapbox": [
           {
            "marker": {
             "colorbar": {
              "outlinewidth": 0,
              "ticks": ""
             }
            },
            "type": "scattermapbox"
           }
          ],
          "scatterpolar": [
           {
            "marker": {
             "colorbar": {
              "outlinewidth": 0,
              "ticks": ""
             }
            },
            "type": "scatterpolar"
           }
          ],
          "scatterpolargl": [
           {
            "marker": {
             "colorbar": {
              "outlinewidth": 0,
              "ticks": ""
             }
            },
            "type": "scatterpolargl"
           }
          ],
          "scatterternary": [
           {
            "marker": {
             "colorbar": {
              "outlinewidth": 0,
              "ticks": ""
             }
            },
            "type": "scatterternary"
           }
          ],
          "surface": [
           {
            "colorbar": {
             "outlinewidth": 0,
             "ticks": ""
            },
            "colorscale": [
             [
              0,
              "#0d0887"
             ],
             [
              0.1111111111111111,
              "#46039f"
             ],
             [
              0.2222222222222222,
              "#7201a8"
             ],
             [
              0.3333333333333333,
              "#9c179e"
             ],
             [
              0.4444444444444444,
              "#bd3786"
             ],
             [
              0.5555555555555556,
              "#d8576b"
             ],
             [
              0.6666666666666666,
              "#ed7953"
             ],
             [
              0.7777777777777778,
              "#fb9f3a"
             ],
             [
              0.8888888888888888,
              "#fdca26"
             ],
             [
              1,
              "#f0f921"
             ]
            ],
            "type": "surface"
           }
          ],
          "table": [
           {
            "cells": {
             "fill": {
              "color": "#EBF0F8"
             },
             "line": {
              "color": "white"
             }
            },
            "header": {
             "fill": {
              "color": "#C8D4E3"
             },
             "line": {
              "color": "white"
             }
            },
            "type": "table"
           }
          ]
         },
         "layout": {
          "annotationdefaults": {
           "arrowcolor": "#2a3f5f",
           "arrowhead": 0,
           "arrowwidth": 1
          },
          "autotypenumbers": "strict",
          "coloraxis": {
           "colorbar": {
            "outlinewidth": 0,
            "ticks": ""
           }
          },
          "colorscale": {
           "diverging": [
            [
             0,
             "#8e0152"
            ],
            [
             0.1,
             "#c51b7d"
            ],
            [
             0.2,
             "#de77ae"
            ],
            [
             0.3,
             "#f1b6da"
            ],
            [
             0.4,
             "#fde0ef"
            ],
            [
             0.5,
             "#f7f7f7"
            ],
            [
             0.6,
             "#e6f5d0"
            ],
            [
             0.7,
             "#b8e186"
            ],
            [
             0.8,
             "#7fbc41"
            ],
            [
             0.9,
             "#4d9221"
            ],
            [
             1,
             "#276419"
            ]
           ],
           "sequential": [
            [
             0,
             "#0d0887"
            ],
            [
             0.1111111111111111,
             "#46039f"
            ],
            [
             0.2222222222222222,
             "#7201a8"
            ],
            [
             0.3333333333333333,
             "#9c179e"
            ],
            [
             0.4444444444444444,
             "#bd3786"
            ],
            [
             0.5555555555555556,
             "#d8576b"
            ],
            [
             0.6666666666666666,
             "#ed7953"
            ],
            [
             0.7777777777777778,
             "#fb9f3a"
            ],
            [
             0.8888888888888888,
             "#fdca26"
            ],
            [
             1,
             "#f0f921"
            ]
           ],
           "sequentialminus": [
            [
             0,
             "#0d0887"
            ],
            [
             0.1111111111111111,
             "#46039f"
            ],
            [
             0.2222222222222222,
             "#7201a8"
            ],
            [
             0.3333333333333333,
             "#9c179e"
            ],
            [
             0.4444444444444444,
             "#bd3786"
            ],
            [
             0.5555555555555556,
             "#d8576b"
            ],
            [
             0.6666666666666666,
             "#ed7953"
            ],
            [
             0.7777777777777778,
             "#fb9f3a"
            ],
            [
             0.8888888888888888,
             "#fdca26"
            ],
            [
             1,
             "#f0f921"
            ]
           ]
          },
          "colorway": [
           "#636efa",
           "#EF553B",
           "#00cc96",
           "#ab63fa",
           "#FFA15A",
           "#19d3f3",
           "#FF6692",
           "#B6E880",
           "#FF97FF",
           "#FECB52"
          ],
          "font": {
           "color": "#2a3f5f"
          },
          "geo": {
           "bgcolor": "white",
           "lakecolor": "white",
           "landcolor": "#E5ECF6",
           "showlakes": true,
           "showland": true,
           "subunitcolor": "white"
          },
          "hoverlabel": {
           "align": "left"
          },
          "hovermode": "closest",
          "mapbox": {
           "style": "light"
          },
          "paper_bgcolor": "white",
          "plot_bgcolor": "#E5ECF6",
          "polar": {
           "angularaxis": {
            "gridcolor": "white",
            "linecolor": "white",
            "ticks": ""
           },
           "bgcolor": "#E5ECF6",
           "radialaxis": {
            "gridcolor": "white",
            "linecolor": "white",
            "ticks": ""
           }
          },
          "scene": {
           "xaxis": {
            "backgroundcolor": "#E5ECF6",
            "gridcolor": "white",
            "gridwidth": 2,
            "linecolor": "white",
            "showbackground": true,
            "ticks": "",
            "zerolinecolor": "white"
           },
           "yaxis": {
            "backgroundcolor": "#E5ECF6",
            "gridcolor": "white",
            "gridwidth": 2,
            "linecolor": "white",
            "showbackground": true,
            "ticks": "",
            "zerolinecolor": "white"
           },
           "zaxis": {
            "backgroundcolor": "#E5ECF6",
            "gridcolor": "white",
            "gridwidth": 2,
            "linecolor": "white",
            "showbackground": true,
            "ticks": "",
            "zerolinecolor": "white"
           }
          },
          "shapedefaults": {
           "line": {
            "color": "#2a3f5f"
           }
          },
          "ternary": {
           "aaxis": {
            "gridcolor": "white",
            "linecolor": "white",
            "ticks": ""
           },
           "baxis": {
            "gridcolor": "white",
            "linecolor": "white",
            "ticks": ""
           },
           "bgcolor": "#E5ECF6",
           "caxis": {
            "gridcolor": "white",
            "linecolor": "white",
            "ticks": ""
           }
          },
          "title": {
           "x": 0.05
          },
          "xaxis": {
           "automargin": true,
           "gridcolor": "white",
           "linecolor": "white",
           "ticks": "",
           "title": {
            "standoff": 15
           },
           "zerolinecolor": "white",
           "zerolinewidth": 2
          },
          "yaxis": {
           "automargin": true,
           "gridcolor": "white",
           "linecolor": "white",
           "ticks": "",
           "title": {
            "standoff": 15
           },
           "zerolinecolor": "white",
           "zerolinewidth": 2
          }
         }
        },
        "title": {
         "text": "Spearman categorielle"
        },
        "width": 1000,
        "xaxis": {
         "anchor": "y",
         "domain": [
          0,
          1
         ]
        },
        "yaxis": {
         "anchor": "x",
         "autorange": "reversed",
         "domain": [
          0,
          1
         ]
        }
       }
      },
      "text/html": [
       "<div>                            <div id=\"3e7dabf8-dcfc-47e5-b4ac-a7d3dd9b6bdc\" class=\"plotly-graph-div\" style=\"height:525px; width:1000px;\"></div>            <script type=\"text/javascript\">                require([\"plotly\"], function(Plotly) {                    window.PLOTLYENV=window.PLOTLYENV || {};                                    if (document.getElementById(\"3e7dabf8-dcfc-47e5-b4ac-a7d3dd9b6bdc\")) {                    Plotly.newPlot(                        \"3e7dabf8-dcfc-47e5-b4ac-a7d3dd9b6bdc\",                        [{\"coloraxis\":\"coloraxis\",\"name\":\"0\",\"texttemplate\":\"%{z}\",\"x\":[\"RainTomorrow\",\"MinTemp\",\"MaxTemp\",\"Rainfall\",\"Evaporation\",\"Sunshine\",\"WindGustSpeed\",\"WindSpeed9am\",\"WindSpeed3pm\",\"Humidity9am\",\"Humidity3pm\",\"Pressure9am\",\"Pressure3pm\",\"Cloud9am\",\"Cloud3pm\",\"Temp9am\",\"Temp3pm\"],\"y\":[\"RainTomorrow\",\"MinTemp\",\"MaxTemp\",\"Rainfall\",\"Evaporation\",\"Sunshine\",\"WindGustSpeed\",\"WindSpeed9am\",\"WindSpeed3pm\",\"Humidity9am\",\"Humidity3pm\",\"Pressure9am\",\"Pressure3pm\",\"Cloud9am\",\"Cloud3pm\",\"Temp9am\",\"Temp3pm\"],\"z\":[[1.0,0.07649344103235671,-0.15875577967956847,0.33179114785913666,-0.1376292633960668,-0.43846900885518364,0.21235077547632691,0.08141775305086288,0.076321057117419,0.2671717872362788,0.4311738060654613,-0.23576983037644753,-0.21542599169236817,0.3246192046414821,0.3940786044010217,-0.03027798544548988,-0.19306818858195174],[0.07649344103235671,1.0,0.7379949991851396,0.022430376646742946,0.580826229313904,0.11280372690857617,0.20215751876522514,0.17879187748102235,0.18159903370872058,-0.22000400055630448,0.029938679865574976,-0.46464014278431687,-0.46916059312444996,0.06680109910597423,0.011773464622908422,0.8987861214622624,0.709459192274198],[-0.15875577967956847,0.7379949991851396,1.0,-0.29838142798898515,0.6965358278704482,0.49896877106776316,0.09226222306587392,0.023157328715731635,0.06513307381959964,-0.46627418036051294,-0.4603412063374089,-0.35425973710114794,-0.4448476404911,-0.2925280761570616,-0.2876733445180042,0.8916584020281971,0.9844756228564375],[0.33179114785913666,0.022430376646742946,-0.29838142798898515,1.0,-0.3093160781271971,-0.4013062820057067,0.12596624730355774,0.08272359485043881,0.06807199158341219,0.4444160799578316,0.4436352109823417,-0.15464302632799767,-0.06345721855382426,0.3740250427490584,0.32191078268698553,-0.15499714218039115,-0.3050567780107622],[-0.1376292633960668,0.580826229313904,0.6965358278704482,-0.3093160781271971,1.0,0.4476768911958128,0.2580156739649201,0.20874415935204493,0.18082764317787348,-0.559996681489614,-0.40827225606293815,-0.3447374730540276,-0.3721650462639025,-0.2093988703337594,-0.2175745211198265,0.6719293398126164,0.6770917911246562],[-0.43846900885518364,0.11280372690857617,0.49896877106776316,-0.4013062820057067,0.4476768911958128,1.0,-0.006614195314578636,0.026059661506752724,0.05709611374899572,-0.5298907522875483,-0.6203486182962661,0.01538107012394231,-0.051295768603649594,-0.6882045153601767,-0.7191464298430466,0.33142683769168535,0.5206011651804648],[0.21235077547632691,0.20215751876522514,0.09226222306587392,0.12596624730355774,0.2580156739649201,-0.006614195314578636,1.0,0.5888818492143014,0.6806412989887277,-0.2321233741158619,-0.04652751357921334,-0.428986784228798,-0.3830954244639217,0.05865751227391158,0.09499118203888596,0.1749991233112109,0.057450849849923796],[0.08141775305086288,0.17879187748102235,0.023157328715731635,0.08272359485043881,0.20874415935204493,0.026059661506752724,0.5888818492143014,1.0,0.48621213005687847,-0.28739289924824357,-0.03602425403183503,-0.21271228541907958,-0.1627573430209626,0.016800655202779742,0.04677115856762465,0.1356584473063581,0.012285815109637766],[0.076321057117419,0.18159903370872058,0.06513307381959964,0.06807199158341219,0.18082764317787348,0.05709611374899572,0.6806412989887277,0.48621213005687847,1.0,-0.15780911222710292,0.025166863258480436,-0.28142778757876585,-0.23853819495729903,0.04694279266869244,0.016832486845563786,0.172297691824096,0.04441789943768512],[0.2671717872362788,-0.22000400055630448,-0.46627418036051294,0.4444160799578316,-0.559996681489614,-0.5298907522875483,-0.2321233741158619,-0.28739289924824357,-0.15780911222710292,1.0,0.6372395504773852,0.1268771299207545,0.1741677485995449,0.48185377898838855,0.3755485651024788,-0.44300176879878067,-0.4600924900217988],[0.4311738060654613,0.029938679865574976,-0.4603412063374089,0.4436352109823417,-0.40827225606293815,-0.6203486182962661,-0.04652751357921334,-0.03602425403183503,0.025166863258480436,0.6372395504773852,1.0,-0.022240347602477138,0.057974654427566524,0.5301184574791528,0.5395343232082044,-0.18236030329464398,-0.5091068032265501],[-0.23576983037644753,-0.46464014278431687,-0.35425973710114794,-0.15464302632799767,-0.3447374730540276,0.01538107012394231,-0.428986784228798,-0.21271228541907958,-0.28142778757876585,0.1268771299207545,-0.022240347602477138,1.0,0.9595881238390589,-0.12225485764382978,-0.14435454739764206,-0.43774843556016135,-0.3103558072454821],[-0.21542599169236817,-0.46916059312444996,-0.4448476404911,-0.06345721855382426,-0.3721650462639025,-0.051295768603649594,-0.3830954244639217,-0.1627573430209626,-0.23853819495729903,0.1741677485995449,0.057974654427566524,0.9595881238390589,1.0,-0.05074498708609879,-0.07993655421125488,-0.48140726210382756,-0.4081932476214853],[0.3246192046414821,0.06680109910597423,-0.2925280761570616,0.3740250427490584,-0.2093988703337594,-0.6882045153601767,0.05865751227391158,0.016800655202779742,0.04694279266869244,0.48185377898838855,0.5301184574791528,-0.12225485764382978,-0.05074498708609879,1.0,0.6148391354412379,-0.1463968844995403,-0.30579908626176616],[0.3940786044010217,0.011773464622908422,-0.2876733445180042,0.32191078268698553,-0.2175745211198265,-0.7191464298430466,0.09499118203888596,0.04677115856762465,0.016832486845563786,0.3755485651024788,0.5395343232082044,-0.14435454739764206,-0.07993655421125488,0.6148391354412379,1.0,-0.13474497152198084,-0.33068455071192704],[-0.03027798544548988,0.8987861214622624,0.8916584020281971,-0.15499714218039115,0.6719293398126164,0.33142683769168535,0.1749991233112109,0.1356584473063581,0.172297691824096,-0.44300176879878067,-0.18236030329464398,-0.43774843556016135,-0.48140726210382756,-0.1463968844995403,-0.13474497152198084,1.0,0.8645640775979457],[-0.19306818858195174,0.709459192274198,0.9844756228564375,-0.3050567780107622,0.6770917911246562,0.5206011651804648,0.057450849849923796,0.012285815109637766,0.04441789943768512,-0.4600924900217988,-0.5091068032265501,-0.3103558072454821,-0.4081932476214853,-0.30579908626176616,-0.33068455071192704,0.8645640775979457,1.0]],\"type\":\"heatmap\",\"xaxis\":\"x\",\"yaxis\":\"y\",\"hovertemplate\":\"x: %{x}\\u003cbr\\u003ey: %{y}\\u003cbr\\u003ecolor: %{z}\\u003cextra\\u003e\\u003c\\u002fextra\\u003e\"}],                        {\"template\":{\"data\":{\"histogram2dcontour\":[{\"type\":\"histogram2dcontour\",\"colorbar\":{\"outlinewidth\":0,\"ticks\":\"\"},\"colorscale\":[[0.0,\"#0d0887\"],[0.1111111111111111,\"#46039f\"],[0.2222222222222222,\"#7201a8\"],[0.3333333333333333,\"#9c179e\"],[0.4444444444444444,\"#bd3786\"],[0.5555555555555556,\"#d8576b\"],[0.6666666666666666,\"#ed7953\"],[0.7777777777777778,\"#fb9f3a\"],[0.8888888888888888,\"#fdca26\"],[1.0,\"#f0f921\"]]}],\"choropleth\":[{\"type\":\"choropleth\",\"colorbar\":{\"outlinewidth\":0,\"ticks\":\"\"}}],\"histogram2d\":[{\"type\":\"histogram2d\",\"colorbar\":{\"outlinewidth\":0,\"ticks\":\"\"},\"colorscale\":[[0.0,\"#0d0887\"],[0.1111111111111111,\"#46039f\"],[0.2222222222222222,\"#7201a8\"],[0.3333333333333333,\"#9c179e\"],[0.4444444444444444,\"#bd3786\"],[0.5555555555555556,\"#d8576b\"],[0.6666666666666666,\"#ed7953\"],[0.7777777777777778,\"#fb9f3a\"],[0.8888888888888888,\"#fdca26\"],[1.0,\"#f0f921\"]]}],\"heatmap\":[{\"type\":\"heatmap\",\"colorbar\":{\"outlinewidth\":0,\"ticks\":\"\"},\"colorscale\":[[0.0,\"#0d0887\"],[0.1111111111111111,\"#46039f\"],[0.2222222222222222,\"#7201a8\"],[0.3333333333333333,\"#9c179e\"],[0.4444444444444444,\"#bd3786\"],[0.5555555555555556,\"#d8576b\"],[0.6666666666666666,\"#ed7953\"],[0.7777777777777778,\"#fb9f3a\"],[0.8888888888888888,\"#fdca26\"],[1.0,\"#f0f921\"]]}],\"heatmapgl\":[{\"type\":\"heatmapgl\",\"colorbar\":{\"outlinewidth\":0,\"ticks\":\"\"},\"colorscale\":[[0.0,\"#0d0887\"],[0.1111111111111111,\"#46039f\"],[0.2222222222222222,\"#7201a8\"],[0.3333333333333333,\"#9c179e\"],[0.4444444444444444,\"#bd3786\"],[0.5555555555555556,\"#d8576b\"],[0.6666666666666666,\"#ed7953\"],[0.7777777777777778,\"#fb9f3a\"],[0.8888888888888888,\"#fdca26\"],[1.0,\"#f0f921\"]]}],\"contourcarpet\":[{\"type\":\"contourcarpet\",\"colorbar\":{\"outlinewidth\":0,\"ticks\":\"\"}}],\"contour\":[{\"type\":\"contour\",\"colorbar\":{\"outlinewidth\":0,\"ticks\":\"\"},\"colorscale\":[[0.0,\"#0d0887\"],[0.1111111111111111,\"#46039f\"],[0.2222222222222222,\"#7201a8\"],[0.3333333333333333,\"#9c179e\"],[0.4444444444444444,\"#bd3786\"],[0.5555555555555556,\"#d8576b\"],[0.6666666666666666,\"#ed7953\"],[0.7777777777777778,\"#fb9f3a\"],[0.8888888888888888,\"#fdca26\"],[1.0,\"#f0f921\"]]}],\"surface\":[{\"type\":\"surface\",\"colorbar\":{\"outlinewidth\":0,\"ticks\":\"\"},\"colorscale\":[[0.0,\"#0d0887\"],[0.1111111111111111,\"#46039f\"],[0.2222222222222222,\"#7201a8\"],[0.3333333333333333,\"#9c179e\"],[0.4444444444444444,\"#bd3786\"],[0.5555555555555556,\"#d8576b\"],[0.6666666666666666,\"#ed7953\"],[0.7777777777777778,\"#fb9f3a\"],[0.8888888888888888,\"#fdca26\"],[1.0,\"#f0f921\"]]}],\"mesh3d\":[{\"type\":\"mesh3d\",\"colorbar\":{\"outlinewidth\":0,\"ticks\":\"\"}}],\"scatter\":[{\"fillpattern\":{\"fillmode\":\"overlay\",\"size\":10,\"solidity\":0.2},\"type\":\"scatter\"}],\"parcoords\":[{\"type\":\"parcoords\",\"line\":{\"colorbar\":{\"outlinewidth\":0,\"ticks\":\"\"}}}],\"scatterpolargl\":[{\"type\":\"scatterpolargl\",\"marker\":{\"colorbar\":{\"outlinewidth\":0,\"ticks\":\"\"}}}],\"bar\":[{\"error_x\":{\"color\":\"#2a3f5f\"},\"error_y\":{\"color\":\"#2a3f5f\"},\"marker\":{\"line\":{\"color\":\"#E5ECF6\",\"width\":0.5},\"pattern\":{\"fillmode\":\"overlay\",\"size\":10,\"solidity\":0.2}},\"type\":\"bar\"}],\"scattergeo\":[{\"type\":\"scattergeo\",\"marker\":{\"colorbar\":{\"outlinewidth\":0,\"ticks\":\"\"}}}],\"scatterpolar\":[{\"type\":\"scatterpolar\",\"marker\":{\"colorbar\":{\"outlinewidth\":0,\"ticks\":\"\"}}}],\"histogram\":[{\"marker\":{\"pattern\":{\"fillmode\":\"overlay\",\"size\":10,\"solidity\":0.2}},\"type\":\"histogram\"}],\"scattergl\":[{\"type\":\"scattergl\",\"marker\":{\"colorbar\":{\"outlinewidth\":0,\"ticks\":\"\"}}}],\"scatter3d\":[{\"type\":\"scatter3d\",\"line\":{\"colorbar\":{\"outlinewidth\":0,\"ticks\":\"\"}},\"marker\":{\"colorbar\":{\"outlinewidth\":0,\"ticks\":\"\"}}}],\"scattermapbox\":[{\"type\":\"scattermapbox\",\"marker\":{\"colorbar\":{\"outlinewidth\":0,\"ticks\":\"\"}}}],\"scatterternary\":[{\"type\":\"scatterternary\",\"marker\":{\"colorbar\":{\"outlinewidth\":0,\"ticks\":\"\"}}}],\"scattercarpet\":[{\"type\":\"scattercarpet\",\"marker\":{\"colorbar\":{\"outlinewidth\":0,\"ticks\":\"\"}}}],\"carpet\":[{\"aaxis\":{\"endlinecolor\":\"#2a3f5f\",\"gridcolor\":\"white\",\"linecolor\":\"white\",\"minorgridcolor\":\"white\",\"startlinecolor\":\"#2a3f5f\"},\"baxis\":{\"endlinecolor\":\"#2a3f5f\",\"gridcolor\":\"white\",\"linecolor\":\"white\",\"minorgridcolor\":\"white\",\"startlinecolor\":\"#2a3f5f\"},\"type\":\"carpet\"}],\"table\":[{\"cells\":{\"fill\":{\"color\":\"#EBF0F8\"},\"line\":{\"color\":\"white\"}},\"header\":{\"fill\":{\"color\":\"#C8D4E3\"},\"line\":{\"color\":\"white\"}},\"type\":\"table\"}],\"barpolar\":[{\"marker\":{\"line\":{\"color\":\"#E5ECF6\",\"width\":0.5},\"pattern\":{\"fillmode\":\"overlay\",\"size\":10,\"solidity\":0.2}},\"type\":\"barpolar\"}],\"pie\":[{\"automargin\":true,\"type\":\"pie\"}]},\"layout\":{\"autotypenumbers\":\"strict\",\"colorway\":[\"#636efa\",\"#EF553B\",\"#00cc96\",\"#ab63fa\",\"#FFA15A\",\"#19d3f3\",\"#FF6692\",\"#B6E880\",\"#FF97FF\",\"#FECB52\"],\"font\":{\"color\":\"#2a3f5f\"},\"hovermode\":\"closest\",\"hoverlabel\":{\"align\":\"left\"},\"paper_bgcolor\":\"white\",\"plot_bgcolor\":\"#E5ECF6\",\"polar\":{\"bgcolor\":\"#E5ECF6\",\"angularaxis\":{\"gridcolor\":\"white\",\"linecolor\":\"white\",\"ticks\":\"\"},\"radialaxis\":{\"gridcolor\":\"white\",\"linecolor\":\"white\",\"ticks\":\"\"}},\"ternary\":{\"bgcolor\":\"#E5ECF6\",\"aaxis\":{\"gridcolor\":\"white\",\"linecolor\":\"white\",\"ticks\":\"\"},\"baxis\":{\"gridcolor\":\"white\",\"linecolor\":\"white\",\"ticks\":\"\"},\"caxis\":{\"gridcolor\":\"white\",\"linecolor\":\"white\",\"ticks\":\"\"}},\"coloraxis\":{\"colorbar\":{\"outlinewidth\":0,\"ticks\":\"\"}},\"colorscale\":{\"sequential\":[[0.0,\"#0d0887\"],[0.1111111111111111,\"#46039f\"],[0.2222222222222222,\"#7201a8\"],[0.3333333333333333,\"#9c179e\"],[0.4444444444444444,\"#bd3786\"],[0.5555555555555556,\"#d8576b\"],[0.6666666666666666,\"#ed7953\"],[0.7777777777777778,\"#fb9f3a\"],[0.8888888888888888,\"#fdca26\"],[1.0,\"#f0f921\"]],\"sequentialminus\":[[0.0,\"#0d0887\"],[0.1111111111111111,\"#46039f\"],[0.2222222222222222,\"#7201a8\"],[0.3333333333333333,\"#9c179e\"],[0.4444444444444444,\"#bd3786\"],[0.5555555555555556,\"#d8576b\"],[0.6666666666666666,\"#ed7953\"],[0.7777777777777778,\"#fb9f3a\"],[0.8888888888888888,\"#fdca26\"],[1.0,\"#f0f921\"]],\"diverging\":[[0,\"#8e0152\"],[0.1,\"#c51b7d\"],[0.2,\"#de77ae\"],[0.3,\"#f1b6da\"],[0.4,\"#fde0ef\"],[0.5,\"#f7f7f7\"],[0.6,\"#e6f5d0\"],[0.7,\"#b8e186\"],[0.8,\"#7fbc41\"],[0.9,\"#4d9221\"],[1,\"#276419\"]]},\"xaxis\":{\"gridcolor\":\"white\",\"linecolor\":\"white\",\"ticks\":\"\",\"title\":{\"standoff\":15},\"zerolinecolor\":\"white\",\"automargin\":true,\"zerolinewidth\":2},\"yaxis\":{\"gridcolor\":\"white\",\"linecolor\":\"white\",\"ticks\":\"\",\"title\":{\"standoff\":15},\"zerolinecolor\":\"white\",\"automargin\":true,\"zerolinewidth\":2},\"scene\":{\"xaxis\":{\"backgroundcolor\":\"#E5ECF6\",\"gridcolor\":\"white\",\"linecolor\":\"white\",\"showbackground\":true,\"ticks\":\"\",\"zerolinecolor\":\"white\",\"gridwidth\":2},\"yaxis\":{\"backgroundcolor\":\"#E5ECF6\",\"gridcolor\":\"white\",\"linecolor\":\"white\",\"showbackground\":true,\"ticks\":\"\",\"zerolinecolor\":\"white\",\"gridwidth\":2},\"zaxis\":{\"backgroundcolor\":\"#E5ECF6\",\"gridcolor\":\"white\",\"linecolor\":\"white\",\"showbackground\":true,\"ticks\":\"\",\"zerolinecolor\":\"white\",\"gridwidth\":2}},\"shapedefaults\":{\"line\":{\"color\":\"#2a3f5f\"}},\"annotationdefaults\":{\"arrowcolor\":\"#2a3f5f\",\"arrowhead\":0,\"arrowwidth\":1},\"geo\":{\"bgcolor\":\"white\",\"landcolor\":\"#E5ECF6\",\"subunitcolor\":\"white\",\"showland\":true,\"showlakes\":true,\"lakecolor\":\"white\"},\"title\":{\"x\":0.05},\"mapbox\":{\"style\":\"light\"}}},\"xaxis\":{\"anchor\":\"y\",\"domain\":[0.0,1.0]},\"yaxis\":{\"anchor\":\"x\",\"domain\":[0.0,1.0],\"autorange\":\"reversed\"},\"coloraxis\":{\"colorscale\":[[0.0,\"rgb(103,0,31)\"],[0.1,\"rgb(178,24,43)\"],[0.2,\"rgb(214,96,77)\"],[0.3,\"rgb(244,165,130)\"],[0.4,\"rgb(253,219,199)\"],[0.5,\"rgb(247,247,247)\"],[0.6,\"rgb(209,229,240)\"],[0.7,\"rgb(146,197,222)\"],[0.8,\"rgb(67,147,195)\"],[0.9,\"rgb(33,102,172)\"],[1.0,\"rgb(5,48,97)\"]]},\"title\":{\"text\":\"Spearman categorielle\"},\"width\":1000},                        {\"responsive\": true}                    ).then(function(){\n",
       "                            \n",
       "var gd = document.getElementById('3e7dabf8-dcfc-47e5-b4ac-a7d3dd9b6bdc');\n",
       "var x = new MutationObserver(function (mutations, observer) {{\n",
       "        var display = window.getComputedStyle(gd).display;\n",
       "        if (!display || display === 'none') {{\n",
       "            console.log([gd, 'removed!']);\n",
       "            Plotly.purge(gd);\n",
       "            observer.disconnect();\n",
       "        }}\n",
       "}});\n",
       "\n",
       "// Listen for the removal of the full notebook cells\n",
       "var notebookContainer = gd.closest('#notebook-container');\n",
       "if (notebookContainer) {{\n",
       "    x.observe(notebookContainer, {childList: true});\n",
       "}}\n",
       "\n",
       "// Listen for the clearing of the current output cell\n",
       "var outputEl = gd.closest('.output');\n",
       "if (outputEl) {{\n",
       "    x.observe(outputEl, {childList: true});\n",
       "}}\n",
       "\n",
       "                        })                };                });            </script>        </div>"
      ]
     },
     "metadata": {},
     "output_type": "display_data"
    }
   ],
   "source": [
    "a = df_all_raintomorrow.corr(method = 'spearman')\n",
    "\n",
    "\n",
    "fig_cat = px.imshow(a, title = 'Spearman categorielle',\n",
    "                    text_auto = True, aspect = 'auto', color_continuous_scale='RdBu', width = 1000)\n",
    "fig_cat.show()"
   ]
  },
  {
   "cell_type": "code",
   "execution_count": null,
   "metadata": {},
   "outputs": [],
   "source": []
  }
 ],
 "metadata": {
  "kernelspec": {
   "display_name": "meteo-venv",
   "language": "python",
   "name": "python3"
  },
  "language_info": {
   "codemirror_mode": {
    "name": "ipython",
    "version": 3
   },
   "file_extension": ".py",
   "mimetype": "text/x-python",
   "name": "python",
   "nbconvert_exporter": "python",
   "pygments_lexer": "ipython3",
   "version": "3.10.6"
  }
 },
 "nbformat": 4,
 "nbformat_minor": 2
}
