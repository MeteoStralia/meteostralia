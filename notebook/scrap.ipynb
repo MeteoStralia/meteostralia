{
 "cells": [
  {
   "cell_type": "code",
   "execution_count": 1,
   "metadata": {},
   "outputs": [],
   "source": [
    "import warnings\n",
    "\n",
    "import pandas as pd\n"
   ]
  },
  {
   "cell_type": "code",
   "execution_count": 2,
   "metadata": {},
   "outputs": [],
   "source": [
    "df012024 = pd.read_csv('202401.csv').drop(columns = 'Unnamed: 0')\n",
    "df022024 = pd.read_csv('202402.csv').drop(columns = 'Unnamed: 0')\n",
    "df032024 = pd.read_csv('202403.csv').drop(columns = 'Unnamed: 0')\n",
    "df042024 = pd.read_csv('202404.csv').drop(columns = 'Unnamed: 0')\n",
    "df052024 = pd.read_csv('202405.csv').drop(columns = 'Unnamed: 0')\n",
    "df062024 = pd.read_csv('202406.csv').drop(columns = 'Unnamed: 0')\n",
    "df072024 = pd.read_csv('202407.csv').drop(columns = 'Unnamed: 0')\n",
    "df082024 = pd.read_csv('202408.csv').drop(columns = 'Unnamed: 0')\n",
    "df092024 = pd.read_csv('202409.csv').drop(columns = 'Unnamed: 0')\n",
    "df102024 = pd.read_csv('202410.csv').drop(columns = 'Unnamed: 0')\n",
    "df112024 = pd.read_csv('202412.csv').drop(columns = 'Unnamed: 0')\n",
    "df122024 = pd.read_csv('202412.csv').drop(columns = 'Unnamed: 0')\n",
    "df012025 = pd.read_csv('202501.csv').drop(columns = 'Unnamed: 0')\n",
    "df022025 = pd.read_csv('202502.csv').drop(columns = 'Unnamed: 0')\n",
    "\n",
    "\n",
    "df = pd.concat([df012024, df022024, df032024, df042024, df052024, df062024,\n",
    "                df072024, df082024, df092024, df102024, df112024, df122024,\n",
    "                df012025, df022025])\n",
    "\n",
    "df.rename(columns = {\n",
    "    'Minimum temperature (�C)' : 'MinTemp',\n",
    "    'Maximum temperature (�C)' : 'MaxTemp',\n",
    "    'Rainfall (mm)' : 'Rainfall',\n",
    "    'Evaporation (mm)' : 'Evaporation',\n",
    "    'Sunshine (hours)' : 'Sunshine',\n",
    "    'Direction of maximum wind gust ' : 'WindGustDir',\n",
    "    'Speed of maximum wind gust (km/h)' : 'WindGustSpeed',\n",
    "    '9am Temperature (�C)' : 'Temp9am',\n",
    "    '9am relative humidity (%)' : 'Humidity9am',\n",
    "    '9am cloud amount (oktas)' : 'Cloud9am',\n",
    "    '9am wind direction' : 'WindDir9am',\n",
    "    '9am wind speed (km/h)' : 'WindSpeed9am',\n",
    "    '9am MSL pressure (hPa)' : 'Pressure9am',\n",
    "    '3pm Temperature (�C)' : 'Temp3pm',\n",
    "    '3pm relative humidity (%)' : 'Humidity3pm',\n",
    "    '3pm cloud amount (oktas)' : 'Cloud3pm',\n",
    "    '3pm wind direction' : 'WindDir3pm',\n",
    "    '3pm wind speed (km/h)' : 'WindSpeed3pm',\n",
    "    '3pm MSL pressure (hPa)' : 'Pressure3pm',\n",
    "    }, inplace = True)\n",
    "\n",
    "df.drop(columns = ['Time of maximum wind gust'], inplace = True)\n",
    "\n",
    "df['Location'] = 'CoffsHarbour'\n",
    "\n",
    "df['RainToday'] = df['Rainfall'].apply(lambda x: 'Yes' if x >= 1 else 'No')\n",
    "\n",
    "df['RainTomorrow'] = df['RainToday'].shift(-1)\n",
    "\n",
    "df['Humidity3pm'] = df['Humidity3pm'].astype(float)\n",
    "\n",
    "\n",
    "df['WindSpeed3pm'] = df['WindSpeed3pm'].apply(lambda x : 0 if x == 'Calm' else x)\n",
    "df['WindSpeed9am'] = df['WindSpeed9am'].apply(lambda x : 0 if x == 'Calm' else x)\n",
    "\n",
    "\n",
    "df['Humidity3pm'] = df['Humidity3pm'].astype(float)\n",
    "df['Humidity9am'] = df['Humidity9am'].astype(float)\n",
    "df['WindSpeed3pm'] = df['WindSpeed3pm'].astype(float)\n",
    "df['WindSpeed9am'] = df['WindSpeed9am'].astype(float)\n",
    "\n",
    "df['WindDir9am'] = df['WindDir9am'].replace(' ', pd.NA)\n",
    "df['WindDir9am'] = df['WindDir9am'].ffill()\n",
    "\n",
    "df['WindDir3pm'] = df['WindDir3pm'].replace(' ', pd.NA)\n",
    "df['WindDir3pm'] = df['WindDir3pm'].ffill()"
   ]
  },
  {
   "cell_type": "code",
   "execution_count": 3,
   "metadata": {},
   "outputs": [
    {
     "data": {
      "text/plain": [
       "array(['ENE', 'E', 'SW', 'S', 'SSW', 'SSE', 'NNE', 'ESE', 'NE', 'SE',\n",
       "       'NW', 'WSW', nan, 'N', 'WNW', 'NNW', 'W'], dtype=object)"
      ]
     },
     "execution_count": 3,
     "metadata": {},
     "output_type": "execute_result"
    }
   ],
   "source": [
    "df['WindGustDir'].unique()"
   ]
  },
  {
   "cell_type": "code",
   "execution_count": 4,
   "metadata": {},
   "outputs": [],
   "source": [
    "df.to_csv('coffsharbour.csv')"
   ]
  },
  {
   "cell_type": "code",
   "execution_count": 5,
   "metadata": {},
   "outputs": [
    {
     "data": {
      "text/plain": [
       "Index(['Date', 'MinTemp', 'MaxTemp', 'Rainfall', 'Evaporation', 'Sunshine',\n",
       "       'WindGustDir', 'WindGustSpeed', 'Temp9am', 'Humidity9am', 'Cloud9am',\n",
       "       'WindDir9am', 'WindSpeed9am', 'Pressure9am', 'Temp3pm', 'Humidity3pm',\n",
       "       'Cloud3pm', 'WindDir3pm', 'WindSpeed3pm', 'Pressure3pm', 'Location',\n",
       "       'RainToday', 'RainTomorrow'],\n",
       "      dtype='object')"
      ]
     },
     "execution_count": 5,
     "metadata": {},
     "output_type": "execute_result"
    }
   ],
   "source": [
    "df.columns"
   ]
  },
  {
   "cell_type": "code",
   "execution_count": null,
   "metadata": {},
   "outputs": [],
   "source": []
  },
  {
   "cell_type": "code",
   "execution_count": 12,
   "metadata": {},
   "outputs": [
    {
     "data": {
      "text/plain": [
       "Date               2025-02-12\n",
       "MinTemp                  19.7\n",
       "MaxTemp                  29.1\n",
       "Rainfall                 16.6\n",
       "Evaporation               NaN\n",
       "Sunshine                  NaN\n",
       "WindGustDir               ENE\n",
       "WindGustSpeed            46.0\n",
       "Temp9am                  25.4\n",
       "Humidity9am              81.0\n",
       "Cloud9am                  8.0\n",
       "WindDir9am                 NE\n",
       "WindSpeed9am             13.0\n",
       "Pressure9am            1012.4\n",
       "Temp3pm                  26.4\n",
       "Humidity3pm              75.0\n",
       "Cloud3pm                  8.0\n",
       "WindDir3pm                NNE\n",
       "WindSpeed3pm             26.0\n",
       "Pressure3pm            1010.8\n",
       "Location         CoffsHarbour\n",
       "RainToday                 Yes\n",
       "RainTomorrow              Yes\n",
       "Name: 11, dtype: object"
      ]
     },
     "execution_count": 12,
     "metadata": {},
     "output_type": "execute_result"
    }
   ],
   "source": [
    "df.iloc[-2,:]"
   ]
  },
  {
   "cell_type": "code",
   "execution_count": 11,
   "metadata": {},
   "outputs": [
    {
     "data": {
      "text/plain": [
       "np.float64(29.1)"
      ]
     },
     "execution_count": 11,
     "metadata": {},
     "output_type": "execute_result"
    }
   ],
   "source": [
    "df.iloc[-2,:]['MaxTemp']"
   ]
  },
  {
   "cell_type": "code",
   "execution_count": null,
   "metadata": {},
   "outputs": [],
   "source": []
  }
 ],
 "metadata": {
  "kernelspec": {
   "display_name": "meteo-venv",
   "language": "python",
   "name": "python3"
  },
  "language_info": {
   "codemirror_mode": {
    "name": "ipython",
    "version": 3
   },
   "file_extension": ".py",
   "mimetype": "text/x-python",
   "name": "python",
   "nbconvert_exporter": "python",
   "pygments_lexer": "ipython3",
   "version": "3.10.6"
  }
 },
 "nbformat": 4,
 "nbformat_minor": 2
}
